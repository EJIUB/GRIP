{
 "cells": [
  {
   "cell_type": "code",
   "execution_count": 1,
   "id": "d2a2f231-47a1-46b8-bf6a-34b163e5f397",
   "metadata": {
    "tags": []
   },
   "outputs": [],
   "source": [
    "import numpy as np\n",
    "import pandas as pd\n",
    "import anndata as ad\n",
    "import pickle\n",
    "import itertools\n",
    "import networkx as nx\n",
    "import scanpy as sc\n",
    "import matplotlib.pyplot as plt\n",
    "import pwlf\n",
    "\n",
    "import sys\n",
    "# caution: path[0] is reserved for script path (or '' in REPL)\n",
    "sys.path.insert(1, '/Users/yijwang-admin/Documents/Research/GRN_PPI/L0GL_PPI_GRN/')\n",
    "\n",
    "from minConf.minConf_PQN import minConF_PQN"
   ]
  },
  {
   "cell_type": "markdown",
   "id": "7389cd13-8fcc-4551-8c0a-ddf8a7c040b1",
   "metadata": {
    "tags": []
   },
   "source": [
    "# Functions"
   ]
  },
  {
   "cell_type": "code",
   "execution_count": 2,
   "id": "bfe2f6ac-89d8-4f3a-bbb9-a1a66d54c4ea",
   "metadata": {
    "tags": []
   },
   "outputs": [],
   "source": [
    "\n",
    "\n",
    "def ShorestPath_GivenTFs(Gnx, TFlist, FilePathes):\n",
    "    Ol_TF = list(set(Gnx.nodes) & set(TFlist))\n",
    "    #print(\"Only \", len(Ol_TF), \" TFs (\", len(TFlist), \" in total) appear in the network.\")\n",
    "    \n",
    "    fh = open(FilePathes, 'w')\n",
    "    ShortPath = list()\n",
    "    NumNoPath = 0\n",
    "    for i in range(len(Ol_TF)):\n",
    "        for j in range(i+1, len(Ol_TF)):\n",
    "            if nx.has_path(Gnx, Ol_TF[i], Ol_TF[j]):\n",
    "                sp = nx.shortest_path_length(Gnx, Ol_TF[i], Ol_TF[j])\n",
    "                Path = nx.shortest_path(Gnx, source=Ol_TF[i], target=Ol_TF[j])\n",
    "                for n in Path:\n",
    "                    fh.write(\"%s \" % n)\n",
    "                fh.write(\"%d\\n\" % sp)\n",
    "                ShortPath.append(sp)\n",
    "            else:\n",
    "                fh.write(\"No path between %s and %s\\n\" % ( Ol_TF[i], Ol_TF[j]))\n",
    "                NumNoPath = NumNoPath + 1\n",
    "                #ShortPath.append(10)\n",
    "    fh.close()\n",
    "\n",
    "    return ShortPath\n",
    "\n",
    "def Short_Path_Matrix(Gnx, TFlist, MaxLen = 6):\n",
    "    NodesG = Gnx.nodes\n",
    "    \n",
    "    N = len(TFlist)\n",
    "    Smat = np.zeros((N,N))\n",
    "    \n",
    "    for i in range(N):\n",
    "        for j in range(i+1, N):\n",
    "            if TFlist[i] in NodesG and TFlist[j] in NodesG:\n",
    "                if nx.has_path(Gnx, TFlist[i], TFlist[j]):\n",
    "                    Smat[i,j] = nx.shortest_path_length(Gnx, TFlist[i], TFlist[j])\n",
    "                    Smat[j,i] = Smat[i,j]\n",
    "                else:\n",
    "                    Smat[i,j] = MaxLen\n",
    "                    Smat[j,i] = Smat[i,j]\n",
    "            else:\n",
    "                Smat[i,j] = MaxLen\n",
    "                Smat[j,i] = Smat[i,j]\n",
    "                \n",
    "    return Smat\n",
    "\n",
    "\n",
    "def Short_Path_DSD_Matrix(Gnx, TFlist, MaxLen = 5):\n",
    "    NodesG = Gnx.nodes\n",
    "    \n",
    "    N = len(TFlist)\n",
    "    Smat = np.zeros((N,N))\n",
    "    \n",
    "    for i in range(N):\n",
    "        for j in range(i+1, N):\n",
    "            if TFlist[i] in NodesG and TFlist[j] in NodesG:\n",
    "                Smat[i,j] = Gnx.edges[TFlist[i], TFlist[j]]['weight']\n",
    "                Smat[j,i] = Smat[i,j]   \n",
    "                #print(Smat[i,j])\n",
    "            else:\n",
    "                #print(TFlist[i], TFlist[j])\n",
    "                Smat[i,j] = MaxLen\n",
    "                Smat[j,i] = Smat[i,j]\n",
    "                \n",
    "    return Smat\n",
    "\n"
   ]
  },
  {
   "cell_type": "code",
   "execution_count": 3,
   "id": "e9b6e671-c89e-431b-a5fb-7b84cc67b714",
   "metadata": {
    "tags": []
   },
   "outputs": [],
   "source": [
    "# \n",
    "\n",
    "import numpy as np\n",
    "from scipy.sparse import spdiags\n",
    "from scipy.linalg import inv\n",
    "from gurobipy import Model, GRB, QuadExpr\n",
    "\n",
    "def L0GLObj(u, X, y, pho):\n",
    "    # u (feature, 1)\n",
    "    # X (instance, feature)\n",
    "    # y (instance, 1)\n",
    "    # pho (1, 1)\n",
    "    #print(pho)\n",
    "    #print(u)\n",
    "    n, d = X.shape\n",
    "    SpDiag = spdiags(u.flatten(), 0, d, d)\n",
    "    # print(SpDiag)\n",
    "    # print(f\"SpDiag: {SpDiag.toarray()[-1][-1]}\")\n",
    "    M = inv((1/pho) * X @ SpDiag @ X.conj().T + np.eye(n))\n",
    "    f = y.conj().T @ M @ y\n",
    "\n",
    "    g = -(1/pho) * ((X.conj().T @ M @ y)**2)\n",
    "\n",
    "    return f, g\n",
    "\n",
    "def L0Obj(u, X, y, pho):\n",
    "    # u (feature, 1)\n",
    "    # X (instance, feature)\n",
    "    # y (instance, 1)\n",
    "    # pho (1, 1)\n",
    "    #print(pho)\n",
    "    n, d = X.shape\n",
    "    SpDiag = spdiags(u.flatten(), 0, d, d)\n",
    "    # print(SpDiag)\n",
    "    # print(f\"SpDiag: {SpDiag.toarray()[-1][-1]}\")\n",
    "    M = inv((1/pho) * X @ SpDiag @ X.conj().T + np.eye(n))\n",
    "    f = y.conj().T @ M @ y\n",
    "\n",
    "    g = -(1/pho) * ((X.conj().T @ M @ y)**2)\n",
    "\n",
    "    return f, g\n",
    "\n",
    "def L0GL_PPI_Obj(u, X, y, S, pho, lam):\n",
    "    # u (feature, 1)\n",
    "    # X (instance, feature)\n",
    "    # y (instance, 1)\n",
    "    # pho (1, 1)\n",
    "    #print(pho)\n",
    "    #print(u)\n",
    "    n, d = X.shape\n",
    "    SpDiag = spdiags(u.flatten(), 0, d, d)\n",
    "    # print(SpDiag)\n",
    "    # print(f\"SpDiag: {SpDiag.toarray()[-1][-1]}\")\n",
    "    M = inv((1/pho) * X @ SpDiag @ X.T + np.eye(n))\n",
    "    f = y.T @ M @ y + lam * u.T @ S @ u\n",
    "\n",
    "    g = -(1/pho) * ((X.T @ M @ y)**2) + 2 * lam * S @ u\n",
    "\n",
    "    return f, g\n",
    "\n",
    "\n",
    "def ProjCSimplex(u, k):\n",
    "    \"\"\"\n",
    "    Projects vector u onto the simplex defined by the sum of elements equal to k.\n",
    "    \"\"\"\n",
    "    # u = u.flatten()\n",
    "    # print(u.shape)\n",
    "    n, m = u.shape\n",
    "    # print(f\"n: {n}, {m}\")\n",
    "\n",
    "    H = 0.5*np.eye(n)\n",
    "    f = -0.5 * u\n",
    "    A = np.ones((1, n))\n",
    "    b = k\n",
    "\n",
    "    lb = np.zeros((n, 1))\n",
    "    ub = np.ones((n, 1))\n",
    "    \n",
    "    if np.sum(u) < k and np.all(np.logical_and(u >= 0, u <= 1)):\n",
    "        up = u\n",
    "    else:\n",
    "        d = len(u)\n",
    "        e = np.ones((d, 1))\n",
    "        z0 = np.zeros((d, 1))\n",
    "        l0 = float(0 + np.random.rand() * np.min(u))\n",
    "        error = 100\n",
    "        idt = 0\n",
    "        while error > 1e-8:\n",
    "            tmp = u - l0\n",
    "            # tmp[tmp > 1] = 1\n",
    "            # tmp[tmp < 0] = 0\n",
    "            tmp = np.clip(tmp, 0, 1)\n",
    "            error = k - np.sum(tmp)\n",
    "            n = np.count_nonzero(tmp)\n",
    "            if n == 0:\n",
    "                l0 = float(0+np.random.rand() * np.min(u))\n",
    "                error = 100\n",
    "                continue\n",
    "            idt += 1\n",
    "            l1 = l0 - (error / n)\n",
    "            tmp = u - l1\n",
    "            # tmp[tmp > 1] = 1\n",
    "            # tmp[tmp < 0] = 0\n",
    "            tmp = np.clip(tmp, 0, 1)\n",
    "            error = np.abs(k - np.sum(tmp))\n",
    "            l0 = l1\n",
    "        \n",
    "        if l0 < 0:\n",
    "            l0 = 0\n",
    "        tmp = u - l0\n",
    "        # tmp[tmp > 1] = 1\n",
    "        # tmp[tmp < 0] = 0\n",
    "        tmp = np.clip(tmp, 0, 1)\n",
    "        up = tmp\n",
    "\n",
    "    # print(f\"up: {up[-1][-1]}\")\n",
    "    \n",
    "    return up\n",
    "\n",
    "def ProjCSimplexGL_Gurobi(u, k, Group, h):\n",
    "    n, m = u.shape\n",
    "    g = len(Group)\n",
    "    \n",
    "    # Create matrices H1 and H2\n",
    "    H1 = np.eye(n)\n",
    "    f1 = -2*u.flatten()\n",
    "\n",
    "    H2 = np.zeros((g, g))\n",
    "    f2 = np.zeros(g)\n",
    "\n",
    "    H = np.block([[H1, np.zeros((n, g))], [np.zeros((g, n)), H2]])\n",
    "    f = np.concatenate([f1, f2])\n",
    "    #print(u.shape)\n",
    "    #print(f.shape)\n",
    "\n",
    "    # Constructing constraint matrices A1 and A2\n",
    "    A1 = np.ones((1, n))\n",
    "    A2 = np.zeros((1, g))\n",
    "    gcn = 0\n",
    "\n",
    "    for i in range(g):\n",
    "        for j in range(len(Group[i])):\n",
    "            A1t = np.zeros((1, n))\n",
    "            A1t[0, Group[i][j]] = 1\n",
    "            A1 = np.vstack([A1, A1t])\n",
    "            \n",
    "            A2t = np.zeros((1, g))\n",
    "            A2t[0, i] = -1\n",
    "            A2 = np.vstack([A2, A2t])\n",
    "            gcn += 1\n",
    "\n",
    "    A1 = np.vstack([A1, np.zeros((1, n))])\n",
    "    A2 = np.vstack([A2, np.ones((1, g))])\n",
    "    A = np.hstack([A1, A2])\n",
    "\n",
    "    # RHS vector\n",
    "    b = np.zeros(gcn + 2)\n",
    "    b[0] = k\n",
    "    b[-1] = h\n",
    "\n",
    "    # Lower and upper bounds\n",
    "    lb = np.zeros(n + g)\n",
    "    ub = np.ones(n + g)\n",
    "\n",
    "    # Setup Gurobi model\n",
    "    model = Model()\n",
    "\n",
    "    # Add variables\n",
    "    Q = H\n",
    "    x = model.addMVar(n + g, ub=1.0, lb=0.0)\n",
    "    \n",
    "    model.setObjective(x@Q@x+ x@f)\n",
    "    model.addConstr(A @ x <= b)\n",
    "    \n",
    "\n",
    "    # Set Gurobi parameters\n",
    "    model.setParam('OutputFlag', 0)\n",
    "    model.setParam('IterationLimit', 500)\n",
    "\n",
    "    # Optimize model\n",
    "    model.optimize()\n",
    "\n",
    "    # Get the results\n",
    "    up = x.x[:n]\n",
    "    zp = x.x[n:]\n",
    "\n",
    "    #print(up.shape)\n",
    "    return up[:,np.newaxis]\n",
    "\n",
    "# used for PQN,comparing to ProjCSimplexGL_Gurobi_LB, it has two output\n",
    "def ProjCSimplexGL_Gurobi_v2(u, k, Group, h):\n",
    "    n, m = u.shape\n",
    "    g = len(Group)\n",
    "    \n",
    "    # Create matrices H1 and H2\n",
    "    H1 = np.eye(n)\n",
    "    f1 = -2*u.flatten()\n",
    "\n",
    "    H2 = np.zeros((g, g))\n",
    "    f2 = np.zeros(g)\n",
    "\n",
    "    H = np.block([[H1, np.zeros((n, g))], [np.zeros((g, n)), H2]])\n",
    "    f = np.concatenate([f1, f2])\n",
    "    #print(u.shape)\n",
    "    #print(f.shape)\n",
    "\n",
    "    # Constructing constraint matrices A1 and A2\n",
    "    A1 = np.ones((1, n))\n",
    "    A2 = np.zeros((1, g))\n",
    "    gcn = 0\n",
    "\n",
    "    for i in range(g):\n",
    "        for j in range(len(Group[i])):\n",
    "            A1t = np.zeros((1, n))\n",
    "            A1t[0, Group[i][j]] = 1\n",
    "            A1 = np.vstack([A1, A1t])\n",
    "            \n",
    "            A2t = np.zeros((1, g))\n",
    "            A2t[0, i] = -1\n",
    "            A2 = np.vstack([A2, A2t])\n",
    "            gcn += 1\n",
    "\n",
    "    A1 = np.vstack([A1, np.zeros((1, n))])\n",
    "    A2 = np.vstack([A2, np.ones((1, g))])\n",
    "    A = np.hstack([A1, A2])\n",
    "\n",
    "    # RHS vector\n",
    "    b = np.zeros(gcn + 2)\n",
    "    b[0] = k\n",
    "    b[-1] = h\n",
    "\n",
    "    # Lower and upper bounds\n",
    "    lb = np.zeros(n + g)\n",
    "    ub = np.ones(n + g)\n",
    "\n",
    "    # Setup Gurobi model\n",
    "    model = Model()\n",
    "\n",
    "    # Add variables\n",
    "    Q = H\n",
    "    x = model.addMVar(n + g, ub=1.0, lb=0.0)\n",
    "    \n",
    "    model.setObjective(x@Q@x+ x@f)\n",
    "    model.addConstr(A @ x <= b)\n",
    "    \n",
    "\n",
    "    # Set Gurobi parameters\n",
    "    model.setParam('OutputFlag', 0)\n",
    "    model.setParam('IterationLimit', 500)\n",
    "\n",
    "    # Optimize model\n",
    "    model.optimize()\n",
    "\n",
    "    # Get the results\n",
    "    up = x.x[:n]\n",
    "    zp = x.x[n:]\n",
    "\n",
    "    #print(up.shape)\n",
    "    return up[:,np.newaxis], zp[:,np.newaxis]\n",
    "\n",
    "# used for project, comparing to ProjCSimplexGL_Gurobi_v2, it only has one output\n",
    "def ProjCSimplexGL_Gurobi_LB(u, k, Group, h):\n",
    "    n, m = u.shape\n",
    "    g = len(Group)\n",
    "    \n",
    "    # Create matrices H1 and H2\n",
    "    H1 = np.eye(n)\n",
    "    f1 = -2*u.flatten()\n",
    "\n",
    "    H2 = np.zeros((g, g))\n",
    "    f2 = np.zeros(g)\n",
    "\n",
    "    H = np.block([[H1, np.zeros((n, g))], [np.zeros((g, n)), H2]])\n",
    "    f = np.concatenate([f1, f2])\n",
    "    #print(u.shape)\n",
    "    #print(f.shape)\n",
    "\n",
    "    # Constructing constraint matrices A1 and A2\n",
    "    A1 = np.ones((1, n))\n",
    "    A1t = -np.ones((1, n))\n",
    "    A1 = np.vstack([A1, A1t])\n",
    "    A2 = np.zeros((2, g))\n",
    "    gcn = 0\n",
    "\n",
    "    for i in range(g):\n",
    "        for j in range(len(Group[i])):\n",
    "            A1t = np.zeros((1, n))\n",
    "            A1t[0, Group[i][j]] = 1\n",
    "            A1 = np.vstack([A1, A1t])\n",
    "            \n",
    "            A2t = np.zeros((1, g))\n",
    "            A2t[0, i] = -1\n",
    "            A2 = np.vstack([A2, A2t])\n",
    "            gcn += 1\n",
    "\n",
    "    A1 = np.vstack([A1, np.zeros((1, n))])\n",
    "    A2 = np.vstack([A2, np.ones((1, g))])\n",
    "    A = np.hstack([A1, A2])\n",
    "\n",
    "    # RHS vector\n",
    "    b = np.zeros(gcn + 3)\n",
    "    b[0] = k\n",
    "    b[1] = -k+1\n",
    "    b[-1] = h\n",
    "\n",
    "    # Lower and upper bounds\n",
    "    lb = np.zeros(n + g)\n",
    "    ub = np.ones(n + g)\n",
    "\n",
    "    # Setup Gurobi model\n",
    "    model = Model()\n",
    "\n",
    "    # Add variables\n",
    "    Q = H\n",
    "    x = model.addMVar(n + g, ub=1.0, lb=0.0)\n",
    "    \n",
    "    model.setObjective(x@Q@x+ x@f)\n",
    "    model.addConstr(A @ x <= b)\n",
    "    \n",
    "\n",
    "    # Set Gurobi parameters\n",
    "    model.setParam('OutputFlag', 0)\n",
    "    model.setParam('IterationLimit', 500)\n",
    "\n",
    "    # Optimize model\n",
    "    model.optimize()\n",
    "\n",
    "    #print(x)\n",
    "    # Get the results\n",
    "    up = x.x[:n]\n",
    "    zp = x.x[n:]\n",
    "\n",
    "    #print(up.shape)\n",
    "    return up[:,np.newaxis]\n",
    "\n",
    "def ProjCSimplexGL_Gurobi_LB_v2(u, k, Group, h):\n",
    "    n, m = u.shape\n",
    "    g = len(Group)\n",
    "    \n",
    "    # Create matrices H1 and H2\n",
    "    H1 = np.eye(n)\n",
    "    f1 = -2*u.flatten()\n",
    "\n",
    "    H2 = np.zeros((g, g))\n",
    "    f2 = np.zeros(g)\n",
    "\n",
    "    H = np.block([[H1, np.zeros((n, g))], [np.zeros((g, n)), H2]])\n",
    "    f = np.concatenate([f1, f2])\n",
    "    #print(u.shape)\n",
    "    #print(f.shape)\n",
    "\n",
    "    # Constructing constraint matrices A1 and A2\n",
    "    A1 = np.ones((1, n))\n",
    "    A1t = -np.ones((1, n))\n",
    "    A1 = np.vstack([A1, A1t])\n",
    "    A2 = np.zeros((2, g))\n",
    "    gcn = 0\n",
    "\n",
    "    for i in range(g):\n",
    "        for j in range(len(Group[i])):\n",
    "            A1t = np.zeros((1, n))\n",
    "            A1t[0, Group[i][j]] = 1\n",
    "            A1 = np.vstack([A1, A1t])\n",
    "            \n",
    "            A2t = np.zeros((1, g))\n",
    "            A2t[0, i] = -1\n",
    "            A2 = np.vstack([A2, A2t])\n",
    "            gcn += 1\n",
    "\n",
    "    A1 = np.vstack([A1, np.zeros((1, n))])\n",
    "    A2 = np.vstack([A2, np.ones((1, g))])\n",
    "    A = np.hstack([A1, A2])\n",
    "\n",
    "    # RHS vector\n",
    "    b = np.zeros(gcn + 3)\n",
    "    b[0] = k\n",
    "    b[1] = -k+1\n",
    "    b[-1] = h\n",
    "\n",
    "    # Lower and upper bounds\n",
    "    lb = np.zeros(n + g)\n",
    "    ub = np.ones(n + g)\n",
    "\n",
    "    # Setup Gurobi model\n",
    "    model = Model()\n",
    "\n",
    "    # Add variables\n",
    "    Q = H\n",
    "    x = model.addMVar(n + g, ub=1.0, lb=0.0)\n",
    "    \n",
    "    model.setObjective(x@Q@x+ x@f)\n",
    "    model.addConstr(A @ x <= b)\n",
    "    \n",
    "\n",
    "    # Set Gurobi parameters\n",
    "    model.setParam('OutputFlag', 0)\n",
    "    model.setParam('IterationLimit', 500)\n",
    "\n",
    "    # Optimize model\n",
    "    model.optimize()\n",
    "\n",
    "    # Get the results\n",
    "    up = x.x[:n]\n",
    "    zp = x.x[n:]\n",
    "\n",
    "    #print(up.shape)\n",
    "    return up[:,np.newaxis], zp[:,np.newaxis]"
   ]
  },
  {
   "cell_type": "code",
   "execution_count": 4,
   "id": "294e2e76-ec0b-43f5-8edb-a156ed296ac8",
   "metadata": {
    "tags": []
   },
   "outputs": [],
   "source": [
    "def Get_TFs_in_Data(TargetGene, scATAC_df, TF_Col, Gene_GTOpenR_Mapping, Gene_in_Data):\n",
    "    GL = [TargetGene]\n",
    "    \n",
    "    # get df for the target gene\n",
    "    Tmp_Input = scATAC_df[scATAC_df['Genes_within_250k'].apply(lambda x: any(gene in x for gene in GL))].reset_index()\n",
    "    \n",
    "    TFList_Raw = Tmp_Input[TF_Col].tolist()\n",
    "    Chr_Position_Raw = Tmp_Input['chr_position'].tolist()\n",
    "    TF_Groups_in_Data = list()\n",
    "    count = 0\n",
    "    for tfl, chp in zip(TFList_Raw, Chr_Position_Raw):\n",
    "        if chp in Map_Gene_GTOpenR[GL[0]]:\n",
    "            hit = 1\n",
    "        else:\n",
    "            hit = 0\n",
    "        olp = list(set(tfl) & set(Gene_in_Data))\n",
    "        TF_Groups_in_Data.append(olp)\n",
    "        print(chp, count, olp, hit)\n",
    "        count = count + 1\n",
    "        \n",
    "    return TF_Groups_in_Data, Tmp_Input\n",
    "\n",
    "def Get_TFs_in_Data_noPrint(TargetGene, scATAC_df, TF_Col, Gene_GTOpenR_Mapping, Gene_in_Data):\n",
    "    GL = [TargetGene]\n",
    "    \n",
    "    # get df for the target gene\n",
    "    Tmp_Input = scATAC_df[scATAC_df['Genes_within_250k'].apply(lambda x: any(gene in x for gene in GL))].reset_index()\n",
    "    \n",
    "    TFList_Raw = Tmp_Input[TF_Col].tolist()\n",
    "    Chr_Position_Raw = Tmp_Input['chr_position'].tolist()\n",
    "    TF_Groups_in_Data = list()\n",
    "    count = 0\n",
    "    for tfl, chp in zip(TFList_Raw, Chr_Position_Raw):\n",
    "        if chp in Map_Gene_GTOpenR[GL[0]]:\n",
    "            hit = 1\n",
    "        else:\n",
    "            hit = 0\n",
    "        olp = list(set(tfl) & set(Gene_in_Data))\n",
    "        TF_Groups_in_Data.append(olp)\n",
    "        #print(count, olp, hit)\n",
    "        count = count + 1\n",
    "        \n",
    "    return TF_Groups_in_Data, Tmp_Input\n",
    "\n",
    "\n",
    "\n",
    "def Show_TFs_in_Data(TargetGene, scATAC_df, TF_Col, Gene_GTOpenR_Mapping, Pred_TFs):\n",
    "    GL = [TargetGene]\n",
    "    \n",
    "    # get df for the target gene\n",
    "    Tmp_Input = scATAC_df[scATAC_df['Genes_within_250k'].apply(lambda x: any(gene in x for gene in GL))].reset_index()\n",
    "    \n",
    "    TFList_Raw = Tmp_Input[TF_Col].tolist()\n",
    "    Chr_Position_Raw = Tmp_Input['chr_position'].tolist()\n",
    "    TF_Groups_in_Data = list()\n",
    "    count = 0\n",
    "    for tfl, chp in zip(TFList_Raw, Chr_Position_Raw):\n",
    "        if chp in Map_Gene_GTOpenR[GL[0]]:\n",
    "            hit = 1\n",
    "        else:\n",
    "            hit = 0\n",
    "        olp = list(set(tfl) & set(Pred_TFs))\n",
    "        TF_Groups_in_Data.append(olp)\n",
    "        print(count, olp, hit)\n",
    "        count = count + 1\n",
    "        \n",
    "    return TF_Groups_in_Data\n",
    "\n",
    "\n",
    "def Group_Ind(TFinData, TF_Groups_in_Data):\n",
    "    Map_TF_Ind = {k: v for v, k in enumerate(TFinData)}\n",
    "    \n",
    "    GroupT = list()\n",
    "    for tfl in TF_Groups_in_Data:\n",
    "        if len(tfl) == 0:\n",
    "            continue\n",
    "        tmplist = list()\n",
    "        for tf in tfl:\n",
    "            tmplist.append(Map_TF_Ind[tf])\n",
    "        GroupT.append(tmplist)\n",
    "        \n",
    "    return GroupT\n",
    "\n",
    "def Extract_Solution(u_output, z_output, group_info, k_input, h_input):\n",
    "    zsort_h = np.argsort(-z_output.flatten())[0:h_input]\n",
    "    #print(\"Selected group index:\", zsort_h)\n",
    "    \n",
    "    Idt_ = list()\n",
    "    for ht in zsort_h:\n",
    "        Idt_.extend(group_info[ht])\n",
    "    Idt_ = np.array(Idt_)\n",
    "    #print(Idt_)\n",
    "        \n",
    "    u_select = u_output.flatten()[Idt_]\n",
    "    Idt_u = np.argsort(-u_select.flatten())[0:k_input]\n",
    "    \n",
    "    #print(u_select[Idt_u])\n",
    "    \n",
    "    final_idt = Idt_[Idt_u]\n",
    "    \n",
    "    return final_idt\n",
    "\n",
    "def Split_Sample(X_raw, y_raw, SID, percentage_training):\n",
    "    NumSample, NumFeature = X_raw.shape\n",
    "    #print(\"Number of features:\", NumFeature)\n",
    "\n",
    "    RandInd = np.random.permutation(NumSample)\n",
    "    NumTrainSample = int(percentage_training*NumSample)\n",
    "    TrainSampleInd = RandInd[0:NumTrainSample]\n",
    "    OutSampleInd = RandInd[NumTrainSample:]\n",
    "    #print(\"Train sample #\", len(TrainSampleInd), \"Out-of-sample #\", len(OutSampleInd))\n",
    "\n",
    "    X_train = X_raw[TrainSampleInd,:]\n",
    "    X_outsample = X_raw[OutSampleInd,:] \n",
    "    #print(X.shape)\n",
    "    #print(X_outsample.shape)\n",
    "\n",
    "    y_train = y_raw[TrainSampleInd]\n",
    "    y_outsample = y_raw[OutSampleInd]\n",
    "    \n",
    "    SID_train = list( SID[i] for i in TrainSampleInd)\n",
    "    SID_outsample = list( SID[i] for i in OutSampleInd)\n",
    "\n",
    "    return X_train, y_train, X_outsample, y_outsample, SID_train, SID_outsample\n",
    "\n",
    "def Split_Sample_scRNA(scRNA_Anndata, percentage_training):\n",
    "    NumSample, NumFeature = scRNA_Anndata.shape\n",
    "    SID = scRNA_Anndata.obs.index.tolist()\n",
    "    \n",
    "    RandInd = np.random.permutation(NumSample)\n",
    "    NumTrainSample = int(percentage_training*NumSample)\n",
    "    TrainSampleInd = RandInd[0:NumTrainSample]\n",
    "    OutSampleInd = RandInd[NumTrainSample:]\n",
    "    \n",
    "    SID_train = list( SID[i] for i in TrainSampleInd)\n",
    "    SID_outsample = list( SID[i] for i in OutSampleInd)\n",
    "    \n",
    "    scRNA_Anndata_Train = scRNA_Anndata[TrainSampleInd,:]\n",
    "    scRNA_Anndata_OutSample = scRNA_Anndata[OutSampleInd,:] \n",
    "    \n",
    "    return scRNA_Anndata_Train, scRNA_Anndata_OutSample, SID_train, SID_outsample\n",
    "    \n",
    "\n"
   ]
  },
  {
   "cell_type": "code",
   "execution_count": 5,
   "id": "c8a77b88-e990-4d24-b903-3513afd0df7f",
   "metadata": {
    "tags": []
   },
   "outputs": [],
   "source": [
    "def DF_Column_to_List(DataFrame, ColName):\n",
    "    return list(set(list(itertools.chain.from_iterable(DataFrame[ColName].tolist()))))\n",
    "\n",
    "def Split_Sample_scRNA(scRNA_Anndata, percentage_training):\n",
    "    NumSample, NumFeature = scRNA_Anndata.shape\n",
    "    SID = scRNA_Anndata.obs.index.tolist()\n",
    "    \n",
    "    RandInd = np.random.permutation(NumSample)\n",
    "    NumTrainSample = int(percentage_training*NumSample)\n",
    "    TrainSampleInd = RandInd[0:NumTrainSample]\n",
    "    OutSampleInd = RandInd[NumTrainSample:]\n",
    "    \n",
    "    SID_train = list( SID[i] for i in TrainSampleInd)\n",
    "    SID_outsample = list( SID[i] for i in OutSampleInd)\n",
    "    \n",
    "    scRNA_Anndata_Train = scRNA_Anndata[TrainSampleInd,:]\n",
    "    scRNA_Anndata_OutSample = scRNA_Anndata[OutSampleInd,:] \n",
    "    \n",
    "    return scRNA_Anndata_Train, scRNA_Anndata_OutSample, SID_train, SID_outsample\n",
    "\n",
    "def Get_TFs_with_Exp(TargetGene, scATAC_df, TF_Col, Gene_in_scRNA):\n",
    "    GL = [TargetGene]\n",
    "    \n",
    "    # get df for the target gene\n",
    "    Tmp_Input = scATAC_df[scATAC_df['Genes_within_250k'].apply(lambda x: any(gene in x for gene in GL))].reset_index()\n",
    "    \n",
    "    TFList_All = list(set(itertools.chain.from_iterable(Tmp_Input[TF_Col].tolist())))\n",
    "    \n",
    "    TFList_with_Exp = list(set(TFList_All) & set(Gene_in_scRNA))\n",
    "        \n",
    "    return TFList_with_Exp\n",
    "\n",
    "def Short_Path_DSD_Matrix(Gnx, TFlist, MaxLen = 5):\n",
    "    NodesG = Gnx.nodes\n",
    "    \n",
    "    N = len(TFlist)\n",
    "    Smat = np.zeros((N,N))\n",
    "    \n",
    "    for i in range(N):\n",
    "        for j in range(i+1, N):\n",
    "            if TFlist[i] in NodesG and TFlist[j] in NodesG:\n",
    "                Smat[i,j] = Gnx.edges[TFlist[i], TFlist[j]]['weight']\n",
    "                Smat[j,i] = Smat[i,j]   \n",
    "                #print(Smat[i,j])\n",
    "            else:\n",
    "                #print(TFlist[i], TFlist[j])\n",
    "                Smat[i,j] = MaxLen\n",
    "                Smat[j,i] = Smat[i,j]\n",
    "                \n",
    "    return Smat\n",
    "\n",
    "def Out_of_Sample_MSE(scRNA, TG, TFList, SID_train, SID_outsample, pho):\n",
    "    XSelect = scRNA[SID_train, TFList].X\n",
    "    y = scRNA[SID_train, TG].X\n",
    "    w_est = np.linalg.pinv(XSelect.T @ XSelect + pho*np.eye(len(TFList))) @ XSelect.T @ y\n",
    "    #print(TF_Select)\n",
    "    #print(np.abs(w_est.flatten()))\n",
    "\n",
    "    X_outsample_select = scRNA[SID_outsample, TFList].X\n",
    "    y_outsample = scRNA[SID_outsample, TG].X\n",
    "    MSE = (1. / len(SID_outsample)) * np.linalg.norm(y_outsample - X_outsample_select @ w_est)\n",
    "    \n",
    "    return MSE"
   ]
  },
  {
   "cell_type": "code",
   "execution_count": 6,
   "id": "27f4550d-b2b9-4290-a114-a02b1140d049",
   "metadata": {
    "tags": []
   },
   "outputs": [],
   "source": [
    "def ProjCSimplexGL_Gurobi_LB_v2(u, k, Group, h):\n",
    "    n, m = u.shape\n",
    "    g = len(Group)\n",
    "    \n",
    "    # Create matrices H1 and H2\n",
    "    H1 = np.eye(n)\n",
    "    f1 = -2*u.flatten()\n",
    "\n",
    "    H2 = np.zeros((g, g))\n",
    "    f2 = np.zeros(g)\n",
    "\n",
    "    H = np.block([[H1, np.zeros((n, g))], [np.zeros((g, n)), H2]])\n",
    "    f = np.concatenate([f1, f2])\n",
    "    #print(u.shape)\n",
    "    #print(f.shape)\n",
    "\n",
    "    # Constructing constraint matrices A1 and A2\n",
    "    A1 = np.ones((1, n))\n",
    "    A1t = -np.ones((1, n))\n",
    "    A1 = np.vstack([A1, A1t])\n",
    "    A2 = np.zeros((2, g))\n",
    "    gcn = 0\n",
    "\n",
    "    for i in range(g):\n",
    "        for j in range(len(Group[i])):\n",
    "            A1t = np.zeros((1, n))\n",
    "            A1t[0, Group[i][j]] = 1\n",
    "            A1 = np.vstack([A1, A1t])\n",
    "            \n",
    "            A2t = np.zeros((1, g))\n",
    "            A2t[0, i] = -1\n",
    "            A2 = np.vstack([A2, A2t])\n",
    "            gcn += 1\n",
    "\n",
    "    A1 = np.vstack([A1, np.zeros((1, n))])\n",
    "    A2 = np.vstack([A2, np.ones((1, g))])\n",
    "    A = np.hstack([A1, A2])\n",
    "\n",
    "    # RHS vector\n",
    "    b = np.zeros(gcn + 3)\n",
    "    b[0] = k\n",
    "    b[1] = -k+1\n",
    "    b[-1] = h\n",
    "\n",
    "    # Lower and upper bounds\n",
    "    lb = np.zeros(n + g)\n",
    "    ub = np.ones(n + g)\n",
    "\n",
    "    # Setup Gurobi model\n",
    "    model = Model()\n",
    "\n",
    "    # Add variables\n",
    "    Q = H\n",
    "    x = model.addMVar(n + g, ub=1.0, lb=0.0)\n",
    "    \n",
    "    model.setObjective(x@Q@x+ x@f)\n",
    "    model.addConstr(A @ x <= b)\n",
    "    \n",
    "\n",
    "    # Set Gurobi parameters\n",
    "    model.setParam('OutputFlag', 0)\n",
    "    model.setParam('IterationLimit', 500)\n",
    "\n",
    "    # Optimize model\n",
    "    model.optimize()\n",
    "\n",
    "    # Get the results\n",
    "    up = x.x[:n]\n",
    "    zp = x.x[n:]\n",
    "\n",
    "    #print(up.shape)\n",
    "    return up[:,np.newaxis], zp[:,np.newaxis]\n",
    "\n",
    "def Extract_Solution(u_output, z_output, group_info, k_input, h_input):\n",
    "    zsort_h = np.argsort(-z_output.flatten())[0:h_input]\n",
    "    #print(\"Selected group index:\", zsort_h)\n",
    "    \n",
    "    Idt_ = list()\n",
    "    for ht in zsort_h:\n",
    "        Idt_.extend(group_info[ht])\n",
    "    Idt_ = np.array(Idt_)\n",
    "    #print(Idt_)\n",
    "        \n",
    "    u_select = u_output.flatten()[Idt_]\n",
    "    Idt_u = np.argsort(-u_select.flatten())[0:k_input]\n",
    "    \n",
    "    #print(u_select[Idt_u])\n",
    "    \n",
    "    final_idt = Idt_[Idt_u]\n",
    "    \n",
    "    return final_idt\n",
    "\n",
    "\n",
    "def Split_Sample_scRNA(scRNA_Anndata, percentage_training):\n",
    "    NumSample, NumFeature = scRNA_Anndata.shape\n",
    "    SID = scRNA_Anndata.obs.index.tolist()\n",
    "    \n",
    "    RandInd = np.random.permutation(NumSample)\n",
    "    NumTrainSample = int(percentage_training*NumSample)\n",
    "    TrainSampleInd = RandInd[0:NumTrainSample]\n",
    "    OutSampleInd = RandInd[NumTrainSample:]\n",
    "    \n",
    "    SID_train = list( SID[i] for i in TrainSampleInd)\n",
    "    SID_outsample = list( SID[i] for i in OutSampleInd)\n",
    "    \n",
    "    scRNA_Anndata_Train = scRNA_Anndata[TrainSampleInd,:]\n",
    "    scRNA_Anndata_OutSample = scRNA_Anndata[OutSampleInd,:] \n",
    "    \n",
    "    return scRNA_Anndata_Train, scRNA_Anndata_OutSample, SID_train, SID_outsample\n",
    "\n",
    "def Find_best_k(KRange, MES_Array):\n",
    "    \n",
    "    best_k = -1\n",
    "    \n",
    "    if (MES_Array[0] - MES_Array[-1]) / MES_Array[0] <= 0.3:\n",
    "        return best_k\n",
    "    else:\n",
    "        my_pwlf = pwlf.PiecewiseLinFit(KRange, MES_Array)\n",
    "        breaks = my_pwlf.fit(2)\n",
    "        best_k = np.ceil(breaks[1])\n",
    "        return int(best_k)\n",
    "        \n",
    "\n",
    "def Run_GRIPNet(scRNA_Anndata, SID_train, SID_outsample, scATAC_DF, DisMat_PPI, TF_Motif_Metric, TargetGenes, TFNum_Range = range(3,11), Lambda = 0.0001, Pho = 0.0001): \n",
    "    \n",
    "    Genes_with_Exp = scRNA_Anndata[SID_train,:].var.index.tolist()\n",
    "    \n",
    "    GRIPNet_DF = pd.DataFrame(columns=['TG', 'TFs', 'Out_of_Sample MSE'])\n",
    "    count = 1\n",
    "    for tg in TargetGenes:\n",
    "        if tg not in Genes_with_Exp:\n",
    "            print(\"No expression data for \", tg)\n",
    "            continue\n",
    "            \n",
    "        # Collect all TFs (with gene expression), whose motifs matched to the open regions within 250kb around TG and \n",
    "        TFs_for_TG = Get_TFs_with_Exp(tg, scATAC_DF, TF_Motif_Metric, Genes_with_Exp)\n",
    "        #print(TFs_for_TG)\n",
    "        \n",
    "        if len(TFs_for_TG) <= 3:\n",
    "            count = count + 1\n",
    "            continue\n",
    "        \n",
    "        # Parameters setup for the algo.\n",
    "        NumFeature = len(TFs_for_TG)\n",
    "        NumSample = scRNA_Anndata[:,TFs_for_TG].X.shape[0]\n",
    "        \n",
    "        # Regression data\n",
    "        X = scRNA_Anndata[SID_train,TFs_for_TG].X\n",
    "        y = scRNA_Anndata[SID_train,tg].X\n",
    "        uSimplex = np.ones((NumFeature, 1)) * (1 / NumFeature)\n",
    "        \n",
    "        # Distance between poential TFs\n",
    "        S =  Short_Path_DSD_Matrix(DisMat_PPI, TFs_for_TG)\n",
    "        #print(S.shape)\n",
    "      \n",
    "        Group = [range(NumFeature)]\n",
    "        h = 1\n",
    "        lamb = Lambda\n",
    "        pho = Pho\n",
    "\n",
    "        if len(TFs_for_TG) < TFNum_Range[-1]:\n",
    "            K_Range = range(3, len(TFs_for_TG)+1)\n",
    "        else:\n",
    "            K_Range = TFNum_Range\n",
    "        MSE_ = np.zeros(len(K_Range))\n",
    "        TF_Select_Collect = {}\n",
    "        Map_Ind_k = {}\n",
    "        for i in range(len(K_Range)):\n",
    "            k = K_Range[i]\n",
    "    \n",
    "            #print(lamb)\n",
    "            # Set up Objective Function\n",
    "            funObj_PPI = lambda w: L0GL_PPI_Obj(w, X, y, S, pho, lamb)\n",
    "            # Set up Simplex Projection Function\n",
    "            funProj_GL_LB = lambda w: ProjCSimplexGL_Gurobi_LB(w, k, Group, h)\n",
    "            # parameters that can be changed\n",
    "            options = {'maxIter': 400, 'verbose': -1}\n",
    "            \n",
    "            uout, obj, _ = minConF_PQN(funObj_PPI, uSimplex, funProj_GL_LB, options)\n",
    "    \n",
    "            uout_ppi, zout_ppi = ProjCSimplexGL_Gurobi_LB_v2(uout, k, Group, h)\n",
    "            SelectID = Extract_Solution(uout_ppi, zout_ppi, Group, k, h)\n",
    "\n",
    "            TF_Select = list()\n",
    "            for idt in SelectID:\n",
    "                TF_Select.append(TFs_for_TG[idt])\n",
    "            #print(TF_Select)\n",
    "                \n",
    "            TF_Select_Collect[k] = TF_Select\n",
    "\n",
    "\n",
    "            MSE_[i] = Out_of_Sample_MSE(scRNA_Anndata, tg, TF_Select, SID_train, SID_outsample, pho)\n",
    "            Map_Ind_k[i] = k\n",
    "            #print(k, MSE_[i])\n",
    "            \n",
    "        # find the best k    \n",
    "        best_k = Map_Ind_k[np.argmin(MSE_)]#Find_best_k(K_Range, MSE_)\n",
    "        if best_k == -1:\n",
    "            print(\"Fail to have good inference for \", tg)\n",
    "        else:\n",
    "            print(count, '/', len(TargetGenes), \":\", tg, best_k, TF_Select_Collect[best_k], MSE_[K_Range.index(best_k)])\n",
    "            GRIPNet_DF = GRIPNet_DF._append({'TG': tg, 'TFs': TF_Select_Collect[best_k], 'Out_of_Sample MSE': MSE_[K_Range.index(best_k)]}, ignore_index=True)\n",
    "        count = count + 1\n",
    "    return GRIPNet_DF\n",
    "        \n",
    "        "
   ]
  },
  {
   "cell_type": "code",
   "execution_count": 7,
   "id": "17c80dcc-3480-408e-b16b-845292772c8b",
   "metadata": {
    "tags": []
   },
   "outputs": [
    {
     "data": {
      "text/plain": [
       "2"
      ]
     },
     "execution_count": 7,
     "metadata": {},
     "output_type": "execute_result"
    }
   ],
   "source": [
    "MSE = np.array([0.3, 0.2, 0.15, 0.4])\n",
    "\n",
    "np.argmin(MSE)"
   ]
  },
  {
   "cell_type": "markdown",
   "id": "93806909-9fb7-4ecc-9ab6-32f0955104a0",
   "metadata": {},
   "source": [
    "# 1. Load data"
   ]
  },
  {
   "cell_type": "markdown",
   "id": "5bae06ce-5bf9-49a0-8484-a9dd87f436c6",
   "metadata": {},
   "source": [
    "## 1.1 Load scRNA-seq and trim to CD4"
   ]
  },
  {
   "cell_type": "code",
   "execution_count": 8,
   "id": "01b2eb80-04a3-4bc1-be17-3680223e2ba0",
   "metadata": {
    "tags": []
   },
   "outputs": [],
   "source": [
    "# load the data\n",
    "Pbmc_3k_scRNA_DN_magic_ad = ad.read_h5ad(\"../../Data/PBMC_3k/pmbc_3k_scRNAseq_magic.h5ad\")"
   ]
  },
  {
   "cell_type": "code",
   "execution_count": 9,
   "id": "9cd53c81-22e9-4483-bce6-ce7fc56286d1",
   "metadata": {
    "tags": []
   },
   "outputs": [],
   "source": [
    "# trim to CD4 \n",
    "CD8_scRNA_DN_magic_ad = Pbmc_3k_scRNA_DN_magic_ad[Pbmc_3k_scRNA_DN_magic_ad.obs.ingest_celltype_label == 'CD8 T cells'] "
   ]
  },
  {
   "cell_type": "code",
   "execution_count": 10,
   "id": "a07d4515-8c59-4c5b-bd65-35a6d9fdfc61",
   "metadata": {
    "tags": []
   },
   "outputs": [],
   "source": [
    "# further filtering\n",
    "CD8_scRNA_DN_magic_ad = CD8_scRNA_DN_magic_ad[:, CD8_scRNA_DN_magic_ad.var['mean']>=0.1]\n",
    "\n",
    "#CD4_scRNA_DN_magic_ad = CD4_scRNA_DN_magic_ad[:, CD4_scRNA_DN_magic_ad.var['std']<=0.5]"
   ]
  },
  {
   "cell_type": "code",
   "execution_count": 11,
   "id": "7a82575c-bcfa-40a9-b1d4-571ec472d967",
   "metadata": {
    "tags": []
   },
   "outputs": [
    {
     "name": "stdout",
     "output_type": "stream",
     "text": [
      "3055\n",
      "195\n"
     ]
    }
   ],
   "source": [
    "Gene_in_CD8_scRNA = list(CD8_scRNA_DN_magic_ad.var.index)\n",
    "Cell_in_CD8_scRNA = list(CD8_scRNA_DN_magic_ad.obs.index)\n",
    "\n",
    "print(len(Gene_in_CD8_scRNA))\n",
    "print(len(Cell_in_CD8_scRNA))"
   ]
  },
  {
   "cell_type": "code",
   "execution_count": null,
   "id": "64acbf02-9ebe-426d-aa7d-4c3101e87ec2",
   "metadata": {},
   "outputs": [],
   "source": []
  },
  {
   "cell_type": "markdown",
   "id": "5838cffe-139b-42a6-ab91-d50702ad0ba8",
   "metadata": {},
   "source": [
    "## 1.2 Load scATAC-seq data and trim to CD8"
   ]
  },
  {
   "cell_type": "code",
   "execution_count": 12,
   "id": "92eb974b-e68a-44ff-9e3a-92127ba2198e",
   "metadata": {
    "tags": []
   },
   "outputs": [],
   "source": [
    "pbmc_3k_scATAC_Gene_Enhancer = pd.read_pickle('../../Data/PBMC_3k/Pbmc_3k_scATAC_Gene_TF_Enhancer_fimo_multiple_cutoffs.pkl')"
   ]
  },
  {
   "cell_type": "code",
   "execution_count": 13,
   "id": "a4665146-567d-401e-9b13-b1a48e147f48",
   "metadata": {
    "tags": []
   },
   "outputs": [],
   "source": [
    "# Trim to Cells in CD8\n",
    "Col_select = ['chr_position', 'Overlapped_enhancer',\n",
    " 'Genes_within_250k',\n",
    " 'TF_Matching_p-value_1e-06',\n",
    " 'TF_Matching_p-value_1e-05',\n",
    " 'TF_Matching_p-value_0.0001',\n",
    " 'TF_Matching_q-value_0.01',\n",
    " 'TF_Matching_q-value_0.05'] + Cell_in_CD8_scRNA\n",
    "pbmc_3k_scATAC_Gene_Enhancer_CD8 = pbmc_3k_scATAC_Gene_Enhancer[Col_select]"
   ]
  },
  {
   "cell_type": "code",
   "execution_count": 14,
   "id": "f9d7bcba-c37a-44f8-a374-fb7293d086cf",
   "metadata": {
    "tags": []
   },
   "outputs": [
    {
     "name": "stderr",
     "output_type": "stream",
     "text": [
      "/var/folders/x5/p97rd26d6y719tstlhqtn9zr0000gr/T/ipykernel_71972/2372763761.py:2: SettingWithCopyWarning: \n",
      "A value is trying to be set on a copy of a slice from a DataFrame.\n",
      "Try using .loc[row_indexer,col_indexer] = value instead\n",
      "\n",
      "See the caveats in the documentation: https://pandas.pydata.org/pandas-docs/stable/user_guide/indexing.html#returning-a-view-versus-a-copy\n",
      "  pbmc_3k_scATAC_Gene_Enhancer_CD8['sum'] = pbmc_3k_scATAC_Gene_Enhancer_CD8[Cell_in_CD8_scRNA].values.astype(int).sum(axis=1)\n"
     ]
    }
   ],
   "source": [
    "# sum the peaks for cells in CD4\n",
    "pbmc_3k_scATAC_Gene_Enhancer_CD8['sum'] = pbmc_3k_scATAC_Gene_Enhancer_CD8[Cell_in_CD8_scRNA].values.astype(int).sum(axis=1)\n",
    "\n",
    "pbmc_3k_scATAC_Gene_Enhancer_CD8 = pbmc_3k_scATAC_Gene_Enhancer_CD8.drop(columns=Cell_in_CD8_scRNA)"
   ]
  },
  {
   "cell_type": "code",
   "execution_count": 15,
   "id": "1f6c81db-201a-4544-ae39-28dcf3db6f14",
   "metadata": {
    "tags": []
   },
   "outputs": [],
   "source": [
    "# consider only the open region with peaks >=100\n",
    "peak_sum_threshold = 20\n",
    "pbmc_3k_scATAC_Gene_Enhancer_CD8_psum = pbmc_3k_scATAC_Gene_Enhancer_CD8[pbmc_3k_scATAC_Gene_Enhancer_CD8['sum']>=peak_sum_threshold]"
   ]
  },
  {
   "cell_type": "code",
   "execution_count": 16,
   "id": "dff784e3-7836-47e3-8005-10343b4f385b",
   "metadata": {
    "tags": []
   },
   "outputs": [
    {
     "data": {
      "text/html": [
       "<div>\n",
       "<style scoped>\n",
       "    .dataframe tbody tr th:only-of-type {\n",
       "        vertical-align: middle;\n",
       "    }\n",
       "\n",
       "    .dataframe tbody tr th {\n",
       "        vertical-align: top;\n",
       "    }\n",
       "\n",
       "    .dataframe thead th {\n",
       "        text-align: right;\n",
       "    }\n",
       "</style>\n",
       "<table border=\"1\" class=\"dataframe\">\n",
       "  <thead>\n",
       "    <tr style=\"text-align: right;\">\n",
       "      <th></th>\n",
       "      <th>chr_position</th>\n",
       "      <th>Overlapped_enhancer</th>\n",
       "      <th>Genes_within_250k</th>\n",
       "      <th>TF_Matching_p-value_1e-06</th>\n",
       "      <th>TF_Matching_p-value_1e-05</th>\n",
       "      <th>TF_Matching_p-value_0.0001</th>\n",
       "      <th>TF_Matching_q-value_0.01</th>\n",
       "      <th>TF_Matching_q-value_0.05</th>\n",
       "      <th>sum</th>\n",
       "    </tr>\n",
       "  </thead>\n",
       "  <tbody>\n",
       "    <tr>\n",
       "      <th>1</th>\n",
       "      <td>chr1_180582_181297</td>\n",
       "      <td>[970:11.4995458702954:CD34+]</td>\n",
       "      <td>[DDX11L1, DDX11L17, FAM138A, LOC112268260, LOC...</td>\n",
       "      <td>[KLF3, NRF1, RREB1, THA]</td>\n",
       "      <td>[BRCA1, COT1, COT2, CTCF, HEN1, KLF1, KLF12, K...</td>\n",
       "      <td>[AP2D, BHE41, BRCA1, COT1, COT2, CTCF, CTCFL, ...</td>\n",
       "      <td>[KLF3, NRF1]</td>\n",
       "      <td>[KLF1, KLF12, KLF3, MAZ, NRF1, RREB1, SP1, SP2...</td>\n",
       "      <td>23</td>\n",
       "    </tr>\n",
       "    <tr>\n",
       "      <th>9</th>\n",
       "      <td>chr1_633556_634476</td>\n",
       "      <td>[550:12.2065412268318:SHEP-21N,787:6.466380502...</td>\n",
       "      <td>[FAM41C, FAM87B, LINC00115, LINC01128, LINC014...</td>\n",
       "      <td>[NR2C1]</td>\n",
       "      <td>[GLI3, GSX2, HXB13, HXC9, INSM1, NR2C1, NRF1, ...</td>\n",
       "      <td>[BCL6, BMAL1, BSH, CDX2, CEBPZ, COT2, CUX1, DL...</td>\n",
       "      <td>[.]</td>\n",
       "      <td>[SP2, ZFX]</td>\n",
       "      <td>86</td>\n",
       "    </tr>\n",
       "    <tr>\n",
       "      <th>10</th>\n",
       "      <td>chr1_778284_779202</td>\n",
       "      <td>[1980:8.91789239746368:CD8+,370:15.50080805540...</td>\n",
       "      <td>[AGRN, FAM41C, FAM87B, HES4, ISG15, KLHL17, LI...</td>\n",
       "      <td>[CEBPZ, FOXI1, NFYB, TEAD1, ZN563, ZN770]</td>\n",
       "      <td>[AP2D, ATF1, ATF2, ATF7, BHA15, CEBPZ, COE1, C...</td>\n",
       "      <td>[AIRE, AP2A, AP2B, AP2C, AP2D, ARNT, ASCL1, AS...</td>\n",
       "      <td>[ZN770]</td>\n",
       "      <td>[AP2D, E2F4, E2F6, EGR1, EGR2, KLF1, PROX1, PU...</td>\n",
       "      <td>268</td>\n",
       "    </tr>\n",
       "    <tr>\n",
       "      <th>13</th>\n",
       "      <td>chr1_827063_827952</td>\n",
       "      <td>[10140:9.36438558234664:HepG2,35010:12.1274907...</td>\n",
       "      <td>[AGRN, FAM41C, FAM87B, HES4, ISG15, KLHL17, LI...</td>\n",
       "      <td>[DPRX, E2F4, EGR1, EGR2, KLF12, KLF15, KLF3, K...</td>\n",
       "      <td>[AP2C, AP2D, DPRX, E2F1, E2F3, E2F4, E2F6, E2F...</td>\n",
       "      <td>[AP2A, AP2B, AP2C, AP2D, ARNT, ARNT2, ASCL2, A...</td>\n",
       "      <td>[EGR1, EGR2, KLF12, KLF15, KLF3, KLF6, PATZ1, ...</td>\n",
       "      <td>[AP2D, E2F4, E2F6, EGR1, EGR2, EGR4, FLI1, KLF...</td>\n",
       "      <td>106</td>\n",
       "    </tr>\n",
       "    <tr>\n",
       "      <th>17</th>\n",
       "      <td>chr1_869472_870376</td>\n",
       "      <td>[4690:17.0572353953428:HEK293T,4690:7.53789980...</td>\n",
       "      <td>[AGRN, C1orf159, FAM41C, FAM87B, HES4, ISG15, ...</td>\n",
       "      <td>[ASCL1, CTCF, CTCFL, EGR1, EGR2, ESR2, KLF14, ...</td>\n",
       "      <td>[AP2B, AP2C, AP2D, ARI3A, ASCL1, BRCA1, COT1, ...</td>\n",
       "      <td>[ANDR, AP2A, AP2B, AP2C, AP2D, ARI3A, ARNT, AR...</td>\n",
       "      <td>[CTCF, CTCFL, EGR1, EGR2, KLF3, KLF9, SP1, SP3...</td>\n",
       "      <td>[AP2D, ASCL1, CTCF, CTCFL, EGR1, EGR2, EGR4, K...</td>\n",
       "      <td>34</td>\n",
       "    </tr>\n",
       "    <tr>\n",
       "      <th>...</th>\n",
       "      <td>...</td>\n",
       "      <td>...</td>\n",
       "      <td>...</td>\n",
       "      <td>...</td>\n",
       "      <td>...</td>\n",
       "      <td>...</td>\n",
       "      <td>...</td>\n",
       "      <td>...</td>\n",
       "      <td>...</td>\n",
       "    </tr>\n",
       "    <tr>\n",
       "      <th>98304</th>\n",
       "      <td>chrUn_GL000219v1_44650_45512</td>\n",
       "      <td>[.]</td>\n",
       "      <td>[LOC105379420, LOC283788]</td>\n",
       "      <td>[BC11A, ETV5, FLI1, IRF3, MAZ, P63, P73, PATZ1...</td>\n",
       "      <td>[BC11A, E2F7, EGR1, EGR2, EGR4, ELF5, ETS2, ET...</td>\n",
       "      <td>[ANDR, ARNT2, BARX1, BC11A, BHA15, COE1, E2F1,...</td>\n",
       "      <td>[FLI1, IRF3, KLF16, MAZ, PATZ1, SP1, VEZF1, WT...</td>\n",
       "      <td>[BC11A, EGR1, EGR2, EGR4, ETS2, ETV5, FLI1, IR...</td>\n",
       "      <td>29</td>\n",
       "    </tr>\n",
       "    <tr>\n",
       "      <th>98305</th>\n",
       "      <td>chrUn_GL000219v1_45733_46550</td>\n",
       "      <td>[.]</td>\n",
       "      <td>[LOC105379420, LOC283788]</td>\n",
       "      <td>[HIC2]</td>\n",
       "      <td>[ARNT2, CEBPD, E2F6, EGR2, HIC2, HNF1A, HNF1B,...</td>\n",
       "      <td>[ANDR, AP2A, AP2C, AP2D, ARNT2, ATF6A, ATOH1, ...</td>\n",
       "      <td>[ZN263]</td>\n",
       "      <td>[EGR2, EGR4, KLF1, KLF3, KLF5, KLF6, PATZ1, PI...</td>\n",
       "      <td>61</td>\n",
       "    </tr>\n",
       "    <tr>\n",
       "      <th>98307</th>\n",
       "      <td>chrUn_GL000219v1_90065_90960</td>\n",
       "      <td>[.]</td>\n",
       "      <td>[LOC105379420, LOC283788]</td>\n",
       "      <td>[CDX2, ETS1, TF7L1, TF7L2, ZNF18]</td>\n",
       "      <td>[AIRE, ARI3A, BRAC, CDX2, DUX4, ETS1, ETV3, FO...</td>\n",
       "      <td>[AIRE, ALX1, ARI3A, ATF6A, BARX1, BARX2, BATF3...</td>\n",
       "      <td>[.]</td>\n",
       "      <td>[CPEB1, IRF3, RREB1, STAT1]</td>\n",
       "      <td>20</td>\n",
       "    </tr>\n",
       "    <tr>\n",
       "      <th>98309</th>\n",
       "      <td>chrUn_GL000219v1_99257_100164</td>\n",
       "      <td>[.]</td>\n",
       "      <td>[LOC105379420, LOC283788]</td>\n",
       "      <td>[E2F1, E2F4, E2F6, E2F7, ELF1, ELF2, ELK1, ELK...</td>\n",
       "      <td>[AP2D, ARNT2, BHA15, E2F1, E2F3, E2F4, E2F6, E...</td>\n",
       "      <td>[ANDR, AP2A, AP2B, AP2C, AP2D, ARNT2, ASCL1, A...</td>\n",
       "      <td>[SP3, TBX15, WT1, ZN467, ZN770]</td>\n",
       "      <td>[AP2D, E2F4, E2F6, E2F7, EGR1, EGR2, EGR4, KLF...</td>\n",
       "      <td>406</td>\n",
       "    </tr>\n",
       "    <tr>\n",
       "      <th>98316</th>\n",
       "      <td>chr1_KI270713v1_random_21434_22339</td>\n",
       "      <td>[.]</td>\n",
       "      <td>[LOC102724562, LOC124905321, LOC440570, TRN-GT...</td>\n",
       "      <td>[ZN341]</td>\n",
       "      <td>[COT1, CREM, E2F3, EGR4, EOMES, GLIS1, HEN1, H...</td>\n",
       "      <td>[AHR, ANDR, ATF2, BACH1, BACH2, BHA15, BHE41, ...</td>\n",
       "      <td>[ZN341]</td>\n",
       "      <td>[EGR4, KLF9, ZFX, ZN341]</td>\n",
       "      <td>349</td>\n",
       "    </tr>\n",
       "  </tbody>\n",
       "</table>\n",
       "<p>25535 rows × 9 columns</p>\n",
       "</div>"
      ],
      "text/plain": [
       "                             chr_position  \\\n",
       "1                      chr1_180582_181297   \n",
       "9                      chr1_633556_634476   \n",
       "10                     chr1_778284_779202   \n",
       "13                     chr1_827063_827952   \n",
       "17                     chr1_869472_870376   \n",
       "...                                   ...   \n",
       "98304        chrUn_GL000219v1_44650_45512   \n",
       "98305        chrUn_GL000219v1_45733_46550   \n",
       "98307        chrUn_GL000219v1_90065_90960   \n",
       "98309       chrUn_GL000219v1_99257_100164   \n",
       "98316  chr1_KI270713v1_random_21434_22339   \n",
       "\n",
       "                                     Overlapped_enhancer  \\\n",
       "1                           [970:11.4995458702954:CD34+]   \n",
       "9      [550:12.2065412268318:SHEP-21N,787:6.466380502...   \n",
       "10     [1980:8.91789239746368:CD8+,370:15.50080805540...   \n",
       "13     [10140:9.36438558234664:HepG2,35010:12.1274907...   \n",
       "17     [4690:17.0572353953428:HEK293T,4690:7.53789980...   \n",
       "...                                                  ...   \n",
       "98304                                                [.]   \n",
       "98305                                                [.]   \n",
       "98307                                                [.]   \n",
       "98309                                                [.]   \n",
       "98316                                                [.]   \n",
       "\n",
       "                                       Genes_within_250k  \\\n",
       "1      [DDX11L1, DDX11L17, FAM138A, LOC112268260, LOC...   \n",
       "9      [FAM41C, FAM87B, LINC00115, LINC01128, LINC014...   \n",
       "10     [AGRN, FAM41C, FAM87B, HES4, ISG15, KLHL17, LI...   \n",
       "13     [AGRN, FAM41C, FAM87B, HES4, ISG15, KLHL17, LI...   \n",
       "17     [AGRN, C1orf159, FAM41C, FAM87B, HES4, ISG15, ...   \n",
       "...                                                  ...   \n",
       "98304                          [LOC105379420, LOC283788]   \n",
       "98305                          [LOC105379420, LOC283788]   \n",
       "98307                          [LOC105379420, LOC283788]   \n",
       "98309                          [LOC105379420, LOC283788]   \n",
       "98316  [LOC102724562, LOC124905321, LOC440570, TRN-GT...   \n",
       "\n",
       "                               TF_Matching_p-value_1e-06  \\\n",
       "1                               [KLF3, NRF1, RREB1, THA]   \n",
       "9                                                [NR2C1]   \n",
       "10             [CEBPZ, FOXI1, NFYB, TEAD1, ZN563, ZN770]   \n",
       "13     [DPRX, E2F4, EGR1, EGR2, KLF12, KLF15, KLF3, K...   \n",
       "17     [ASCL1, CTCF, CTCFL, EGR1, EGR2, ESR2, KLF14, ...   \n",
       "...                                                  ...   \n",
       "98304  [BC11A, ETV5, FLI1, IRF3, MAZ, P63, P73, PATZ1...   \n",
       "98305                                             [HIC2]   \n",
       "98307                  [CDX2, ETS1, TF7L1, TF7L2, ZNF18]   \n",
       "98309  [E2F1, E2F4, E2F6, E2F7, ELF1, ELF2, ELK1, ELK...   \n",
       "98316                                            [ZN341]   \n",
       "\n",
       "                               TF_Matching_p-value_1e-05  \\\n",
       "1      [BRCA1, COT1, COT2, CTCF, HEN1, KLF1, KLF12, K...   \n",
       "9      [GLI3, GSX2, HXB13, HXC9, INSM1, NR2C1, NRF1, ...   \n",
       "10     [AP2D, ATF1, ATF2, ATF7, BHA15, CEBPZ, COE1, C...   \n",
       "13     [AP2C, AP2D, DPRX, E2F1, E2F3, E2F4, E2F6, E2F...   \n",
       "17     [AP2B, AP2C, AP2D, ARI3A, ASCL1, BRCA1, COT1, ...   \n",
       "...                                                  ...   \n",
       "98304  [BC11A, E2F7, EGR1, EGR2, EGR4, ELF5, ETS2, ET...   \n",
       "98305  [ARNT2, CEBPD, E2F6, EGR2, HIC2, HNF1A, HNF1B,...   \n",
       "98307  [AIRE, ARI3A, BRAC, CDX2, DUX4, ETS1, ETV3, FO...   \n",
       "98309  [AP2D, ARNT2, BHA15, E2F1, E2F3, E2F4, E2F6, E...   \n",
       "98316  [COT1, CREM, E2F3, EGR4, EOMES, GLIS1, HEN1, H...   \n",
       "\n",
       "                              TF_Matching_p-value_0.0001  \\\n",
       "1      [AP2D, BHE41, BRCA1, COT1, COT2, CTCF, CTCFL, ...   \n",
       "9      [BCL6, BMAL1, BSH, CDX2, CEBPZ, COT2, CUX1, DL...   \n",
       "10     [AIRE, AP2A, AP2B, AP2C, AP2D, ARNT, ASCL1, AS...   \n",
       "13     [AP2A, AP2B, AP2C, AP2D, ARNT, ARNT2, ASCL2, A...   \n",
       "17     [ANDR, AP2A, AP2B, AP2C, AP2D, ARI3A, ARNT, AR...   \n",
       "...                                                  ...   \n",
       "98304  [ANDR, ARNT2, BARX1, BC11A, BHA15, COE1, E2F1,...   \n",
       "98305  [ANDR, AP2A, AP2C, AP2D, ARNT2, ATF6A, ATOH1, ...   \n",
       "98307  [AIRE, ALX1, ARI3A, ATF6A, BARX1, BARX2, BATF3...   \n",
       "98309  [ANDR, AP2A, AP2B, AP2C, AP2D, ARNT2, ASCL1, A...   \n",
       "98316  [AHR, ANDR, ATF2, BACH1, BACH2, BHA15, BHE41, ...   \n",
       "\n",
       "                                TF_Matching_q-value_0.01  \\\n",
       "1                                           [KLF3, NRF1]   \n",
       "9                                                    [.]   \n",
       "10                                               [ZN770]   \n",
       "13     [EGR1, EGR2, KLF12, KLF15, KLF3, KLF6, PATZ1, ...   \n",
       "17     [CTCF, CTCFL, EGR1, EGR2, KLF3, KLF9, SP1, SP3...   \n",
       "...                                                  ...   \n",
       "98304  [FLI1, IRF3, KLF16, MAZ, PATZ1, SP1, VEZF1, WT...   \n",
       "98305                                            [ZN263]   \n",
       "98307                                                [.]   \n",
       "98309                    [SP3, TBX15, WT1, ZN467, ZN770]   \n",
       "98316                                            [ZN341]   \n",
       "\n",
       "                                TF_Matching_q-value_0.05  sum  \n",
       "1      [KLF1, KLF12, KLF3, MAZ, NRF1, RREB1, SP1, SP2...   23  \n",
       "9                                             [SP2, ZFX]   86  \n",
       "10     [AP2D, E2F4, E2F6, EGR1, EGR2, KLF1, PROX1, PU...  268  \n",
       "13     [AP2D, E2F4, E2F6, EGR1, EGR2, EGR4, FLI1, KLF...  106  \n",
       "17     [AP2D, ASCL1, CTCF, CTCFL, EGR1, EGR2, EGR4, K...   34  \n",
       "...                                                  ...  ...  \n",
       "98304  [BC11A, EGR1, EGR2, EGR4, ETS2, ETV5, FLI1, IR...   29  \n",
       "98305  [EGR2, EGR4, KLF1, KLF3, KLF5, KLF6, PATZ1, PI...   61  \n",
       "98307                        [CPEB1, IRF3, RREB1, STAT1]   20  \n",
       "98309  [AP2D, E2F4, E2F6, E2F7, EGR1, EGR2, EGR4, KLF...  406  \n",
       "98316                           [EGR4, KLF9, ZFX, ZN341]  349  \n",
       "\n",
       "[25535 rows x 9 columns]"
      ]
     },
     "execution_count": 16,
     "metadata": {},
     "output_type": "execute_result"
    }
   ],
   "source": [
    "pbmc_3k_scATAC_Gene_Enhancer_CD8_psum"
   ]
  },
  {
   "cell_type": "code",
   "execution_count": 17,
   "id": "25caf6c5-edc7-4f1f-90e5-286036475f7d",
   "metadata": {
    "tags": []
   },
   "outputs": [
    {
     "name": "stdout",
     "output_type": "stream",
     "text": [
      "101\n",
      "180\n",
      "591\n"
     ]
    }
   ],
   "source": [
    "TFList_qv0d01 = DF_Column_to_List(pbmc_3k_scATAC_Gene_Enhancer_CD8_psum, 'TF_Matching_q-value_0.01')\n",
    "print(len(TFList_qv0d01))\n",
    "\n",
    "TFList_qv0d05 = DF_Column_to_List(pbmc_3k_scATAC_Gene_Enhancer_CD8_psum, 'TF_Matching_q-value_0.05')\n",
    "print(len(TFList_qv0d05))\n",
    "\n",
    "TFList_pv1en6 = DF_Column_to_List(pbmc_3k_scATAC_Gene_Enhancer_CD8_psum, 'TF_Matching_p-value_1e-06')\n",
    "print(len(TFList_pv1en6))\n"
   ]
  },
  {
   "cell_type": "code",
   "execution_count": 18,
   "id": "299997cb-a6b2-472c-9f4d-8554b16f1688",
   "metadata": {
    "tags": []
   },
   "outputs": [
    {
     "name": "stdout",
     "output_type": "stream",
     "text": [
      "36156\n",
      "2814\n"
     ]
    }
   ],
   "source": [
    "Gene_in_CD8_scATAC = DF_Column_to_List(pbmc_3k_scATAC_Gene_Enhancer_CD8_psum, 'Genes_within_250k')\n",
    "print(len(Gene_in_CD8_scATAC))\n",
    "\n",
    "Gene_in_CD8_scATAC_scRNA = list(set(Gene_in_CD8_scATAC) & set(Gene_in_CD8_scRNA))\n",
    "print(len(Gene_in_CD8_scATAC_scRNA))"
   ]
  },
  {
   "cell_type": "code",
   "execution_count": null,
   "id": "9ec06a07-483b-4fb5-96a8-ce328af3f7b6",
   "metadata": {},
   "outputs": [],
   "source": []
  },
  {
   "cell_type": "markdown",
   "id": "28cf6a95-a1d2-46be-bb48-9d988843b45b",
   "metadata": {},
   "source": [
    "## 1.3 Load PPIs"
   ]
  },
  {
   "cell_type": "code",
   "execution_count": 19,
   "id": "332144fb-45da-409f-9435-11cf9a0baecd",
   "metadata": {
    "tags": []
   },
   "outputs": [
    {
     "name": "stdout",
     "output_type": "stream",
     "text": [
      "The PPI netowrk has 14433 nodes and 104148528 edges\n"
     ]
    }
   ],
   "source": [
    "G_PPI_BioGrid = pickle.load(open('../../Data/PPI/PPI_BioGrid_Evd2_DSD.pickle', 'rb'))\n",
    "print(\"The PPI netowrk has\", len(G_PPI_BioGrid.nodes), \"nodes and\", len(G_PPI_BioGrid.edges), \"edges\")"
   ]
  },
  {
   "cell_type": "code",
   "execution_count": null,
   "id": "371c36df-c2d3-4b02-bf99-65e603d153f1",
   "metadata": {},
   "outputs": [],
   "source": []
  },
  {
   "cell_type": "markdown",
   "id": "7f233e91-a895-4cd6-a9f6-1e5a514cb99a",
   "metadata": {},
   "source": [
    "# 2 GRIPNet"
   ]
  },
  {
   "cell_type": "code",
   "execution_count": 20,
   "id": "10de03c0-957b-4b1c-81b1-c9c5210f6814",
   "metadata": {
    "tags": []
   },
   "outputs": [],
   "source": [
    "TF_Motif_Metric = ['TF_Matching_p-value_1e-06',\n",
    " 'TF_Matching_p-value_1e-05',\n",
    " 'TF_Matching_p-value_0.0001',\n",
    " 'TF_Matching_q-value_0.01',\n",
    " 'TF_Matching_q-value_0.05']\n",
    "\n",
    "# split data into training and out-of-sample\n",
    "scRNA_Anndata_Train, scRNA_Anndata_OutSample, SID_train, SID_outsample = Split_Sample_scRNA(CD8_scRNA_DN_magic_ad, percentage_training=0.9)\n",
    "\n",
    "with open('./CD8_Train_Samples.txt', 'w') as f:\n",
    "    for sid in SID_train:\n",
    "        f.write(f\"{sid}\\n\")\n",
    "        \n",
    "with open('./CD8_Out_Samples.txt', 'w') as f:\n",
    "    for sid in SID_outsample:\n",
    "        f.write(f\"{sid}\\n\")\n"
   ]
  },
  {
   "cell_type": "code",
   "execution_count": 21,
   "id": "c75b7655-50ab-4176-bc6c-ac9259358b23",
   "metadata": {
    "tags": []
   },
   "outputs": [
    {
     "name": "stdout",
     "output_type": "stream",
     "text": [
      "Set parameter Username\n",
      "Academic license - for non-commercial use only - expires 2025-08-30\n",
      "1 / 1846 : HIVEP1 10 ['CREB5', 'ESR1', 'MYC', 'HIF1A', 'SMAD3', 'SPI1', 'MECP2', 'ATF3', 'RXRA', 'ESR2'] 0.0055698702879047905\n",
      "2 / 1846 : CYBB 5 ['CREB5', 'ESR1', 'MECP2', 'RXRA', 'ESR2'] 0.0013828146698237258\n",
      "3 / 1846 : ANKRD26 5 ['CREB5', 'BCL6', 'ESR1', 'RELB', 'MECP2'] 0.003953640813308234\n",
      "4 / 1846 : IL32 6 ['ESR1', 'FOXO1', 'MYC', 'FOXO3', 'CEBPD', 'SMAD3'] 0.019185103260435696\n",
      "5 / 1846 : ZC4H2 9 ['ZEB1', 'TAF1', 'KLF4', 'KLF12', 'RUNX2', 'HLTF', 'PPARD', 'E2F3', 'RUNX3'] 0.011283387681722094\n",
      "6 / 1846 : PLXNC1 8 ['JUN', 'MYC', 'ESR1', 'SMAD3', 'MECP2', 'RXRA', 'SPI1', 'ESR2'] 0.008425416254738563\n",
      "7 / 1846 : AAMDC 9 ['SMAD3', 'RXRA', 'MECP2', 'ESR2', 'NR4A1', 'FOXO3', 'BCL6', 'FOXO1', 'NR2C2'] 0.009745814791122576\n",
      "8 / 1846 : HLA-DRB1 10 ['MYC', 'ESR1', 'SMAD3', 'JUN', 'CEBPB', 'MECP2', 'RXRA', 'ESR2', 'FOS', 'NR4A1'] 0.006734448469264142\n",
      "9 / 1846 : SFXN1 10 ['ESR1', 'HIF1A', 'SMAD3', 'JUN', 'MECP2', 'RXRA', 'ESR2', 'FOXO3', 'BCL6', 'FOXO1'] 0.008716052302485006\n",
      "10 / 1846 : EIF2B3 10 ['ESR1', 'MYC', 'HIF1A', 'JUN', 'SMAD3', 'MECP2', 'ESR2', 'RXRA', 'FOS', 'NR4A1'] 0.008456359018320906\n",
      "11 / 1846 : CCNC 7 ['MYC', 'ESR1', 'SMAD3', 'JUN', 'HIF1A', 'NR4A1', 'KLF4'] 0.011774378260015426\n",
      "12 / 1846 : ENTPD1 10 ['ESR1', 'MYC', 'SMAD3', 'JUN', 'MECP2', 'ESR2', 'RXRA', 'BCL6', 'NR2C2', 'CREB5'] 0.00421736020443417\n",
      "13 / 1846 : ITGAX 10 ['ESR1', 'MYC', 'HIF1A', 'SMAD3', 'JUN', 'MECP2', 'CEBPB', 'RXRA', 'ESR2', 'FOS'] 0.008707239838660147\n",
      "14 / 1846 : LENG1 4 ['ATF3', 'RFX2', 'MAFB', 'AHR'] 0.009735314117608189\n",
      "15 / 1846 : RPL11 10 ['MYC', 'ESR1', 'HIF1A', 'SMAD3', 'JUN', 'MECP2', 'CEBPB', 'RXRA', 'ESR2', 'FOS'] 0.014859054377070741\n",
      "16 / 1846 : HIBADH 10 ['MECP2', 'ESR2', 'RXRA', 'CREB5', 'NR4A1', 'FOXO3', 'BACH1', 'FOXO1', 'AHR', 'TAF1'] 0.004409773161606846\n",
      "17 / 1846 : NHSL1 10 ['ESR1', 'SMAD3', 'JUN', 'MECP2', 'ESR2', 'FOS', 'RXRA', 'NR4A1', 'NR2C2', 'FOXO1'] 0.0035410670078487973\n",
      "18 / 1846 : ETV6 3 ['ETV6', 'ESR1', 'MYC'] 7.379762055092462e-07\n",
      "19 / 1846 : ELP4 10 ['SMAD3', 'ESR1', 'ESR2', 'RXRA', 'BCL6', 'NR2C2', 'AHR', 'TAF1', 'KLF12', 'ZEB1'] 0.008933128389534709\n",
      "20 / 1846 : LIMK2 10 ['MYC', 'ESR1', 'SMAD3', 'HIF1A', 'MECP2', 'ESR2', 'RXRA', 'NR4A1', 'FOS', 'BCL6'] 0.007090677311455681\n",
      "21 / 1846 : KDM1B 3 ['MEF2C', 'NFIA', 'FOS'] 0.004895449832411651\n",
      "22 / 1846 : AMZ1 4 ['CREB5', 'MYC', 'FOXO1', 'NR4A1'] 0.0035936093968769395\n",
      "23 / 1846 : ADAM9 10 ['ESR1', 'MYC', 'HIF1A', 'SMAD3', 'MECP2', 'CEBPB', 'RXRA', 'ESR2', 'FOS', 'NR4A1'] 0.003626415951597241\n",
      "24 / 1846 : GPR137B 10 ['MYC', 'ESR1', 'JUN', 'SMAD3', 'MECP2', 'CEBPB', 'RXRA', 'FOS', 'ESR2', 'BCL6'] 0.0073861169835327525\n",
      "25 / 1846 : MPZL3 7 ['MYC', 'ESR1', 'SMAD3', 'BCL6', 'HIF1A', 'JUN', 'KLF4'] 0.007375380098713737\n",
      "26 / 1846 : TUBGCP5 9 ['ESR1', 'HIF1A', 'MECP2', 'ESR2', 'RXRA', 'FOS', 'BCL6', 'KLF4', 'NR2C2'] 0.011460815235147515\n",
      "27 / 1846 : MYO9A 10 ['ESR1', 'MYC', 'SMAD3', 'HIF1A', 'JUN', 'RXRA', 'CEBPB', 'MECP2', 'CREB5', 'ESR2'] 0.008967369997762131\n",
      "28 / 1846 : FCGR2A 4 ['CREB5', 'ESR1', 'MYC', 'NR4A1'] 0.002135546350905744\n",
      "29 / 1846 : LDLRAP1 9 ['ESR1', 'MYC', 'SMAD3', 'JUN', 'MECP2', 'BCL6', 'FOS', 'ESR2', 'RXRA'] 0.008907708097276906\n",
      "30 / 1846 : ARSG 5 ['SPI1', 'MAFB', 'RFX2', 'NR4A1', 'FOXO3'] 0.007774475303834086\n",
      "31 / 1846 : ZNF544 7 ['MYC', 'ESR1', 'RXRA', 'HIF1A', 'SMAD3', 'JUN', 'KLF4'] 0.007133187381241981\n",
      "32 / 1846 : PELI2 10 ['ESR1', 'SMAD3', 'MECP2', 'ESR2', 'RXRA', 'BCL6', 'KLF4', 'NR2C2', 'TAF1', 'BACH1'] 0.006539988787824281\n",
      "33 / 1846 : GFPT1 10 ['ESR1', 'SMAD3', 'MECP2', 'ESR2', 'BCL6', 'FOXO1', 'NR2C2', 'BACH1', 'AHR', 'TAF1'] 0.016812400817999885\n",
      "34 / 1846 : SLC35E2B 10 ['MYC', 'ESR1', 'HIF1A', 'SMAD3', 'JUN', 'MECP2', 'CEBPB', 'FOS', 'NR4A1', 'ESR2'] 0.008550769348048378\n",
      "35 / 1846 : ANXA1 9 ['CEBPB', 'JUN', 'FOS', 'SPI1', 'FOXO1', 'FOXO3', 'BACH1', 'TAF1', 'RUNX2'] 0.010799181903788705\n",
      "36 / 1846 : NEPRO 6 ['KLF4', 'SPI1', 'FOS', 'JUN', 'ESR1', 'LEF1'] 0.008816863451833053\n",
      "37 / 1846 : DUSP6 10 ['JUN', 'ESR1', 'SMAD3', 'MECP2', 'CEBPB', 'RXRA', 'ESR2', 'FOS', 'NR4A1', 'BCL6'] 0.003922730908470204\n",
      "38 / 1846 : ATP8B4 6 ['KLF4', 'SPI1', 'ESR1', 'NR4A1', 'SOX4', 'MYC'] 0.020028153713488445\n",
      "39 / 1846 : ATP10A 8 ['JUN', 'ESR1', 'MYC', 'SMAD3', 'FOS', 'RXRA', 'MECP2', 'FOXO1'] 0.010164362180532491\n",
      "40 / 1846 : MARK4 10 ['ESR1', 'MYC', 'NR4A1', 'HIF1A', 'SMAD3', 'JUN', 'RXRA', 'MECP2', 'CEBPB', 'KLF4'] 0.008899812121146763\n",
      "41 / 1846 : WARS2-AS1 8 ['RXRA', 'BCL6', 'KLF4', 'NR4A1', 'TAF1', 'CREB5', 'ATF3', 'KLF12'] 0.013615295676483927\n",
      "42 / 1846 : GRAMD1B 10 ['ESR1', 'MYC', 'MECP2', 'CEBPB', 'ESR2', 'RXRA', 'NR4A1', 'FOXO1', 'NR2C2', 'TAF1'] 0.008570542690871227\n",
      "43 / 1846 : RABEP2 7 ['RXRA', 'CEBPB', 'NR4A1', 'ESR1', 'FOS', 'AHR', 'BACH1'] 0.009556116950567212\n",
      "44 / 1846 : NUP54 8 ['KLF4', 'MYC', 'ESR1', 'HIF1A', 'SMAD3', 'JUN', 'MECP2', 'RXRA'] 0.00687265980800474\n",
      "45 / 1846 : MAML2 4 ['PAX5', 'SPI1', 'KLF4', 'LEF1'] 0.015104253337556573\n",
      "46 / 1846 : SNX9 4 ['KLF4', 'RXRA', 'CEBPD', 'FOXO1'] 0.006667310138718955\n",
      "47 / 1846 : HLA-DPB1 6 ['KLF4', 'SPI1', 'FOS', 'MEF2A', 'FOXO1', 'CEBPD'] 0.011612745623451009\n",
      "48 / 1846 : TNFSF10 9 ['MYC', 'ESR1', 'SMAD3', 'JUN', 'MECP2', 'CREB5', 'CEBPB', 'RXRA', 'ESR2'] 0.006451503767199937\n",
      "49 / 1846 : RHOT1 10 ['ESR1', 'MYC', 'HIF1A', 'KLF4', 'SMAD3', 'JUN', 'MECP2', 'SPI1', 'FOS', 'ESR2'] 0.007910179666108024\n",
      "50 / 1846 : DIPK1A 4 ['PPARD', 'ATF3', 'HSF2', 'ESR2'] 0.0077470481929415875\n",
      "51 / 1846 : MBNL3 9 ['ESR1', 'MYC', 'SMAD3', 'JUN', 'CEBPB', 'MECP2', 'FOS', 'SPI1', 'NR4A1'] 0.012213445451295669\n",
      "52 / 1846 : RPS29 9 ['MYC', 'ESR1', 'HIF1A', 'SMAD3', 'JUN', 'MECP2', 'CEBPB', 'CREB5', 'SPI1'] 0.012323268299946477\n",
      "53 / 1846 : STAT4 10 ['ESR1', 'MYC', 'HIF1A', 'SMAD3', 'JUN', 'CEBPB', 'ESR2', 'RXRA', 'FOS', 'NR4A1'] 0.010399981976472385\n",
      "54 / 1846 : ATF7IP2 9 ['MECP2', 'ESR2', 'KLF12', 'KLF4', 'RUNX2', 'RELB', 'TFCP2', 'NFYC', 'PPARA'] 0.012889317404491858\n",
      "55 / 1846 : RFX7 9 ['ESR1', 'MYC', 'HIF1A', 'JUN', 'MECP2', 'CEBPB', 'RXRA', 'ESR2', 'BCL6'] 0.0061072242755688564\n",
      "56 / 1846 : CHSY1 10 ['MYC', 'ESR1', 'MECP2', 'HIF1A', 'SMAD3', 'CEBPB', 'ESR2', 'RXRA', 'BCL6', 'BACH1'] 0.008794149534680716\n",
      "57 / 1846 : LEPROTL1 10 ['ESR1', 'MYC', 'SMAD3', 'JUN', 'MECP2', 'CEBPB', 'FOS', 'ESR2', 'RXRA', 'NR4A1'] 0.011612331914484054\n",
      "58 / 1846 : LTB 10 ['MYC', 'ESR1', 'HIF1A', 'SMAD3', 'JUN', 'MECP2', 'CEBPB', 'RXRA', 'CREB5', 'FOS'] 0.02026011148570642\n"
     ]
    },
    {
     "name": "stderr",
     "output_type": "stream",
     "text": [
      "/Users/yijwang-admin/Documents/Research/GRN_PPI/L0GL_PPI_GRN/minFunc/polyinterp.py:40: RuntimeWarning: divide by zero encountered in scalar divide\n",
      "  t = points[notMinPos, 0] - (points[notMinPos, 0] - points[minPos, 0]) * ((points[notMinPos, 2] + d2 - d1) / (points[notMinPos, 2] - points[minPos, 2] + 2 * d2))\n"
     ]
    },
    {
     "name": "stdout",
     "output_type": "stream",
     "text": [
      "59 / 1846 : RPS5 10 ['MYC', 'ESR1', 'HIF1A', 'JUN', 'SMAD3', 'MECP2', 'ESR2', 'FOS', 'RXRA', 'FOXO3'] 0.010182740429832299\n",
      "60 / 1846 : ZSWIM6 9 ['ESR1', 'JUN', 'CEBPB', 'CREB5', 'ESR2', 'RXRA', 'FOS', 'NR4A1', 'BCL6'] 0.006078404078407778\n",
      "61 / 1846 : BATF 3 ['BATF', 'ESR1', 'MYC'] 8.410747427683533e-07\n",
      "62 / 1846 : JMJD1C 10 ['ESR1', 'HIF1A', 'SMAD3', 'JUN', 'MECP2', 'FOS', 'RXRA', 'ESR2', 'NR4A1', 'KLF4'] 0.009240982702425182\n",
      "63 / 1846 : CC2D2A 10 ['ESR1', 'MYC', 'HIF1A', 'SMAD3', 'ESR2', 'RXRA', 'NR4A1', 'FOXO1', 'BACH1', 'TAF1'] 0.004558279246375874\n",
      "64 / 1846 : ZNF487 10 ['MYC', 'ESR1', 'HIF1A', 'SMAD3', 'JUN', 'MECP2', 'ATF3', 'CEBPB', 'RXRA', 'NR2C2'] 0.008874441596208475\n",
      "65 / 1846 : PSIP1 8 ['MYC', 'ESR1', 'JUN', 'HIF1A', 'SMAD3', 'MECP2', 'BCL6', 'ESR2'] 0.014918852636509506\n",
      "66 / 1846 : SMAD3 4 ['SMAD3', 'MYC', 'ESR1', 'HIF1A'] 9.157158833925351e-07\n",
      "67 / 1846 : PLD1 5 ['CEBPB', 'ESR1', 'NR4A1', 'MYC', 'IRF7'] 0.007421727676766335\n",
      "68 / 1846 : ZDHHC20 10 ['ESR1', 'MYC', 'SMAD3', 'HIF1A', 'JUN', 'MECP2', 'RXRA', 'ESR2', 'FOS', 'FOXO3'] 0.00818902309457787\n",
      "69 / 1846 : SOCS3 10 ['ESR1', 'MYC', 'HIF1A', 'SMAD3', 'JUN', 'MECP2', 'ESR2', 'RXRA', 'FOS', 'NR4A1'] 0.004112541996464896\n",
      "70 / 1846 : DENND2D 3 ['CREB5', 'IRF8', 'CEBPB'] 0.02060115676171972\n",
      "71 / 1846 : ZNF236 9 ['NR4A1', 'ESR1', 'CEBPB', 'RXRA', 'MYC', 'SMAD3', 'JUN', 'ATF3', 'CREB5'] 0.006815659983695738\n",
      "72 / 1846 : ATG13 3 ['MAFB', 'ESR1', 'MEF2A'] 0.006158493804914287\n",
      "73 / 1846 : LCLAT1 3 ['JDP2', 'HIF1A', 'SOX4'] 0.0060670656052625995\n",
      "74 / 1846 : RPSA 6 ['CREB5', 'MAFB', 'MYC', 'FOS', 'MECP2', 'FOXO3'] 0.012831408787847932\n",
      "76 / 1846 : CMC1 9 ['ESR1', 'MYC', 'HIF1A', 'JUN', 'SMAD3', 'CREB5', 'FOXO3', 'FOXO1', 'MEF2C'] 0.024791502553097866\n",
      "77 / 1846 : POU2F2 10 ['MYC', 'ESR1', 'SMAD3', 'HIF1A', 'JUN', 'CEBPB', 'MECP2', 'ESR2', 'RXRA', 'FOS'] 0.007391015972816513\n",
      "78 / 1846 : P4HA1 5 ['KLF4', 'MEF2C', 'BACH1', 'RXRA', 'MYC'] 0.01287135447756755\n",
      "79 / 1846 : LIME1 8 ['KLF4', 'ESR1', 'RXRA', 'MECP2', 'CEBPB', 'MYC', 'CREB5', 'JDP2'] 0.013306644209264263\n",
      "80 / 1846 : LRRC8D 5 ['ESR1', 'RXRA', 'NR4A1', 'BCL6', 'IRF8'] 0.00742866560760698\n",
      "81 / 1846 : GZMH 10 ['PAX5', 'KLF4', 'ATF3', 'RFX2', 'MECP2', 'AHR', 'CREB5', 'NR4A1', 'TFCP2', 'FOXO1'] 0.047478703451844094\n",
      "82 / 1846 : AIF1 7 ['MYC', 'ESR1', 'HIF1A', 'SMAD3', 'JUN', 'MECP2', 'CEBPB'] 0.0050324451022933534\n",
      "83 / 1846 : BTD 6 ['KLF4', 'SPI1', 'ESR1', 'MYC', 'NR4A1', 'JUN'] 0.008832575211383243\n",
      "84 / 1846 : FAM153CP 9 ['ESR1', 'MYC', 'HIF1A', 'SMAD3', 'JUN', 'MECP2', 'CEBPB', 'ESR2', 'RXRA'] 0.010281260753276934\n",
      "85 / 1846 : PACSIN2 10 ['MYC', 'ESR1', 'HIF1A', 'SMAD3', 'JUN', 'MECP2', 'CEBPB', 'NR4A1', 'FOS', 'ESR2'] 0.008599405281487739\n",
      "86 / 1846 : RPL18A 5 ['FOXO3', 'MYC', 'MECP2', 'AHR', 'RUNX2'] 0.013041886117628352\n",
      "87 / 1846 : NR3C2 7 ['MYC', 'SMAD3', 'ESR1', 'AHR', 'MECP2', 'RXRA', 'BACH1'] 0.015023262915596705\n",
      "88 / 1846 : RAE1 10 ['ESR1', 'MYC', 'RXRA', 'HIF1A', 'SMAD3', 'MECP2', 'SPI1', 'ESR2', 'NR4A1', 'BCL6'] 0.006250939103777338\n",
      "89 / 1846 : PLCG1 9 ['KLF4', 'ESR1', 'JDP2', 'MYC', 'HIF1A', 'JUN', 'SMAD3', 'MECP2', 'RXRA'] 0.010861919263307708\n",
      "90 / 1846 : ATP1B3 10 ['MYC', 'ESR1', 'SMAD3', 'NR4A1', 'MECP2', 'RXRA', 'CREB5', 'ESR2', 'KLF4', 'SPI1'] 0.008064843496717112\n",
      "91 / 1846 : CALR 9 ['CEBPB', 'ESR1', 'MYC', 'HIF1A', 'SMAD3', 'KLF4', 'JUN', 'RXRA', 'NR4A1'] 0.022512392511733936\n",
      "92 / 1846 : ZC2HC1A 10 ['MECP2', 'RXRA', 'NR2C2', 'FOXO1', 'BACH1', 'AHR', 'KLF12', 'RUNX2', 'ZEB1', 'KLF4'] 0.00617553377752715\n",
      "93 / 1846 : FNTB 10 ['ESR1', 'MYC', 'SMAD3', 'HIF1A', 'JUN', 'MECP2', 'RXRA', 'ESR2', 'BCL6', 'MXI1'] 0.008264011490974759\n",
      "94 / 1846 : TMOD2 8 ['MYC', 'ESR1', 'SMAD3', 'HIF1A', 'JUN', 'CEBPB', 'MECP2', 'NR4A1'] 0.00782557239683462\n",
      "95 / 1846 : FOS 3 ['FOS', 'ESR1', 'MYC'] 7.076527891117454e-07\n",
      "96 / 1846 : SNX30 10 ['ESR1', 'MYC', 'SMAD3', 'HIF1A', 'JUN', 'MECP2', 'RXRA', 'ESR2', 'FOS', 'KLF4'] 0.008264562089133001\n",
      "97 / 1846 : DOCK9 9 ['CREB5', 'ESR1', 'MYC', 'KLF4', 'JUN', 'HIF1A', 'SMAD3', 'RXRA', 'CEBPB'] 0.024479350750988973\n",
      "98 / 1846 : RAB11FIP4 6 ['RXRA', 'KLF4', 'CREB5', 'MAFB', 'ESR1', 'MEF2C'] 0.008189215206198764\n",
      "99 / 1846 : ATXN1 9 ['ESR1', 'MYC', 'JUN', 'CEBPB', 'SMAD3', 'HIF1A', 'RXRA', 'MECP2', 'MAFB'] 0.015891919664071993\n",
      "100 / 1846 : UXS1 10 ['SPI1', 'ESR1', 'MYC', 'KLF4', 'SMAD3', 'JUN', 'MECP2', 'CEBPB', 'ESR2', 'RXRA'] 0.008587905714172896\n",
      "101 / 1846 : LINC01237 5 ['CREB5', 'MAFB', 'KLF4', 'CEBPB', 'PPARD'] 0.008768803233650936\n",
      "102 / 1846 : TYMP 5 ['MYC', 'ESR1', 'SMAD3', 'HIF1A', 'CREB5'] 0.004152808532926768\n"
     ]
    },
    {
     "name": "stderr",
     "output_type": "stream",
     "text": [
      "/Users/yijwang-admin/Documents/Research/GRN_PPI/L0GL_PPI_GRN/minFunc/polyinterp.py:40: RuntimeWarning: divide by zero encountered in scalar divide\n",
      "  t = points[notMinPos, 0] - (points[notMinPos, 0] - points[minPos, 0]) * ((points[notMinPos, 2] + d2 - d1) / (points[notMinPos, 2] - points[minPos, 2] + 2 * d2))\n"
     ]
    },
    {
     "name": "stdout",
     "output_type": "stream",
     "text": [
      "103 / 1846 : UGCG 9 ['ESR1', 'MECP2', 'RXRA', 'ESR2', 'NR4A1', 'FOXO3', 'NR2C2', 'BACH1', 'TAF1'] 0.007078418893573023\n",
      "104 / 1846 : STK25 10 ['MYC', 'ESR1', 'SMAD3', 'HIF1A', 'JUN', 'MECP2', 'CEBPB', 'ESR2', 'NR2C2', 'RXRA'] 0.011103157768407066\n",
      "106 / 1846 : MINDY2 10 ['ESR1', 'MYC', 'KLF4', 'HIF1A', 'SMAD3', 'MECP2', 'CEBPB', 'RXRA', 'ESR2', 'NR2C2'] 0.010627742622447815\n",
      "107 / 1846 : FILIP1L 10 ['MYC', 'SMAD3', 'MECP2', 'CEBPB', 'RXRA', 'ESR2', 'NR4A1', 'BCL6', 'CREB5', 'FOXO1'] 0.006184488542410053\n",
      "108 / 1846 : SYNJ2 10 ['MYC', 'ESR1', 'SMAD3', 'HIF1A', 'JUN', 'MECP2', 'RXRA', 'ESR2', 'FOS', 'NR4A1'] 0.008477934329019138\n",
      "109 / 1846 : ACACA 3 ['IRF8', 'KLF4', 'FOXO1'] 0.010321250227753626\n",
      "110 / 1846 : LANCL1 8 ['ESR1', 'CEBPB', 'RXRA', 'ESR2', 'BCL6', 'KLF4', 'MEF2C', 'NR2C2'] 0.014056774044649884\n",
      "111 / 1846 : P2RX7 7 ['HIF1A', 'ESR1', 'NR4A1', 'MYC', 'JUN', 'MECP2', 'SMAD3'] 0.005797605745398395\n",
      "112 / 1846 : CST7 10 ['CREB5', 'KLF4', 'BACH1', 'JUN', 'MECP2', 'MYC', 'ESR1', 'ESR2', 'RUNX2', 'BCL6'] 0.04369580745748791\n",
      "113 / 1846 : OPTN 10 ['MYC', 'ESR1', 'HIF1A', 'SMAD3', 'CREB5', 'JUN', 'KLF4', 'MECP2', 'NR4A1', 'MEF2C'] 0.014591118647873736\n",
      "114 / 1846 : SLC7A6 10 ['MYC', 'ESR1', 'HIF1A', 'SMAD3', 'JUN', 'MECP2', 'CEBPB', 'SPI1', 'ESR2', 'FOS'] 0.00978480083445139\n",
      "115 / 1846 : TNFRSF25 10 ['ESR1', 'MYC', 'JUN', 'HIF1A', 'SMAD3', 'MECP2', 'CEBPB', 'KLF4', 'FOS', 'BCL6'] 0.013520312426720124\n",
      "116 / 1846 : SLC44A1 4 ['KLF4', 'KLF12', 'IRF1', 'BACH1'] 0.004669629293345063\n",
      "117 / 1846 : SPPL2A 3 ['PAX5', 'LEF1', 'SPI1'] 0.010621915578974541\n",
      "118 / 1846 : TFEC 3 ['PAX5', 'AHR', 'MECP2'] 0.0016891359260668472\n",
      "119 / 1846 : ATF3 3 ['ATF3', 'ESR1', 'MYC'] 9.010401971353229e-07\n",
      "120 / 1846 : HCST 7 ['KLF4', 'CREB5', 'HIF1A', 'FOXO1', 'PPARD', 'ESR1', 'ESR2'] 0.013722954990973552\n"
     ]
    },
    {
     "name": "stderr",
     "output_type": "stream",
     "text": [
      "/Users/yijwang-admin/Documents/Research/GRN_PPI/L0GL_PPI_GRN/minFunc/polyinterp.py:40: RuntimeWarning: divide by zero encountered in scalar divide\n",
      "  t = points[notMinPos, 0] - (points[notMinPos, 0] - points[minPos, 0]) * ((points[notMinPos, 2] + d2 - d1) / (points[notMinPos, 2] - points[minPos, 2] + 2 * d2))\n"
     ]
    },
    {
     "name": "stdout",
     "output_type": "stream",
     "text": [
      "121 / 1846 : UBASH3B 8 ['ESR1', 'MYC', 'HIF1A', 'SMAD3', 'JUN', 'MECP2', 'RXRA', 'BCL6'] 0.011975669471025819\n",
      "122 / 1846 : CCND3 9 ['ESR1', 'MYC', 'CREB5', 'CEBPB', 'SMAD3', 'JUN', 'HIF1A', 'MECP2', 'FOS'] 0.008959682490630621\n",
      "123 / 1846 : RPL3 5 ['MYC', 'CEBPB', 'FOXO1', 'NFIL3', 'MAFB'] 0.010355576568021833\n",
      "124 / 1846 : SCML4 10 ['ESR1', 'MYC', 'HIF1A', 'SMAD3', 'JUN', 'KLF4', 'MECP2', 'CEBPB', 'NR4A1', 'ESR2'] 0.011856789358057528\n",
      "125 / 1846 : GPR183 10 ['MYC', 'ESR1', 'HIF1A', 'JUN', 'SMAD3', 'MECP2', 'CEBPB', 'RXRA', 'FOS', 'ESR2'] 0.011444938803071195\n",
      "126 / 1846 : RGS10 6 ['CREB5', 'KLF4', 'JUN', 'FOS', 'SMAD3', 'NR4A1'] 0.010395220533777949\n",
      "127 / 1846 : IL1B 3 ['KLF4', 'ESR1', 'RXRA'] 0.0012153231315496487\n",
      "128 / 1846 : COMMD10 8 ['MYC', 'HIF1A', 'SMAD3', 'MECP2', 'RXRA', 'ESR2', 'BCL6', 'RELB'] 0.009840161465750303\n",
      "129 / 1846 : PYM1 7 ['KLF4', 'PAX5', 'CREB5', 'RXRA', 'ETV6', 'ZFHX3', 'HIF1A'] 0.01224715871526709\n",
      "130 / 1846 : DDB2 9 ['ESR1', 'NR4A1', 'SPI1', 'JUN', 'MYC', 'SMAD3', 'FOS', 'MECP2', 'MXI1'] 0.005871788649637317\n",
      "131 / 1846 : RIC8B 4 ['CREB5', 'KLF4', 'ZEB1', 'ETV6'] 0.011455242056773594\n",
      "132 / 1846 : FGL2 10 ['HIF1A', 'MYC', 'ESR1', 'SMAD3', 'JUN', 'MECP2', 'ESR2', 'RXRA', 'FOS', 'BCL6'] 0.003940334777514759\n",
      "133 / 1846 : SHQ1 10 ['ESR1', 'MYC', 'HIF1A', 'JUN', 'SMAD3', 'MECP2', 'RXRA', 'CEBPB', 'ESR2', 'FOS'] 0.007192445066180494\n",
      "134 / 1846 : PTK2 3 ['NR4A1', 'BACH1', 'NR2C2'] 0.0035446197058304077\n",
      "135 / 1846 : TUT4 9 ['ESR1', 'MYC', 'KLF4', 'SMAD3', 'JUN', 'HIF1A', 'SPI1', 'BACH1', 'BCL6'] 0.008441703569678305\n",
      "137 / 1846 : OXNAD1 5 ['CREB5', 'ESR1', 'CEBPB', 'NR4A1', 'BACH2'] 0.008971557204193901\n",
      "138 / 1846 : ATP6AP2 10 ['KLF4', 'CREB5', 'ESR1', 'HIF1A', 'SMAD3', 'MECP2', 'CEBPB', 'ESR2', 'RXRA', 'NR4A1'] 0.009200199235769332\n",
      "139 / 1846 : CHKA 3 ['RFX2', 'SOX4', 'PAX5'] 0.003654801228507839\n",
      "140 / 1846 : ARHGAP32 9 ['ESR1', 'MYC', 'SMAD3', 'MECP2', 'ESR2', 'RXRA', 'KLF4', 'NR2C2', 'TAF1'] 0.00489812356225171\n",
      "141 / 1846 : TMTC2 9 ['ESR1', 'MECP2', 'ESR2', 'RXRA', 'TAF1', 'ATF3', 'KLF4', 'KLF12', 'RUNX2'] 0.0029272253772204587\n",
      "142 / 1846 : HDAC3 10 ['MYC', 'ESR1', 'HIF1A', 'SMAD3', 'JUN', 'CREB5', 'MECP2', 'CEBPB', 'NR4A1', 'FOS'] 0.006456078099998873\n",
      "143 / 1846 : HLA-DMB 7 ['MEF2C', 'KLF4', 'ESR1', 'MYC', 'MECP2', 'SMAD3', 'BACH1'] 0.0037407489754772067\n",
      "144 / 1846 : MGST2 10 ['ESR1', 'MYC', 'HIF1A', 'SMAD3', 'JUN', 'MECP2', 'CEBPB', 'RXRA', 'ESR2', 'FOS'] 0.004426662625334965\n",
      "145 / 1846 : CD82 10 ['ESR1', 'KLF4', 'HIF1A', 'SMAD3', 'JUN', 'MECP2', 'RXRA', 'SPI1', 'FOS', 'ESR2'] 0.01337631489132386\n",
      "146 / 1846 : MAML3 7 ['ESR1', 'MYC', 'HIF1A', 'JUN', 'MECP2', 'CEBPB', 'NR4A1'] 0.004336137086411104\n",
      "147 / 1846 : ZNF782 8 ['RXRA', 'MYC', 'HIF1A', 'CREB5', 'ESR1', 'JUN', 'SMAD3', 'MECP2'] 0.007026729884106443\n",
      "148 / 1846 : CD2AP 10 ['MECP2', 'ESR2', 'RXRA', 'CREB5', 'TAF1', 'ATF3', 'KLF12', 'KLF4', 'ZEB1', 'SPI1'] 0.007978133734914334\n",
      "149 / 1846 : GNG7 8 ['ESR1', 'MYC', 'HIF1A', 'JUN', 'SMAD3', 'MECP2', 'CEBPB', 'NR4A1'] 0.005671576615301064\n",
      "150 / 1846 : CTNNBIP1 4 ['KLF4', 'SPI1', 'ATF3', 'BACH2'] 0.007616976214641344\n",
      "151 / 1846 : PDE4B 4 ['CREB5', 'SPI1', 'ATF3', 'AHR'] 0.007909554501861682\n",
      "152 / 1846 : PCGF5 6 ['HIF1A', 'NR4A1', 'ESR1', 'SMAD3', 'PPARD', 'MECP2'] 0.005396152193137552\n"
     ]
    },
    {
     "name": "stderr",
     "output_type": "stream",
     "text": [
      "/Users/yijwang-admin/Documents/Research/GRN_PPI/L0GL_PPI_GRN/minFunc/polyinterp.py:40: RuntimeWarning: divide by zero encountered in scalar divide\n",
      "  t = points[notMinPos, 0] - (points[notMinPos, 0] - points[minPos, 0]) * ((points[notMinPos, 2] + d2 - d1) / (points[notMinPos, 2] - points[minPos, 2] + 2 * d2))\n"
     ]
    },
    {
     "name": "stdout",
     "output_type": "stream",
     "text": [
      "153 / 1846 : BCAS2 6 ['CREB5', 'MAFB', 'PPARD', 'BACH1', 'NR4A1', 'PAX5'] 0.010035047555455314\n",
      "154 / 1846 : SMYD3 10 ['MYC', 'ESR1', 'HIF1A', 'SMAD3', 'MECP2', 'RXRA', 'ESR2', 'NR4A1', 'BACH1', 'KLF4'] 0.010758867398603688\n",
      "155 / 1846 : CHMP7 4 ['ZFHX3', 'RXRA', 'LEF1', 'IRF8'] 0.009371586019183618\n",
      "156 / 1846 : MXD1 10 ['MYC', 'ESR1', 'HIF1A', 'SMAD3', 'JUN', 'MECP2', 'CEBPB', 'ESR2', 'RXRA', 'FOS'] 0.006331655873835604\n",
      "157 / 1846 : NR4A3 5 ['PAX5', 'TAF1', 'MYC', 'TFCP2', 'ATF3'] 0.00804080850600929\n",
      "158 / 1846 : MPRIP 10 ['ESR1', 'MYC', 'HIF1A', 'SMAD3', 'JUN', 'CREB5', 'MECP2', 'RXRA', 'SPI1', 'ESR2'] 0.013585026231799552\n",
      "160 / 1846 : DGLUCY 10 ['ESR1', 'MYC', 'SMAD3', 'JUN', 'MECP2', 'CEBPB', 'RXRA', 'ESR2', 'FOS', 'ATF3'] 0.007360436627073159\n",
      "161 / 1846 : MAP3K8 7 ['ESR1', 'MYC', 'CEBPB', 'SPI1', 'KLF4', 'SMAD3', 'HIF1A'] 0.020383381879603247\n",
      "162 / 1846 : ING3 10 ['HIF1A', 'MECP2', 'ESR2', 'RXRA', 'NR4A1', 'TAF1', 'CREB5', 'BACH1', 'ATF3', 'MEF2C'] 0.009300972711380627\n",
      "163 / 1846 : SKAP2 10 ['ESR1', 'MYC', 'HIF1A', 'MECP2', 'RXRA', 'ESR2', 'BCL6', 'TAF1', 'BACH1', 'ATF3'] 0.011073696747851062\n",
      "164 / 1846 : SLC31A1 4 ['FOS', 'CREB5', 'SPI1', 'MYC'] 0.004333849808197494\n",
      "165 / 1846 : FGR 4 ['FOXO1', 'RXRA', 'ZFHX3', 'AHR'] 0.014050871784934511\n",
      "166 / 1846 : OAS1 10 ['MYC', 'ESR1', 'SMAD3', 'MECP2', 'ESR2', 'RXRA', 'FOS', 'BCL6', 'NR4A1', 'NR2C2'] 0.00476846031311726\n",
      "167 / 1846 : CCPG1 6 ['KLF4', 'CEBPB', 'NR4A1', 'RXRA', 'CREB5', 'ESR1'] 0.00914350360644054\n",
      "168 / 1846 : PRKCE 10 ['ESR1', 'SMAD3', 'JUN', 'MECP2', 'RXRA', 'ESR2', 'FOS', 'FOXO3', 'FOXO1', 'BACH1'] 0.005941592025795219\n",
      "169 / 1846 : CBR4 10 ['ESR1', 'JUN', 'MECP2', 'RXRA', 'FOS', 'ESR2', 'BCL6', 'FOXO3', 'NR2C2', 'FOXO1'] 0.007595946479291573\n",
      "170 / 1846 : SLMAP 8 ['MYC', 'ESR1', 'RXRA', 'JUN', 'SMAD3', 'MECP2', 'CEBPB', 'JDP2'] 0.006041307546082817\n",
      "171 / 1846 : LINC00513 3 ['PAX5', 'ZFHX3', 'FOS'] 0.01011778575235179\n",
      "172 / 1846 : RPL27A 10 ['ESR1', 'SMAD3', 'JUN', 'MECP2', 'ESR2', 'RXRA', 'NR4A1', 'BCL6', 'NR2C2', 'TFCP2'] 0.011704791760281287\n",
      "173 / 1846 : ZNF81 10 ['MYC', 'ESR1', 'HIF1A', 'SMAD3', 'JUN', 'MECP2', 'FOS', 'NR4A1', 'ESR2', 'RXRA'] 0.004688927365093919\n",
      "174 / 1846 : CEP250 10 ['ESR1', 'MYC', 'SMAD3', 'HIF1A', 'MECP2', 'NR4A1', 'RXRA', 'ESR2', 'SPI1', 'FOXO3'] 0.0138568926907128\n",
      "175 / 1846 : NPC1 8 ['KLF4', 'CREB5', 'MYC', 'RXRA', 'ESR1', 'HIF1A', 'NR4A1', 'SMAD3'] 0.014631200447185598\n",
      "176 / 1846 : SMIM14 10 ['MYC', 'ESR1', 'MECP2', 'HIF1A', 'SMAD3', 'JUN', 'CEBPB', 'SPI1', 'ESR2', 'CREB5'] 0.007369600309202512\n",
      "178 / 1846 : RBM47 6 ['ESR1', 'SMAD3', 'JUN', 'MECP2', 'CEBPB', 'CREB5'] 0.0008818074329406374\n",
      "179 / 1846 : SMURF1 5 ['KLF4', 'MAFB', 'SPI1', 'LEF1', 'BACH1'] 0.009316220383275306\n",
      "180 / 1846 : ALDH2 10 ['SMAD3', 'MYC', 'ESR1', 'HIF1A', 'MECP2', 'CEBPB', 'ESR2', 'RXRA', 'NR4A1', 'NR2C2'] 0.0039045450308016257\n",
      "181 / 1846 : SLC25A16 10 ['MECP2', 'MYC', 'ESR1', 'HIF1A', 'SMAD3', 'RXRA', 'ESR2', 'BCL6', 'ATF3', 'NR2C2'] 0.007694911509517079\n",
      "183 / 1846 : UTRN 9 ['KLF4', 'ESR1', 'MYC', 'HIF1A', 'SMAD3', 'JUN', 'MECP2', 'CEBPB', 'ESR2'] 0.018214266921250555\n",
      "185 / 1846 : CYB561A3 5 ['KLF4', 'PPARD', 'FOXO1', 'PAX5', 'MYC'] 0.005868063824466382\n",
      "186 / 1846 : ZNF710 7 ['CREB5', 'ESR1', 'MYC', 'JUN', 'MECP2', 'SMAD3', 'HIF1A'] 0.0036581452457972543\n",
      "187 / 1846 : TRIO 10 ['SMAD3', 'MECP2', 'RXRA', 'KLF4', 'TAF1', 'ATF3', 'AHR', 'BACH1', 'KLF12', 'TFCP2'] 0.006337229531765239\n",
      "188 / 1846 : RMND5B 5 ['ESR1', 'FOXO1', 'CEBPB', 'SPI1', 'FOS'] 0.006154423617777292\n",
      "189 / 1846 : TAPT1 10 ['ESR1', 'SMAD3', 'MECP2', 'RXRA', 'ESR2', 'KLF4', 'NR2C2', 'TAF1', 'BACH1', 'KLF12'] 0.0060351546498727355\n",
      "190 / 1846 : CYB5D2 7 ['BCL6', 'SMAD3', 'ESR1', 'RXRA', 'MYC', 'HIF1A', 'NR4A1'] 0.005984800737152088\n",
      "191 / 1846 : ARHGAP18 7 ['BACH1', 'NR4A1', 'CEBPB', 'RXRA', 'SPI1', 'RELB', 'FOXO1'] 0.015955426744546752\n",
      "192 / 1846 : ERCC8 10 ['ESR2', 'ESR1', 'MYC', 'SMAD3', 'MECP2', 'RXRA', 'BCL6', 'KLF4', 'SPI1', 'FOXO1'] 0.007727569012383535\n",
      "193 / 1846 : FHIT 10 ['ESR1', 'MYC', 'SMAD3', 'JUN', 'MECP2', 'CEBPB', 'ESR2', 'RXRA', 'SPI1', 'NR4A1'] 0.012641058356092999\n",
      "194 / 1846 : KLHL8 9 ['ESR1', 'MYC', 'SMAD3', 'JUN', 'MECP2', 'ESR2', 'RXRA', 'FOS', 'BCL6'] 0.004475781954614406\n",
      "195 / 1846 : IQCB1 8 ['ESR1', 'SMAD3', 'ESR2', 'RXRA', 'FOS', 'NR4A1', 'NR2C2', 'FOXO1'] 0.0063628481869444885\n",
      "196 / 1846 : CYSLTR1 10 ['ESR1', 'MYC', 'JUN', 'HIF1A', 'MECP2', 'RXRA', 'ESR2', 'FOS', 'NR4A1', 'BCL6'] 0.00393169115156771\n",
      "197 / 1846 : SLC24A4 3 ['CREB5', 'MYC', 'ESR1'] 0.00024021601519398614\n",
      "198 / 1846 : PIGB 6 ['MYC', 'ESR1', 'JUN', 'SMAD3', 'MECP2', 'CEBPB'] 0.0050266603560247545\n",
      "199 / 1846 : CD79A 9 ['ESR1', 'MYC', 'HIF1A', 'SMAD3', 'JUN', 'MECP2', 'CEBPB', 'ESR2', 'RXRA'] 0.0028593223289661955\n",
      "200 / 1846 : KANTR 7 ['ESR1', 'MYC', 'JUN', 'SMAD3', 'CEBPB', 'MECP2', 'FOXO1'] 0.00620672375015731\n",
      "202 / 1846 : HS2ST1 5 ['SPI1', 'RXRA', 'MECP2', 'BCL6', 'KLF4'] 0.009055023429545289\n",
      "203 / 1846 : TREM1 4 ['CREB5', 'MYC', 'ESR1', 'SMAD3'] 0.00034952042551783237\n",
      "204 / 1846 : FAM168A 9 ['MYC', 'ESR1', 'SMAD3', 'JUN', 'MECP2', 'CEBPB', 'RXRA', 'ESR2', 'SPI1'] 0.009097154135409454\n",
      "205 / 1846 : CD8A 10 ['SPI1', 'KLF4', 'NR4A1', 'CEBPB', 'RFX2', 'AHR', 'ESR1', 'MEF2C', 'IRF8', 'MYC'] 0.028258927192747238\n",
      "206 / 1846 : KLF4 3 ['KLF4', 'HIF1A', 'MECP2'] 2.822432008077515e-06\n",
      "208 / 1846 : ANK3 10 ['MYC', 'ESR1', 'SMAD3', 'MECP2', 'NR4A1', 'ESR2', 'RXRA', 'KLF4', 'BCL6', 'IRF8'] 0.018859512723434425\n",
      "209 / 1846 : ARHGAP10 9 ['ESR1', 'JUN', 'MYC', 'MECP2', 'SMAD3', 'JDP2', 'HIF1A', 'MAFB', 'IRF8'] 0.022602925429777432\n",
      "210 / 1846 : CTSC 5 ['KLF4', 'MEF2C', 'RFX2', 'MXI1', 'CEBPB'] 0.015508183904241898\n",
      "211 / 1846 : RPL14 10 ['ESR1', 'MYC', 'JUN', 'HIF1A', 'SMAD3', 'CEBPB', 'MECP2', 'NR4A1', 'SPI1', 'FOS'] 0.014609701210421834\n",
      "212 / 1846 : TVP23C 10 ['ESR1', 'MECP2', 'SPI1', 'RXRA', 'ESR2', 'BCL6', 'KLF4', 'FOXO1', 'NR2C2', 'KLF12'] 0.014806004321957559\n",
      "213 / 1846 : LEF1-AS1 9 ['SMAD3', 'MYC', 'ESR1', 'HIF1A', 'MECP2', 'RXRA', 'ESR2', 'NR2C2', 'TAF1'] 0.006574146095925357\n",
      "214 / 1846 : CCL5 10 ['SPI1', 'JDP2', 'ATF3', 'MYC', 'ESR1', 'CEBPB', 'HIF1A', 'JUN', 'RXRA', 'SMAD3'] 0.03732951811294488\n",
      "216 / 1846 : SYNJ1 8 ['KLF4', 'HIF1A', 'MYC', 'ESR1', 'RXRA', 'JUN', 'SMAD3', 'NR4A1'] 0.009260210917746918\n",
      "217 / 1846 : RPS3A 10 ['ESR1', 'MECP2', 'CEBPB', 'RXRA', 'ESR2', 'NR4A1', 'FOXO1', 'SPI1', 'ATF3', 'NR2C2'] 0.01469577292067604\n",
      "218 / 1846 : TEX14 9 ['ESR1', 'MYC', 'HIF1A', 'SMAD3', 'JUN', 'MECP2', 'CREB5', 'FOS', 'ESR2'] 0.010871216455008588\n",
      "219 / 1846 : SOD2 6 ['KLF4', 'ESR1', 'MYC', 'SMAD3', 'FOS', 'RXRA'] 0.005966011570023329\n",
      "220 / 1846 : BSDC1 10 ['ESR1', 'MYC', 'KLF4', 'HIF1A', 'SMAD3', 'JUN', 'SPI1', 'MECP2', 'CEBPB', 'RXRA'] 0.006249040579880925\n",
      "221 / 1846 : KIF16B 9 ['ESR1', 'SMAD3', 'JUN', 'MECP2', 'RXRA', 'ESR2', 'BCL6', 'FOS', 'KLF4'] 0.0078221726767775\n",
      "222 / 1846 : GPD2 10 ['MYC', 'ESR1', 'HIF1A', 'SMAD3', 'MECP2', 'ESR2', 'RXRA', 'NR4A1', 'BCL6', 'SPI1'] 0.006729803046532082\n",
      "223 / 1846 : GNB4 9 ['MYC', 'ESR1', 'HIF1A', 'SMAD3', 'MECP2', 'ESR2', 'RXRA', 'NR4A1', 'FOXO3'] 0.0037440467623135916\n",
      "224 / 1846 : PHACTR4 10 ['MYC', 'ESR1', 'HIF1A', 'JUN', 'SMAD3', 'CEBPB', 'MECP2', 'RXRA', 'ESR2', 'FOS'] 0.01055409249624833\n",
      "225 / 1846 : SPATA1 10 ['ESR1', 'MYC', 'SMAD3', 'JUN', 'CEBPB', 'MECP2', 'ESR2', 'RXRA', 'FOS', 'BCL6'] 0.005468516765557876\n",
      "227 / 1846 : RPS27 5 ['SPI1', 'RXRA', 'MYC', 'AHR', 'IRF7'] 0.013933977447469784\n",
      "228 / 1846 : MANBA 10 ['ESR1', 'MYC', 'JUN', 'HIF1A', 'SMAD3', 'MECP2', 'CEBPB', 'RXRA', 'ESR2', 'FOS'] 0.007035997624227783\n",
      "229 / 1846 : EXT2 10 ['CREB5', 'ESR1', 'MYC', 'SMAD3', 'JUN', 'SPI1', 'MECP2', 'CEBPB', 'RXRA', 'ESR2'] 0.00821121886885324\n",
      "230 / 1846 : PIGX 9 ['ESR1', 'MYC', 'HIF1A', 'SMAD3', 'JUN', 'MECP2', 'KLF4', 'ESR2', 'RXRA'] 0.0068628652209724\n",
      "231 / 1846 : IL3RA 10 ['ESR1', 'MYC', 'SMAD3', 'JUN', 'MECP2', 'CEBPB', 'RXRA', 'ESR2', 'FOS', 'BCL6'] 0.0058113922428904615\n",
      "232 / 1846 : PLAAT4 6 ['KLF4', 'MEF2C', 'MAFB', 'MECP2', 'IRF8', 'MYC'] 0.015780771236191895\n",
      "233 / 1846 : LAIR2 8 ['PAX5', 'NR4A1', 'RXRA', 'AHR', 'ESR1', 'RFX2', 'CEBPB', 'TCF7'] 0.026941495630956\n",
      "234 / 1846 : ZNF438 4 ['JDP2', 'ESR1', 'RFX2', 'ETS1'] 0.005024670953026703\n",
      "235 / 1846 : IFT88 6 ['SMAD3', 'NR4A1', 'RXRA', 'MYC', 'ESR1', 'HIF1A'] 0.004977713938760306\n",
      "236 / 1846 : ZFAT 10 ['MYC', 'ESR1', 'SMAD3', 'HIF1A', 'CREB5', 'MECP2', 'CEBPB', 'RXRA', 'ESR2', 'NR4A1'] 0.006010151144129459\n",
      "237 / 1846 : TTC27 7 ['MYC', 'SMAD3', 'MECP2', 'KLF4', 'BCL6', 'PAX5', 'FOXO1'] 0.009063013703080592\n",
      "238 / 1846 : ANO10 8 ['ESR1', 'MYC', 'KLF4', 'HIF1A', 'JUN', 'MECP2', 'SPI1', 'ATF3'] 0.007671726929405373\n",
      "239 / 1846 : ACAD11 9 ['ESR1', 'HIF1A', 'SMAD3', 'MECP2', 'NR4A1', 'RXRA', 'ESR2', 'BCL6', 'KLF4'] 0.008068484109083097\n",
      "240 / 1846 : FAM222B 9 ['MYC', 'ESR1', 'HIF1A', 'SMAD3', 'JUN', 'MECP2', 'CEBPB', 'KLF4', 'NR4A1'] 0.011171051142177646\n",
      "241 / 1846 : SLC49A4 10 ['ESR1', 'MYC', 'SMAD3', 'JUN', 'MECP2', 'CEBPB', 'CREB5', 'FOS', 'ESR2', 'RXRA'] 0.004997663309756971\n",
      "242 / 1846 : LIPE-AS1 6 ['KLF4', 'SPI1', 'NR4A1', 'ESR1', 'NR2C2', 'BCL6'] 0.008561191098789354\n",
      "243 / 1846 : AOAH 10 ['MYC', 'ESR1', 'SMAD3', 'HIF1A', 'JUN', 'MECP2', 'CEBPB', 'RXRA', 'CREB5', 'ATF3'] 0.014747932313195978\n",
      "244 / 1846 : HSPB1 7 ['KLF4', 'CREB5', 'RXRA', 'MYC', 'ESR1', 'NR4A1', 'HIF1A'] 0.01015095400790693\n",
      "245 / 1846 : CCDC146 10 ['MYC', 'ESR1', 'HIF1A', 'SMAD3', 'JUN', 'MECP2', 'RXRA', 'FOS', 'ESR2', 'BCL6'] 0.009101978853158995\n",
      "246 / 1846 : WDR27 10 ['MYC', 'ESR1', 'HIF1A', 'SMAD3', 'JUN', 'SPI1', 'MECP2', 'RXRA', 'KLF4', 'ESR2'] 0.006418407403002423\n",
      "247 / 1846 : ZDHHC14 10 ['MYC', 'ESR1', 'HIF1A', 'JUN', 'SMAD3', 'CEBPB', 'MECP2', 'NR4A1', 'ESR2', 'RXRA'] 0.006623281437821121\n",
      "248 / 1846 : HIF1A 3 ['HIF1A', 'MYC', 'ESR1'] 9.311272005768842e-07\n",
      "249 / 1846 : FGFBP2 6 ['KLF4', 'ZFHX3', 'MEF2C', 'NR4A1', 'SOX4', 'TCF7'] 0.03981354240039188\n",
      "250 / 1846 : RNF144B 10 ['ESR1', 'HIF1A', 'SMAD3', 'JUN', 'MECP2', 'CEBPB', 'ESR2', 'RXRA', 'FOS', 'BCL6'] 0.001987712505605792\n",
      "251 / 1846 : EXOC6B 7 ['KLF4', 'CREB5', 'ESR1', 'JUN', 'SMAD3', 'MECP2', 'BCL6'] 0.01281838124850056\n",
      "252 / 1846 : TAMM41 8 ['ESR1', 'MYC', 'SMAD3', 'JUN', 'MECP2', 'RXRA', 'CEBPB', 'FOXO1'] 0.011171848368346154\n",
      "253 / 1846 : FGD4 10 ['SMAD3', 'MECP2', 'RXRA', 'FOXO3', 'NR2C2', 'FOXO1', 'TAF1', 'BACH1', 'KLF4', 'KLF12'] 0.0012369621000913968\n",
      "254 / 1846 : C2CD3 10 ['ESR1', 'MYC', 'SMAD3', 'HIF1A', 'MECP2', 'CEBPB', 'SPI1', 'RXRA', 'ESR2', 'NR4A1'] 0.009137939774421526\n",
      "255 / 1846 : BCL11A 3 ['KLF4', 'ESR1', 'MECP2'] 0.0002538559015863894\n",
      "256 / 1846 : GCNT1 8 ['KLF4', 'SPI1', 'HIF1A', 'ESR1', 'RXRA', 'JUN', 'SMAD3', 'MECP2'] 0.009514643247178234\n",
      "258 / 1846 : TBC1D4 5 ['RXRA', 'BACH1', 'ESR1', 'MYC', 'SMAD3'] 0.00907544369991242\n",
      "259 / 1846 : VPS54 9 ['ESR1', 'SMAD3', 'MECP2', 'CEBPB', 'ESR2', 'RXRA', 'NR4A1', 'ETV6', 'LEF1'] 0.00848408039710628\n",
      "260 / 1846 : FCRL1 5 ['MYC', 'FOS', 'NR4A1', 'BCL6', 'KLF4'] 0.0003583152616786465\n",
      "261 / 1846 : SHLD2 8 ['JUN', 'ESR1', 'MYC', 'HIF1A', 'SMAD3', 'KLF4', 'MECP2', 'FOS'] 0.011487077215091734\n",
      "262 / 1846 : HLCS 10 ['ESR1', 'MYC', 'HIF1A', 'JUN', 'MECP2', 'RXRA', 'CEBPB', 'ESR2', 'FOS', 'SPI1'] 0.007810436897521915\n",
      "263 / 1846 : ARHGAP31 4 ['BACH1', 'CREB5', 'MAFB', 'KLF4'] 0.005427349564268909\n",
      "264 / 1846 : STX11 9 ['MYC', 'ESR1', 'HIF1A', 'SMAD3', 'JUN', 'MECP2', 'CEBPB', 'ESR2', 'RXRA'] 0.003409797231626015\n",
      "265 / 1846 : INPP5A 4 ['ATF3', 'ESR1', 'MAFB', 'FOXO1'] 0.00471555520430964\n",
      "266 / 1846 : CSGALNACT1 5 ['SPI1', 'LEF1', 'FOS', 'NR4A1', 'MYC'] 0.008882206161907697\n",
      "267 / 1846 : TASP1 8 ['MYC', 'ESR1', 'HIF1A', 'MECP2', 'ESR2', 'RXRA', 'KLF4', 'SPI1'] 0.00897963078269117\n",
      "268 / 1846 : ITPRIP 9 ['MYC', 'ESR1', 'SMAD3', 'JUN', 'MECP2', 'CREB5', 'CEBPB', 'ATF3', 'NR4A1'] 0.013547111240434546\n",
      "269 / 1846 : TMEM135 5 ['KLF4', 'ATF3', 'BCL6', 'PPARD', 'IRF8'] 0.01173271963738616\n",
      "270 / 1846 : DHTKD1 10 ['ESR1', 'MYC', 'HIF1A', 'SMAD3', 'JUN', 'MECP2', 'RXRA', 'ESR2', 'FOS', 'NR4A1'] 0.005750736367352153\n",
      "271 / 1846 : S100A8 10 ['MYC', 'ESR1', 'JUN', 'SMAD3', 'HIF1A', 'MECP2', 'CREB5', 'ESR2', 'RXRA', 'FOS'] 0.00431175588470009\n",
      "272 / 1846 : ZNF169 10 ['ESR1', 'MYC', 'HIF1A', 'SMAD3', 'MECP2', 'RXRA', 'ESR2', 'NR4A1', 'BCL6', 'FOXO1'] 0.005859065747097212\n",
      "273 / 1846 : NF1 6 ['ESR1', 'FOS', 'JDP2', 'LEF1', 'CEBPB', 'TFCP2'] 0.009624532369937886\n",
      "274 / 1846 : CDK19 7 ['ESR1', 'MYC', 'SMAD3', 'JUN', 'SPI1', 'MECP2', 'FOS'] 0.008533020962805992\n",
      "275 / 1846 : ARFGAP3 8 ['ESR1', 'MYC', 'CREB5', 'SMAD3', 'JUN', 'CEBPB', 'MECP2', 'NR4A1'] 0.011340769963684456\n",
      "276 / 1846 : VRK2 9 ['ESR1', 'MECP2', 'CEBPB', 'RXRA', 'ESR2', 'BCL6', 'FOXO1', 'BACH1', 'KLF12'] 0.0073700367762301496\n",
      "277 / 1846 : GPATCH11 10 ['ESR1', 'MYC', 'HIF1A', 'SMAD3', 'CEBPB', 'MECP2', 'ESR2', 'RXRA', 'FOXO3', 'FOXO1'] 0.014611364608483245\n",
      "278 / 1846 : RXRA 3 ['RXRA', 'ESR1', 'MYC'] 9.41859408583305e-07\n",
      "279 / 1846 : PTGER2 7 ['ESR1', 'JDP2', 'HIF1A', 'ATF3', 'MYC', 'MAFB', 'JUN'] 0.012993150557935974\n",
      "280 / 1846 : UBE2W 10 ['HIF1A', 'ESR1', 'MYC', 'SMAD3', 'MECP2', 'ESR2', 'RXRA', 'NR4A1', 'ATF3', 'FOXO3'] 0.008860884584863523\n",
      "281 / 1846 : FRMD4B 10 ['HIF1A', 'MYC', 'ESR1', 'SMAD3', 'JUN', 'MECP2', 'CEBPB', 'ESR2', 'RXRA', 'FOS'] 0.004515145202225067\n",
      "282 / 1846 : MAN1C1 10 ['MYC', 'ESR1', 'SMAD3', 'JUN', 'MECP2', 'ESR2', 'RXRA', 'FOS', 'NR4A1', 'BCL6'] 0.0049919891648003804\n",
      "283 / 1846 : FAM241A 4 ['KLF4', 'RXRA', 'RFX2', 'RUNX2'] 0.008450595089295333\n",
      "284 / 1846 : IFIH1 6 ['HIF1A', 'SMAD3', 'RXRA', 'MECP2', 'BACH1', 'FOXO1'] 0.00579123125216449\n",
      "285 / 1846 : IFI44 7 ['ESR1', 'SMAD3', 'IRF7', 'LEF1', 'IRF1', 'NFIA', 'RUNX3'] 0.008846028881001144\n",
      "286 / 1846 : NFATC2 6 ['FOXO3', 'SMAD3', 'RXRA', 'PAX5', 'HIF1A', 'MYC'] 0.016349787330527308\n",
      "287 / 1846 : EAF2 8 ['ESR1', 'SMAD3', 'RXRA', 'ESR2', 'FOS', 'NR4A1', 'NR2C2', 'FOXO1'] 0.0024195490087695636\n",
      "288 / 1846 : GALM 9 ['ESR1', 'MYC', 'SMAD3', 'HIF1A', 'MECP2', 'JUN', 'CEBPB', 'ESR2', 'FOS'] 0.010253263243600359\n",
      "289 / 1846 : ARSB 10 ['MYC', 'ESR1', 'ESR2', 'SMAD3', 'MECP2', 'BCL6', 'FOXO3', 'NR2C2', 'TAF1', 'BACH1'] 0.004345511970437943\n",
      "290 / 1846 : HERC3 10 ['MYC', 'ESR1', 'SMAD3', 'JUN', 'MECP2', 'RXRA', 'ESR2', 'FOS', 'NR4A1', 'BCL6'] 0.00541434693517858\n",
      "291 / 1846 : PHTF2 10 ['ESR1', 'SMAD3', 'MECP2', 'CEBPB', 'ESR2', 'RXRA', 'NR2C2', 'BACH1', 'TAF1', 'AHR'] 0.01307301296560355\n",
      "292 / 1846 : CASK 10 ['ESR1', 'MYC', 'SMAD3', 'HIF1A', 'MECP2', 'CEBPB', 'NR4A1', 'RXRA', 'ESR2', 'BACH1'] 0.016945474811530012\n",
      "293 / 1846 : DST 10 ['ESR1', 'SMAD3', 'MECP2', 'RXRA', 'ESR2', 'NR4A1', 'FOXO3', 'NR2C2', 'FOXO1', 'TAF1'] 0.001965905609618512\n",
      "294 / 1846 : JDP2 3 ['CREB5', 'MYC', 'ESR1'] 0.0004120887498738652\n",
      "295 / 1846 : DEPDC5 9 ['ESR1', 'MYC', 'HIF1A', 'JUN', 'SMAD3', 'MECP2', 'KLF4', 'FOS', 'ESR2'] 0.006200665094970187\n",
      "296 / 1846 : LCORL 10 ['ESR1', 'MYC', 'HIF1A', 'MECP2', 'ESR2', 'RXRA', 'TAF1', 'BACH1', 'KLF12', 'RUNX2'] 0.005163691867834965\n",
      "297 / 1846 : SETBP1 10 ['ESR1', 'MYC', 'SMAD3', 'JUN', 'CEBPB', 'MECP2', 'RXRA', 'BCL6', 'ESR2', 'SPI1'] 0.015030561770201395\n",
      "298 / 1846 : XRCC4 10 ['ESR1', 'MYC', 'HIF1A', 'SMAD3', 'MECP2', 'CEBPB', 'ESR2', 'RXRA', 'NR4A1', 'NR2C2'] 0.005997588271933839\n",
      "299 / 1846 : GNB5 10 ['ESR1', 'MYC', 'SMAD3', 'HIF1A', 'JUN', 'RXRA', 'MECP2', 'CEBPB', 'SPI1', 'CREB5'] 0.009974431827924663\n"
     ]
    },
    {
     "name": "stderr",
     "output_type": "stream",
     "text": [
      "/Users/yijwang-admin/Documents/Research/GRN_PPI/L0GL_PPI_GRN/minFunc/polyinterp.py:40: RuntimeWarning: divide by zero encountered in scalar divide\n",
      "  t = points[notMinPos, 0] - (points[notMinPos, 0] - points[minPos, 0]) * ((points[notMinPos, 2] + d2 - d1) / (points[notMinPos, 2] - points[minPos, 2] + 2 * d2))\n"
     ]
    },
    {
     "name": "stdout",
     "output_type": "stream",
     "text": [
      "300 / 1846 : RPS20 9 ['ESR1', 'MYC', 'SMAD3', 'JUN', 'MECP2', 'CEBPB', 'SPI1', 'RXRA', 'ESR2'] 0.013884853673485915\n",
      "301 / 1846 : UBE2D1 10 ['ESR1', 'MYC', 'HIF1A', 'MECP2', 'ESR2', 'RXRA', 'FOS', 'NR4A1', 'NR2C2', 'FOXO1'] 0.0046284625797145375\n",
      "302 / 1846 : PICALM 8 ['ESR1', 'MYC', 'SMAD3', 'JUN', 'HIF1A', 'KLF4', 'MECP2', 'FOS'] 0.010975384994361554\n",
      "303 / 1846 : CHD7 9 ['MYC', 'ESR1', 'SMAD3', 'JUN', 'MECP2', 'CEBPB', 'KLF4', 'ESR2', 'FOS'] 0.008620043629625016\n",
      "304 / 1846 : UBTF 7 ['KLF4', 'BCL6', 'HIF1A', 'SPI1', 'MYC', 'RXRA', 'ATF3'] 0.011034610154052283\n",
      "305 / 1846 : ARHGEF3 10 ['MYC', 'ESR1', 'SMAD3', 'JUN', 'HIF1A', 'CEBPB', 'MECP2', 'NR4A1', 'FOS', 'ESR2'] 0.013743551164071716\n",
      "306 / 1846 : ABCB10 10 ['MYC', 'ESR1', 'HIF1A', 'SMAD3', 'MECP2', 'NR4A1', 'ESR2', 'RXRA', 'BACH1', 'ATF3'] 0.008368559705226352\n"
     ]
    },
    {
     "name": "stderr",
     "output_type": "stream",
     "text": [
      "/Users/yijwang-admin/Documents/Research/GRN_PPI/L0GL_PPI_GRN/minFunc/polyinterp.py:40: RuntimeWarning: divide by zero encountered in scalar divide\n",
      "  t = points[notMinPos, 0] - (points[notMinPos, 0] - points[minPos, 0]) * ((points[notMinPos, 2] + d2 - d1) / (points[notMinPos, 2] - points[minPos, 2] + 2 * d2))\n"
     ]
    },
    {
     "name": "stdout",
     "output_type": "stream",
     "text": [
      "307 / 1846 : SUPT3H 10 ['ESR1', 'MYC', 'SMAD3', 'JUN', 'MECP2', 'RXRA', 'ESR2', 'FOS', 'BCL6', 'BACH1'] 0.015043804098414907\n",
      "308 / 1846 : KIAA1958 8 ['MYC', 'ESR1', 'HIF1A', 'SMAD3', 'JUN', 'MECP2', 'ESR2', 'RXRA'] 0.005941331066555746\n",
      "309 / 1846 : S100A6 10 ['ESR1', 'MYC', 'SMAD3', 'HIF1A', 'JUN', 'CEBPB', 'MECP2', 'NR4A1', 'RXRA', 'FOS'] 0.01781310678007296\n",
      "310 / 1846 : WDR6 4 ['KLF4', 'CREB5', 'ESR1', 'AHR'] 0.006148176809597348\n",
      "311 / 1846 : RALGPS2 10 ['MYC', 'ESR1', 'SMAD3', 'MECP2', 'ESR2', 'RXRA', 'FOS', 'NR4A1', 'NR2C2', 'TAF1'] 0.004029754283913926\n",
      "312 / 1846 : LANCL2 10 ['ESR1', 'MYC', 'SMAD3', 'JUN', 'MECP2', 'CREB5', 'RXRA', 'FOS', 'BCL6', 'NR2C2'] 0.0033893001317225496\n",
      "313 / 1846 : TCP11L1 10 ['ESR1', 'SMAD3', 'HIF1A', 'JUN', 'MECP2', 'CEBPB', 'ESR2', 'RXRA', 'FOS', 'NR4A1'] 0.0072522141338976255\n",
      "314 / 1846 : JUN 3 ['JUN', 'MYC', 'ESR1'] 8.764755167620404e-07\n",
      "315 / 1846 : USP28 8 ['SPI1', 'KLF4', 'NR4A1', 'ESR1', 'MYC', 'JUN', 'IRF8', 'NR2C2'] 0.016578496661959683\n",
      "316 / 1846 : GCFC2 7 ['ESR1', 'RXRA', 'SMAD3', 'ESR2', 'BCL6', 'JDP2', 'MAFB'] 0.006598832367405114\n",
      "317 / 1846 : HAVCR2 5 ['PAX5', 'SPI1', 'ETV6', 'MAFB', 'NR4A1'] 0.011865137444951594\n",
      "318 / 1846 : MCTP2 8 ['CREB5', 'ESR1', 'SPI1', 'CEBPB', 'MYC', 'SMAD3', 'MECP2', 'NR4A1'] 0.02234442695392972\n",
      "319 / 1846 : DGKG 7 ['JUN', 'ESR1', 'SMAD3', 'MECP2', 'ESR2', 'RXRA', 'FOS'] 0.003619085318130117\n",
      "320 / 1846 : BMPR2 8 ['MYC', 'ESR1', 'SMAD3', 'MECP2', 'ESR2', 'RXRA', 'KLF4', 'NR4A1'] 0.011421197949145395\n",
      "321 / 1846 : FMN1 9 ['SMAD3', 'ESR2', 'RXRA', 'BCL6', 'NR2C2', 'FOXO1', 'TAF1', 'BACH1', 'AHR'] 0.002722656020467777\n",
      "322 / 1846 : COLGALT1 10 ['MYC', 'ESR1', 'HIF1A', 'JUN', 'SMAD3', 'MECP2', 'CEBPB', 'FOS', 'RXRA', 'CREB5'] 0.007464756611176578\n",
      "323 / 1846 : DNAJC1 10 ['CREB5', 'ESR1', 'MYC', 'SMAD3', 'CEBPB', 'MECP2', 'SPI1', 'KLF4', 'ESR2', 'RXRA'] 0.01554592363094632\n",
      "324 / 1846 : CPQ 10 ['KLF4', 'NR2C2', 'TAF1', 'ATF3', 'BACH1', 'SPI1', 'KLF12', 'TFCP2', 'IRF7', 'PPARD'] 0.009835463868147813\n",
      "325 / 1846 : CCND2 7 ['SPI1', 'CREB5', 'ESR1', 'HIF1A', 'MYC', 'JUN', 'RXRA'] 0.01450010818320243\n",
      "326 / 1846 : HLA-DPA1 10 ['KLF4', 'ESR1', 'MYC', 'HIF1A', 'SMAD3', 'JUN', 'MECP2', 'CEBPB', 'FOS', 'RXRA'] 0.010204087194301832\n",
      "327 / 1846 : PIM2 10 ['MYC', 'ESR1', 'HIF1A', 'SMAD3', 'JUN', 'MECP2', 'CEBPB', 'SPI1', 'ESR2', 'MEF2C'] 0.011408004098389692\n",
      "328 / 1846 : BLK 10 ['MYC', 'ESR1', 'HIF1A', 'SMAD3', 'JUN', 'MECP2', 'ESR2', 'RXRA', 'FOS', 'NR4A1'] 0.0022010195077740687\n",
      "329 / 1846 : XBP1 3 ['XBP1', 'ESR1', 'MYC'] 8.245488539513993e-07\n",
      "330 / 1846 : IRF8 3 ['IRF8', 'ESR1', 'MYC'] 7.405119700334103e-07\n",
      "331 / 1846 : CD28 7 ['MECP2', 'SMAD3', 'ESR1', 'FOXO3', 'KLF4', 'MYC', 'ATF3'] 0.015190402240352261\n",
      "332 / 1846 : OCIAD2 10 ['ESR1', 'SMAD3', 'MECP2', 'KLF4', 'RXRA', 'CEBPB', 'NR4A1', 'ESR2', 'ATF3', 'IRF8'] 0.01069936848006154\n",
      "333 / 1846 : TAFA1 10 ['SMAD3', 'CEBPB', 'RXRA', 'CREB5', 'NR4A1', 'NR2C2', 'TAF1', 'BACH1', 'ATF3', 'KLF12'] 0.011889811462558401\n",
      "334 / 1846 : ARRB1 9 ['ESR1', 'MYC', 'HIF1A', 'SMAD3', 'JUN', 'MECP2', 'RXRA', 'FOS', 'ESR2'] 0.009166641874288643\n",
      "335 / 1846 : FRY 10 ['ESR1', 'MYC', 'JUN', 'MECP2', 'CEBPB', 'BACH1', 'NR4A1', 'ESR2', 'RXRA', 'BCL6'] 0.011636766204047131\n",
      "336 / 1846 : ACTG1 4 ['PAX5', 'MAFB', 'HIF1A', 'KLF4'] 0.02192697451077819\n",
      "337 / 1846 : S100A10 7 ['NR4A1', 'RXRA', 'FOXO3', 'CEBPD', 'RELB', 'BCL6', 'ESR1'] 0.011406484338802578\n",
      "338 / 1846 : TMC8 7 ['CREB5', 'RXRA', 'CEBPB', 'AHR', 'MYC', 'ESR1', 'BACH1'] 0.00983769557499692\n"
     ]
    },
    {
     "name": "stderr",
     "output_type": "stream",
     "text": [
      "/Users/yijwang-admin/Documents/Research/GRN_PPI/L0GL_PPI_GRN/minFunc/polyinterp.py:40: RuntimeWarning: divide by zero encountered in scalar divide\n",
      "  t = points[notMinPos, 0] - (points[notMinPos, 0] - points[minPos, 0]) * ((points[notMinPos, 2] + d2 - d1) / (points[notMinPos, 2] - points[minPos, 2] + 2 * d2))\n"
     ]
    },
    {
     "name": "stdout",
     "output_type": "stream",
     "text": [
      "339 / 1846 : SRRT 8 ['MYC', 'ESR1', 'JUN', 'HIF1A', 'SMAD3', 'MECP2', 'CEBPB', 'SPI1'] 0.006532082974485036\n",
      "340 / 1846 : PLCL1 10 ['MYC', 'ESR1', 'JUN', 'MECP2', 'RXRA', 'NR4A1', 'NR2C2', 'TAF1', 'KLF12', 'RUNX2'] 0.008137129537681738\n",
      "341 / 1846 : LLGL2 10 ['MYC', 'ESR1', 'SMAD3', 'CREB5', 'HIF1A', 'JUN', 'MECP2', 'CEBPB', 'FOS', 'AHR'] 0.016914268966362868\n",
      "342 / 1846 : ITFG1 10 ['MYC', 'SMAD3', 'MECP2', 'CEBPB', 'ESR2', 'BCL6', 'NR4A1', 'TAF1', 'KLF12', 'ZEB1'] 0.005080879230591277\n",
      "343 / 1846 : MAL 10 ['CEBPB', 'ESR1', 'MYC', 'SMAD3', 'MECP2', 'NR4A1', 'ESR2', 'RXRA', 'KLF4', 'SPI1'] 0.014494949793645668\n",
      "344 / 1846 : CHST11 9 ['MYC', 'ESR1', 'KLF4', 'CEBPB', 'HIF1A', 'SMAD3', 'RXRA', 'JUN', 'MECP2'] 0.015954658898451653\n",
      "345 / 1846 : SHLD1 7 ['NR4A1', 'BACH1', 'CREB5', 'PPARD', 'FOXO3', 'ESR1', 'MYC'] 0.00832319409788825\n",
      "346 / 1846 : OSBPL1A 9 ['MYC', 'ESR1', 'HIF1A', 'SMAD3', 'JUN', 'MECP2', 'CEBPB', 'ESR2', 'RXRA'] 0.004434467579112903\n",
      "347 / 1846 : LINC01934 10 ['SPI1', 'ESR1', 'MYC', 'SMAD3', 'JUN', 'MECP2', 'CEBPB', 'ESR2', 'RXRA', 'FOS'] 0.016582827822595913\n",
      "348 / 1846 : CXCR4 10 ['MYC', 'ESR1', 'RXRA', 'HIF1A', 'SMAD3', 'MECP2', 'JUN', 'NR4A1', 'ESR2', 'FOS'] 0.010264948692286937\n",
      "349 / 1846 : TCAIM 10 ['ESR1', 'SMAD3', 'MECP2', 'CREB5', 'ESR2', 'RXRA', 'NR4A1', 'BCL6', 'AHR', 'RUNX2'] 0.008667197491410837\n",
      "350 / 1846 : ETS1 3 ['ETS1', 'MYC', 'ESR1'] 8.558548530090833e-07\n",
      "351 / 1846 : SPIN1 5 ['KLF4', 'ESR1', 'AHR', 'BCL6', 'HLTF'] 0.015059420345070337\n",
      "352 / 1846 : STAT5B 10 ['ESR1', 'MYC', 'SMAD3', 'HIF1A', 'JUN', 'RXRA', 'MECP2', 'CEBPB', 'FOS', 'NR4A1'] 0.010677065007078464\n",
      "353 / 1846 : TNFAIP2 10 ['ESR1', 'MYC', 'SMAD3', 'MECP2', 'ESR2', 'RXRA', 'BCL6', 'CREB5', 'NR2C2', 'TAF1'] 0.0009432334334809633\n",
      "354 / 1846 : ZDHHC13 8 ['ESR1', 'MYC', 'MECP2', 'BCL6', 'RXRA', 'ESR2', 'KLF4', 'NR4A1'] 0.014207717659734602\n",
      "355 / 1846 : RPLP1 10 ['MYC', 'ESR1', 'JUN', 'SMAD3', 'MECP2', 'SPI1', 'CEBPB', 'RXRA', 'ESR2', 'KLF4'] 0.013124002822481565\n",
      "356 / 1846 : RPL13A 9 ['MYC', 'ESR1', 'HIF1A', 'SMAD3', 'JUN', 'MECP2', 'CEBPB', 'SPI1', 'ESR2'] 0.013186364923571834\n",
      "357 / 1846 : BICD1 6 ['JUN', 'SMAD3', 'RXRA', 'MYC', 'FOS', 'NR4A1'] 0.0071570771851840785\n",
      "358 / 1846 : EXT1 8 ['ESR1', 'HIF1A', 'MECP2', 'RXRA', 'ESR2', 'FOXO3', 'BCL6', 'FOXO1'] 0.00495735611645169\n",
      "359 / 1846 : KRCC1 10 ['ESR1', 'HIF1A', 'SMAD3', 'JUN', 'MECP2', 'CEBPB', 'ESR2', 'RXRA', 'NR4A1', 'CREB5'] 0.009610383983601001\n",
      "360 / 1846 : RNF125 9 ['MYC', 'ESR1', 'HIF1A', 'SMAD3', 'MECP2', 'CEBPB', 'BCL6', 'ESR2', 'IRF7'] 0.009933427445007905\n",
      "361 / 1846 : LINC00861 7 ['MYC', 'ESR1', 'JUN', 'SMAD3', 'CEBPB', 'ESR2', 'SPI1'] 0.009284411315893241\n",
      "362 / 1846 : CD8B 8 ['SPI1', 'KLF4', 'NR4A1', 'IRF8', 'RFX2', 'CEBPB', 'AHR', 'MYC'] 0.018437361271313457\n",
      "363 / 1846 : LPCAT2 9 ['JUN', 'FOS', 'BACH1', 'RUNX2', 'SPI1', 'ETV6', 'BACH2', 'BATF', 'MAFB'] 0.0014799885694158383\n",
      "364 / 1846 : SEMA4B 10 ['MYC', 'ESR1', 'HIF1A', 'SMAD3', 'JUN', 'MECP2', 'CEBPB', 'ESR2', 'FOS', 'RXRA'] 0.0058992703327294576\n",
      "365 / 1846 : CSF3R 4 ['MYC', 'ESR1', 'CREB5', 'SMAD3'] 0.0006321624812173076\n",
      "366 / 1846 : C12orf42 8 ['HIF1A', 'JUN', 'MECP2', 'RXRA', 'BCL6', 'NR4A1', 'FOXO3', 'BACH1'] 0.007874293830654187\n",
      "367 / 1846 : WARS2 6 ['NR4A1', 'CREB5', 'RXRA', 'TAF1', 'BCL6', 'ETV6'] 0.01049162391672263\n",
      "368 / 1846 : RNF149 9 ['ESR1', 'MYC', 'HIF1A', 'JUN', 'SMAD3', 'MECP2', 'CEBPB', 'NR4A1', 'ESR2'] 0.0071545877636954806\n",
      "369 / 1846 : UBE2J1 10 ['ESR1', 'MYC', 'SMAD3', 'MECP2', 'CEBPB', 'ESR2', 'RXRA', 'BCL6', 'NR4A1', 'SPI1'] 0.005508788296539492\n",
      "371 / 1846 : PLSCR1 10 ['ESR1', 'SMAD3', 'MECP2', 'RXRA', 'FOXO1', 'NR2C2', 'TAF1', 'KLF12', 'SPI1', 'ZEB1'] 0.00836334156293411\n",
      "372 / 1846 : TSHZ3 10 ['ESR1', 'HIF1A', 'SMAD3', 'JUN', 'MECP2', 'RXRA', 'ESR2', 'FOS', 'ATF3', 'BACH1'] 0.007595370766647358\n",
      "374 / 1846 : SATB1 10 ['ESR1', 'SMAD3', 'JUN', 'CEBPB', 'MECP2', 'ESR2', 'NR4A1', 'RXRA', 'FOS', 'FOXO3'] 0.010481868580931693\n",
      "375 / 1846 : CROCC 10 ['ESR1', 'MYC', 'JUN', 'HIF1A', 'SMAD3', 'MECP2', 'CEBPB', 'RXRA', 'ESR2', 'BCL6'] 0.0035567835157085006\n",
      "376 / 1846 : STMN1 8 ['ESR1', 'SPI1', 'MEF2C', 'SMAD3', 'MYC', 'CEBPB', 'JUN', 'MECP2'] 0.012277974562158046\n",
      "377 / 1846 : CIAPIN1 3 ['KLF4', 'SPI1', 'RFX2'] 0.008919030337905405\n",
      "378 / 1846 : ZFP90 10 ['MYC', 'ESR1', 'HIF1A', 'SMAD3', 'JUN', 'MECP2', 'FOS', 'SPI1', 'RXRA', 'ESR2'] 0.009133667343917757\n",
      "379 / 1846 : ARAF 9 ['MYC', 'ESR1', 'HIF1A', 'SMAD3', 'JUN', 'MECP2', 'BCL6', 'RXRA', 'ESR2'] 0.008861951234606478\n",
      "380 / 1846 : TDP2 5 ['SPI1', 'NR4A1', 'MAFB', 'BCL6', 'PAX5'] 0.009426678096618304\n",
      "381 / 1846 : PCCA 10 ['MYC', 'ESR1', 'HIF1A', 'SMAD3', 'JUN', 'RXRA', 'MECP2', 'ESR2', 'FOS', 'NR4A1'] 0.008630493218440732\n",
      "382 / 1846 : ITPR1 10 ['MYC', 'ESR1', 'HIF1A', 'SMAD3', 'JUN', 'MECP2', 'RXRA', 'ESR2', 'FOS', 'BCL6'] 0.006319624814206216\n",
      "383 / 1846 : PRAM1 4 ['KLF4', 'MYC', 'ESR1', 'HIF1A'] 0.0023431216913691855\n",
      "384 / 1846 : CASC3 9 ['MYC', 'ESR1', 'CEBPB', 'SMAD3', 'HIF1A', 'JUN', 'MECP2', 'FOXO1', 'NR4A1'] 0.006257065567024631\n",
      "385 / 1846 : EPHA4 10 ['ESR1', 'SMAD3', 'HIF1A', 'MECP2', 'KLF4', 'ESR2', 'RXRA', 'FOXO3', 'BCL6', 'LEF1'] 0.010222413588816261\n",
      "386 / 1846 : SWAP70 4 ['SPI1', 'BCL6', 'CREB5', 'BACH1'] 0.005064540132571459\n",
      "387 / 1846 : NDUFAF2 10 ['ESR1', 'MYC', 'SMAD3', 'MECP2', 'ESR2', 'RXRA', 'BCL6', 'FOXO1', 'NR2C2', 'FOXO3'] 0.007859738990657067\n",
      "388 / 1846 : SAMD3 8 ['ESR1', 'CEBPB', 'MYC', 'HIF1A', 'SMAD3', 'MECP2', 'JUN', 'NR4A1'] 0.01772736230206643\n",
      "389 / 1846 : FRMD3 3 ['SPI1', 'FOXO1', 'RXRA'] 0.007155546499383689\n",
      "390 / 1846 : PPP1R12B 7 ['ESR1', 'MYC', 'SMAD3', 'JUN', 'HIF1A', 'MECP2', 'MEF2C'] 0.008449193091212484\n",
      "391 / 1846 : RPS12 10 ['ESR1', 'SMAD3', 'JUN', 'CEBPB', 'MECP2', 'ESR2', 'RXRA', 'SPI1', 'NR4A1', 'NR2C2'] 0.00840148140605351\n",
      "392 / 1846 : IDE 10 ['MYC', 'ESR1', 'HIF1A', 'SMAD3', 'JUN', 'MECP2', 'KLF4', 'RXRA', 'BACH1', 'FOXO1'] 0.008208940476322686\n",
      "393 / 1846 : PATJ 10 ['ESR1', 'SMAD3', 'JUN', 'MECP2', 'RXRA', 'FOS', 'ESR2', 'KLF4', 'CREB5', 'FOXO1'] 0.010191790337373953\n",
      "394 / 1846 : ZNF512 4 ['CREB5', 'JDP2', 'RXRA', 'ATF3'] 0.008101840407396239\n",
      "395 / 1846 : LAP3 9 ['HIF1A', 'ESR1', 'MYC', 'JUN', 'MECP2', 'CEBPB', 'NR4A1', 'RXRA', 'ESR2'] 0.008427313619243626\n",
      "396 / 1846 : ZNF10 9 ['ESR1', 'MYC', 'HIF1A', 'SMAD3', 'JUN', 'RXRA', 'MECP2', 'KLF4', 'ESR2'] 0.004785127497124758\n",
      "397 / 1846 : ORAI2 10 ['MYC', 'ESR1', 'HIF1A', 'SMAD3', 'JUN', 'MECP2', 'ESR2', 'RXRA', 'FOS', 'BCL6'] 0.008395139120753632\n",
      "398 / 1846 : PIP5K1B 10 ['MECP2', 'CEBPB', 'RXRA', 'BCL6', 'TAF1', 'BACH1', 'ATF3', 'KLF12', 'ZEB1', 'PPARA'] 0.0016363100799537693\n",
      "399 / 1846 : TRMO 9 ['MYC', 'ESR1', 'SMAD3', 'HIF1A', 'JUN', 'MECP2', 'NR4A1', 'CEBPB', 'KLF4'] 0.006146343656057679\n",
      "400 / 1846 : NT5C2 10 ['ESR1', 'SMAD3', 'JUN', 'MECP2', 'CEBPB', 'NR4A1', 'RXRA', 'ESR2', 'FOS', 'KLF4'] 0.006583756594661386\n",
      "401 / 1846 : IL2RB 9 ['KLF4', 'CREB5', 'ZFHX3', 'HIF1A', 'SPI1', 'CEBPB', 'AHR', 'BACH1', 'CEBPD'] 0.02134579083422305\n",
      "402 / 1846 : TIGAR 8 ['CREB5', 'NR4A1', 'ESR1', 'MYC', 'HIF1A', 'SMAD3', 'SPI1', 'MECP2'] 0.006833129333012751\n",
      "403 / 1846 : SULF2 10 ['ESR1', 'SMAD3', 'ESR2', 'RXRA', 'NR2C2', 'TAF1', 'BACH1', 'ATF3', 'SPI1', 'RELB'] 0.0024823462150923258\n"
     ]
    },
    {
     "name": "stderr",
     "output_type": "stream",
     "text": [
      "/Users/yijwang-admin/Documents/Research/GRN_PPI/L0GL_PPI_GRN/minFunc/polyinterp.py:40: RuntimeWarning: divide by zero encountered in scalar divide\n",
      "  t = points[notMinPos, 0] - (points[notMinPos, 0] - points[minPos, 0]) * ((points[notMinPos, 2] + d2 - d1) / (points[notMinPos, 2] - points[minPos, 2] + 2 * d2))\n"
     ]
    },
    {
     "name": "stdout",
     "output_type": "stream",
     "text": [
      "404 / 1846 : ANKRD28 9 ['MYC', 'ESR1', 'HIF1A', 'SMAD3', 'JUN', 'CEBPB', 'MECP2', 'BCL6', 'KLF4'] 0.009344960866976877\n",
      "405 / 1846 : ZNF821 8 ['SMAD3', 'ESR1', 'MYC', 'NR4A1', 'JUN', 'SPI1', 'MECP2', 'RXRA'] 0.007767106625506142\n",
      "406 / 1846 : THAP11 8 ['KLF4', 'ESR1', 'NR4A1', 'CREB5', 'MYC', 'JUN', 'HIF1A', 'SMAD3'] 0.009711545286941896\n",
      "407 / 1846 : ATG4C 9 ['MECP2', 'RXRA', 'NR2C2', 'TAF1', 'BACH1', 'KLF4', 'AHR', 'KLF12', 'RUNX2'] 0.006779754835268987\n",
      "408 / 1846 : EBF1 10 ['MYC', 'ESR1', 'SMAD3', 'JUN', 'CEBPB', 'ESR2', 'RXRA', 'FOS', 'NR4A1', 'BCL6'] 0.0013783964925673953\n",
      "409 / 1846 : RRBP1 10 ['MYC', 'ESR1', 'CREB5', 'SMAD3', 'MECP2', 'CEBPB', 'RXRA', 'SPI1', 'NR4A1', 'ESR2'] 0.013780529668242673\n",
      "412 / 1846 : DENND1A 10 ['SMAD3', 'HIF1A', 'MYC', 'MECP2', 'CEBPB', 'ESR2', 'RXRA', 'FOXO3', 'TAF1', 'BACH1'] 0.008721284907433896\n",
      "413 / 1846 : FAM135A 10 ['MECP2', 'ESR1', 'MYC', 'SMAD3', 'RXRA', 'ESR2', 'NR2C2', 'KLF4', 'TAF1', 'KLF12'] 0.006029399009139407\n",
      "414 / 1846 : GRK5 10 ['ESR1', 'MYC', 'SMAD3', 'HIF1A', 'JUN', 'MECP2', 'RXRA', 'ESR2', 'FOS', 'KLF4'] 0.010374426042932997\n",
      "415 / 1846 : IFI30 9 ['MYC', 'ESR1', 'HIF1A', 'SMAD3', 'JUN', 'MECP2', 'CEBPB', 'KLF4', 'RXRA'] 0.004197488345176256\n",
      "416 / 1846 : MSI2 10 ['MYC', 'ESR1', 'HIF1A', 'SMAD3', 'JUN', 'MECP2', 'ESR2', 'RXRA', 'BCL6', 'FOS'] 0.008208259683599171\n",
      "417 / 1846 : DUSP5 7 ['MYC', 'ESR1', 'HIF1A', 'CREB5', 'NR4A1', 'JUN', 'SMAD3'] 0.008210295594112993\n",
      "418 / 1846 : E2F3 3 ['E2F3', 'MYC', 'ESR1'] 9.430308707833139e-07\n",
      "419 / 1846 : PMAIP1 9 ['CREB5', 'ESR1', 'SPI1', 'KLF4', 'JUN', 'HIF1A', 'SMAD3', 'CEBPB', 'ATF3'] 0.01477518172765468\n",
      "420 / 1846 : FTL 6 ['SPI1', 'CREB5', 'ETV6', 'FOXO1', 'NR4A1', 'JUN'] 0.010823873904164618\n",
      "421 / 1846 : PTPRE 3 ['IRF8', 'MEF2C', 'MAFB'] 0.009310363398090904\n",
      "422 / 1846 : NOTCH2 10 ['ESR1', 'ESR2', 'RXRA', 'FOXO1', 'NR2C2', 'BACH1', 'RUNX2', 'SPI1', 'ZEB1', 'HLTF'] 0.0069959758706446586\n",
      "424 / 1846 : CDK6 3 ['MAFB', 'ATF3', 'CREB5'] 0.010961005667410435\n",
      "425 / 1846 : CUX1 3 ['CUX1', 'ESR1', 'MYC'] 8.136384197009014e-07\n",
      "426 / 1846 : LINC02328 9 ['JUN', 'RXRA', 'FOS', 'KLF12', 'SPI1', 'RELB', 'IRF7', 'PPARD', 'MAFB'] 0.009654111663070022\n",
      "428 / 1846 : SNX2 7 ['ESR1', 'HIF1A', 'MECP2', 'RXRA', 'ESR2', 'KLF4', 'TAF1'] 0.006908281221554855\n",
      "429 / 1846 : OXSR1 7 ['CREB5', 'ESR1', 'JUN', 'MYC', 'NR4A1', 'HIF1A', 'FOXO1'] 0.006039617753706868\n",
      "430 / 1846 : SLC35E3 10 ['ESR1', 'MYC', 'HIF1A', 'SMAD3', 'JUN', 'CEBPB', 'MECP2', 'RXRA', 'ESR2', 'BCL6'] 0.012740925516495236\n",
      "431 / 1846 : CD226 10 ['ESR1', 'LEF1', 'CEBPB', 'HIF1A', 'MYC', 'SMAD3', 'RXRA', 'JUN', 'MECP2', 'TAF1'] 0.014457961096761625\n",
      "432 / 1846 : USP36 4 ['SPI1', 'MAFB', 'BCL6', 'NR4A2'] 0.008947563166825994\n",
      "433 / 1846 : CD83 5 ['ESR1', 'MYC', 'SMAD3', 'MECP2', 'KLF4'] 0.00256528292682715\n",
      "434 / 1846 : LATS2 10 ['ESR2', 'ESR1', 'HIF1A', 'SMAD3', 'MECP2', 'RXRA', 'BCL6', 'NR4A1', 'FOXO3', 'KLF4'] 0.0058854563940168815\n",
      "435 / 1846 : EEF1B2 10 ['KLF4', 'RXRA', 'ESR1', 'MECP2', 'SPI1', 'BCL6', 'ESR2', 'MEF2A', 'NR4A1', 'CREB5'] 0.016732423208382693\n",
      "437 / 1846 : SLC16A10 9 ['MYC', 'ESR1', 'SMAD3', 'HIF1A', 'MECP2', 'BCL6', 'FOXO3', 'FOXO1', 'ATF3'] 0.008801384583818204\n",
      "438 / 1846 : RNF135 6 ['KLF4', 'CREB5', 'ESR1', 'MYC', 'JUN', 'CEBPB'] 0.010578529203861466\n",
      "439 / 1846 : RPS6KA2 7 ['MYC', 'ESR1', 'HIF1A', 'SPI1', 'NR4A1', 'SMAD3', 'JUN'] 0.006296971880084136\n",
      "440 / 1846 : FOXO1 3 ['FOXO1', 'ESR1', 'MYC'] 1.68274126645369e-06\n",
      "441 / 1846 : GPHN 10 ['ESR1', 'SMAD3', 'MECP2', 'ESR2', 'RXRA', 'BCL6', 'TAF1', 'BACH1', 'KLF12', 'NFYC'] 0.01749939026481168\n",
      "442 / 1846 : ZEB2 10 ['MYC', 'ESR1', 'SMAD3', 'HIF1A', 'JUN', 'MECP2', 'CEBPB', 'FOS', 'RXRA', 'ESR2'] 0.017273199384434914\n",
      "443 / 1846 : MPP7 10 ['ESR1', 'MYC', 'SMAD3', 'JUN', 'MECP2', 'CEBPB', 'NR4A1', 'BCL6', 'ESR2', 'FOS'] 0.008248806708279405\n",
      "444 / 1846 : SPTBN1 10 ['ESR1', 'MYC', 'SMAD3', 'JUN', 'MECP2', 'RXRA', 'CREB5', 'ESR2', 'FOS', 'AHR'] 0.007563477823055675\n",
      "445 / 1846 : LINC02432 10 ['ESR1', 'SMAD3', 'MECP2', 'ESR2', 'RXRA', 'NR4A1', 'FOXO1', 'CREB5', 'TAF1', 'KLF12'] 0.002834282529178586\n",
      "446 / 1846 : SCO2 4 ['KLF4', 'CREB5', 'MECP2', 'HSF2'] 0.009184360441363573\n",
      "447 / 1846 : CLEC7A 10 ['ESR1', 'HIF1A', 'SMAD3', 'JUN', 'MECP2', 'CEBPB', 'ESR2', 'RXRA', 'FOS', 'CREB5'] 0.001361821272218127\n",
      "448 / 1846 : CCDC66 10 ['MYC', 'ESR1', 'SMAD3', 'JUN', 'HIF1A', 'MECP2', 'RXRA', 'CEBPB', 'SPI1', 'ESR2'] 0.011732635989946795\n",
      "449 / 1846 : CPD 4 ['MAFB', 'TFCP2', 'RXRA', 'MXI1'] 0.00926668792716146\n",
      "450 / 1846 : TET2 10 ['ESR1', 'HIF1A', 'MECP2', 'ESR2', 'RXRA', 'BCL6', 'NR4A1', 'BACH1', 'TAF1', 'KLF12'] 0.010027178536793451\n",
      "451 / 1846 : MYBL1 9 ['NR4A1', 'ESR1', 'CEBPB', 'MAFB', 'MYC', 'HIF1A', 'RXRA', 'BACH1', 'SMAD3'] 0.01752175853713285\n",
      "452 / 1846 : DLG2 10 ['ESR1', 'MYC', 'HIF1A', 'SMAD3', 'JUN', 'MECP2', 'CEBPB', 'RXRA', 'ESR2', 'FOS'] 0.006921247248549829\n",
      "453 / 1846 : ATP11A 6 ['ESR1', 'SMAD3', 'MECP2', 'NR4A1', 'RXRA', 'ESR2'] 0.009825528140072141\n",
      "454 / 1846 : JAK2 4 ['KLF4', 'CEBPB', 'AHR', 'MYC'] 0.0036439031224383303\n",
      "455 / 1846 : FOSB 3 ['FOSB', 'ESR1', 'MYC'] 1.0488110537693914e-06\n",
      "456 / 1846 : DIAPH2 10 ['ESR1', 'SMAD3', 'MECP2', 'RXRA', 'KLF4', 'NR2C2', 'TAF1', 'BACH1', 'KLF12', 'SPI1'] 0.006991290949977991\n",
      "457 / 1846 : TTYH3 10 ['ESR1', 'MYC', 'HIF1A', 'SMAD3', 'JUN', 'MECP2', 'CEBPB', 'ESR2', 'FOS', 'RXRA'] 0.004009592753983523\n",
      "458 / 1846 : USP32 4 ['KLF4', 'CREB5', 'ATF3', 'MYC'] 0.006845192604530272\n",
      "459 / 1846 : DYSF 7 ['KLF4', 'ESR1', 'SMAD3', 'MECP2', 'RXRA', 'ESR2', 'NR4A1'] 0.0022387655992046865\n",
      "460 / 1846 : SPI1 3 ['SPI1', 'ESR1', 'MYC'] 6.390072582582311e-07\n",
      "461 / 1846 : WWOX 10 ['RXRA', 'HIF1A', 'JUN', 'MECP2', 'ESR2', 'FOS', 'TAF1', 'NR2C2', 'BACH1', 'AHR'] 0.013475115231966811\n",
      "462 / 1846 : GFM2 10 ['ESR1', 'MYC', 'SMAD3', 'HIF1A', 'JUN', 'NR4A1', 'MECP2', 'CEBPB', 'RXRA', 'SPI1'] 0.0078943346458409\n",
      "463 / 1846 : SLC9A7 10 ['ESR1', 'SMAD3', 'JUN', 'MECP2', 'ESR2', 'RXRA', 'FOS', 'BCL6', 'NR2C2', 'TAF1'] 0.004661064616612208\n",
      "464 / 1846 : GANC 10 ['ESR1', 'MECP2', 'ESR2', 'RXRA', 'FOS', 'NR4A1', 'BCL6', 'NR2C2', 'FOXO3', 'BACH1'] 0.0033399111647938588\n",
      "465 / 1846 : LIN52 9 ['ESR1', 'MYC', 'HIF1A', 'SMAD3', 'MECP2', 'NR4A1', 'RXRA', 'KLF4', 'ESR2'] 0.007946774676992554\n",
      "466 / 1846 : BCAS4 10 ['MYC', 'ESR1', 'HIF1A', 'SMAD3', 'JUN', 'MECP2', 'ESR2', 'RXRA', 'FOS', 'NR4A1'] 0.008842839669167329\n",
      "467 / 1846 : TMEM176B 10 ['MYC', 'ESR1', 'HIF1A', 'SMAD3', 'JUN', 'MECP2', 'CEBPB', 'ESR2', 'RXRA', 'FOS'] 0.003902256182290593\n"
     ]
    },
    {
     "name": "stderr",
     "output_type": "stream",
     "text": [
      "/Users/yijwang-admin/Documents/Research/GRN_PPI/L0GL_PPI_GRN/minFunc/polyinterp.py:40: RuntimeWarning: divide by zero encountered in scalar divide\n",
      "  t = points[notMinPos, 0] - (points[notMinPos, 0] - points[minPos, 0]) * ((points[notMinPos, 2] + d2 - d1) / (points[notMinPos, 2] - points[minPos, 2] + 2 * d2))\n"
     ]
    },
    {
     "name": "stdout",
     "output_type": "stream",
     "text": [
      "468 / 1846 : KCNQ1 10 ['MYC', 'ESR1', 'HIF1A', 'SMAD3', 'JUN', 'MECP2', 'CEBPB', 'ESR2', 'RXRA', 'FOS'] 0.006911254652778279\n",
      "469 / 1846 : NOLC1 5 ['CREB5', 'NR4A1', 'ESR1', 'MYC', 'MXI1'] 0.007247105104921989\n",
      "470 / 1846 : ANKZF1 6 ['ESR1', 'MAFB', 'FOS', 'RXRA', 'HLTF', 'MEF2A'] 0.01008003615426556\n",
      "471 / 1846 : LINC01278 10 ['KLF4', 'ESR1', 'HIF1A', 'RXRA', 'ESR2', 'NR2C2', 'BCL6', 'BACH1', 'SPI1', 'FOXO1'] 0.01616219604975238\n",
      "472 / 1846 : SNAPC5 9 ['CREB5', 'ESR1', 'HIF1A', 'KLF4', 'SMAD3', 'MECP2', 'BCL6', 'ESR2', 'RXRA'] 0.01583291596621726\n",
      "473 / 1846 : FOXO3 3 ['FOXO3', 'MYC', 'ESR1'] 9.205248132683016e-07\n",
      "474 / 1846 : GBF1 7 ['SPI1', 'MEF2C', 'NR4A1', 'ESR1', 'SMAD3', 'MYC', 'HIF1A'] 0.006425859443022439\n",
      "475 / 1846 : SVIL 9 ['MYC', 'ESR1', 'HIF1A', 'SMAD3', 'JUN', 'MECP2', 'RXRA', 'ESR2', 'FOS'] 0.009607291437517006\n",
      "476 / 1846 : TBC1D14 9 ['MYC', 'ESR1', 'SMAD3', 'HIF1A', 'JUN', 'MECP2', 'CEBPB', 'KLF4', 'NR4A1'] 0.005782901057761814\n",
      "477 / 1846 : SLC2A4RG 7 ['ATF3', 'ESR1', 'SMAD3', 'TAF1', 'SPI1', 'CREB5', 'MYC'] 0.01042349152678168\n",
      "478 / 1846 : TXK 7 ['KLF4', 'SPI1', 'RFX2', 'BACH1', 'MYC', 'TFCP2', 'HIF1A'] 0.02715837744750853\n",
      "479 / 1846 : ATRN 9 ['ESR1', 'MYC', 'SMAD3', 'HIF1A', 'JUN', 'MECP2', 'CEBPB', 'KLF4', 'ESR2'] 0.010832328763841477\n",
      "480 / 1846 : CD14 8 ['MYC', 'ESR1', 'SMAD3', 'HIF1A', 'JUN', 'MECP2', 'CEBPB', 'ESR2'] 0.0029687657601256915\n",
      "481 / 1846 : VTA1 10 ['ESR1', 'SMAD3', 'ESR2', 'RXRA', 'NR4A1', 'BCL6', 'FOXO1', 'NR2C2', 'TAF1', 'NFYC'] 0.007129431179086114\n",
      "482 / 1846 : LST1 7 ['ESR1', 'MYC', 'HIF1A', 'SMAD3', 'JUN', 'MECP2', 'CEBPB'] 0.006263919264186656\n",
      "483 / 1846 : USP53 8 ['CREB5', 'ESR1', 'HIF1A', 'KLF4', 'CEBPB', 'MECP2', 'RXRA', 'ESR2'] 0.011158682725651368\n",
      "484 / 1846 : VNN2 9 ['ESR1', 'SMAD3', 'JUN', 'MECP2', 'CEBPB', 'BCL6', 'ESR2', 'RXRA', 'SPI1'] 0.006892517264292509\n",
      "485 / 1846 : DIPK2A 10 ['ESR1', 'HIF1A', 'SMAD3', 'MECP2', 'ESR2', 'RXRA', 'KLF4', 'NR4A1', 'SPI1', 'FOXO1'] 0.01052700324405951\n",
      "486 / 1846 : UBE2D2 9 ['ESR1', 'MYC', 'HIF1A', 'JUN', 'SMAD3', 'MECP2', 'KLF4', 'FOS', 'NR4A1'] 0.011897583280263083\n",
      "487 / 1846 : GNL2 5 ['CREB5', 'AHR', 'HIF1A', 'PBX3', 'FOXO1'] 0.0049904107084955416\n",
      "489 / 1846 : IL13RA1 3 ['SPI1', 'MEF2C', 'ESR1'] 0.0013197835490306575\n",
      "490 / 1846 : LINC01572 10 ['NR4A1', 'ESR1', 'RXRA', 'NR2C2', 'TAF1', 'BACH1', 'RUNX2', 'RELB', 'NFYC', 'NFIA'] 0.007176393368139443\n",
      "491 / 1846 : TTN 5 ['JDP2', 'CREB5', 'KLF4', 'ESR1', 'BACH1'] 0.007348469115348835\n",
      "492 / 1846 : SLC2A3 10 ['MYC', 'ESR1', 'HIF1A', 'SMAD3', 'JUN', 'MECP2', 'CEBPB', 'FOS', 'RXRA', 'ESR2'] 0.01123319496819302\n",
      "493 / 1846 : SCAI 10 ['MYC', 'ESR1', 'HIF1A', 'SMAD3', 'JUN', 'MECP2', 'CEBPB', 'NR4A1', 'ESR2', 'RXRA'] 0.00766476466438352\n",
      "494 / 1846 : ANKIB1 10 ['ESR1', 'HIF1A', 'SMAD3', 'MECP2', 'RXRA', 'SPI1', 'ESR2', 'NR4A1', 'TAF1', 'FOXO1'] 0.011019253430198526\n",
      "495 / 1846 : NLRC3 10 ['ESR1', 'MYC', 'JUN', 'HIF1A', 'SMAD3', 'MECP2', 'FOS', 'RXRA', 'NR4A1', 'ESR2'] 0.011393016619861316\n",
      "496 / 1846 : ODF2L 10 ['HIF1A', 'RXRA', 'FOXO1', 'TAF1', 'BACH1', 'RUNX2', 'KLF12', 'KLF4', 'IRF7', 'MEF2A'] 0.008962268753119156\n",
      "497 / 1846 : KIF20B 9 ['ESR1', 'MYC', 'SMAD3', 'JUN', 'MECP2', 'CEBPB', 'RXRA', 'ATF3', 'ESR2'] 0.013815219341938212\n",
      "498 / 1846 : HCK 4 ['CREB5', 'MYC', 'ESR1', 'KLF4'] 0.002102213490239729\n",
      "499 / 1846 : ADGRE2 3 ['CREB5', 'NR4A1', 'KLF4'] 0.0015662689578457728\n",
      "500 / 1846 : PRDM1 3 ['PRDM1', 'ESR1', 'MYC'] 5.05645072809619e-07\n",
      "501 / 1846 : NIBAN3 9 ['MYC', 'ESR1', 'HIF1A', 'SMAD3', 'JUN', 'MECP2', 'CEBPB', 'ESR2', 'RXRA'] 0.0017205875094787847\n",
      "502 / 1846 : DGKA 10 ['ESR1', 'MYC', 'HIF1A', 'SMAD3', 'JUN', 'MECP2', 'CEBPB', 'RXRA', 'ESR2', 'FOS'] 0.013601170884960248\n",
      "503 / 1846 : TGFBR3 10 ['ESR1', 'CEBPB', 'MECP2', 'MYC', 'HIF1A', 'JUN', 'SMAD3', 'RXRA', 'BCL6', 'IRF7'] 0.02455155813326057\n",
      "504 / 1846 : CLYBL 5 ['RXRA', 'JDP2', 'MAFB', 'ETV6', 'ATF3'] 0.010103355253070628\n",
      "505 / 1846 : YBX3 10 ['MYC', 'ESR1', 'SMAD3', 'HIF1A', 'JUN', 'MECP2', 'CEBPB', 'RXRA', 'ESR2', 'FOS'] 0.007245197215075508\n",
      "506 / 1846 : CEP290 10 ['MYC', 'HIF1A', 'RXRA', 'KLF4', 'BACH1', 'TAF1', 'CREB5', 'ATF3', 'KLF12', 'TFCP2'] 0.017542210896623923\n",
      "507 / 1846 : PDE4D 7 ['KLF4', 'CREB5', 'SPI1', 'MYC', 'ESR1', 'HIF1A', 'ATF3'] 0.012499000865847314\n",
      "508 / 1846 : PTPN4 7 ['KLF4', 'SPI1', 'NR4A1', 'ESR1', 'JUN', 'SMAD3', 'RXRA'] 0.00925263462496135\n",
      "509 / 1846 : WDFY1 10 ['ESR1', 'MYC', 'HIF1A', 'SMAD3', 'JUN', 'NR4A1', 'MECP2', 'CEBPB', 'KLF4', 'ESR2'] 0.008249604791883794\n",
      "510 / 1846 : CTC1 4 ['BACH1', 'ATF3', 'CUX1', 'FOS'] 0.009483784563335243\n",
      "511 / 1846 : ARHGAP5 10 ['ESR1', 'SMAD3', 'JUN', 'MECP2', 'ESR2', 'RXRA', 'BCL6', 'NR2C2', 'AHR', 'TAF1'] 0.011664968781647788\n",
      "512 / 1846 : DTNB 10 ['ESR1', 'RXRA', 'SMAD3', 'JUN', 'MECP2', 'CEBPB', 'FOS', 'ESR2', 'BCL6', 'TAF1'] 0.013368679311563084\n",
      "513 / 1846 : AKAP10 9 ['ESR1', 'MYC', 'HIF1A', 'SMAD3', 'MECP2', 'ESR2', 'FOXO1', 'NR2C2', 'TAF1'] 0.006908846715032899\n",
      "514 / 1846 : DENND11 6 ['CREB5', 'ESR1', 'JUN', 'FOS', 'SMAD3', 'SPI1'] 0.007140608121275651\n",
      "515 / 1846 : ANPEP 9 ['MYC', 'ESR1', 'SMAD3', 'JUN', 'MECP2', 'CEBPB', 'ESR2', 'RXRA', 'FOS'] 0.0026795177024307496\n",
      "516 / 1846 : FBXO32 7 ['KLF4', 'ESR1', 'NR4A1', 'KLF12', 'FOS', 'MYC', 'JUN'] 0.009897356121375342\n",
      "517 / 1846 : RCAN3 5 ['SPI1', 'JDP2', 'NR4A1', 'JUN', 'FOXO1'] 0.012651491283087818\n",
      "518 / 1846 : MIR181A1HG 8 ['CREB5', 'ESR1', 'ATF3', 'SMAD3', 'JUN', 'MECP2', 'FOS', 'ESR2'] 0.010359207418019946\n",
      "519 / 1846 : RAB6A 10 ['ESR1', 'MYC', 'SMAD3', 'JUN', 'MECP2', 'CEBPB', 'FOS', 'RXRA', 'ESR2', 'NR4A1'] 0.008446688579548934\n",
      "520 / 1846 : LIX1L 10 ['MYC', 'CREB5', 'ESR1', 'JUN', 'HIF1A', 'SMAD3', 'RXRA', 'CEBPB', 'MECP2', 'FOXO1'] 0.009210244864613092\n",
      "521 / 1846 : DSTYK 10 ['ESR1', 'SMAD3', 'JUN', 'RXRA', 'MECP2', 'CEBPB', 'FOS', 'NR4A1', 'ESR2', 'AHR'] 0.00822926799657271\n",
      "522 / 1846 : CARD11 4 ['KLF4', 'ZFHX3', 'MYC', 'IRF8'] 0.01778708996363759\n",
      "523 / 1846 : PTPN12 8 ['KLF4', 'SPI1', 'CEBPB', 'MYC', 'RXRA', 'ESR1', 'FOXO3', 'SMAD3'] 0.020642667861088378\n"
     ]
    },
    {
     "name": "stderr",
     "output_type": "stream",
     "text": [
      "/Users/yijwang-admin/Documents/Research/GRN_PPI/L0GL_PPI_GRN/minFunc/polyinterp.py:40: RuntimeWarning: divide by zero encountered in scalar divide\n",
      "  t = points[notMinPos, 0] - (points[notMinPos, 0] - points[minPos, 0]) * ((points[notMinPos, 2] + d2 - d1) / (points[notMinPos, 2] - points[minPos, 2] + 2 * d2))\n"
     ]
    },
    {
     "name": "stdout",
     "output_type": "stream",
     "text": [
      "524 / 1846 : HNRNPLL 10 ['MYC', 'ESR1', 'HIF1A', 'JUN', 'SMAD3', 'CEBPB', 'MECP2', 'ESR2', 'KLF4', 'FOS'] 0.01721778459343695\n",
      "525 / 1846 : STAMBPL1 10 ['HIF1A', 'MYC', 'ESR1', 'CREB5', 'SMAD3', 'JUN', 'MECP2', 'CEBPB', 'BACH1', 'NR4A1'] 0.010728637280008054\n"
     ]
    },
    {
     "name": "stderr",
     "output_type": "stream",
     "text": [
      "/Users/yijwang-admin/Documents/Research/GRN_PPI/L0GL_PPI_GRN/minFunc/polyinterp.py:40: RuntimeWarning: divide by zero encountered in scalar divide\n",
      "  t = points[notMinPos, 0] - (points[notMinPos, 0] - points[minPos, 0]) * ((points[notMinPos, 2] + d2 - d1) / (points[notMinPos, 2] - points[minPos, 2] + 2 * d2))\n"
     ]
    },
    {
     "name": "stdout",
     "output_type": "stream",
     "text": [
      "526 / 1846 : EXOC6 10 ['ESR1', 'JUN', 'HIF1A', 'SMAD3', 'MECP2', 'RXRA', 'ESR2', 'FOS', 'BCL6', 'NR4A1'] 0.0078015666838601025\n",
      "527 / 1846 : C12orf57 6 ['RXRA', 'ESR1', 'MYC', 'MAFB', 'BCL6', 'CUX1'] 0.00947200251538416\n",
      "528 / 1846 : ABHD5 8 ['MYC', 'ESR1', 'HIF1A', 'MECP2', 'RXRA', 'ESR2', 'FOXO1', 'NR2C2'] 0.0035859883104887415\n",
      "529 / 1846 : TBC1D8 4 ['NR4A1', 'ATF3', 'KLF4', 'ESR1'] 0.004732606896452442\n"
     ]
    },
    {
     "name": "stderr",
     "output_type": "stream",
     "text": [
      "/Users/yijwang-admin/Documents/Research/GRN_PPI/L0GL_PPI_GRN/minFunc/polyinterp.py:40: RuntimeWarning: divide by zero encountered in scalar divide\n",
      "  t = points[notMinPos, 0] - (points[notMinPos, 0] - points[minPos, 0]) * ((points[notMinPos, 2] + d2 - d1) / (points[notMinPos, 2] - points[minPos, 2] + 2 * d2))\n"
     ]
    },
    {
     "name": "stdout",
     "output_type": "stream",
     "text": [
      "530 / 1846 : SNX29 5 ['JDP2', 'KLF4', 'MEF2A', 'LEF1', 'BACH1'] 0.008070991531679996\n",
      "531 / 1846 : PITPNC1 9 ['SPI1', 'ESR1', 'MYC', 'JUN', 'SMAD3', 'HIF1A', 'MECP2', 'FOS', 'CEBPB'] 0.017883607783981934\n",
      "532 / 1846 : EPHX2 9 ['MYC', 'ESR1', 'JUN', 'SMAD3', 'MECP2', 'ESR2', 'RXRA', 'FOS', 'NR4A1'] 0.005263624449726216\n",
      "533 / 1846 : ZEB1 3 ['ZEB1', 'ESR1', 'SMAD3'] 6.777481317137956e-07\n",
      "534 / 1846 : MANF 10 ['ESR1', 'MYC', 'SMAD3', 'MECP2', 'RXRA', 'ESR2', 'ATF3', 'TAF1', 'NR2C2', 'KLF12'] 0.017354815311637507\n",
      "535 / 1846 : ZNF516 10 ['MECP2', 'MYC', 'ESR1', 'SMAD3', 'ESR2', 'RXRA', 'NR4A1', 'NR2C2', 'TAF1', 'AHR'] 0.004620675339108415\n",
      "536 / 1846 : RETREG1 3 ['SPI1', 'MAFB', 'BACH2'] 0.013398503827383926\n",
      "537 / 1846 : MAP3K5 7 ['ESR1', 'SPI1', 'MYC', 'SMAD3', 'RXRA', 'JUN', 'CEBPB'] 0.01560777311625141\n",
      "538 / 1846 : SATB1-AS1 10 ['ESR1', 'SMAD3', 'JUN', 'MECP2', 'CEBPB', 'ESR2', 'RXRA', 'FOS', 'KLF4', 'NR4A1'] 0.009576433508886399\n",
      "539 / 1846 : CD22 3 ['CREB5', 'MYC', 'ESR1'] 0.00034221548563198833\n",
      "540 / 1846 : BBS9 10 ['ESR1', 'SMAD3', 'RXRA', 'MECP2', 'NR4A1', 'CEBPB', 'ESR2', 'SPI1', 'AHR', 'BCL6'] 0.011363765318932689\n",
      "541 / 1846 : NFKBIA 10 ['ESR1', 'HIF1A', 'SMAD3', 'JUN', 'MECP2', 'CEBPB', 'RXRA', 'ESR2', 'FOS', 'NR4A1'] 0.009735939005797218\n",
      "542 / 1846 : OASL 10 ['ESR1', 'MYC', 'SMAD3', 'HIF1A', 'JUN', 'MECP2', 'CEBPB', 'CREB5', 'ESR2', 'RXRA'] 0.015296714166980625\n",
      "543 / 1846 : VCL 10 ['ESR1', 'CREB5', 'MYC', 'JUN', 'HIF1A', 'SMAD3', 'MECP2', 'CEBPB', 'ESR2', 'RXRA'] 0.016158725904340303\n",
      "545 / 1846 : PLEKHM3 9 ['ESR1', 'MYC', 'HIF1A', 'SMAD3', 'CEBPB', 'RXRA', 'MECP2', 'ESR2', 'KLF4'] 0.006594003849281158\n",
      "546 / 1846 : SERINC5 8 ['ESR1', 'SMAD3', 'MECP2', 'ESR2', 'RXRA', 'BCL6', 'FOXO1', 'FOXO3'] 0.012116220231853988\n",
      "547 / 1846 : SBF2 10 ['MYC', 'ESR1', 'JUN', 'HIF1A', 'SMAD3', 'MECP2', 'CEBPB', 'ESR2', 'RXRA', 'FOS'] 0.007303183775131027\n",
      "548 / 1846 : ARRDC3 9 ['MYC', 'ESR1', 'HIF1A', 'SMAD3', 'JUN', 'MECP2', 'CEBPB', 'ESR2', 'RXRA'] 0.010009978530925251\n",
      "549 / 1846 : PLEK 5 ['CREB5', 'MEF2C', 'BCL6', 'LEF1', 'BACH2'] 0.019026526968563145\n",
      "550 / 1846 : RPGR 9 ['ESR2', 'RXRA', 'KLF12', 'RELB', 'TFCP2', 'E2F3', 'NFIA', 'MXI1', 'PATZ1'] 0.005758426219287635\n",
      "551 / 1846 : LAT 5 ['PAX5', 'IRF8', 'ESR1', 'HSF2', 'MAFB'] 0.00947835607028568\n",
      "552 / 1846 : OSBPL3 9 ['KLF4', 'CREB5', 'ESR1', 'MYC', 'JUN', 'BACH1', 'SMAD3', 'MECP2', 'IRF7'] 0.013973534577411234\n",
      "553 / 1846 : ARID5B 10 ['KLF4', 'CREB5', 'ESR1', 'HIF1A', 'SMAD3', 'RXRA', 'MECP2', 'CEBPB', 'MAFB', 'BACH1'] 0.01230967253375613\n",
      "554 / 1846 : GPAT3 4 ['KLF4', 'ESR1', 'MYC', 'SMAD3'] 0.001558817176826096\n",
      "555 / 1846 : SLC39A11 8 ['ESR1', 'MYC', 'SMAD3', 'MECP2', 'KLF4', 'RXRA', 'JDP2', 'CREB5'] 0.006287090188168972\n",
      "556 / 1846 : CHST15 3 ['RXRA', 'MAFB', 'JDP2'] 0.0013437421236489565\n",
      "557 / 1846 : TRAF3IP2-AS1 9 ['ESR1', 'MYC', 'HIF1A', 'SMAD3', 'JUN', 'MECP2', 'CEBPB', 'RXRA', 'ESR2'] 0.004390260580899718\n",
      "558 / 1846 : KIF1B 3 ['NR4A1', 'MYC', 'BCL6'] 0.00878484922195971\n",
      "559 / 1846 : KDM7A 8 ['MYC', 'ESR1', 'HIF1A', 'SMAD3', 'JUN', 'MECP2', 'CEBPB', 'RXRA'] 0.007203580489750828\n",
      "560 / 1846 : CABIN1 9 ['ESR1', 'MYC', 'HIF1A', 'SMAD3', 'MECP2', 'BCL6', 'CREB5', 'ESR2', 'RXRA'] 0.011106546805277694\n",
      "561 / 1846 : MSRA 10 ['ESR1', 'MECP2', 'ESR2', 'BCL6', 'NR2C2', 'TAF1', 'KLF4', 'KLF12', 'PPARD', 'TFCP2'] 0.0075313152743939835\n",
      "562 / 1846 : AFF3 4 ['CEBPB', 'ESR1', 'IRF7', 'NR4A1'] 0.0060007633452377925\n",
      "564 / 1846 : CDC42EP3 10 ['MYC', 'ESR1', 'HIF1A', 'SMAD3', 'JUN', 'MECP2', 'CEBPB', 'ESR2', 'NR4A1', 'RXRA'] 0.009978238645016022\n",
      "565 / 1846 : PRR5 10 ['CREB5', 'RXRA', 'KLF4', 'HIF1A', 'ESR1', 'JUN', 'MYC', 'ATF3', 'CEBPD', 'SMAD3'] 0.02170276626151419\n",
      "566 / 1846 : KIFAP3 5 ['CREB5', 'RXRA', 'ESR1', 'IRF8', 'ETV6'] 0.011692073587027334\n",
      "567 / 1846 : SNX25 10 ['ESR1', 'MYC', 'SMAD3', 'HIF1A', 'MECP2', 'RXRA', 'ESR2', 'FOXO1', 'NR4A1', 'CREB5'] 0.011380990138335231\n",
      "568 / 1846 : GCH1 10 ['MYC', 'ESR1', 'HIF1A', 'SMAD3', 'JUN', 'MECP2', 'CEBPB', 'RXRA', 'ESR2', 'FOS'] 0.005704918498757966\n",
      "569 / 1846 : RPL13 10 ['MYC', 'ESR1', 'HIF1A', 'SMAD3', 'JUN', 'MECP2', 'CEBPB', 'RXRA', 'ESR2', 'FOS'] 0.014037700564608974\n",
      "570 / 1846 : TBXAS1 10 ['MYC', 'ESR1', 'SMAD3', 'JUN', 'MECP2', 'ESR2', 'RXRA', 'FOS', 'NR4A1', 'NR2C2'] 0.007537899963050639\n",
      "571 / 1846 : MTG1 9 ['JDP2', 'CREB5', 'ATF3', 'SPI1', 'MYC', 'ESR1', 'HIF1A', 'SMAD3', 'JUN'] 0.011125756867904388\n",
      "572 / 1846 : RPS14 10 ['MYC', 'ESR1', 'HIF1A', 'JUN', 'SMAD3', 'MECP2', 'CEBPB', 'SPI1', 'RXRA', 'ESR2'] 0.01349190865182807\n",
      "573 / 1846 : OLA1 9 ['ESR1', 'MYC', 'HIF1A', 'SMAD3', 'JUN', 'MECP2', 'ESR2', 'RXRA', 'FOS'] 0.008977044186572539\n",
      "574 / 1846 : FAM13A 10 ['SMAD3', 'MYC', 'ESR1', 'JUN', 'MECP2', 'ESR2', 'FOS', 'RXRA', 'SPI1', 'BCL6'] 0.0038200126453292425\n"
     ]
    },
    {
     "name": "stderr",
     "output_type": "stream",
     "text": [
      "/Users/yijwang-admin/Documents/Research/GRN_PPI/L0GL_PPI_GRN/minFunc/polyinterp.py:40: RuntimeWarning: divide by zero encountered in scalar divide\n",
      "  t = points[notMinPos, 0] - (points[notMinPos, 0] - points[minPos, 0]) * ((points[notMinPos, 2] + d2 - d1) / (points[notMinPos, 2] - points[minPos, 2] + 2 * d2))\n"
     ]
    },
    {
     "name": "stdout",
     "output_type": "stream",
     "text": [
      "575 / 1846 : DUSP1 10 ['MYC', 'ESR1', 'JUN', 'HIF1A', 'SMAD3', 'MECP2', 'CEBPB', 'RXRA', 'ESR2', 'FOS'] 0.0064954870099249015\n",
      "576 / 1846 : MCPH1 10 ['SMAD3', 'MECP2', 'RXRA', 'FOXO3', 'NR2C2', 'FOXO1', 'TAF1', 'KLF12', 'ZEB1', 'PPARA'] 0.00669057825719152\n",
      "577 / 1846 : ANKUB1 10 ['CEBPB', 'MYC', 'ESR1', 'HIF1A', 'MECP2', 'ESR2', 'RXRA', 'KLF4', 'BCL6', 'ATF3'] 0.005453107726599345\n",
      "578 / 1846 : BCL2 9 ['JUN', 'MYC', 'ESR1', 'HIF1A', 'SMAD3', 'MECP2', 'RXRA', 'PAX5', 'BACH2'] 0.01169554546435906\n",
      "579 / 1846 : ANTXR2 6 ['SPI1', 'ATF3', 'RUNX2', 'ESR1', 'KLF4', 'MECP2'] 0.008646913543448194\n",
      "580 / 1846 : FKBP11 8 ['CREB5', 'NR4A1', 'HIF1A', 'BCL6', 'MYC', 'JUN', 'ESR1', 'FOXO1'] 0.010794472217736186\n",
      "581 / 1846 : ACADM 8 ['SMAD3', 'ESR1', 'RXRA', 'CEBPB', 'MECP2', 'BCL6', 'ESR2', 'KLF4'] 0.011898341870581404\n",
      "582 / 1846 : TPCN1 4 ['NR4A1', 'PAX5', 'MEF2C', 'PPARD'] 0.004739098608865279\n",
      "583 / 1846 : JAZF1 10 ['ESR1', 'MYC', 'KLF4', 'HIF1A', 'SMAD3', 'JUN', 'CEBPB', 'MECP2', 'BACH1', 'FOS'] 0.01750570353089056\n",
      "584 / 1846 : ITGA6 10 ['MYC', 'ESR1', 'SMAD3', 'HIF1A', 'JUN', 'MECP2', 'CEBPB', 'ESR2', 'RXRA', 'FOS'] 0.007560808454054516\n",
      "585 / 1846 : PRMT3 6 ['RXRA', 'KLF4', 'CEBPB', 'ESR1', 'FOXO1', 'MYC'] 0.01019484973399098\n",
      "586 / 1846 : ZNF814 8 ['ESR1', 'MYC', 'HIF1A', 'SMAD3', 'MECP2', 'FOS', 'RXRA', 'ESR2'] 0.006502266644333489\n",
      "587 / 1846 : ADAP2 4 ['KLF4', 'ESR1', 'MYC', 'SMAD3'] 0.0027928791470914352\n",
      "588 / 1846 : BACH1 3 ['BACH1', 'ESR1', 'HIF1A'] 1.798656127826709e-06\n",
      "589 / 1846 : CENPK 10 ['ESR1', 'MYC', 'RXRA', 'SMAD3', 'JUN', 'MECP2', 'KLF4', 'MEF2C', 'ESR2', 'NR4A1'] 0.010011698777016721\n",
      "590 / 1846 : RPL38 3 ['IRF7', 'ZFHX3', 'NFIL3'] 0.012237653810897395\n",
      "591 / 1846 : QSOX1 9 ['MYC', 'ESR1', 'JUN', 'MECP2', 'RXRA', 'ESR2', 'NR4A1', 'FOXO3', 'FOXO1'] 0.004946587676073176\n",
      "592 / 1846 : ERGIC1 10 ['ESR1', 'MYC', 'HIF1A', 'SMAD3', 'JUN', 'MECP2', 'NR4A1', 'CEBPB', 'RXRA', 'ESR2'] 0.008850334070790755\n",
      "593 / 1846 : DUSP16 7 ['CREB5', 'HIF1A', 'MYC', 'JUN', 'ESR1', 'SMAD3', 'MECP2'] 0.012445089032169086\n",
      "594 / 1846 : PCNX4 10 ['MYC', 'ESR1', 'HIF1A', 'SMAD3', 'MECP2', 'NR4A1', 'CEBPB', 'ESR2', 'RXRA', 'BCL6'] 0.00915242138877497\n",
      "595 / 1846 : CLEC4E 7 ['SMAD3', 'JUN', 'ESR2', 'RXRA', 'FOS', 'BCL6', 'FOXO1'] 0.003348138973482651\n",
      "596 / 1846 : IGF1R 10 ['MYC', 'ESR1', 'JUN', 'HIF1A', 'SMAD3', 'MECP2', 'CEBPB', 'RXRA', 'ESR2', 'FOS'] 0.007111980254957894\n",
      "597 / 1846 : NEAT1 7 ['ESR1', 'MYC', 'SMAD3', 'JUN', 'HIF1A', 'NR4A1', 'KLF4'] 0.010714108809610774\n",
      "598 / 1846 : QKI 5 ['MYC', 'ESR1', 'RXRA', 'MECP2', 'BACH1'] 0.012541161811334781\n",
      "599 / 1846 : GALK2 9 ['MYC', 'SMAD3', 'MECP2', 'CEBPB', 'ESR2', 'RXRA', 'BCL6', 'FOXO3', 'FOXO1'] 0.01304531374417935\n",
      "600 / 1846 : NAA10 10 ['ESR1', 'MYC', 'HIF1A', 'SMAD3', 'JUN', 'MECP2', 'KLF4', 'RXRA', 'BACH1', 'PAX5'] 0.012221269569819178\n",
      "601 / 1846 : SUSD3 9 ['HIF1A', 'ESR1', 'MYC', 'SMAD3', 'JUN', 'MECP2', 'RXRA', 'FOS', 'ESR2'] 0.007376903025293125\n",
      "602 / 1846 : MYADM 10 ['SMAD3', 'MYC', 'ESR1', 'HIF1A', 'JUN', 'MECP2', 'CEBPB', 'ESR2', 'RXRA', 'FOS'] 0.004927252692150689\n",
      "603 / 1846 : OXCT1 7 ['RXRA', 'ESR1', 'MYC', 'SPI1', 'SMAD3', 'MECP2', 'ESR2'] 0.01511657303827825\n"
     ]
    },
    {
     "name": "stderr",
     "output_type": "stream",
     "text": [
      "/Users/yijwang-admin/Documents/Research/GRN_PPI/L0GL_PPI_GRN/minFunc/polyinterp.py:40: RuntimeWarning: divide by zero encountered in scalar divide\n",
      "  t = points[notMinPos, 0] - (points[notMinPos, 0] - points[minPos, 0]) * ((points[notMinPos, 2] + d2 - d1) / (points[notMinPos, 2] - points[minPos, 2] + 2 * d2))\n"
     ]
    },
    {
     "name": "stdout",
     "output_type": "stream",
     "text": [
      "604 / 1846 : GRK3 10 ['ESR1', 'MYC', 'SMAD3', 'JUN', 'MECP2', 'CEBPB', 'ESR2', 'RXRA', 'FOS', 'KLF4'] 0.0015714724729058952\n",
      "605 / 1846 : LARS2 10 ['ESR1', 'HIF1A', 'MECP2', 'CEBPB', 'RXRA', 'ESR2', 'BCL6', 'FOXO3', 'FOXO1', 'BACH1'] 0.005786496489814955\n",
      "606 / 1846 : RPL34 7 ['SPI1', 'KLF4', 'MECP2', 'FOXO1', 'RXRA', 'NR4A1', 'NR2C2'] 0.012552090246982792\n",
      "607 / 1846 : RAB28 8 ['ESR1', 'HIF1A', 'SMAD3', 'JUN', 'CREB5', 'MECP2', 'RXRA', 'ESR2'] 0.009127932425731282\n",
      "608 / 1846 : NEDD9 9 ['MYC', 'ESR1', 'JUN', 'SMAD3', 'MECP2', 'CEBPB', 'MAFB', 'RXRA', 'CREB5'] 0.008947946612589807\n",
      "609 / 1846 : SERPINA1 8 ['ESR1', 'KLF4', 'MECP2', 'ESR2', 'NR2C2', 'FOXO3', 'TAF1', 'AHR'] 0.0026367977566876272\n",
      "610 / 1846 : GZMA 6 ['MAFB', 'JDP2', 'FOXO1', 'SOX4', 'PPARD', 'CEBPD'] 0.019800730071992928\n",
      "611 / 1846 : MIS18BP1 10 ['MYC', 'HIF1A', 'MECP2', 'CEBPB', 'RXRA', 'ESR2', 'BCL6', 'NR4A1', 'FOXO3', 'NR2C2'] 0.010670197569513054\n",
      "612 / 1846 : ERLEC1 5 ['MAFB', 'IRF8', 'PAX5', 'KLF4', 'MEF2C'] 0.010789506897278344\n",
      "613 / 1846 : TMEM263 10 ['ESR1', 'MYC', 'HIF1A', 'SMAD3', 'JUN', 'MECP2', 'RXRA', 'ESR2', 'CREB5', 'ATF3'] 0.010824360349436063\n",
      "614 / 1846 : CARS2 9 ['ESR1', 'MYC', 'MECP2', 'HIF1A', 'SMAD3', 'JUN', 'CEBPB', 'FOXO1', 'RXRA'] 0.0037273478724206563\n",
      "615 / 1846 : GPATCH2 6 ['MECP2', 'RXRA', 'BCL6', 'NR2C2', 'TAF1', 'RFX2'] 0.007352310061969652\n",
      "616 / 1846 : USF3 10 ['KLF4', 'NR4A1', 'MYC', 'ESR1', 'SMAD3', 'AHR', 'JUN', 'SPI1', 'RXRA', 'MECP2'] 0.00808720865457054\n",
      "617 / 1846 : TRPM2 6 ['ESR1', 'MYC', 'HIF1A', 'SMAD3', 'JUN', 'MECP2'] 0.006280107232321532\n",
      "618 / 1846 : AUTS2 7 ['CREB5', 'SPI1', 'KLF4', 'MYC', 'ESR1', 'KLF12', 'ATF3'] 0.012926315115187555\n",
      "619 / 1846 : CCR2 6 ['MYC', 'ESR1', 'RXRA', 'NR4A1', 'CREB5', 'SMAD3'] 0.004100520230119862\n"
     ]
    },
    {
     "name": "stderr",
     "output_type": "stream",
     "text": [
      "/Users/yijwang-admin/Documents/Research/GRN_PPI/L0GL_PPI_GRN/minFunc/polyinterp.py:40: RuntimeWarning: divide by zero encountered in scalar divide\n",
      "  t = points[notMinPos, 0] - (points[notMinPos, 0] - points[minPos, 0]) * ((points[notMinPos, 2] + d2 - d1) / (points[notMinPos, 2] - points[minPos, 2] + 2 * d2))\n"
     ]
    },
    {
     "name": "stdout",
     "output_type": "stream",
     "text": [
      "621 / 1846 : PTPN22 8 ['KLF4', 'RXRA', 'CEBPB', 'NR4A1', 'HIF1A', 'SPI1', 'MEF2C', 'BACH1'] 0.01640870294912403\n",
      "622 / 1846 : CHPT1 6 ['CREB5', 'ESR1', 'JUN', 'SPI1', 'SMAD3', 'ATF3'] 0.007120631191320542\n",
      "623 / 1846 : ADCY9 10 ['ESR1', 'MYC', 'HIF1A', 'SMAD3', 'JUN', 'CEBPB', 'MECP2', 'KLF4', 'ESR2', 'BCL6'] 0.012631407526548837\n",
      "624 / 1846 : RNF168 10 ['ESR1', 'MYC', 'HIF1A', 'SMAD3', 'JUN', 'MECP2', 'ESR2', 'BCL6', 'RXRA', 'FOS'] 0.010598429151870517\n",
      "625 / 1846 : SLC16A7 10 ['ESR1', 'RXRA', 'MECP2', 'CEBPB', 'FOS', 'BCL6', 'BACH1', 'TAF1', 'RUNX2', 'KLF4'] 0.011433206349215061\n",
      "626 / 1846 : BTRC 10 ['ESR1', 'MYC', 'HIF1A', 'SMAD3', 'MECP2', 'RXRA', 'ESR2', 'BCL6', 'BACH1', 'KLF4'] 0.011693573911853765\n",
      "627 / 1846 : GAS7 6 ['MYC', 'ESR1', 'JUN', 'HIF1A', 'SMAD3', 'MECP2'] 0.00888202944571284\n",
      "628 / 1846 : ABCG1 10 ['ESR1', 'MYC', 'SMAD3', 'JUN', 'RXRA', 'MECP2', 'CEBPB', 'AHR', 'NR4A1', 'ESR2'] 0.0074742836795966125\n",
      "629 / 1846 : CHRM3-AS2 9 ['ESR1', 'RUNX2', 'PPARA', 'ETV6', 'RUNX3', 'ETS1', 'MAF', 'NFAT5', 'ZFX'] 0.00697855730689172\n",
      "630 / 1846 : TRAF3 10 ['MYC', 'ESR1', 'SMAD3', 'HIF1A', 'JUN', 'MECP2', 'CEBPB', 'RXRA', 'ESR2', 'FOS'] 0.009482555754227788\n",
      "631 / 1846 : PDE6D 5 ['ATF3', 'SPI1', 'MEF2C', 'NR4A1', 'JUN'] 0.01155705861265232\n",
      "632 / 1846 : ZNF490 4 ['FOXO1', 'CEBPB', 'MEF2C', 'HIF1A'] 0.010865478678365657\n",
      "633 / 1846 : SGPP1 6 ['CEBPB', 'SPI1', 'ESR1', 'JDP2', 'MYC', 'HIF1A'] 0.006873039287219911\n",
      "634 / 1846 : INTS4 10 ['ESR1', 'KLF4', 'JUN', 'SMAD3', 'MECP2', 'CEBPB', 'RXRA', 'ESR2', 'CREB5', 'NR4A1'] 0.01036647935325067\n",
      "635 / 1846 : ITSN1 5 ['MYC', 'ESR1', 'SMAD3', 'JUN', 'CREB5'] 0.005841733701013567\n",
      "636 / 1846 : YJU2 7 ['CREB5', 'NR4A1', 'CEBPB', 'MYC', 'ESR1', 'SPI1', 'JUN'] 0.009856519786238783\n",
      "637 / 1846 : MAGED1 8 ['MYC', 'ESR2', 'RXRA', 'NR4A1', 'ATF3', 'BCL6', 'NR2C2', 'BACH1'] 0.008059062429605992\n"
     ]
    },
    {
     "name": "stderr",
     "output_type": "stream",
     "text": [
      "/Users/yijwang-admin/Documents/Research/GRN_PPI/L0GL_PPI_GRN/minFunc/polyinterp.py:40: RuntimeWarning: divide by zero encountered in scalar divide\n",
      "  t = points[notMinPos, 0] - (points[notMinPos, 0] - points[minPos, 0]) * ((points[notMinPos, 2] + d2 - d1) / (points[notMinPos, 2] - points[minPos, 2] + 2 * d2))\n"
     ]
    },
    {
     "name": "stdout",
     "output_type": "stream",
     "text": [
      "638 / 1846 : PDK3 5 ['KLF4', 'BACH1', 'ZFHX3', 'RXRA', 'BCL6'] 0.0064646936169572835\n",
      "639 / 1846 : CYSTM1 10 ['MYC', 'ESR1', 'HIF1A', 'SMAD3', 'JUN', 'MECP2', 'CEBPB', 'ESR2', 'RXRA', 'FOS'] 0.006162879400433461\n",
      "640 / 1846 : LRIG1 9 ['CREB5', 'RXRA', 'ESR1', 'MYC', 'SPI1', 'MECP2', 'JUN', 'HIF1A', 'SMAD3'] 0.013152882619741783\n",
      "642 / 1846 : SLCO3A1 10 ['ESR1', 'MYC', 'SMAD3', 'JUN', 'MECP2', 'CEBPB', 'RXRA', 'ESR2', 'FOS', 'NR4A1'] 0.010983586360373821\n",
      "643 / 1846 : HCFC2 8 ['MYC', 'ESR1', 'SMAD3', 'HIF1A', 'NR4A1', 'MECP2', 'CREB5', 'ESR2'] 0.00873509388312964\n",
      "644 / 1846 : GIMAP5 9 ['MYC', 'ESR1', 'SMAD3', 'HIF1A', 'JUN', 'JDP2', 'NR4A1', 'SPI1', 'IRF8'] 0.009277390038677466\n",
      "645 / 1846 : NOSIP 10 ['SMAD3', 'ESR1', 'MYC', 'HIF1A', 'JUN', 'MECP2', 'CEBPB', 'RXRA', 'ESR2', 'CREB5'] 0.011649642655124888\n",
      "646 / 1846 : NCALD 10 ['ESR1', 'RXRA', 'SMAD3', 'MECP2', 'KLF4', 'AHR', 'NR4A1', 'CREB5', 'ESR2', 'BCL6'] 0.015757755165793072\n",
      "647 / 1846 : EVA1C 6 ['LEF1', 'NR4A1', 'MAFB', 'KLF4', 'CEBPD', 'IRF1'] 0.012973406235356305\n",
      "648 / 1846 : DHX57 10 ['MYC', 'ESR1', 'HIF1A', 'SMAD3', 'JUN', 'MECP2', 'CEBPB', 'ESR2', 'RXRA', 'FOS'] 0.00359616242468868\n",
      "649 / 1846 : KLRD1 10 ['CREB5', 'ESR1', 'RXRA', 'MEF2C', 'ATF3', 'KLF4', 'NR4A1', 'MECP2', 'FOS', 'MYC'] 0.05014669441525449\n",
      "650 / 1846 : TIPARP 9 ['MYC', 'ESR1', 'SMAD3', 'JUN', 'CEBPB', 'MECP2', 'FOS', 'RXRA', 'ESR2'] 0.006344711052038871\n",
      "651 / 1846 : FARP2 7 ['ESR1', 'MYC', 'HIF1A', 'SMAD3', 'JUN', 'MECP2', 'CEBPB'] 0.005392351980564033\n",
      "652 / 1846 : SIPA1L1 10 ['SMAD3', 'JUN', 'MECP2', 'RXRA', 'NR4A1', 'ESR2', 'BCL6', 'AHR', 'NR2C2', 'TAF1'] 0.011156662246511366\n",
      "653 / 1846 : CDC25B 10 ['ESR1', 'MYC', 'CEBPB', 'RXRA', 'HIF1A', 'JUN', 'SMAD3', 'FOXO3', 'NR4A1', 'MECP2'] 0.014370665696424603\n",
      "654 / 1846 : HERC6 9 ['SMAD3', 'MYC', 'ESR1', 'JUN', 'MECP2', 'CREB5', 'SPI1', 'ESR2', 'RXRA'] 0.012457897034547274\n",
      "655 / 1846 : ANKAR 8 ['MYC', 'ESR1', 'RXRA', 'SMAD3', 'JUN', 'CREB5', 'PAX5', 'CEBPB'] 0.007808383734232752\n",
      "656 / 1846 : IRF1 3 ['IRF1', 'ESR1', 'MYC'] 1.895359442782736e-06\n",
      "657 / 1846 : ZBTB8OS 10 ['MYC', 'ESR1', 'SMAD3', 'JUN', 'CEBPB', 'MECP2', 'FOS', 'ESR2', 'RXRA', 'NR4A1'] 0.007438923313582143\n",
      "658 / 1846 : PSMA1 9 ['ESR1', 'MYC', 'NR4A1', 'CREB5', 'SMAD3', 'JUN', 'MECP2', 'CEBPB', 'ESR2'] 0.007901387419306362\n",
      "659 / 1846 : GTDC1 10 ['ESR1', 'MYC', 'CREB5', 'HIF1A', 'JUN', 'SMAD3', 'RXRA', 'MECP2', 'CEBPB', 'NR4A1'] 0.0097276983604078\n",
      "660 / 1846 : SPOCK2 10 ['ESR1', 'MYC', 'HIF1A', 'SMAD3', 'JUN', 'MECP2', 'CEBPB', 'ESR2', 'CREB5', 'FOS'] 0.01062593208754249\n",
      "661 / 1846 : SCFD2 10 ['MYC', 'SMAD3', 'MECP2', 'ESR2', 'RXRA', 'BCL6', 'NR4A1', 'TAF1', 'AHR', 'BACH1'] 0.010488319379280903\n",
      "662 / 1846 : RPL30 10 ['ESR1', 'MYC', 'HIF1A', 'SMAD3', 'JUN', 'MECP2', 'RXRA', 'ESR2', 'SPI1', 'NR4A1'] 0.01021270702108572\n",
      "663 / 1846 : RELB 3 ['RELB', 'MYC', 'ESR1'] 1.9409165889443765e-06\n",
      "664 / 1846 : PSAP 4 ['KLF4', 'RXRA', 'IRF8', 'BACH1'] 0.008422126686386328\n",
      "665 / 1846 : MOSMO 9 ['ESR1', 'MYC', 'JUN', 'SMAD3', 'MECP2', 'CEBPB', 'NR4A1', 'RXRA', 'ESR2'] 0.007922764674974015\n",
      "667 / 1846 : CDKN1C 7 ['MYC', 'ESR1', 'SMAD3', 'HIF1A', 'JUN', 'MECP2', 'RXRA'] 0.002849702488309855\n",
      "668 / 1846 : ACSL1 9 ['MECP2', 'ESR1', 'MYC', 'SMAD3', 'ESR2', 'RXRA', 'NR4A1', 'BCL6', 'KLF4'] 0.0023308838439096377\n",
      "669 / 1846 : RAB3IP 10 ['MYC', 'ESR1', 'SMAD3', 'HIF1A', 'MECP2', 'CEBPB', 'RXRA', 'ESR2', 'BCL6', 'CREB5'] 0.004294717880051186\n",
      "670 / 1846 : EFCAB2 6 ['CREB5', 'ESR1', 'MYC', 'CEBPB', 'SPI1', 'RXRA'] 0.004574082490713254\n",
      "671 / 1846 : WDFY4 6 ['ESR1', 'MECP2', 'ESR2', 'RXRA', 'KLF4', 'NR2C2'] 0.0008276025540321034\n",
      "672 / 1846 : CTSD 9 ['MYC', 'ESR1', 'HIF1A', 'SMAD3', 'JUN', 'MECP2', 'RXRA', 'LEF1', 'FOXO3'] 0.015596814618444036\n",
      "673 / 1846 : ABCA7 10 ['ESR1', 'MYC', 'HIF1A', 'SMAD3', 'JUN', 'CEBPB', 'MECP2', 'CREB5', 'RXRA', 'ESR2'] 0.008026140391730434\n",
      "674 / 1846 : NLK 10 ['ESR1', 'HIF1A', 'SMAD3', 'JUN', 'MECP2', 'RXRA', 'ESR2', 'FOS', 'NR4A1', 'NR2C2'] 0.011357113814924696\n"
     ]
    },
    {
     "name": "stderr",
     "output_type": "stream",
     "text": [
      "/Users/yijwang-admin/Documents/Research/GRN_PPI/L0GL_PPI_GRN/minFunc/polyinterp.py:40: RuntimeWarning: divide by zero encountered in scalar divide\n",
      "  t = points[notMinPos, 0] - (points[notMinPos, 0] - points[minPos, 0]) * ((points[notMinPos, 2] + d2 - d1) / (points[notMinPos, 2] - points[minPos, 2] + 2 * d2))\n"
     ]
    },
    {
     "name": "stdout",
     "output_type": "stream",
     "text": [
      "676 / 1846 : CBLB 9 ['ESR1', 'JUN', 'FOS', 'KLF4', 'RXRA', 'NR4A1', 'ESR2', 'BCL6', 'CREB5'] 0.014318261443471831\n",
      "677 / 1846 : NARS2 10 ['MYC', 'ESR1', 'SMAD3', 'JUN', 'MECP2', 'SPI1', 'KLF4', 'RXRA', 'ESR2', 'FOS'] 0.011766744404631121\n",
      "678 / 1846 : RECK 6 ['RXRA', 'JUN', 'ETV6', 'ESR1', 'HIF1A', 'MECP2'] 0.011259192390613158\n",
      "679 / 1846 : CSF1R 7 ['ESR1', 'HIF1A', 'SMAD3', 'JUN', 'MECP2', 'CEBPB', 'KLF4'] 0.003334131946356643\n",
      "680 / 1846 : ST3GAL3 6 ['NR4A1', 'SPI1', 'MYC', 'RXRA', 'ETV6', 'ESR1'] 0.009971609013464958\n",
      "681 / 1846 : AGTPBP1 9 ['MYC', 'ESR1', 'HIF1A', 'SMAD3', 'MECP2', 'RXRA', 'ESR2', 'NR4A1', 'BACH1'] 0.009975633752086597\n",
      "682 / 1846 : RPS4X 8 ['MYC', 'RXRA', 'ESR1', 'FOS', 'JUN', 'SMAD3', 'MECP2', 'HIF1A'] 0.015201549832505544\n"
     ]
    },
    {
     "name": "stderr",
     "output_type": "stream",
     "text": [
      "/Users/yijwang-admin/Documents/Research/GRN_PPI/L0GL_PPI_GRN/minFunc/polyinterp.py:40: RuntimeWarning: divide by zero encountered in scalar divide\n",
      "  t = points[notMinPos, 0] - (points[notMinPos, 0] - points[minPos, 0]) * ((points[notMinPos, 2] + d2 - d1) / (points[notMinPos, 2] - points[minPos, 2] + 2 * d2))\n"
     ]
    },
    {
     "name": "stdout",
     "output_type": "stream",
     "text": [
      "683 / 1846 : IFI6 10 ['MYC', 'ESR1', 'HIF1A', 'SMAD3', 'JUN', 'MECP2', 'CEBPB', 'CREB5', 'NR4A1', 'ESR2'] 0.010690528778993905\n",
      "684 / 1846 : HLA-DMA 8 ['ESR1', 'MYC', 'JUN', 'SMAD3', 'MECP2', 'CEBPB', 'ESR2', 'RXRA'] 0.005150739061218636\n",
      "685 / 1846 : ANKH 7 ['CREB5', 'ESR1', 'SPI1', 'SMAD3', 'MYC', 'JUN', 'BCL6'] 0.01096226266772987\n",
      "686 / 1846 : ARHGAP15 10 ['SMAD3', 'HIF1A', 'JUN', 'CEBPB', 'FOS', 'RXRA', 'NR4A1', 'KLF4', 'BACH1', 'BCL6'] 0.02093009566039706\n",
      "687 / 1846 : EMSY 3 ['ATF3', 'KLF4', 'CREB5'] 0.008807445296658818\n",
      "688 / 1846 : LYPLAL1 10 ['ESR1', 'HIF1A', 'CEBPB', 'ESR2', 'RXRA', 'NR2C2', 'TAF1', 'AHR', 'SPI1', 'RELB'] 0.00881179633965178\n",
      "689 / 1846 : MGAT4A 9 ['MYC', 'ESR1', 'HIF1A', 'SMAD3', 'MECP2', 'JUN', 'CEBPB', 'SPI1', 'ATF3'] 0.013587442510536826\n",
      "690 / 1846 : TERF2IP 10 ['ESR1', 'MYC', 'JUN', 'SMAD3', 'HIF1A', 'CEBPB', 'MECP2', 'ESR2', 'RXRA', 'CREB5'] 0.011257381739585515\n",
      "691 / 1846 : GBP1 9 ['ESR1', 'MYC', 'SMAD3', 'JUN', 'MECP2', 'CEBPB', 'RXRA', 'ESR2', 'FOS'] 0.007435979630947148\n",
      "692 / 1846 : PAX5 3 ['KLF4', 'RXRA', 'SPI1'] 0.0009540179179675133\n",
      "693 / 1846 : CCDC7 10 ['MYC', 'ESR1', 'JUN', 'MECP2', 'RXRA', 'BACH1', 'FOS', 'ESR2', 'TAF1', 'BCL6'] 0.012206094549968401\n",
      "694 / 1846 : PVT1 5 ['SPI1', 'MAFB', 'KLF4', 'ESR1', 'PPARD'] 0.010914502001793188\n",
      "695 / 1846 : CAAP1 10 ['ESR1', 'MECP2', 'CEBPB', 'ESR2', 'RXRA', 'AHR', 'FOXO3', 'NR2C2', 'FOXO1', 'BACH1'] 0.005088559689071788\n",
      "696 / 1846 : PPARGC1B 8 ['MYC', 'ESR1', 'HIF1A', 'SMAD3', 'JUN', 'MECP2', 'CEBPB', 'FOS'] 0.006620311885587299\n",
      "697 / 1846 : RAP1A 10 ['MYC', 'ESR1', 'JUN', 'HIF1A', 'SMAD3', 'MECP2', 'NR4A1', 'CEBPB', 'FOS', 'ESR2'] 0.010201093392939075\n",
      "698 / 1846 : PPFIBP2 10 ['ESR1', 'SMAD3', 'MECP2', 'ESR2', 'RXRA', 'NR2C2', 'KLF4', 'TAF1', 'ATF3', 'KLF12'] 0.004922054524441145\n",
      "699 / 1846 : THEM4 10 ['MYC', 'ESR1', 'HIF1A', 'SMAD3', 'JUN', 'MECP2', 'CEBPB', 'RXRA', 'ESR2', 'FOS'] 0.006399003854837214\n",
      "700 / 1846 : HK2 8 ['MYC', 'ESR1', 'HIF1A', 'SMAD3', 'JUN', 'MECP2', 'ESR2', 'RXRA'] 0.0029547357776654078\n",
      "701 / 1846 : EPS8 10 ['ESR1', 'HIF1A', 'SMAD3', 'MECP2', 'CEBPB', 'ESR2', 'RXRA', 'NR4A1', 'BCL6', 'NR2C2'] 0.008072541574914731\n",
      "702 / 1846 : TMEM117 10 ['ESR1', 'MYC', 'HIF1A', 'SMAD3', 'ATF3', 'BCL6', 'RXRA', 'ESR2', 'KLF4', 'NR2C2'] 0.010178742324198475\n",
      "703 / 1846 : TCF7L2 8 ['MECP2', 'ESR1', 'SMAD3', 'RXRA', 'ESR2', 'NR4A1', 'TAF1', 'BACH1'] 0.005882825558008816\n",
      "704 / 1846 : GALT 10 ['MYC', 'ESR1', 'RXRA', 'HIF1A', 'SMAD3', 'MECP2', 'FOS', 'ESR2', 'BACH1', 'NR4A1'] 0.006159536571439122\n",
      "705 / 1846 : TMEM267 7 ['SPI1', 'HIF1A', 'ETV6', 'ESR1', 'BCL6', 'MYC', 'KLF12'] 0.010871532213142337\n",
      "706 / 1846 : PIK3AP1 4 ['NR4A1', 'RXRA', 'MYC', 'FOXO3'] 0.010485018915574138\n",
      "707 / 1846 : TRABD2A 10 ['MYC', 'ESR1', 'HIF1A', 'SMAD3', 'JUN', 'MECP2', 'CEBPB', 'RXRA', 'ESR2', 'NR4A1'] 0.010858839891379285\n",
      "708 / 1846 : TANGO6 10 ['ESR1', 'MYC', 'SMAD3', 'JUN', 'MECP2', 'RXRA', 'ESR2', 'KLF4', 'NR4A1', 'BACH1'] 0.008644072024086449\n",
      "709 / 1846 : S100A12 10 ['SMAD3', 'MYC', 'ESR1', 'JUN', 'MECP2', 'RXRA', 'ESR2', 'FOS', 'BCL6', 'FOXO3'] 0.004129154700419317\n",
      "710 / 1846 : TESK2 9 ['MYC', 'ESR1', 'HIF1A', 'SMAD3', 'JUN', 'MECP2', 'CEBPB', 'ESR2', 'FOS'] 0.0051589708787587426\n",
      "711 / 1846 : PDLIM5 8 ['ESR1', 'SMAD3', 'HIF1A', 'MECP2', 'CEBPB', 'RXRA', 'NR4A1', 'ESR2'] 0.004210389363677766\n",
      "712 / 1846 : RPS23 10 ['JUN', 'MYC', 'ESR1', 'ESR2', 'FOS', 'RXRA', 'FOXO1', 'NR4A1', 'NR2C2', 'BACH1'] 0.015369730493428166\n",
      "713 / 1846 : SNTB2 9 ['SPI1', 'KLF4', 'NR4A1', 'CEBPB', 'SMAD3', 'MYC', 'ESR1', 'HIF1A', 'ESR2'] 0.014422454661780973\n",
      "714 / 1846 : UBN1 10 ['MYC', 'ESR1', 'HIF1A', 'SMAD3', 'JUN', 'MECP2', 'BCL6', 'ESR2', 'RXRA', 'FOS'] 0.00739127788512354\n",
      "715 / 1846 : GK5 9 ['KLF4', 'ESR1', 'MYC', 'SPI1', 'SMAD3', 'MECP2', 'BACH1', 'BCL6', 'FOXO3'] 0.0201535030320779\n",
      "716 / 1846 : MSH3 10 ['ESR1', 'SMAD3', 'MECP2', 'ESR2', 'RXRA', 'BACH1', 'BCL6', 'NR2C2', 'FOXO3', 'FOXO1'] 0.00889798479919229\n",
      "717 / 1846 : RYBP 10 ['TAF1', 'MYC', 'MECP2', 'RXRA', 'NR2C2', 'AHR', 'KLF12', 'KLF4', 'TFCP2', 'NFYC'] 0.008070263748091713\n",
      "719 / 1846 : MAP4 8 ['MYC', 'ESR1', 'SMAD3', 'HIF1A', 'JUN', 'MECP2', 'CEBPB', 'FOS'] 0.008148626082938887\n",
      "720 / 1846 : AKR1B1 9 ['ESR1', 'MYC', 'JUN', 'SPI1', 'HIF1A', 'SMAD3', 'FOXO1', 'RXRA', 'MECP2'] 0.01344355078816206\n",
      "722 / 1846 : TMEM154 9 ['ESR1', 'SMAD3', 'JUN', 'MECP2', 'CEBPB', 'ESR2', 'FOS', 'RXRA', 'NR4A1'] 0.0061150574837531444\n",
      "723 / 1846 : RAPGEF6 10 ['ESR1', 'MYC', 'SMAD3', 'JUN', 'MECP2', 'RXRA', 'ESR2', 'NR4A1', 'FOS', 'BCL6'] 0.011136054294549082\n",
      "724 / 1846 : IL17RA 3 ['HIF1A', 'MEF2C', 'SPI1'] 0.005001357849590056\n",
      "725 / 1846 : TLR4 10 ['MYC', 'JUN', 'FOXO3', 'FOXO1', 'RUNX2', 'KLF4', 'IRF7', 'SPI1', 'IRF1', 'PBX3'] 0.0016807282982534953\n",
      "726 / 1846 : NGRN 5 ['MAFB', 'MEF2C', 'PAX5', 'TFCP2', 'SOX4'] 0.006086607258383954\n",
      "727 / 1846 : CNNM2 8 ['ESR1', 'MYC', 'SMAD3', 'JUN', 'MECP2', 'RXRA', 'CEBPB', 'KLF12'] 0.007707448392281025\n",
      "728 / 1846 : DGKH 10 ['MYC', 'ESR1', 'HIF1A', 'SMAD3', 'JUN', 'MECP2', 'RXRA', 'ESR2', 'BCL6', 'NR4A1'] 0.008369492844133367\n",
      "730 / 1846 : WDR25 7 ['MYC', 'ESR1', 'JUN', 'HIF1A', 'SMAD3', 'CREB5', 'JDP2'] 0.010147476564801958\n",
      "732 / 1846 : SIDT1 10 ['SMAD3', 'ESR1', 'MYC', 'JUN', 'MECP2', 'RXRA', 'ESR2', 'FOS', 'NR4A1', 'CREB5'] 0.009793463235981906\n",
      "733 / 1846 : TNFRSF10B 10 ['MYC', 'ESR1', 'SMAD3', 'JUN', 'MECP2', 'CEBPB', 'ESR2', 'RXRA', 'FOS', 'NR4A1'] 0.0031443274765402098\n",
      "734 / 1846 : NCK2 10 ['MYC', 'ESR1', 'SMAD3', 'JUN', 'MECP2', 'CEBPB', 'ESR2', 'RXRA', 'FOS', 'BCL6'] 0.015596592139564823\n",
      "735 / 1846 : STYXL1 7 ['NR4A1', 'KLF4', 'JDP2', 'JUN', 'ATF3', 'BACH1', 'ESR1'] 0.0077054288597706785\n",
      "736 / 1846 : NFAM1 3 ['PAX5', 'KLF4', 'ESR1'] 0.0022886603633934166\n",
      "737 / 1846 : CTSS 10 ['ESR1', 'MYC', 'SMAD3', 'JUN', 'MECP2', 'CEBPB', 'CREB5', 'RXRA', 'ESR2', 'SPI1'] 0.005968202402914499\n",
      "738 / 1846 : SNAP29 10 ['ESR1', 'CREB5', 'JUN', 'MYC', 'HIF1A', 'SMAD3', 'MECP2', 'RXRA', 'FOS', 'FOXO3'] 0.0108553712444009\n",
      "739 / 1846 : BAZ2B 5 ['RXRA', 'KLF4', 'ESR1', 'FOS', 'ATF3'] 0.007734160207871452\n",
      "740 / 1846 : GK 9 ['MYC', 'ESR1', 'SMAD3', 'MECP2', 'ESR2', 'RXRA', 'NR4A1', 'BCL6', 'FOXO3'] 0.003284421284976413\n",
      "741 / 1846 : DOCK5 10 ['ESR1', 'MYC', 'HIF1A', 'SMAD3', 'JUN', 'MECP2', 'ESR2', 'RXRA', 'FOS', 'CREB5'] 0.004306718752581856\n",
      "742 / 1846 : BACH2 3 ['BACH2', 'ESR1', 'MYC'] 1.0094170182264974e-06\n",
      "743 / 1846 : ABL2 10 ['MYC', 'ESR1', 'SMAD3', 'JUN', 'MECP2', 'RXRA', 'ESR2', 'FOS', 'KLF4', 'BCL6'] 0.010057339813452386\n",
      "744 / 1846 : TXNDC16 10 ['ESR1', 'MYC', 'SMAD3', 'CREB5', 'HIF1A', 'JUN', 'CEBPB', 'MECP2', 'RXRA', 'ESR2'] 0.01094846739352566\n",
      "746 / 1846 : IFT57 9 ['ESR1', 'MYC', 'HIF1A', 'JUN', 'SMAD3', 'MECP2', 'KLF4', 'RXRA', 'FOS'] 0.005543290745281467\n",
      "747 / 1846 : COL19A1 5 ['MECP2', 'RXRA', 'ESR2', 'CREB5', 'NR2C2'] 0.00026558476601773473\n"
     ]
    },
    {
     "name": "stderr",
     "output_type": "stream",
     "text": [
      "/Users/yijwang-admin/Documents/Research/GRN_PPI/L0GL_PPI_GRN/minFunc/polyinterp.py:40: RuntimeWarning: divide by zero encountered in scalar divide\n",
      "  t = points[notMinPos, 0] - (points[notMinPos, 0] - points[minPos, 0]) * ((points[notMinPos, 2] + d2 - d1) / (points[notMinPos, 2] - points[minPos, 2] + 2 * d2))\n"
     ]
    },
    {
     "name": "stdout",
     "output_type": "stream",
     "text": [
      "748 / 1846 : DLEU1 9 ['ESR1', 'MYC', 'HIF1A', 'SMAD3', 'ATF3', 'MECP2', 'ESR2', 'MEF2C', 'CREB5'] 0.012679317178571396\n",
      "749 / 1846 : PIGU 10 ['MYC', 'ESR1', 'HIF1A', 'SMAD3', 'JUN', 'MECP2', 'CREB5', 'KLF4', 'RXRA', 'ESR2'] 0.005691999018422978\n",
      "750 / 1846 : MMS22L 10 ['ESR1', 'SMAD3', 'MECP2', 'ESR2', 'RXRA', 'TAF1', 'BACH1', 'KLF12', 'RUNX2', 'RELB'] 0.005940687092038074\n",
      "751 / 1846 : SMC6 10 ['MYC', 'ESR1', 'MECP2', 'ESR2', 'RXRA', 'TAF1', 'KLF12', 'RELB', 'KLF4', 'TFCP2'] 0.007628594426093954\n",
      "752 / 1846 : OPA3 10 ['MYC', 'ESR1', 'HIF1A', 'SMAD3', 'JUN', 'MECP2', 'CEBPB', 'ESR2', 'RXRA', 'FOS'] 0.007632570692198765\n",
      "753 / 1846 : ZAP70 9 ['KLF4', 'HIF1A', 'ESR1', 'MYC', 'FOXO3', 'SMAD3', 'JUN', 'MECP2', 'ESR2'] 0.011502036745680492\n",
      "754 / 1846 : GTPBP6 10 ['MYC', 'ESR1', 'HIF1A', 'SMAD3', 'JUN', 'MECP2', 'KLF4', 'ESR2', 'SPI1', 'RXRA'] 0.011163675425228036\n",
      "755 / 1846 : EPB41L2 8 ['ESR1', 'SMAD3', 'MECP2', 'CEBPB', 'ESR2', 'RXRA', 'NR4A1', 'BCL6'] 0.0035345615796328364\n",
      "756 / 1846 : SLC22A15 8 ['ESR1', 'SMAD3', 'MECP2', 'RXRA', 'ESR2', 'NR4A1', 'BCL6', 'NR2C2'] 0.004169269240266905\n",
      "757 / 1846 : CR1 9 ['ESR1', 'MECP2', 'ESR2', 'RXRA', 'FOS', 'BCL6', 'NR4A1', 'FOXO3', 'FOXO1'] 0.0030113072234819274\n",
      "758 / 1846 : USP6NL 10 ['ESR1', 'MYC', 'SMAD3', 'ESR2', 'MECP2', 'RXRA', 'NR4A1', 'BCL6', 'FOXO3', 'NR2C2'] 0.002180934902096574\n",
      "759 / 1846 : GAB1 7 ['SMAD3', 'ESR1', 'JUN', 'MECP2', 'RXRA', 'ESR2', 'FOS'] 0.004448250196736655\n",
      "760 / 1846 : TBC1D2 6 ['MYC', 'ESR1', 'JUN', 'SMAD3', 'CREB5', 'HIF1A'] 0.0030584725753311486\n",
      "761 / 1846 : C5AR1 3 ['CREB5', 'NR4A1', 'CEBPB'] 0.0010803677859948597\n",
      "762 / 1846 : IL15 10 ['ESR1', 'SMAD3', 'MECP2', 'ESR2', 'FOXO1', 'TAF1', 'KLF12', 'ZEB1', 'KLF4', 'TFCP2'] 0.004408696778566858\n",
      "763 / 1846 : RRM1 9 ['ESR1', 'SMAD3', 'JUN', 'MECP2', 'NR4A1', 'RXRA', 'KLF4', 'FOS', 'CEBPB'] 0.009167128471499265\n",
      "764 / 1846 : POLR1C 7 ['KLF4', 'MEF2C', 'SMAD3', 'ESR1', 'MYC', 'JUN', 'TAF1'] 0.006117858672858488\n",
      "765 / 1846 : PEAK1 10 ['MYC', 'ESR1', 'HIF1A', 'SMAD3', 'JUN', 'MECP2', 'CEBPB', 'RXRA', 'ESR2', 'FOS'] 0.01254034952019486\n",
      "766 / 1846 : FRS2 7 ['CREB5', 'KLF4', 'AHR', 'FOXO1', 'FOXO3', 'MYC', 'ESR1'] 0.007446315752978378\n",
      "767 / 1846 : SRGAP2 10 ['ESR1', 'MYC', 'SMAD3', 'HIF1A', 'JUN', 'MECP2', 'RXRA', 'ESR2', 'FOS', 'CREB5'] 0.005478489526310028\n"
     ]
    },
    {
     "name": "stderr",
     "output_type": "stream",
     "text": [
      "/Users/yijwang-admin/Documents/Research/GRN_PPI/L0GL_PPI_GRN/minFunc/polyinterp.py:40: RuntimeWarning: divide by zero encountered in scalar divide\n",
      "  t = points[notMinPos, 0] - (points[notMinPos, 0] - points[minPos, 0]) * ((points[notMinPos, 2] + d2 - d1) / (points[notMinPos, 2] - points[minPos, 2] + 2 * d2))\n"
     ]
    },
    {
     "name": "stdout",
     "output_type": "stream",
     "text": [
      "768 / 1846 : BABAM2 10 ['MYC', 'ESR1', 'SMAD3', 'JUN', 'MECP2', 'CEBPB', 'CREB5', 'ESR2', 'FOS', 'RXRA'] 0.009075982267051209\n"
     ]
    },
    {
     "name": "stderr",
     "output_type": "stream",
     "text": [
      "/Users/yijwang-admin/Documents/Research/GRN_PPI/L0GL_PPI_GRN/minFunc/polyinterp.py:40: RuntimeWarning: divide by zero encountered in scalar divide\n",
      "  t = points[notMinPos, 0] - (points[notMinPos, 0] - points[minPos, 0]) * ((points[notMinPos, 2] + d2 - d1) / (points[notMinPos, 2] - points[minPos, 2] + 2 * d2))\n"
     ]
    },
    {
     "name": "stdout",
     "output_type": "stream",
     "text": [
      "769 / 1846 : SYAP1 9 ['MYC', 'ESR1', 'SMAD3', 'HIF1A', 'JUN', 'MECP2', 'NR4A1', 'RXRA', 'ESR2'] 0.00682802071840009\n",
      "770 / 1846 : PCED1B 6 ['PAX5', 'KLF4', 'PPARD', 'MYC', 'TAF1', 'IRF8'] 0.012069008946447319\n",
      "772 / 1846 : MX1 7 ['SPI1', 'ESR1', 'HIF1A', 'JUN', 'SMAD3', 'MECP2', 'KLF4'] 0.010913727374844515\n",
      "773 / 1846 : CCR7 4 ['NR4A1', 'LEF1', 'RXRA', 'MAFB'] 0.006529297345956255\n",
      "774 / 1846 : SEC22A 10 ['ESR1', 'KLF4', 'SMAD3', 'SPI1', 'MECP2', 'ESR2', 'RXRA', 'FOXO1', 'NR2C2', 'KLF12'] 0.0074147613397937675\n",
      "775 / 1846 : GMDS-DT 8 ['HIF1A', 'RXRA', 'MECP2', 'BACH1', 'ESR2', 'NR4A1', 'BCL6', 'NR2C2'] 0.009577326237340327\n",
      "776 / 1846 : EP400 7 ['MYC', 'ESR1', 'HIF1A', 'SMAD3', 'CREB5', 'MECP2', 'FOXO3'] 0.0073517581791593374\n",
      "777 / 1846 : PECAM1 6 ['CREB5', 'ESR1', 'JUN', 'HIF1A', 'MYC', 'SPI1'] 0.005478222675306924\n",
      "778 / 1846 : DENND1C 10 ['ESR1', 'MYC', 'HIF1A', 'SMAD3', 'JUN', 'CEBPB', 'MECP2', 'FOS', 'RXRA', 'ESR2'] 0.01198417611905072\n",
      "779 / 1846 : MRPS26 8 ['JDP2', 'MYC', 'ESR1', 'HIF1A', 'CREB5', 'SMAD3', 'JUN', 'NR4A1'] 0.013287671778732184\n",
      "780 / 1846 : CEBPB 10 ['ESR1', 'MYC', 'JUN', 'HIF1A', 'SMAD3', 'MECP2', 'RXRA', 'FOS', 'ESR2', 'BCL6'] 0.003576909622887055\n",
      "781 / 1846 : ACYP2 10 ['KLF4', 'SPI1', 'ESR1', 'MYC', 'SMAD3', 'MECP2', 'ESR2', 'RXRA', 'BCL6', 'FOXO3'] 0.009962038973958903\n",
      "782 / 1846 : ECHS1 8 ['ESR1', 'MYC', 'HIF1A', 'SMAD3', 'JUN', 'KLF4', 'MECP2', 'NR4A1'] 0.008352252023179477\n",
      "783 / 1846 : PLCB1 10 ['ESR1', 'HIF1A', 'SMAD3', 'JUN', 'RXRA', 'MECP2', 'CEBPB', 'ESR2', 'FOS', 'NR4A1'] 0.01865376462363403\n",
      "785 / 1846 : DUSP2 8 ['NR4A1', 'SPI1', 'ATF3', 'IRF8', 'MAFB', 'FOXO1', 'AHR', 'TCF7'] 0.026190301367499287\n",
      "786 / 1846 : STRBP 8 ['ESR1', 'MYC', 'SMAD3', 'JUN', 'MECP2', 'KLF4', 'RXRA', 'ESR2'] 0.004676733370420345\n",
      "787 / 1846 : CBX5 6 ['SPI1', 'KLF4', 'ESR1', 'MEF2A', 'SMAD3', 'MYC'] 0.008268541554850612\n",
      "788 / 1846 : NABP1 10 ['ESR1', 'SMAD3', 'JUN', 'MECP2', 'CEBPB', 'FOS', 'RXRA', 'KLF4', 'ATF3', 'NR4A1'] 0.007266093909552848\n",
      "789 / 1846 : CLEC12A 4 ['CREB5', 'ESR1', 'MYC', 'HIF1A'] 0.0017439212815555686\n",
      "790 / 1846 : NIBAN1 4 ['KLF4', 'JDP2', 'RXRA', 'PBX3'] 0.014166558345234557\n",
      "791 / 1846 : SLC38A1 9 ['MYC', 'ESR1', 'HIF1A', 'SMAD3', 'JUN', 'CEBPB', 'MECP2', 'NR4A1', 'ESR2'] 0.009636359263388983\n",
      "792 / 1846 : TIMM8B 7 ['KLF4', 'MYC', 'JUN', 'SPI1', 'ESR1', 'HIF1A', 'SMAD3'] 0.005725157187734958\n",
      "793 / 1846 : ZC3H6 5 ['NR4A1', 'MYC', 'BCL6', 'RXRA', 'KLF12'] 0.009343613640052791\n",
      "794 / 1846 : RPL9 10 ['MYC', 'ESR1', 'HIF1A', 'SMAD3', 'JUN', 'CEBPB', 'MECP2', 'SPI1', 'NR4A1', 'IRF7'] 0.009326071369985589\n",
      "795 / 1846 : ESR2 3 ['ESR2', 'ESR1', 'MYC'] 6.852716042544712e-07\n",
      "796 / 1846 : DENND5A 4 ['NR4A1', 'CREB5', 'FOXO1', 'ESR1'] 0.006150563430534191\n",
      "798 / 1846 : SLC25A37 4 ['CREB5', 'JDP2', 'ETV6', 'MYC'] 0.005306012172751812\n",
      "799 / 1846 : ZNF565 10 ['ESR1', 'MYC', 'JUN', 'HIF1A', 'SMAD3', 'MECP2', 'ESR2', 'RXRA', 'FOS', 'NR4A1'] 0.006568658132349531\n",
      "800 / 1846 : PDE3B 10 ['ESR1', 'SMAD3', 'JUN', 'MECP2', 'RXRA', 'CEBPB', 'ESR2', 'FOS', 'BCL6', 'CREB5'] 0.022660795463178552\n",
      "801 / 1846 : IFITM3 3 ['MAFB', 'CEBPD', 'SPI1'] 0.013388031263662835\n",
      "802 / 1846 : UVSSA 6 ['CREB5', 'MEF2C', 'AHR', 'CEBPB', 'NR4A1', 'RUNX2'] 0.011859280377693375\n",
      "803 / 1846 : TECR 8 ['ESR1', 'MYC', 'HIF1A', 'JUN', 'SMAD3', 'MECP2', 'NR4A1', 'CEBPB'] 0.008212676464573777\n",
      "804 / 1846 : HSDL2 8 ['MYC', 'ESR1', 'SMAD3', 'MECP2', 'CEBPB', 'RXRA', 'ESR2', 'NR2C2'] 0.00980696147783831\n",
      "805 / 1846 : ADAM19 10 ['MYC', 'ESR1', 'HIF1A', 'SMAD3', 'JUN', 'MECP2', 'CEBPB', 'RXRA', 'FOS', 'ESR2'] 0.013958618550401244\n",
      "806 / 1846 : PRR5L 10 ['SPI1', 'ESR1', 'KLF4', 'MYC', 'NR4A1', 'SMAD3', 'HIF1A', 'JUN', 'ATF3', 'FOXO3'] 0.023462350516218172\n",
      "807 / 1846 : ULK4 10 ['ESR1', 'SMAD3', 'RXRA', 'MECP2', 'ESR2', 'NR4A1', 'BCL6', 'NR2C2', 'FOXO1', 'TAF1'] 0.009252854196519692\n",
      "808 / 1846 : KYNU 3 ['MAFB', 'SMAD3', 'JUN'] 0.0026212214206244797\n",
      "809 / 1846 : CD5 10 ['ESR1', 'MYC', 'JUN', 'HIF1A', 'SMAD3', 'CEBPB', 'MECP2', 'ESR2', 'RXRA', 'NR4A1'] 0.013731192366993203\n",
      "810 / 1846 : INKA2 5 ['KLF4', 'ZFHX3', 'MEF2C', 'HIF1A', 'AHR'] 0.010642703409467769\n",
      "811 / 1846 : HSPA1A 10 ['ESR1', 'MYC', 'HIF1A', 'SMAD3', 'JUN', 'MECP2', 'CEBPB', 'CREB5', 'ESR2', 'FOS'] 0.013514375724526512\n",
      "812 / 1846 : RAB31 4 ['KLF4', 'MYC', 'ESR1', 'MECP2'] 0.0016646940183237743\n",
      "813 / 1846 : GIT2 9 ['ESR1', 'MYC', 'CREB5', 'SMAD3', 'HIF1A', 'JUN', 'RXRA', 'MECP2', 'CEBPB'] 0.006991945796157396\n",
      "814 / 1846 : ACSS2 5 ['ESR1', 'CREB5', 'MYC', 'SMAD3', 'HIF1A'] 0.003533585389019201\n",
      "815 / 1846 : CLOCK 4 ['ESR1', 'MYC', 'CLOCK', 'SMAD3'] 1.5619293606785945e-06\n",
      "816 / 1846 : PLEKHG2 3 ['RXRA', 'PAX5', 'FOXO3'] 0.006084384647542207\n",
      "817 / 1846 : DHX35 10 ['ESR1', 'MYC', 'HIF1A', 'SMAD3', 'JUN', 'MECP2', 'RXRA', 'NR4A1', 'ESR2', 'FOS'] 0.008272676331797067\n",
      "818 / 1846 : RBM41 10 ['ESR1', 'HIF1A', 'MECP2', 'ESR2', 'RXRA', 'NR2C2', 'FOXO1', 'BACH1', 'TAF1', 'RUNX2'] 0.008053187919224467\n",
      "819 / 1846 : PCNA 10 ['MYC', 'ESR1', 'SMAD3', 'JUN', 'MECP2', 'CEBPB', 'CREB5', 'SPI1', 'MXI1', 'PATZ1'] 0.01196939737360758\n",
      "820 / 1846 : PPP1R3E 10 ['ESR1', 'HIF1A', 'SMAD3', 'JUN', 'MECP2', 'RXRA', 'ESR2', 'BCL6', 'AHR', 'ATF3'] 0.008690355979351937\n",
      "821 / 1846 : GMEB1 7 ['NR4A1', 'RXRA', 'ATF3', 'CREB5', 'MYC', 'ESR1', 'SMAD3'] 0.008073855526363135\n",
      "822 / 1846 : SLC11A1 3 ['CREB5', 'MYC', 'CEBPB'] 0.001371943185458355\n",
      "823 / 1846 : TFDP2 9 ['ESR1', 'RXRA', 'MYC', 'SMAD3', 'SPI1', 'MECP2', 'FOXO3', 'ESR2', 'NR4A1'] 0.00996281339623233\n",
      "824 / 1846 : DISC1 3 ['ETV6', 'BACH1', 'KLF4'] 0.007477138971502162\n"
     ]
    },
    {
     "name": "stderr",
     "output_type": "stream",
     "text": [
      "/Users/yijwang-admin/Documents/Research/GRN_PPI/L0GL_PPI_GRN/minFunc/polyinterp.py:40: RuntimeWarning: divide by zero encountered in scalar divide\n",
      "  t = points[notMinPos, 0] - (points[notMinPos, 0] - points[minPos, 0]) * ((points[notMinPos, 2] + d2 - d1) / (points[notMinPos, 2] - points[minPos, 2] + 2 * d2))\n"
     ]
    },
    {
     "name": "stdout",
     "output_type": "stream",
     "text": [
      "825 / 1846 : LBH 8 ['MYC', 'ESR1', 'HIF1A', 'SMAD3', 'JUN', 'MECP2', 'CEBPB', 'NR4A1'] 0.009220027036424513\n",
      "826 / 1846 : NSMAF 7 ['ESR1', 'KLF4', 'JUN', 'MECP2', 'FOS', 'ESR2', 'RXRA'] 0.007324328272504732\n",
      "827 / 1846 : LILRB1 10 ['MYC', 'ESR1', 'MECP2', 'SMAD3', 'HIF1A', 'JUN', 'CEBPB', 'ESR2', 'RXRA', 'NR4A1'] 0.012244836665905652\n",
      "828 / 1846 : ACER3 10 ['ESR1', 'MYC', 'SMAD3', 'MECP2', 'KLF4', 'ESR2', 'RXRA', 'FOS', 'BCL6', 'FOXO3'] 0.006696713868087097\n",
      "829 / 1846 : CARMIL1 3 ['LEF1', 'KLF4', 'PPARD'] 0.005073033310186287\n",
      "830 / 1846 : CKMT2-AS1 10 ['ESR1', 'CEBPB', 'RXRA', 'NR4A1', 'BCL6', 'ATF3', 'BACH1', 'CREB5', 'RUNX2', 'RELB'] 0.009352493687773484\n",
      "831 / 1846 : PPP2R2B 10 ['MYC', 'MECP2', 'RXRA', 'BACH1', 'KLF4', 'TAF1', 'RUNX2', 'IRF8', 'PAX5', 'TFCP2'] 0.03230114174531586\n",
      "832 / 1846 : DPP4 10 ['ESR1', 'SMAD3', 'HIF1A', 'JUN', 'ESR2', 'RXRA', 'AHR', 'FOXO1', 'TAF1', 'RUNX2'] 0.013543032996908158\n",
      "833 / 1846 : SETD7 9 ['ESR1', 'MYC', 'HIF1A', 'SMAD3', 'JUN', 'MECP2', 'CEBPB', 'ESR2', 'RXRA'] 0.0025959792127958343\n",
      "834 / 1846 : STK17A 3 ['KLF4', 'NR4A1', 'PAX5'] 0.0107090692920677\n",
      "835 / 1846 : PRIM2 10 ['SMAD3', 'ESR1', 'HIF1A', 'MECP2', 'RXRA', 'ESR2', 'NR4A1', 'FOXO1', 'ATF3', 'SPI1'] 0.007756910048986817\n",
      "836 / 1846 : GZMB 9 ['CREB5', 'SPI1', 'MAFB', 'NR4A1', 'RXRA', 'BCL6', 'AHR', 'PPARD', 'JUN'] 0.0340297619053633\n",
      "837 / 1846 : AHI1 9 ['MYC', 'ESR1', 'SMAD3', 'MECP2', 'ESR2', 'RXRA', 'BCL6', 'NR4A1', 'FOXO1'] 0.011449580453773887\n",
      "838 / 1846 : TBC1D19 9 ['MYC', 'JUN', 'MECP2', 'CEBPB', 'FOS', 'RXRA', 'NR4A1', 'FOXO1', 'KLF12'] 0.010167171410030412\n",
      "839 / 1846 : TSTD1 10 ['MYC', 'ESR1', 'JUN', 'HIF1A', 'SMAD3', 'MECP2', 'CEBPB', 'KLF4', 'ESR2', 'BCL6'] 0.013338423239012943\n",
      "840 / 1846 : PDSS2 9 ['KLF4', 'CREB5', 'ESR1', 'HIF1A', 'SMAD3', 'JUN', 'MECP2', 'CEBPB', 'ESR2'] 0.008186855978086594\n",
      "841 / 1846 : TRAPPC8 7 ['MYC', 'NR4A1', 'SMAD3', 'ESR1', 'HIF1A', 'MECP2', 'CEBPB'] 0.011904988724566879\n",
      "842 / 1846 : SLC38A9 6 ['SMAD3', 'HIF1A', 'MECP2', 'RXRA', 'ESR2', 'BACH1'] 0.008198487348515823\n",
      "843 / 1846 : PPP1R16B 6 ['JUN', 'KLF12', 'ESR1', 'NR4A1', 'SMAD3', 'MECP2'] 0.012763955960065566\n",
      "845 / 1846 : DOCK8 10 ['MYC', 'ESR1', 'HIF1A', 'SMAD3', 'JUN', 'MECP2', 'CEBPB', 'ESR2', 'RXRA', 'FOS'] 0.009336839731753909\n",
      "846 / 1846 : IFIT3 10 ['ESR1', 'MYC', 'HIF1A', 'SMAD3', 'JUN', 'MECP2', 'CEBPB', 'CREB5', 'ESR2', 'RXRA'] 0.005294513424146866\n",
      "847 / 1846 : CREB3L2 10 ['SMAD3', 'RXRA', 'BCL6', 'BACH1', 'TAF1', 'CREB5', 'ATF3', 'KLF12', 'RELB', 'NFYC'] 0.009211153391366071\n",
      "848 / 1846 : SFMBT2 7 ['NR4A1', 'ESR1', 'PAX5', 'IRF8', 'CEBPB', 'MEF2C', 'KLF12'] 0.012168357109732839\n",
      "849 / 1846 : CD55 10 ['ESR1', 'CREB5', 'MECP2', 'FOS', 'ESR2', 'RXRA', 'SPI1', 'NR4A1', 'BCL6', 'FOXO3'] 0.004002186719762602\n",
      "850 / 1846 : CCSER2 10 ['MYC', 'ESR1', 'SMAD3', 'JUN', 'CEBPB', 'MECP2', 'KLF4', 'ESR2', 'RXRA', 'FOS'] 0.00796053280835393\n",
      "851 / 1846 : AGPAT5 10 ['ESR1', 'HIF1A', 'MECP2', 'ESR2', 'NR2C2', 'BACH1', 'KLF12', 'ZEB1', 'PPARD', 'NFYC'] 0.005256482884109776\n",
      "852 / 1846 : MRPL28 10 ['MYC', 'CREB5', 'ESR1', 'SMAD3', 'KLF4', 'HIF1A', 'JUN', 'MECP2', 'MEF2C', 'SPI1'] 0.0191191381583294\n",
      "853 / 1846 : ABLIM1 10 ['MYC', 'ESR1', 'SMAD3', 'JUN', 'MECP2', 'CEBPB', 'RXRA', 'ESR2', 'FOS', 'FOXO3'] 0.009658453069570097\n",
      "854 / 1846 : TNFRSF1B 10 ['ESR1', 'MYC', 'HIF1A', 'SMAD3', 'JUN', 'MECP2', 'CEBPB', 'NR4A1', 'RXRA', 'ESR2'] 0.005752101948402354\n",
      "855 / 1846 : LINC02446 8 ['SPI1', 'ESR1', 'CREB5', 'HIF1A', 'NR4A1', 'JUN', 'MYC', 'BCL6'] 0.016766379634761765\n",
      "856 / 1846 : RAP1GDS1 10 ['MYC', 'ESR1', 'CEBPB', 'JUN', 'MECP2', 'FOS', 'KLF4', 'SPI1', 'ESR2', 'NR2C2'] 0.008729185929603082\n",
      "857 / 1846 : FBXL20 8 ['ESR1', 'MYC', 'HIF1A', 'SMAD3', 'JUN', 'MECP2', 'NR4A1', 'SPI1'] 0.00889747446722555\n",
      "858 / 1846 : AQP3 8 ['MYC', 'ESR1', 'HIF1A', 'SMAD3', 'MECP2', 'ATF3', 'RXRA', 'MEF2C'] 0.01030555327588141\n",
      "859 / 1846 : TTC7A 10 ['ESR1', 'MYC', 'HIF1A', 'SMAD3', 'MECP2', 'ESR2', 'RXRA', 'NR4A1', 'CREB5', 'FOXO1'] 0.00756488001338771\n",
      "860 / 1846 : WRN 8 ['ESR1', 'MYC', 'MECP2', 'SMAD3', 'RXRA', 'ESR2', 'KLF4', 'MAFB'] 0.009495235655210446\n",
      "861 / 1846 : ZBP1 8 ['ESR1', 'MYC', 'HIF1A', 'RXRA', 'SMAD3', 'MECP2', 'FOXO1', 'BCL6'] 0.011093738952045865\n",
      "862 / 1846 : PARP15 10 ['ESR1', 'MYC', 'RXRA', 'CREB5', 'NR4A1', 'SMAD3', 'HIF1A', 'JUN', 'MECP2', 'ATF3'] 0.010499055552789736\n",
      "863 / 1846 : APC 10 ['MYC', 'ESR1', 'KLF4', 'SMAD3', 'HIF1A', 'MECP2', 'RXRA', 'ESR2', 'NR4A1', 'ATF3'] 0.010899748719333314\n",
      "864 / 1846 : MAST2 9 ['MYC', 'ESR1', 'HIF1A', 'SMAD3', 'CEBPB', 'MECP2', 'BCL6', 'ESR2', 'RXRA'] 0.009992258243234983\n",
      "865 / 1846 : TATDN3 9 ['MYC', 'ESR1', 'SMAD3', 'JUN', 'MECP2', 'CEBPB', 'SPI1', 'FOS', 'ESR2'] 0.005346398052801113\n",
      "866 / 1846 : ITPK1 10 ['MYC', 'ESR1', 'HIF1A', 'SMAD3', 'MECP2', 'RXRA', 'ESR2', 'NR4A1', 'BCL6', 'BACH1'] 0.009624321528013208\n",
      "867 / 1846 : TAFA2 4 ['PAX5', 'ESR1', 'PBX3', 'CUX1'] 0.005817151249493633\n",
      "868 / 1846 : TCF4 7 ['ESR1', 'MECP2', 'KLF4', 'FOXO1', 'FOXO3', 'TAF1', 'KLF12'] 0.001982083568393286\n",
      "869 / 1846 : GPANK1 10 ['ESR1', 'MYC', 'HIF1A', 'SMAD3', 'JUN', 'CEBPB', 'MECP2', 'KLF4', 'ESR2', 'FOS'] 0.00670928903097722\n",
      "870 / 1846 : PAM 7 ['SPI1', 'JUN', 'TAF1', 'ESR1', 'MECP2', 'MYC', 'KLF12'] 0.013929063694029176\n"
     ]
    },
    {
     "name": "stderr",
     "output_type": "stream",
     "text": [
      "/Users/yijwang-admin/Documents/Research/GRN_PPI/L0GL_PPI_GRN/minFunc/polyinterp.py:40: RuntimeWarning: divide by zero encountered in scalar divide\n",
      "  t = points[notMinPos, 0] - (points[notMinPos, 0] - points[minPos, 0]) * ((points[notMinPos, 2] + d2 - d1) / (points[notMinPos, 2] - points[minPos, 2] + 2 * d2))\n"
     ]
    },
    {
     "name": "stdout",
     "output_type": "stream",
     "text": [
      "871 / 1846 : UBE2E3 10 ['KLF4', 'ESR1', 'MYC', 'RXRA', 'JUN', 'SMAD3', 'MECP2', 'NR4A1', 'CEBPB', 'FOS'] 0.010565739125846093\n",
      "872 / 1846 : SESTD1 3 ['NR4A1', 'ESR1', 'KLF4'] 0.004916430841675003\n",
      "873 / 1846 : TUBD1 10 ['ESR1', 'MYC', 'SMAD3', 'JUN', 'MECP2', 'RXRA', 'CEBPB', 'ESR2', 'NR4A1', 'FOS'] 0.008140501808787606\n",
      "874 / 1846 : FMNL2 4 ['KLF4', 'ESR1', 'MYC', 'SMAD3'] 0.0020238738041123082\n",
      "875 / 1846 : MFHAS1 5 ['ATF3', 'CEBPB', 'PPARD', 'FOXO1', 'MYC'] 0.016815373903577794\n",
      "876 / 1846 : TSEN2 10 ['ESR1', 'MYC', 'HIF1A', 'SMAD3', 'JUN', 'MECP2', 'NR4A1', 'ESR2', 'RXRA', 'FOS'] 0.00808967810166267\n",
      "878 / 1846 : CSF2RA 3 ['SPI1', 'KLF4', 'ESR1'] 0.0015865663093121473\n",
      "879 / 1846 : MTAP 10 ['ESR1', 'MYC', 'SMAD3', 'MECP2', 'FOS', 'ESR2', 'RXRA', 'BCL6', 'FOXO3', 'BACH1'] 0.007853941835389512\n",
      "880 / 1846 : LACTB 7 ['MYC', 'ESR1', 'HIF1A', 'SMAD3', 'JUN', 'MECP2', 'BCL6'] 0.006628865480339194\n",
      "881 / 1846 : MVB12B 10 ['ESR1', 'NR4A1', 'MYC', 'SMAD3', 'MECP2', 'JUN', 'RXRA', 'CEBPB', 'BCL6', 'KLF4'] 0.019340665540373163\n",
      "883 / 1846 : INSR 10 ['ESR1', 'MYC', 'HIF1A', 'SMAD3', 'JUN', 'MECP2', 'CEBPB', 'ESR2', 'RXRA', 'FOS'] 0.0026126190311422026\n",
      "884 / 1846 : ISG15 9 ['CREB5', 'MYC', 'ESR1', 'KLF4', 'NR4A1', 'SMAD3', 'HIF1A', 'JUN', 'CEBPB'] 0.013434112744177116\n",
      "885 / 1846 : IDH3A 10 ['MYC', 'ESR1', 'HIF1A', 'SMAD3', 'JUN', 'MECP2', 'CEBPB', 'RXRA', 'ESR2', 'FOS'] 0.007609297487272314\n",
      "886 / 1846 : AHCYL2 10 ['MYC', 'ESR1', 'SMAD3', 'JUN', 'MECP2', 'CEBPB', 'RXRA', 'ESR2', 'FOS', 'NR4A1'] 0.007919013237394903\n",
      "887 / 1846 : NSD2 9 ['ESR1', 'MYC', 'SPI1', 'FOXO3', 'HIF1A', 'SMAD3', 'MECP2', 'CEBPB', 'ESR2'] 0.012652443926872823\n",
      "888 / 1846 : ZFYVE28 10 ['MYC', 'ESR1', 'HIF1A', 'SMAD3', 'JUN', 'MECP2', 'BCL6', 'AHR', 'CUX1', 'FOXO3'] 0.022054255384826253\n",
      "889 / 1846 : NMT2 8 ['MYC', 'ESR1', 'CREB5', 'SMAD3', 'JUN', 'NR4A1', 'MECP2', 'FOXO1'] 0.008163274726732625\n",
      "890 / 1846 : SLC44A2 5 ['BACH1', 'JUN', 'CEBPB', 'MYC', 'MAFB'] 0.008648802507588581\n",
      "891 / 1846 : LARP1B 10 ['ESR1', 'MYC', 'SMAD3', 'HIF1A', 'MECP2', 'RXRA', 'ESR2', 'CREB5', 'ATF3', 'NR4A1'] 0.00793091940759159\n",
      "892 / 1846 : NEK6 8 ['MYC', 'ESR1', 'SMAD3', 'HIF1A', 'JUN', 'MECP2', 'FOS', 'ESR2'] 0.009124098436454372\n",
      "893 / 1846 : INVS 10 ['ESR1', 'HIF1A', 'SMAD3', 'MECP2', 'RXRA', 'ESR2', 'NR4A1', 'BCL6', 'NR2C2', 'FOXO3'] 0.011322821550863114\n",
      "895 / 1846 : FBXO22 5 ['NR4A1', 'KLF4', 'RXRA', 'MXI1', 'FOXO1'] 0.0063754147165473235\n",
      "896 / 1846 : FER 10 ['ESR1', 'MECP2', 'ESR2', 'RXRA', 'NR2C2', 'FOXO1', 'TAF1', 'AHR', 'BACH1', 'KLF12'] 0.008187817284422715\n",
      "897 / 1846 : CRYZL1 5 ['KLF4', 'MYC', 'JUN', 'ESR1', 'MAFB'] 0.007329561235834782\n",
      "898 / 1846 : DCPS 5 ['SPI1', 'RXRA', 'NR4A1', 'CEBPD', 'ESR1'] 0.00721618200359711\n",
      "899 / 1846 : GBP5 5 ['MEF2C', 'CEBPB', 'KLF4', 'HSF2', 'ZFHX3'] 0.011272112128361583\n",
      "900 / 1846 : ERI1 5 ['CEBPB', 'ESR1', 'MYC', 'BCL6', 'CUX1'] 0.0069935287584841025\n",
      "901 / 1846 : MARCKSL1 6 ['MYC', 'ESR1', 'SMAD3', 'CEBPB', 'HIF1A', 'JUN'] 0.007070084806288102\n",
      "902 / 1846 : ME2 10 ['ESR1', 'MYC', 'SPI1', 'KLF4', 'JUN', 'MECP2', 'FOS', 'RXRA', 'ESR2', 'BCL6'] 0.009766770965884866\n",
      "903 / 1846 : ZNF718 6 ['BACH1', 'MAFB', 'ESR1', 'RUNX2', 'IRF8', 'HIF1A'] 0.012102507150658436\n",
      "904 / 1846 : LDAH 9 ['MYC', 'ESR1', 'SMAD3', 'JUN', 'KLF4', 'MECP2', 'ESR2', 'CREB5', 'RXRA'] 0.011114475556475021\n",
      "905 / 1846 : CCDC50 10 ['MYC', 'ESR1', 'SMAD3', 'MECP2', 'RXRA', 'NR4A1', 'FOXO1', 'TAF1', 'BACH1', 'KLF12'] 0.0022310275570042067\n",
      "906 / 1846 : TFRC 4 ['AHR', 'BACH1', 'KLF4', 'PAX5'] 0.01047078426801137\n",
      "907 / 1846 : MAP2K6 9 ['ESR1', 'HIF1A', 'SMAD3', 'CEBPB', 'ESR2', 'RXRA', 'BCL6', 'FOXO3', 'FOXO1'] 0.007124094162858014\n",
      "908 / 1846 : DHRS3 10 ['JUN', 'MYC', 'ESR1', 'SMAD3', 'MECP2', 'CEBPB', 'RXRA', 'ESR2', 'FOS', 'NR4A1'] 0.013652885806914428\n",
      "909 / 1846 : RUNX2 4 ['MYC', 'ESR1', 'RUNX2', 'SMAD3'] 6.84258648328071e-07\n",
      "911 / 1846 : KIAA2013 10 ['ESR1', 'HIF1A', 'CEBPB', 'MYC', 'SMAD3', 'JUN', 'KLF4', 'MECP2', 'RXRA', 'ESR2'] 0.013740652774063403\n",
      "912 / 1846 : RFFL 5 ['CREB5', 'BACH1', 'JUN', 'ATF3', 'CEBPB'] 0.010051098959959467\n",
      "913 / 1846 : MAP4K3 10 ['ESR1', 'MYC', 'HIF1A', 'SMAD3', 'JUN', 'MECP2', 'CEBPB', 'ESR2', 'RXRA', 'FOS'] 0.005247502166738515\n"
     ]
    },
    {
     "name": "stderr",
     "output_type": "stream",
     "text": [
      "/Users/yijwang-admin/Documents/Research/GRN_PPI/L0GL_PPI_GRN/minFunc/polyinterp.py:40: RuntimeWarning: divide by zero encountered in scalar divide\n",
      "  t = points[notMinPos, 0] - (points[notMinPos, 0] - points[minPos, 0]) * ((points[notMinPos, 2] + d2 - d1) / (points[notMinPos, 2] - points[minPos, 2] + 2 * d2))\n"
     ]
    },
    {
     "name": "stdout",
     "output_type": "stream",
     "text": [
      "914 / 1846 : MNDA 3 ['MEF2C', 'MAFB', 'MYC'] 0.0032007626861904367\n",
      "915 / 1846 : FGD2 4 ['ESR1', 'MYC', 'CREB5', 'SMAD3'] 0.0002744644975219188\n",
      "916 / 1846 : QSER1 6 ['KLF4', 'ESR1', 'RXRA', 'SMAD3', 'JUN', 'MECP2'] 0.006880748017237887\n",
      "917 / 1846 : B2M 6 ['NR4A1', 'MAFB', 'FOXO1', 'ESR1', 'MECP2', 'MYC'] 0.017796788975363752\n",
      "918 / 1846 : RASA3 10 ['MYC', 'ESR1', 'HIF1A', 'SMAD3', 'JUN', 'KLF4', 'MECP2', 'CEBPB', 'NR4A1', 'FOS'] 0.013416256647811074\n",
      "919 / 1846 : ST8SIA4 10 ['CEBPB', 'ESR1', 'SMAD3', 'JUN', 'ESR2', 'RXRA', 'FOXO1', 'BCL6', 'NR2C2', 'FOXO3'] 0.011676464004178747\n",
      "920 / 1846 : SIPA1L3 9 ['ESR1', 'MYC', 'HIF1A', 'SMAD3', 'NR4A1', 'MECP2', 'CEBPB', 'BCL6', 'RXRA'] 0.007640336728811975\n",
      "921 / 1846 : ELP2 9 ['ESR1', 'SMAD3', 'JUN', 'MECP2', 'CEBPB', 'RXRA', 'ESR2', 'FOS', 'KLF4'] 0.008601915032286595\n",
      "922 / 1846 : ATG16L1 10 ['MYC', 'ESR1', 'HIF1A', 'SMAD3', 'KLF4', 'JUN', 'CREB5', 'MECP2', 'RXRA', 'CEBPB'] 0.008247238906664315\n",
      "923 / 1846 : TOX 10 ['MYC', 'KLF4', 'SMAD3', 'ATF3', 'RXRA', 'ESR2', 'BCL6', 'BACH1', 'FOXO3', 'NR2C2'] 0.02017056323618857\n",
      "924 / 1846 : ZNF831 10 ['MYC', 'ESR1', 'HIF1A', 'SMAD3', 'NR4A1', 'RXRA', 'MECP2', 'CEBPB', 'FOS', 'ESR2'] 0.011191979078116879\n",
      "925 / 1846 : SLC39A9 5 ['MYC', 'RXRA', 'MECP2', 'MXI1', 'ZEB1'] 0.00797180514544099\n",
      "926 / 1846 : CYFIP2 9 ['ESR1', 'MYC', 'SMAD3', 'CEBPB', 'JUN', 'CREB5', 'MECP2', 'NR4A1', 'KLF4'] 0.006667187151180029\n",
      "927 / 1846 : KRI1 5 ['KLF4', 'NR4A1', 'CEBPB', 'JDP2', 'NR2C2'] 0.008159597506513731\n",
      "928 / 1846 : ATP2B4 9 ['MYC', 'ESR1', 'SMAD3', 'JUN', 'MECP2', 'CEBPB', 'BCL6', 'MAFB', 'KLF4'] 0.013397238525877106\n",
      "929 / 1846 : SARNP 10 ['ESR1', 'MYC', 'HIF1A', 'SMAD3', 'JUN', 'CEBPB', 'CREB5', 'MECP2', 'NR4A1', 'KLF4'] 0.011734238032861239\n",
      "930 / 1846 : NDUFAF6 10 ['JUN', 'MYC', 'ESR1', 'SMAD3', 'KLF4', 'MECP2', 'CEBPB', 'FOS', 'ESR2', 'RXRA'] 0.005689453505699177\n",
      "931 / 1846 : RBL1 10 ['ESR1', 'SPI1', 'CEBPB', 'MYC', 'HIF1A', 'SMAD3', 'JUN', 'RXRA', 'MECP2', 'ESR2'] 0.008929277118867518\n",
      "932 / 1846 : EPSTI1 10 ['ESR1', 'MYC', 'SMAD3', 'MECP2', 'ESR2', 'RXRA', 'FOXO3', 'FOXO1', 'NR2C2', 'SPI1'] 0.009773920041943558\n",
      "934 / 1846 : LINC00243 10 ['MYC', 'ESR1', 'MECP2', 'HIF1A', 'SMAD3', 'JUN', 'CEBPB', 'NR4A1', 'ESR2', 'BCL6'] 0.011852094758636845\n",
      "935 / 1846 : KATNBL1 10 ['HIF1A', 'ESR1', 'MYC', 'JUN', 'SMAD3', 'MECP2', 'ESR2', 'FOS', 'RXRA', 'NR4A1'] 0.00944336913874682\n",
      "936 / 1846 : TOM1 8 ['ESR1', 'MYC', 'HIF1A', 'SMAD3', 'JUN', 'MECP2', 'CEBPB', 'ESR2'] 0.005165893532500209\n",
      "937 / 1846 : SNX10 10 ['MYC', 'ESR1', 'HIF1A', 'SMAD3', 'JUN', 'MECP2', 'CEBPB', 'RXRA', 'ESR2', 'FOS'] 0.007329133378490111\n",
      "938 / 1846 : LINC00937 10 ['ESR1', 'MYC', 'SMAD3', 'JUN', 'MECP2', 'ESR2', 'RXRA', 'FOS', 'BCL6', 'FOXO3'] 0.0028573088743977927\n",
      "939 / 1846 : SPAG9 9 ['MYC', 'ESR1', 'HIF1A', 'SMAD3', 'JUN', 'CEBPB', 'MECP2', 'MEF2C', 'ESR2'] 0.00829013372102381\n",
      "940 / 1846 : RPS26 9 ['MYC', 'ESR1', 'JUN', 'HIF1A', 'SMAD3', 'MECP2', 'CEBPB', 'SPI1', 'RXRA'] 0.01259063499872398\n",
      "942 / 1846 : SERPINB9 10 ['CREB5', 'ESR1', 'MYC', 'HIF1A', 'CEBPB', 'SMAD3', 'JUN', 'MECP2', 'SPI1', 'RXRA'] 0.009995678297483827\n"
     ]
    },
    {
     "name": "stderr",
     "output_type": "stream",
     "text": [
      "/Users/yijwang-admin/Documents/Research/GRN_PPI/L0GL_PPI_GRN/minFunc/polyinterp.py:40: RuntimeWarning: divide by zero encountered in scalar divide\n",
      "  t = points[notMinPos, 0] - (points[notMinPos, 0] - points[minPos, 0]) * ((points[notMinPos, 2] + d2 - d1) / (points[notMinPos, 2] - points[minPos, 2] + 2 * d2))\n"
     ]
    },
    {
     "name": "stdout",
     "output_type": "stream",
     "text": [
      "943 / 1846 : CD7 4 ['KLF4', 'PPARD', 'RFX2', 'CEBPD'] 0.020324831812525923\n",
      "944 / 1846 : WHAMM 4 ['KLF4', 'SPI1', 'PPARD', 'TFCP2'] 0.009192789186354014\n",
      "945 / 1846 : ICOS 10 ['MYC', 'ESR1', 'SMAD3', 'JUN', 'CEBPB', 'KLF4', 'ESR2', 'RXRA', 'FOS', 'BCL6'] 0.007733421528551755\n",
      "946 / 1846 : HSPA4 10 ['MYC', 'ESR1', 'HIF1A', 'SMAD3', 'MECP2', 'CEBPB', 'ESR2', 'RXRA', 'NR4A1', 'KLF4'] 0.007744965337672083\n",
      "947 / 1846 : AIG1 10 ['MYC', 'ESR1', 'SMAD3', 'JUN', 'MECP2', 'CREB5', 'RXRA', 'ESR2', 'NR4A1', 'FOS'] 0.004813113871025514\n",
      "948 / 1846 : XAF1 10 ['ESR1', 'SMAD3', 'HIF1A', 'JUN', 'MECP2', 'RXRA', 'ESR2', 'FOS', 'NR4A1', 'FOXO1'] 0.011009058296285545\n",
      "949 / 1846 : RMND1 10 ['MYC', 'ESR1', 'SMAD3', 'MECP2', 'KLF4', 'CEBPB', 'ESR2', 'RXRA', 'BCL6', 'PAX5'] 0.007374854286492181\n",
      "950 / 1846 : DNAJB1 10 ['ESR1', 'MYC', 'HIF1A', 'NR4A1', 'SMAD3', 'JUN', 'CEBPB', 'MECP2', 'FOS', 'ESR2'] 0.007396618051745268\n",
      "951 / 1846 : ACVR1 5 ['RXRA', 'KLF4', 'NR4A1', 'SPI1', 'ZEB1'] 0.007479801031838433\n",
      "952 / 1846 : TEC 6 ['ESR1', 'MYC', 'MEF2C', 'MECP2', 'RXRA', 'ESR2'] 0.0036975206858852606\n",
      "953 / 1846 : MAP3K14 10 ['ESR1', 'MYC', 'SMAD3', 'JUN', 'CEBPB', 'NR4A1', 'MECP2', 'RXRA', 'ESR2', 'FOS'] 0.006688795879317625\n",
      "955 / 1846 : PITPNA 9 ['MYC', 'ESR1', 'SMAD3', 'JUN', 'MECP2', 'CEBPB', 'ESR2', 'FOS', 'RXRA'] 0.006001686195331576\n",
      "956 / 1846 : EHMT2 10 ['MYC', 'ESR1', 'JUN', 'HIF1A', 'SMAD3', 'MECP2', 'CEBPB', 'ESR2', 'FOS', 'RXRA'] 0.007578224839260602\n",
      "957 / 1846 : ADARB1 10 ['MYC', 'ESR1', 'HIF1A', 'SMAD3', 'JUN', 'CEBPB', 'MECP2', 'FOS', 'RXRA', 'ESR2'] 0.01203583953957642\n",
      "958 / 1846 : KCNE1 6 ['MYC', 'ESR1', 'SMAD3', 'MECP2', 'ESR2', 'KLF4'] 0.00035913339248539307\n",
      "959 / 1846 : LGALS2 3 ['KLF4', 'MYC', 'ESR1'] 0.0014773123914207504\n",
      "960 / 1846 : COMMD1 10 ['MYC', 'ESR1', 'SMAD3', 'MECP2', 'ESR2', 'RXRA', 'NR4A1', 'BCL6', 'KLF4', 'FOXO1'] 0.00643941637274098\n",
      "961 / 1846 : ALOX5AP 10 ['MYC', 'ESR1', 'HIF1A', 'SMAD3', 'JUN', 'MECP2', 'RXRA', 'CEBPB', 'ESR2', 'BCL6'] 0.014517093428538267\n",
      "962 / 1846 : SNX4 10 ['ESR1', 'HIF1A', 'SMAD3', 'JUN', 'MECP2', 'CEBPB', 'ESR2', 'RXRA', 'FOS', 'KLF4'] 0.011322798872618015\n",
      "963 / 1846 : GLMN 4 ['RXRA', 'FOXO1', 'BACH1', 'MEF2C'] 0.010979924892199617\n",
      "964 / 1846 : SAMD12 4 ['KLF4', 'RXRA', 'RUNX2', 'SPI1'] 0.005419990006976447\n",
      "965 / 1846 : USP40 9 ['MYC', 'ESR1', 'SMAD3', 'MECP2', 'CEBPB', 'ESR2', 'RXRA', 'BCL6', 'NR4A1'] 0.007181247336580342\n",
      "966 / 1846 : DROSHA 6 ['ESR1', 'ESR2', 'MECP2', 'FOXO1', 'BACH1', 'RFX2'] 0.00894058843119097\n",
      "967 / 1846 : FAAH2 10 ['SMAD3', 'ESR1', 'ESR2', 'RXRA', 'NR4A1', 'KLF4', 'BCL6', 'NR2C2', 'FOXO1', 'BACH1'] 0.006739135232072699\n",
      "968 / 1846 : PLD4 7 ['ESR1', 'MYC', 'HIF1A', 'SMAD3', 'JUN', 'MECP2', 'CEBPB'] 0.0034849242070356377\n",
      "969 / 1846 : HIPK2 10 ['ESR1', 'MYC', 'SMAD3', 'JUN', 'MECP2', 'KLF4', 'RXRA', 'ESR2', 'FOS', 'RFX2'] 0.015414851592287147\n",
      "970 / 1846 : CLIC3 5 ['NR4A1', 'IRF8', 'RUNX2', 'CEBPD', 'KLF4'] 0.022416318004791887\n",
      "971 / 1846 : PILRA 7 ['MYC', 'ESR1', 'HIF1A', 'JUN', 'SMAD3', 'MECP2', 'CEBPB'] 0.003066004597657039\n",
      "972 / 1846 : HS3ST3B1 10 ['ESR1', 'MYC', 'SMAD3', 'JUN', 'MECP2', 'RXRA', 'ESR2', 'FOS', 'NR4A1', 'FOXO1'] 0.010105747656326448\n",
      "973 / 1846 : ABI2 8 ['ESR1', 'MECP2', 'RXRA', 'ESR2', 'FOS', 'KLF4', 'NR2C2', 'TAF1'] 0.0059854616510306045\n",
      "974 / 1846 : GLT1D1 3 ['CREB5', 'KLF4', 'HIF1A'] 0.0011320087464417332\n",
      "975 / 1846 : PITPNM2 10 ['MYC', 'ESR1', 'HIF1A', 'SMAD3', 'JUN', 'RXRA', 'MECP2', 'CEBPB', 'ESR2', 'KLF4'] 0.01824907540028798\n",
      "976 / 1846 : EIF2AK3 9 ['MYC', 'ESR1', 'HIF1A', 'SMAD3', 'JUN', 'MECP2', 'BCL6', 'RXRA', 'NR4A1'] 0.005999064263655983\n",
      "977 / 1846 : HABP4 10 ['ESR1', 'MYC', 'HIF1A', 'SMAD3', 'JUN', 'MECP2', 'SPI1', 'KLF4', 'BCL6', 'ESR2'] 0.01567805629215353\n",
      "978 / 1846 : UST 10 ['ESR1', 'SMAD3', 'JUN', 'MECP2', 'ESR2', 'RXRA', 'BCL6', 'FOS', 'TAF1', 'FOXO1'] 0.01879785093227985\n",
      "979 / 1846 : GPATCH2L 9 ['MYC', 'ESR1', 'SMAD3', 'HIF1A', 'MECP2', 'RXRA', 'KLF4', 'NR4A1', 'ESR2'] 0.0050914854360543165\n",
      "980 / 1846 : MFAP1 10 ['ESR1', 'MYC', 'HIF1A', 'SMAD3', 'CEBPB', 'MECP2', 'RXRA', 'ESR2', 'FOS', 'NR4A1'] 0.006277730729669354\n",
      "981 / 1846 : DMXL2 3 ['KLF4', 'MAFB', 'PAX5'] 0.0018243544341773226\n",
      "982 / 1846 : ALKBH7 10 ['MYC', 'ESR1', 'HIF1A', 'SMAD3', 'JUN', 'CEBPB', 'MECP2', 'CREB5', 'RXRA', 'NR4A1'] 0.009112219414051262\n",
      "983 / 1846 : ZNF37A 9 ['ESR1', 'HIF1A', 'MECP2', 'CEBPB', 'ESR2', 'RXRA', 'KLF4', 'BACH1', 'PPARD'] 0.008062804265273124\n",
      "984 / 1846 : STX6 10 ['ESR1', 'MYC', 'SMAD3', 'JUN', 'MECP2', 'ESR2', 'RXRA', 'FOS', 'NR4A1', 'FOXO3'] 0.009640281130925637\n",
      "985 / 1846 : UBE3D 10 ['ESR1', 'MYC', 'SMAD3', 'MECP2', 'RXRA', 'BACH1', 'ESR2', 'BCL6', 'ATF3', 'FOXO3'] 0.006383713011860175\n",
      "986 / 1846 : KCNQ5 9 ['ESR1', 'KLF4', 'SMAD3', 'MECP2', 'NR4A1', 'FOXO3', 'RXRA', 'ESR2', 'BCL6'] 0.011010935976573533\n",
      "987 / 1846 : CPB2-AS1 6 ['CREB5', 'NR4A1', 'MAFB', 'FOS', 'BACH1', 'E2F3'] 0.006939606235783107\n",
      "988 / 1846 : BCKDHB 10 ['ESR1', 'MYC', 'JUN', 'MECP2', 'RXRA', 'ESR2', 'NR4A1', 'FOXO1', 'NR2C2', 'TAF1'] 0.009582555597894374\n",
      "989 / 1846 : ADGRE5 7 ['ESR1', 'SMAD3', 'MYC', 'KLF4', 'NR4A1', 'MECP2', 'HIF1A'] 0.011330238714167848\n",
      "990 / 1846 : MRTFB 10 ['SMAD3', 'MECP2', 'ESR2', 'NR2C2', 'TAF1', 'BACH1', 'AHR', 'KLF4', 'KLF12', 'ZEB1'] 0.010064801873527237\n",
      "991 / 1846 : AK9 10 ['ESR1', 'MYC', 'HIF1A', 'SMAD3', 'JUN', 'MECP2', 'ESR2', 'RXRA', 'FOS', 'SPI1'] 0.006039279878162052\n",
      "992 / 1846 : ARMH1 10 ['JUN', 'MYC', 'ESR1', 'SMAD3', 'MECP2', 'CEBPB', 'ESR2', 'RXRA', 'FOS', 'NR4A1'] 0.006107141989601783\n",
      "993 / 1846 : UBL3 10 ['MYC', 'ESR1', 'RXRA', 'SMAD3', 'JUN', 'CEBPB', 'MECP2', 'NR4A1', 'ESR2', 'KLF12'] 0.010417285841790172\n",
      "994 / 1846 : CPEB4 8 ['KLF4', 'SPI1', 'NR2C2', 'FOXO1', 'BACH1', 'TAF1', 'ZEB1', 'RUNX2'] 0.01081030406568737\n",
      "995 / 1846 : IDH1 10 ['MYC', 'ESR1', 'HIF1A', 'MECP2', 'CEBPB', 'ESR2', 'RXRA', 'NR4A1', 'KLF4', 'BCL6'] 0.0064905108842925096\n",
      "996 / 1846 : RHBDD1 10 ['MYC', 'ESR1', 'HIF1A', 'SMAD3', 'MECP2', 'FOXO1', 'RXRA', 'ESR2', 'NR4A1', 'NR2C2'] 0.0075070248634748\n",
      "997 / 1846 : FKTN 7 ['ESR1', 'HIF1A', 'KLF4', 'RXRA', 'JUN', 'MECP2', 'FOXO1'] 0.006168583470351898\n",
      "998 / 1846 : UBA7 6 ['RXRA', 'MECP2', 'ESR1', 'SPI1', 'ATF3', 'ETV6'] 0.010482456816431318\n",
      "999 / 1846 : ZDHHC6 10 ['ESR1', 'SMAD3', 'JUN', 'ESR2', 'RXRA', 'FOS', 'KLF4', 'FOXO3', 'NR2C2', 'FOXO1'] 0.010195772610601542\n",
      "1000 / 1846 : LMNA 3 ['MAFB', 'AHR', 'PAX5'] 0.010234229411366116\n",
      "1001 / 1846 : LRP1 9 ['MYC', 'ESR1', 'HIF1A', 'SMAD3', 'JUN', 'MECP2', 'CEBPB', 'CREB5', 'ESR2'] 0.0020324865135039325\n",
      "1002 / 1846 : PRH1 6 ['JDP2', 'MEF2C', 'ESR1', 'MAFB', 'FOXO3', 'NR4A1'] 0.0059314925179793105\n",
      "1003 / 1846 : MARCKS 7 ['MYC', 'SMAD3', 'RXRA', 'NR4A1', 'TAF1', 'KLF12', 'SPI1'] 0.004140952173678725\n",
      "1004 / 1846 : SYTL2 9 ['NR4A1', 'SMAD3', 'ESR1', 'FOXO3', 'MYC', 'RXRA', 'MECP2', 'HIF1A', 'JUN'] 0.010961886266643357\n",
      "1005 / 1846 : HIPK3 10 ['ESR1', 'HIF1A', 'SMAD3', 'JUN', 'MECP2', 'CEBPB', 'ESR2', 'RXRA', 'FOS', 'NR4A1'] 0.006859390209838311\n",
      "1006 / 1846 : ITGAM 7 ['KLF4', 'CREB5', 'JDP2', 'IRF8', 'PAX5', 'MYC', 'ESR1'] 0.010904872572922024\n",
      "1007 / 1846 : ELL2 10 ['MYC', 'ESR1', 'SMAD3', 'JUN', 'MECP2', 'CEBPB', 'NR4A1', 'CREB5', 'ESR2', 'RXRA'] 0.00523732965280197\n",
      "1008 / 1846 : RILPL2 8 ['MYC', 'ESR1', 'HIF1A', 'SMAD3', 'JUN', 'MECP2', 'CEBPB', 'FOS'] 0.006903232598287611\n",
      "1009 / 1846 : SPTLC2 10 ['MYC', 'ESR1', 'HIF1A', 'SMAD3', 'JUN', 'MECP2', 'ESR2', 'RXRA', 'BCL6', 'NR2C2'] 0.0062283642460700455\n",
      "1010 / 1846 : IPMK 5 ['ATF3', 'KLF4', 'ESR2', 'RXRA', 'MYC'] 0.003780316956435185\n",
      "1011 / 1846 : MLLT3 10 ['MYC', 'ESR1', 'SMAD3', 'ESR2', 'MECP2', 'RXRA', 'TAF1', 'BACH1', 'KLF12', 'RUNX2'] 0.016769010777058304\n",
      "1012 / 1846 : HIVEP3 7 ['NR4A1', 'ESR1', 'AHR', 'KLF4', 'TFCP2', 'ATF3', 'MYC'] 0.015501002761495212\n",
      "1013 / 1846 : MTERF4 9 ['ESR1', 'HIF1A', 'SMAD3', 'MECP2', 'CEBPB', 'RXRA', 'ESR2', 'KLF4', 'NR4A1'] 0.012316200373937367\n",
      "1014 / 1846 : C1orf56 7 ['ESR1', 'MYC', 'MECP2', 'HIF1A', 'SMAD3', 'JUN', 'NR4A1'] 0.006405991778902934\n",
      "1015 / 1846 : SRGN 10 ['MYC', 'ESR1', 'JUN', 'HIF1A', 'SMAD3', 'MECP2', 'CEBPB', 'NR4A1', 'RXRA', 'ESR2'] 0.012762716103726857\n",
      "1016 / 1846 : CPNE8 7 ['ESR1', 'JUN', 'SMAD3', 'CREB5', 'MECP2', 'RXRA', 'BCL6'] 0.005875027430579306\n",
      "1017 / 1846 : SLC25A25 7 ['ESR1', 'MYC', 'HIF1A', 'SMAD3', 'JUN', 'CREB5', 'CEBPB'] 0.005778829635478027\n",
      "1018 / 1846 : SPIDR 6 ['CREB5', 'MYC', 'CEBPB', 'ESR1', 'FOS', 'SMAD3'] 0.014306428494299812\n",
      "1019 / 1846 : CSTA 9 ['MYC', 'ESR1', 'HIF1A', 'SMAD3', 'JUN', 'MECP2', 'ESR2', 'RXRA', 'FOS'] 0.004525365349253411\n",
      "1020 / 1846 : VOPP1 10 ['MECP2', 'MYC', 'ESR1', 'SMAD3', 'JUN', 'FOS', 'RXRA', 'BCL6', 'ATF3', 'BACH1'] 0.009222883260422662\n",
      "1021 / 1846 : RPS27A 10 ['MYC', 'ESR1', 'HIF1A', 'SMAD3', 'JUN', 'MECP2', 'ESR2', 'RXRA', 'FOS', 'FOXO1'] 0.012788293026889365\n",
      "1022 / 1846 : PLAC8 5 ['SPI1', 'RFX2', 'KLF4', 'IRF7', 'ESR1'] 0.021502254958505097\n",
      "1023 / 1846 : NUP50-DT 8 ['MYC', 'ESR1', 'SMAD3', 'SPI1', 'MECP2', 'RXRA', 'NR4A1', 'ESR2'] 0.00462074534328157\n",
      "1024 / 1846 : MFSD11 5 ['MAFB', 'KLF4', 'AHR', 'ESR1', 'NR4A1'] 0.01037722262614853\n",
      "1025 / 1846 : ARL13B 7 ['HIF1A', 'ESR1', 'MECP2', 'ESR2', 'JDP2', 'TAF1', 'NR2C2'] 0.012538197959612944\n",
      "1026 / 1846 : SFXN5 3 ['NR4A1', 'MEF2C', 'IRF8'] 0.0029579619062871636\n",
      "1027 / 1846 : COG2 10 ['ESR1', 'MYC', 'SMAD3', 'MECP2', 'SPI1', 'ESR2', 'RXRA', 'NR2C2', 'BACH1', 'TAF1'] 0.006752014318090117\n",
      "1028 / 1846 : FBXO33 9 ['ESR1', 'MYC', 'JUN', 'MECP2', 'CEBPB', 'FOS', 'SPI1', 'RXRA', 'ESR2'] 0.010091619530965691\n",
      "1029 / 1846 : SOS2 10 ['ESR1', 'MYC', 'HIF1A', 'SMAD3', 'JUN', 'MECP2', 'CEBPB', 'NR4A1', 'ESR2', 'FOS'] 0.00906633992009888\n",
      "1031 / 1846 : LRBA 5 ['RXRA', 'ATF3', 'IRF8', 'NFIA', 'IRF7'] 0.010127568367939864\n",
      "1032 / 1846 : RPL35A 9 ['MYC', 'ESR1', 'JUN', 'RXRA', 'SPI1', 'SMAD3', 'HIF1A', 'MECP2', 'FOXO3'] 0.01141570135830226\n",
      "1033 / 1846 : MAST4 9 ['CREB5', 'ESR1', 'SPI1', 'MYC', 'SMAD3', 'JUN', 'MECP2', 'CEBPB', 'ESR2'] 0.008064809291565748\n",
      "1034 / 1846 : RNF115 10 ['ESR1', 'MYC', 'HIF1A', 'SMAD3', 'JUN', 'MECP2', 'CEBPB', 'RXRA', 'ESR2', 'FOS'] 0.008816307332721532\n",
      "1035 / 1846 : TOGARAM1 4 ['JDP2', 'BACH1', 'IRF7', 'TFCP2'] 0.00888301508763035\n",
      "1036 / 1846 : C9orf85 6 ['CREB5', 'SPI1', 'ESR1', 'MYC', 'HIF1A', 'CEBPB'] 0.008307899467554676\n"
     ]
    },
    {
     "name": "stderr",
     "output_type": "stream",
     "text": [
      "/Users/yijwang-admin/Documents/Research/GRN_PPI/L0GL_PPI_GRN/minFunc/polyinterp.py:40: RuntimeWarning: divide by zero encountered in scalar divide\n",
      "  t = points[notMinPos, 0] - (points[notMinPos, 0] - points[minPos, 0]) * ((points[notMinPos, 2] + d2 - d1) / (points[notMinPos, 2] - points[minPos, 2] + 2 * d2))\n"
     ]
    },
    {
     "name": "stdout",
     "output_type": "stream",
     "text": [
      "1037 / 1846 : ITGB7 10 ['ESR1', 'MYC', 'SMAD3', 'HIF1A', 'JUN', 'MECP2', 'CEBPB', 'CREB5', 'KLF4', 'FOS'] 0.02103259314651509\n",
      "1039 / 1846 : TTC39C 10 ['ESR1', 'MYC', 'JUN', 'SMAD3', 'HIF1A', 'CEBPB', 'MECP2', 'KLF4', 'RXRA', 'ESR2'] 0.015181337524674208\n",
      "1040 / 1846 : CCDC141 9 ['ESR1', 'SMAD3', 'MECP2', 'KLF4', 'NR4A1', 'RXRA', 'ESR2', 'NR2C2', 'TAF1'] 0.008427505472517081\n",
      "1041 / 1846 : RNF157 10 ['ESR1', 'MYC', 'HIF1A', 'JUN', 'SMAD3', 'CEBPB', 'MECP2', 'ESR2', 'NR4A1', 'RXRA'] 0.009308970812895195\n",
      "1042 / 1846 : NFIA 8 ['MYC', 'ESR1', 'MECP2', 'SMAD3', 'HIF1A', 'ESR2', 'RXRA', 'NFIA'] 2.1155851579786216e-06\n",
      "1043 / 1846 : RCN2 10 ['MYC', 'ESR1', 'HIF1A', 'JUN', 'SMAD3', 'MECP2', 'CEBPB', 'FOS', 'NR4A1', 'ESR2'] 0.011797112871899478\n",
      "1044 / 1846 : CCDC124 8 ['CREB5', 'SPI1', 'RXRA', 'AHR', 'CEBPB', 'MYC', 'ESR1', 'NR4A1'] 0.01203960978763479\n",
      "1045 / 1846 : GALNT3 10 ['ESR1', 'SMAD3', 'HIF1A', 'MECP2', 'KLF4', 'ESR2', 'RXRA', 'FOS', 'BCL6', 'NR2C2'] 0.014853994794467591\n",
      "1046 / 1846 : SLC25A13 9 ['ESR1', 'JUN', 'SMAD3', 'RXRA', 'ESR2', 'NR4A1', 'FOXO3', 'NR2C2', 'KLF4'] 0.005815300711814744\n",
      "1047 / 1846 : XKR6 9 ['ESR1', 'KLF4', 'HIF1A', 'SMAD3', 'MECP2', 'JDP2', 'RXRA', 'NR4A1', 'ESR2'] 0.008267853296217034\n",
      "1049 / 1846 : OSBPL5 9 ['MYC', 'ESR1', 'SPI1', 'HIF1A', 'SMAD3', 'JUN', 'NR4A1', 'MECP2', 'CEBPB'] 0.021061608254586514\n",
      "1050 / 1846 : SRBD1 7 ['ESR1', 'JUN', 'SMAD3', 'MECP2', 'FOS', 'RXRA', 'ESR2'] 0.009111381490018288\n",
      "1051 / 1846 : TMEM120B 10 ['ESR1', 'MYC', 'HIF1A', 'JUN', 'SMAD3', 'CEBPB', 'MECP2', 'CREB5', 'NR4A1', 'ESR2'] 0.008397114877569166\n",
      "1052 / 1846 : VPS35L 10 ['ESR1', 'MYC', 'SMAD3', 'JUN', 'MECP2', 'CEBPB', 'RXRA', 'ESR2', 'FOS', 'NR4A1'] 0.008272497516032254\n",
      "1053 / 1846 : TRIM25 10 ['HIF1A', 'MYC', 'ESR1', 'SMAD3', 'MECP2', 'RXRA', 'ESR2', 'BCL6', 'NR2C2', 'FOXO1'] 0.005904549040871544\n",
      "1054 / 1846 : PPARA 3 ['PPARA', 'MYC', 'ESR1'] 2.271518983616699e-06\n",
      "1055 / 1846 : PRKACB 10 ['CREB5', 'JDP2', 'ESR1', 'SMAD3', 'JUN', 'MECP2', 'RXRA', 'ESR2', 'FOS', 'BCL6'] 0.011258582926252446\n",
      "1056 / 1846 : HDAC9 10 ['ESR1', 'HIF1A', 'JUN', 'MECP2', 'ESR2', 'RXRA', 'FOS', 'BCL6', 'ATF3', 'FOXO3'] 0.007238578877115386\n",
      "1057 / 1846 : SRD5A1 9 ['MYC', 'ESR1', 'SMAD3', 'MECP2', 'CEBPB', 'CREB5', 'RXRA', 'ESR2', 'BCL6'] 0.006072877762287467\n",
      "1058 / 1846 : C6orf89 6 ['KLF4', 'BACH2', 'ESR1', 'CREB5', 'NR2C2', 'CEBPD'] 0.009373083178500767\n",
      "1059 / 1846 : TBC1D20 6 ['HIF1A', 'CEBPB', 'PAX5', 'FOS', 'RXRA', 'MYC'] 0.011873667194072601\n",
      "1060 / 1846 : VKORC1L1 9 ['MYC', 'ESR1', 'HIF1A', 'SMAD3', 'JUN', 'MECP2', 'CEBPB', 'RXRA', 'FOS'] 0.010638752323533854\n",
      "1062 / 1846 : DAPK1 10 ['JUN', 'ESR2', 'FOS', 'NR4A1', 'BCL6', 'NR2C2', 'RUNX2', 'NFYC', 'IRF1', 'LEF1'] 0.0028362227184563875\n",
      "1063 / 1846 : FXN 3 ['IRF8', 'BACH1', 'SOX4'] 0.006976553687833888\n",
      "1064 / 1846 : IKZF3 10 ['ESR1', 'MYC', 'SMAD3', 'JUN', 'HIF1A', 'MECP2', 'CEBPB', 'CREB5', 'FOS', 'ATF3'] 0.00979274457691023\n",
      "1065 / 1846 : ATG2A 9 ['ESR1', 'MYC', 'SMAD3', 'HIF1A', 'JUN', 'CEBPB', 'RXRA', 'MECP2', 'ESR2'] 0.01299306574103715\n",
      "1066 / 1846 : FAM117B 10 ['MECP2', 'MYC', 'ESR1', 'SMAD3', 'RXRA', 'ESR2', 'NR4A1', 'KLF4', 'FOXO3', 'FOXO1'] 0.007133873583156237\n",
      "1067 / 1846 : MYO1E 8 ['ESR1', 'SMAD3', 'JUN', 'MECP2', 'ESR2', 'RXRA', 'FOS', 'NR2C2'] 0.0027988884754912447\n",
      "1068 / 1846 : SAT1 10 ['ESR1', 'MYC', 'HIF1A', 'JUN', 'SMAD3', 'MECP2', 'CEBPB', 'ESR2', 'RXRA', 'FOS'] 0.004813931744520466\n",
      "1069 / 1846 : RFX2 3 ['RFX2', 'MYC', 'ESR1'] 1.2263001698076598e-06\n",
      "1070 / 1846 : TECPR1 9 ['ESR1', 'MYC', 'MEF2C', 'SMAD3', 'HIF1A', 'CEBPB', 'MECP2', 'RXRA', 'ESR2'] 0.006916350219452021\n",
      "1071 / 1846 : SMARCAL1 8 ['ESR1', 'SMAD3', 'JUN', 'KLF4', 'MECP2', 'ESR2', 'RXRA', 'FOS'] 0.009897425373015904\n",
      "1072 / 1846 : EVI5 3 ['CREB5', 'KLF4', 'MAFB'] 0.003255587081829478\n",
      "1073 / 1846 : TMEM260 8 ['SMAD3', 'JUN', 'MECP2', 'ESR2', 'RXRA', 'NR2C2', 'ZEB1', 'RUNX2'] 0.007151952059807676\n",
      "1074 / 1846 : DUSP10 7 ['CREB5', 'ESR1', 'NR4A1', 'BCL6', 'RXRA', 'MYC', 'SPI1'] 0.010814833455722692\n",
      "1075 / 1846 : HIP1 10 ['ESR1', 'MYC', 'SMAD3', 'JUN', 'MECP2', 'NR4A1', 'CEBPB', 'RXRA', 'KLF4', 'ESR2'] 0.012765669324602586\n",
      "1076 / 1846 : NUMB 10 ['SMAD3', 'HIF1A', 'JUN', 'MECP2', 'CEBPB', 'KLF4', 'RXRA', 'ESR2', 'FOS', 'BCL6'] 0.005152942005153307\n",
      "1077 / 1846 : SLC25A12 10 ['ESR1', 'MYC', 'NR4A1', 'HIF1A', 'KLF4', 'SMAD3', 'JUN', 'MECP2', 'CEBPB', 'ESR2'] 0.008220022000085354\n",
      "1078 / 1846 : MRPL1 10 ['CREB5', 'MYC', 'ESR1', 'SMAD3', 'NR4A1', 'JUN', 'MECP2', 'ESR2', 'ATF3', 'BCL6'] 0.010314236437222256\n",
      "1079 / 1846 : SEPTIN11 9 ['ESR1', 'MYC', 'CREB5', 'HIF1A', 'NR4A1', 'RXRA', 'MECP2', 'CEBPB', 'SPI1'] 0.008540025228197466\n",
      "1080 / 1846 : TMEM164 10 ['SMAD3', 'JUN', 'MECP2', 'RXRA', 'ESR2', 'FOS', 'FOXO3', 'TAF1', 'KLF4', 'NR2C2'] 0.0069084711435491875\n",
      "1081 / 1846 : EPB41L3 9 ['HIF1A', 'MECP2', 'CEBPB', 'ESR2', 'RXRA', 'NR4A1', 'NR2C2', 'FOXO1', 'TAF1'] 0.0023319329436288657\n",
      "1082 / 1846 : RPS6KA4 10 ['ESR1', 'MYC', 'JUN', 'SMAD3', 'HIF1A', 'MECP2', 'CEBPB', 'RXRA', 'ESR2', 'FOS'] 0.006352921524784905\n",
      "1083 / 1846 : LINC00649 5 ['PAX5', 'RFX2', 'ATF3', 'ZFHX3', 'HIF1A'] 0.013731597527847484\n",
      "1084 / 1846 : PIGL 8 ['CREB5', 'KLF4', 'NR4A1', 'ESR1', 'MYC', 'HIF1A', 'BACH1', 'SMAD3'] 0.012127680688123414\n",
      "1085 / 1846 : AMN1 8 ['MYC', 'ESR1', 'SMAD3', 'JUN', 'CEBPB', 'FOS', 'ESR2', 'RXRA'] 0.00829657931010885\n",
      "1086 / 1846 : SAMD4A 10 ['HIF1A', 'MYC', 'ESR1', 'SMAD3', 'MECP2', 'ESR2', 'RXRA', 'FOS', 'NR4A1', 'BCL6'] 0.0024141213978483528\n",
      "1087 / 1846 : CEACAM21 4 ['ATF3', 'SOX4', 'PAX5', 'KLF12'] 0.008856291306640002\n",
      "1088 / 1846 : GABPB1 10 ['ESR1', 'MYC', 'MECP2', 'CEBPB', 'RXRA', 'ESR2', 'FOS', 'NR4A1', 'NR2C2', 'FOXO3'] 0.008246176540719479\n",
      "1089 / 1846 : BLOC1S4 10 ['SPI1', 'MYC', 'RXRA', 'ESR1', 'SMAD3', 'CREB5', 'JUN', 'NR4A1', 'HIF1A', 'FOS'] 0.013906173100883304\n",
      "1090 / 1846 : SDCCAG8 10 ['HIF1A', 'SMAD3', 'MECP2', 'RXRA', 'BCL6', 'TAF1', 'AHR', 'KLF12', 'RUNX2', 'RELB'] 0.011702671950980757\n",
      "1091 / 1846 : RORA 3 ['RORA', 'MYC', 'ESR1'] 4.4174552974472156e-07\n"
     ]
    },
    {
     "name": "stderr",
     "output_type": "stream",
     "text": [
      "/Users/yijwang-admin/Documents/Research/GRN_PPI/L0GL_PPI_GRN/minFunc/polyinterp.py:40: RuntimeWarning: divide by zero encountered in scalar divide\n",
      "  t = points[notMinPos, 0] - (points[notMinPos, 0] - points[minPos, 0]) * ((points[notMinPos, 2] + d2 - d1) / (points[notMinPos, 2] - points[minPos, 2] + 2 * d2))\n"
     ]
    },
    {
     "name": "stdout",
     "output_type": "stream",
     "text": [
      "1092 / 1846 : STMN3 9 ['ESR1', 'MYC', 'SMAD3', 'JUN', 'MECP2', 'CEBPB', 'FOS', 'ESR2', 'FOXO3'] 0.015487237525889467\n",
      "1093 / 1846 : APOBEC3A 10 ['SMAD3', 'MYC', 'ESR1', 'HIF1A', 'JUN', 'MECP2', 'CEBPB', 'ESR2', 'RXRA', 'FOS'] 0.0038991610724171733\n",
      "1094 / 1846 : TOR1B 9 ['MYC', 'ESR1', 'HIF1A', 'SMAD3', 'JUN', 'NR4A1', 'MECP2', 'CEBPB', 'RXRA'] 0.004767111469900603\n",
      "1095 / 1846 : CEP295 10 ['ESR1', 'JUN', 'SMAD3', 'MECP2', 'ESR2', 'FOS', 'RXRA', 'BCL6', 'FOXO1', 'KLF4'] 0.008549433012903484\n",
      "1096 / 1846 : PRKN 10 ['SMAD3', 'ESR1', 'RXRA', 'ESR2', 'BCL6', 'FOXO3', 'CREB5', 'FOXO1', 'TAF1', 'ATF3'] 0.008711915382414065\n",
      "1097 / 1846 : PSTPIP2 9 ['ESR1', 'MYC', 'SMAD3', 'JUN', 'MECP2', 'CEBPB', 'CREB5', 'ESR2', 'RXRA'] 0.00738618298374991\n",
      "1098 / 1846 : ZNF43 10 ['ESR1', 'SMAD3', 'JUN', 'MECP2', 'ESR2', 'RXRA', 'FOS', 'BCL6', 'FOXO1', 'KLF4'] 0.0065863091542704\n",
      "1099 / 1846 : MAN1A1 10 ['ESR1', 'MYC', 'CREB5', 'SMAD3', 'MECP2', 'RXRA', 'ESR2', 'BCL6', 'KLF4', 'FOS'] 0.024939638654339527\n",
      "1101 / 1846 : USP37 10 ['MYC', 'ESR1', 'SMAD3', 'HIF1A', 'SPI1', 'JUN', 'MECP2', 'NR4A1', 'ESR2', 'RXRA'] 0.00682102555071358\n",
      "1102 / 1846 : DHRS7B 7 ['MYC', 'ESR1', 'HIF1A', 'SMAD3', 'JUN', 'RXRA', 'MECP2'] 0.005764625841845836\n",
      "1103 / 1846 : NCF1 7 ['MYC', 'ESR1', 'SMAD3', 'JUN', 'CREB5', 'MECP2', 'CEBPB'] 0.005439474983844757\n",
      "1104 / 1846 : BHLHE40 9 ['RXRA', 'KLF4', 'CEBPB', 'MYC', 'HIF1A', 'ESR1', 'SMAD3', 'ATF3', 'JUN'] 0.023209946246418603\n",
      "1105 / 1846 : HEATR5A 10 ['ESR1', 'MYC', 'HIF1A', 'MECP2', 'RXRA', 'ESR2', 'FOS', 'BCL6', 'FOXO3', 'KLF4'] 0.007062354300833249\n",
      "1106 / 1846 : IL4R 10 ['MYC', 'ESR1', 'HIF1A', 'SMAD3', 'JUN', 'MECP2', 'CEBPB', 'ESR2', 'RXRA', 'FOS'] 0.004351636480819196\n",
      "1107 / 1846 : CBFA2T2 10 ['ESR1', 'MYC', 'CREB5', 'HIF1A', 'JUN', 'SMAD3', 'CEBPB', 'MECP2', 'ESR2', 'RXRA'] 0.00934240934547246\n",
      "1109 / 1846 : C9orf72 7 ['MECP2', 'ESR1', 'SMAD3', 'KLF4', 'ESR2', 'NR2C2', 'FOXO3'] 0.002579368661877043\n",
      "1110 / 1846 : UFC1 6 ['SPI1', 'KLF4', 'MEF2C', 'HIF1A', 'AHR', 'RUNX2'] 0.012559820638915711\n",
      "1111 / 1846 : CRISPLD2 4 ['CREB5', 'MYC', 'ESR1', 'JUN'] 0.0010535685123552636\n",
      "1112 / 1846 : VMP1 10 ['HIF1A', 'MYC', 'ESR1', 'SMAD3', 'JUN', 'MECP2', 'CEBPB', 'ESR2', 'RXRA', 'FOS'] 0.005697096487152608\n",
      "1113 / 1846 : ZNF830 7 ['MYC', 'ESR1', 'RXRA', 'BCL6', 'KLF4', 'NR4A1', 'JUN'] 0.00892213645781584\n",
      "1114 / 1846 : PTPN7 6 ['NR4A1', 'RXRA', 'MAFB', 'JDP2', 'TAF1', 'BCL6'] 0.010408942255898182\n",
      "1115 / 1846 : SASH1 4 ['KLF4', 'ESR1', 'SMAD3', 'JUN'] 0.0015655898699170915\n",
      "1116 / 1846 : ERCC3 9 ['MYC', 'ESR1', 'NR4A1', 'SMAD3', 'BACH1', 'JUN', 'MECP2', 'ATF3', 'FOS'] 0.008603010416748798\n",
      "1117 / 1846 : CRTC3 10 ['KLF4', 'ESR1', 'MECP2', 'SMAD3', 'JUN', 'SPI1', 'CEBPB', 'FOS', 'ESR2', 'RXRA'] 0.00892992789560925\n",
      "1118 / 1846 : TNFAIP3 10 ['ESR1', 'KLF4', 'MYC', 'SMAD3', 'HIF1A', 'JUN', 'MECP2', 'FOS', 'CEBPB', 'NR4A1'] 0.01412452693614949\n",
      "1119 / 1846 : YPEL2 10 ['MYC', 'ESR1', 'HIF1A', 'SMAD3', 'MECP2', 'ESR2', 'RXRA', 'NR4A1', 'BCL6', 'FOXO3'] 0.008221041544573307\n",
      "1120 / 1846 : TESPA1 10 ['ESR1', 'SMAD3', 'JUN', 'ESR2', 'RXRA', 'FOS', 'SPI1', 'BCL6', 'NR4A1', 'KLF4'] 0.012600859555651302\n",
      "1121 / 1846 : AK5 8 ['ESR1', 'CEBPB', 'NR4A1', 'RXRA', 'FOXO3', 'TAF1', 'BACH1', 'RUNX2'] 0.01693037706369254\n",
      "1123 / 1846 : CD68 9 ['MYC', 'ESR1', 'SMAD3', 'HIF1A', 'JUN', 'MECP2', 'CEBPB', 'CREB5', 'RXRA'] 0.0026140272760952076\n",
      "1124 / 1846 : NPL 7 ['ESR1', 'MYC', 'JUN', 'HIF1A', 'SMAD3', 'CEBPB', 'MECP2'] 0.00482617399751163\n",
      "1125 / 1846 : ATP8A1 8 ['ESR1', 'MYC', 'HIF1A', 'SMAD3', 'JUN', 'MECP2', 'SPI1', 'RXRA'] 0.007841493316696228\n",
      "1126 / 1846 : PPM1L 3 ['ATF3', 'KLF4', 'TCF7'] 0.02155625217462001\n",
      "1127 / 1846 : CSTB 9 ['MYC', 'ESR1', 'HIF1A', 'JUN', 'SMAD3', 'CEBPB', 'MECP2', 'CREB5', 'FOS'] 0.011930957720797827\n",
      "1128 / 1846 : MCM5 10 ['MYC', 'ESR1', 'JUN', 'HIF1A', 'SMAD3', 'MECP2', 'CEBPB', 'JDP2', 'ESR2', 'ATF3'] 0.013369753909073544\n",
      "1129 / 1846 : ENSA 8 ['CREB5', 'SPI1', 'ESR1', 'MYC', 'JUN', 'SMAD3', 'PAX5', 'RXRA'] 0.011289596353639554\n",
      "1130 / 1846 : EIF4G3 6 ['NR4A1', 'BCL6', 'ESR1', 'SMAD3', 'SPI1', 'RXRA'] 0.01537112399407021\n",
      "1131 / 1846 : MAGED2 10 ['ESR1', 'HIF1A', 'SMAD3', 'MECP2', 'CEBPB', 'RXRA', 'ESR2', 'NR4A1', 'CREB5', 'KLF4'] 0.011315915260960187\n",
      "1132 / 1846 : EIF4ENIF1 6 ['NR4A1', 'MYC', 'ESR1', 'RXRA', 'MEF2C', 'SMAD3'] 0.006265440159887329\n",
      "1133 / 1846 : RPS25 7 ['MYC', 'ESR1', 'JUN', 'SMAD3', 'MECP2', 'FOXO3', 'FOS'] 0.010111796623440507\n",
      "1134 / 1846 : TRIP4 10 ['ESR1', 'MYC', 'SMAD3', 'MECP2', 'NR4A1', 'CEBPB', 'ESR2', 'RXRA', 'KLF4', 'FOXO1'] 0.005860436467701024\n",
      "1135 / 1846 : CD86 10 ['ESR1', 'SMAD3', 'RXRA', 'ESR2', 'NR2C2', 'KLF12', 'NFYC', 'PPARA', 'E2F3', 'PRDM1'] 0.0034374246181607423\n",
      "1136 / 1846 : EHBP1 10 ['MYC', 'KLF4', 'NR2C2', 'BACH1', 'TAF1', 'KLF12', 'RUNX2', 'TFCP2', 'NFYC', 'LEF1'] 0.010144128220831428\n",
      "1137 / 1846 : MXI1 3 ['MXI1', 'MYC', 'ESR1'] 2.186031707206021e-06\n",
      "1138 / 1846 : CCDC18 8 ['ESR1', 'MYC', 'HIF1A', 'RXRA', 'SMAD3', 'JUN', 'MECP2', 'CREB5'] 0.006299548928158158\n",
      "1139 / 1846 : ID2 10 ['MYC', 'ESR1', 'SMAD3', 'JUN', 'HIF1A', 'MECP2', 'CEBPB', 'KLF4', 'SPI1', 'ESR2'] 0.02300688182350827\n",
      "1140 / 1846 : CEP78 7 ['SPI1', 'CEBPB', 'TAF1', 'RXRA', 'BACH1', 'FOS', 'PPARD'] 0.026841602678067712\n",
      "1141 / 1846 : SCIMP 3 ['MAFB', 'CEBPB', 'FOS'] 0.0047674379875755095\n",
      "1142 / 1846 : GNAQ 6 ['ESR1', 'SMAD3', 'HIF1A', 'JUN', 'MECP2', 'NR4A1'] 0.009714523758404795\n",
      "1143 / 1846 : ATP2B1 4 ['JDP2', 'RXRA', 'MAFB', 'IRF8'] 0.010229482360436856\n",
      "1144 / 1846 : IGF2BP2 4 ['CREB5', 'ESR1', 'SPI1', 'HIF1A'] 0.002490496023772526\n",
      "1145 / 1846 : FBXL5 3 ['PAX5', 'NR4A1', 'RFX2'] 0.006937491949713695\n",
      "1146 / 1846 : ANKRD36B 10 ['MYC', 'ESR1', 'RXRA', 'SMAD3', 'HIF1A', 'MECP2', 'JUN', 'FOS', 'MEF2C', 'RFX2'] 0.014108511860323103\n",
      "1147 / 1846 : MPEG1 10 ['ESR1', 'MYC', 'SMAD3', 'JUN', 'MECP2', 'ESR2', 'RXRA', 'FOS', 'CREB5', 'BCL6'] 0.0023558716688332304\n",
      "1148 / 1846 : DNAJA1 7 ['MYC', 'ESR1', 'SMAD3', 'HIF1A', 'JUN', 'MECP2', 'CREB5'] 0.011342948486507392\n",
      "1149 / 1846 : IRF7 3 ['IRF7', 'ESR1', 'MYC'] 1.128591843720196e-06\n",
      "1150 / 1846 : TAPT1-AS1 10 ['SMAD3', 'MECP2', 'RXRA', 'TAF1', 'KLF4', 'BACH1', 'KLF12', 'ZEB1', 'TFCP2', 'CLOCK'] 0.003965497353587403\n",
      "1151 / 1846 : CDK14 9 ['SMAD3', 'ESR1', 'MYC', 'CEBPB', 'ESR2', 'RXRA', 'NR4A1', 'TAF1', 'CREB5'] 0.0011536801286062286\n",
      "1152 / 1846 : GYPC 10 ['ESR1', 'MYC', 'SMAD3', 'HIF1A', 'CEBPB', 'JUN', 'RXRA', 'MECP2', 'ESR2', 'FOS'] 0.011273175252109632\n",
      "1153 / 1846 : APOBEC3G 7 ['MAFB', 'NR4A1', 'HIF1A', 'SPI1', 'ETV6', 'AHR', 'CREB5'] 0.019868473827934247\n",
      "1154 / 1846 : PTPRK 3 ['MAFB', 'RXRA', 'CREB5'] 0.003562069862984789\n",
      "1155 / 1846 : BRWD3 10 ['ESR1', 'HIF1A', 'SMAD3', 'MECP2', 'ESR2', 'RXRA', 'FOXO3', 'KLF4', 'FOXO1', 'TAF1'] 0.007074951535821505\n",
      "1156 / 1846 : ZNF251 10 ['MYC', 'ESR1', 'SMAD3', 'HIF1A', 'MECP2', 'RXRA', 'SPI1', 'CREB5', 'ESR2', 'BCL6'] 0.00881462058748957\n",
      "1157 / 1846 : TSC22D2 10 ['ESR1', 'MYC', 'SMAD3', 'JUN', 'RXRA', 'CREB5', 'MECP2', 'CEBPB', 'NR4A1', 'ESR2'] 0.006666736578576294\n",
      "1158 / 1846 : LYZ 10 ['ESR1', 'MYC', 'HIF1A', 'SMAD3', 'JUN', 'MECP2', 'RXRA', 'BCL6', 'NR4A1', 'NR2C2'] 0.004608016463690952\n",
      "1159 / 1846 : FCMR 6 ['CEBPB', 'KLF4', 'NR4A1', 'ESR1', 'MYC', 'CREB5'] 0.011259040359979806\n",
      "1160 / 1846 : SKAP1 8 ['ESR1', 'MYC', 'JUN', 'SMAD3', 'CEBPB', 'MECP2', 'KLF4', 'FOS'] 0.007746637851758622\n",
      "1161 / 1846 : GZMM 6 ['RXRA', 'SPI1', 'ATF3', 'BACH1', 'AHR', 'MEF2C'] 0.02227292267665902\n",
      "1162 / 1846 : CD3E 8 ['SPI1', 'ESR1', 'MYC', 'BCL6', 'JUN', 'HIF1A', 'SMAD3', 'ESR2'] 0.016617019683382202\n",
      "1163 / 1846 : GPCPD1 7 ['ESR1', 'NR4A1', 'MYC', 'SMAD3', 'KLF4', 'JUN', 'MECP2'] 0.007376137990273004\n",
      "1164 / 1846 : SCLY 10 ['MYC', 'ESR1', 'SMAD3', 'JUN', 'MECP2', 'CEBPB', 'NR4A1', 'FOS', 'ESR2', 'RXRA'] 0.006356114057138618\n",
      "1165 / 1846 : CPEB3 10 ['MYC', 'ESR1', 'JUN', 'HIF1A', 'SMAD3', 'MECP2', 'RXRA', 'ESR2', 'FOS', 'FOXO1'] 0.004946091006378699\n",
      "1166 / 1846 : VCPKMT 5 ['CREB5', 'BACH1', 'MEF2C', 'NR4A1', 'MECP2'] 0.008612165492111213\n",
      "1167 / 1846 : DNAJC17 4 ['RXRA', 'NR4A1', 'ESR1', 'CEBPD'] 0.005525649115127775\n",
      "1168 / 1846 : PBX3 3 ['PBX3', 'ESR1', 'MYC'] 1.2427337771913507e-06\n",
      "1169 / 1846 : GBP4 8 ['CREB5', 'KLF4', 'ESR1', 'MYC', 'SMAD3', 'JUN', 'RXRA', 'CEBPB'] 0.008649200579038646\n",
      "1171 / 1846 : NUBPL 7 ['CREB5', 'ESR1', 'MYC', 'HIF1A', 'MECP2', 'JDP2', 'KLF4'] 0.007057661127421212\n",
      "1172 / 1846 : CD247 9 ['ESR1', 'MYC', 'SMAD3', 'SPI1', 'HIF1A', 'JUN', 'KLF4', 'MECP2', 'CEBPB'] 0.018064551170841662\n",
      "1173 / 1846 : GNS 9 ['MYC', 'ESR1', 'HIF1A', 'SMAD3', 'JUN', 'MECP2', 'CEBPB', 'CREB5', 'ESR2'] 0.006619055474410632\n",
      "1174 / 1846 : NSUN6 9 ['HIF1A', 'SMAD3', 'MECP2', 'ESR2', 'RXRA', 'NR4A1', 'CREB5', 'ATF3', 'NR2C2'] 0.009517166879812355\n",
      "1175 / 1846 : ATAD2 9 ['ESR1', 'MYC', 'RXRA', 'HIF1A', 'SMAD3', 'JUN', 'CEBPB', 'FOS', 'TFCP2'] 0.008478817585900467\n",
      "1176 / 1846 : PARP14 6 ['ESR1', 'NR4A1', 'MYC', 'CREB5', 'RXRA', 'JUN'] 0.00779122302629785\n",
      "1177 / 1846 : EXOSC8 9 ['ESR1', 'JUN', 'HIF1A', 'SMAD3', 'MECP2', 'RXRA', 'CEBPB', 'ESR2', 'FOS'] 0.007803869330996612\n",
      "1178 / 1846 : CEBPD 3 ['CEBPD', 'MYC', 'ESR1'] 5.009123750343935e-07\n",
      "1179 / 1846 : PHTF1 10 ['MYC', 'ESR1', 'HIF1A', 'JUN', 'SMAD3', 'CEBPB', 'MECP2', 'FOS', 'ESR2', 'NR4A1'] 0.008699369093945373\n",
      "1180 / 1846 : MIR646HG 10 ['ESR1', 'CREB5', 'MYC', 'SMAD3', 'KLF4', 'ESR2', 'RXRA', 'BCL6', 'SPI1', 'NR2C2'] 0.008826198260120247\n",
      "1181 / 1846 : WWP2 10 ['HIF1A', 'MYC', 'ESR1', 'SMAD3', 'JUN', 'MECP2', 'RXRA', 'SPI1', 'ESR2', 'FOS'] 0.008583539467664231\n",
      "1182 / 1846 : ISCA1 8 ['ESR1', 'JUN', 'SMAD3', 'RXRA', 'MECP2', 'FOS', 'KLF4', 'ESR2'] 0.014198844391834727\n",
      "1183 / 1846 : MAF 3 ['MAF', 'MYC', 'SMAD3'] 1.4117986670650275e-06\n",
      "1184 / 1846 : PRR14L 10 ['ESR1', 'MYC', 'HIF1A', 'SMAD3', 'JUN', 'MECP2', 'RXRA', 'ESR2', 'FOS', 'NR4A1'] 0.007264319720740136\n",
      "1185 / 1846 : TENT5C 10 ['ESR1', 'SPI1', 'CREB5', 'NR4A1', 'MYC', 'SMAD3', 'JUN', 'RXRA', 'MECP2', 'CEBPB'] 0.007910568963369445\n",
      "1186 / 1846 : RIN3 10 ['ESR1', 'MYC', 'HIF1A', 'JUN', 'SMAD3', 'MECP2', 'CEBPB', 'NR4A1', 'ESR2', 'RXRA'] 0.016593307703045422\n",
      "1187 / 1846 : ZNF277 5 ['MYC', 'ESR1', 'MECP2', 'ESR2', 'JDP2'] 0.005776390041651775\n",
      "1188 / 1846 : RHOQ 10 ['ESR1', 'MYC', 'SMAD3', 'JUN', 'CEBPB', 'MECP2', 'NR4A1', 'RXRA', 'ESR2', 'FOS'] 0.009580284156300118\n",
      "1189 / 1846 : CREB5 3 ['KLF4', 'SPI1', 'MYC'] 0.0006684352701223285\n",
      "1190 / 1846 : GOLGA8A 10 ['ESR1', 'MYC', 'CREB5', 'JUN', 'HIF1A', 'SMAD3', 'MECP2', 'SPI1', 'BACH1', 'NR2C2'] 0.010965470659488233\n",
      "1191 / 1846 : SH3RF3 10 ['ESR1', 'MYC', 'SMAD3', 'JUN', 'MECP2', 'ESR2', 'RXRA', 'FOS', 'NR4A1', 'BCL6'] 0.002521174515614629\n",
      "1192 / 1846 : CCDC88A 10 ['ESR1', 'HIF1A', 'SMAD3', 'MECP2', 'RXRA', 'ESR2', 'BCL6', 'NR2C2', 'FOXO1', 'KLF4'] 0.00425823551894127\n",
      "1193 / 1846 : DOCK7 10 ['MECP2', 'RXRA', 'KLF4', 'NR2C2', 'TAF1', 'BACH1', 'AHR', 'SPI1', 'KLF12', 'RUNX2'] 0.006189718033297248\n",
      "1194 / 1846 : NAA60 10 ['HIF1A', 'CEBPB', 'MYC', 'ESR1', 'CREB5', 'JUN', 'SMAD3', 'MECP2', 'FOXO3', 'FOS'] 0.0134313036100679\n",
      "1195 / 1846 : ADAM8 9 ['JUN', 'MYC', 'ESR1', 'HIF1A', 'KLF4', 'FOXO3', 'SMAD3', 'RXRA', 'MECP2'] 0.014675453666922612\n",
      "1196 / 1846 : SLAMF6 9 ['ESR1', 'RXRA', 'FOS', 'CEBPB', 'SMAD3', 'NR4A1', 'MYC', 'BACH1', 'BCL6'] 0.012349001965689287\n"
     ]
    },
    {
     "name": "stderr",
     "output_type": "stream",
     "text": [
      "/Users/yijwang-admin/Documents/Research/GRN_PPI/L0GL_PPI_GRN/minFunc/polyinterp.py:40: RuntimeWarning: divide by zero encountered in scalar divide\n",
      "  t = points[notMinPos, 0] - (points[notMinPos, 0] - points[minPos, 0]) * ((points[notMinPos, 2] + d2 - d1) / (points[notMinPos, 2] - points[minPos, 2] + 2 * d2))\n"
     ]
    },
    {
     "name": "stdout",
     "output_type": "stream",
     "text": [
      "1197 / 1846 : ST3GAL6 3 ['CREB5', 'KLF4', 'ESR1'] 0.00020338111543436078\n",
      "1198 / 1846 : PPM1K 7 ['MYC', 'ESR1', 'JUN', 'SMAD3', 'MECP2', 'ESR2', 'FOS'] 0.006316646317852852\n",
      "1199 / 1846 : ZMYND11 7 ['NR4A1', 'CEBPB', 'MYC', 'MECP2', 'FOXO1', 'BACH1', 'IRF8'] 0.01209330275844724\n",
      "1201 / 1846 : UBXN2A 9 ['ESR1', 'MYC', 'HIF1A', 'SMAD3', 'MECP2', 'ESR2', 'RXRA', 'KLF4', 'TAF1'] 0.008524744879918347\n",
      "1202 / 1846 : PPP3CA 10 ['MYC', 'JUN', 'HIF1A', 'SMAD3', 'MECP2', 'NR4A1', 'RXRA', 'CREB5', 'FOS', 'KLF4'] 0.018910166030021304\n",
      "1203 / 1846 : COTL1 10 ['ESR1', 'MYC', 'HIF1A', 'JUN', 'SMAD3', 'MECP2', 'CEBPB', 'RXRA', 'NR4A1', 'AHR'] 0.01581807506750845\n",
      "1204 / 1846 : RASGRP1 9 ['ESR1', 'MYC', 'HIF1A', 'JUN', 'SMAD3', 'CEBPB', 'MECP2', 'RXRA', 'ESR2'] 0.01731503263776464\n"
     ]
    },
    {
     "name": "stderr",
     "output_type": "stream",
     "text": [
      "/Users/yijwang-admin/Documents/Research/GRN_PPI/L0GL_PPI_GRN/minFunc/polyinterp.py:40: RuntimeWarning: divide by zero encountered in scalar divide\n",
      "  t = points[notMinPos, 0] - (points[notMinPos, 0] - points[minPos, 0]) * ((points[notMinPos, 2] + d2 - d1) / (points[notMinPos, 2] - points[minPos, 2] + 2 * d2))\n"
     ]
    },
    {
     "name": "stdout",
     "output_type": "stream",
     "text": [
      "1205 / 1846 : APP 3 ['RXRA', 'MXI1', 'AHR'] 0.007997139976519118\n",
      "1206 / 1846 : PPCDC 4 ['PBX3', 'NFIL3', 'JUN', 'NR4A2'] 0.007111913929665557\n",
      "1207 / 1846 : B4GALT5 10 ['ESR1', 'MYC', 'HIF1A', 'SMAD3', 'JUN', 'NR4A1', 'CEBPB', 'MECP2', 'FOS', 'ATF3'] 0.01462480239201843\n",
      "1208 / 1846 : SEPTIN1 10 ['ESR1', 'MYC', 'CREB5', 'JUN', 'HIF1A', 'SMAD3', 'CEBPB', 'MECP2', 'BCL6', 'IRF8'] 0.01656397810756517\n",
      "1209 / 1846 : RPL32 5 ['MYC', 'AHR', 'MECP2', 'FOXO1', 'FOXO3'] 0.009705375009261547\n",
      "1210 / 1846 : FNDC3B 10 ['JUN', 'MYC', 'ESR1', 'SMAD3', 'CEBPB', 'MECP2', 'ESR2', 'RXRA', 'FOS', 'NR4A1'] 0.012240522363738434\n",
      "1211 / 1846 : NUCB2 10 ['ESR1', 'MYC', 'SMAD3', 'RXRA', 'CEBPB', 'MECP2', 'BCL6', 'SPI1', 'ESR2', 'BACH1'] 0.01251861599869461\n",
      "1212 / 1846 : FCER2 4 ['MYC', 'ESR1', 'SMAD3', 'CREB5'] 0.0006792477916613193\n",
      "1213 / 1846 : CTNND1 4 ['CEBPB', 'RXRA', 'HIF1A', 'NR4A1'] 0.003926246297198985\n",
      "1214 / 1846 : RPS15A 9 ['ESR1', 'MYC', 'SMAD3', 'MECP2', 'FOS', 'ESR2', 'RXRA', 'KLF4', 'NR2C2'] 0.008994143058832662\n",
      "1215 / 1846 : EFL1 10 ['MYC', 'ESR1', 'HIF1A', 'SMAD3', 'MECP2', 'RXRA', 'ESR2', 'NR4A1', 'KLF4', 'PPARA'] 0.0074101059792825085\n",
      "1216 / 1846 : FCER1G 6 ['SPI1', 'CREB5', 'KLF4', 'NR4A1', 'ZFHX3', 'AHR'] 0.021536354012546007\n",
      "1217 / 1846 : CD3D 8 ['SPI1', 'CREB5', 'ESR1', 'MYC', 'JUN', 'FOXO3', 'ATF3', 'SMAD3'] 0.020478335919959345\n",
      "1218 / 1846 : DPH6 10 ['ESR1', 'HIF1A', 'ESR2', 'RXRA', 'TAF1', 'AHR', 'ATF3', 'KLF12', 'RUNX2', 'SPI1'] 0.009726127263027634\n",
      "1219 / 1846 : CDC14A 9 ['KLF4', 'MYC', 'SPI1', 'ESR1', 'JUN', 'HIF1A', 'SMAD3', 'CEBPB', 'NR4A1'] 0.021897365205513247\n",
      "1220 / 1846 : RIN2 10 ['ESR1', 'MYC', 'MECP2', 'ESR2', 'RXRA', 'NR4A1', 'FOXO3', 'NR2C2', 'FOXO1', 'TAF1'] 0.0023321873668997553\n",
      "1221 / 1846 : MOB1B 10 ['MECP2', 'ESR1', 'MYC', 'SMAD3', 'JUN', 'CEBPB', 'ESR2', 'RXRA', 'NR4A1', 'FOXO3'] 0.007029042854060776\n",
      "1223 / 1846 : ITK 10 ['ESR1', 'MYC', 'SMAD3', 'JUN', 'CEBPB', 'MECP2', 'CREB5', 'NR4A1', 'SPI1', 'MAFB'] 0.013947874207226225\n",
      "1224 / 1846 : IFRD1 3 ['ESR1', 'PAX5', 'IRF8'] 0.007699381410256351\n",
      "1225 / 1846 : CD27 8 ['SPI1', 'MECP2', 'HIF1A', 'ESR1', 'MYC', 'SMAD3', 'JUN', 'CREB5'] 0.018144280909758365\n",
      "1226 / 1846 : AGO4 10 ['ESR1', 'MYC', 'HIF1A', 'SMAD3', 'JUN', 'MECP2', 'CEBPB', 'ESR2', 'RXRA', 'FOS'] 0.005708045668610502\n",
      "1227 / 1846 : EXOSC3 5 ['PAX5', 'MAFB', 'CEBPD', 'FOXO3', 'PPARD'] 0.011247094932038676\n",
      "1228 / 1846 : ACTN1 8 ['MYC', 'ESR1', 'HIF1A', 'SMAD3', 'JUN', 'MECP2', 'CEBPB', 'NR4A1'] 0.006503082011419456\n",
      "1229 / 1846 : S100A11 10 ['MYC', 'ESR1', 'JUN', 'HIF1A', 'SMAD3', 'MECP2', 'CEBPB', 'RXRA', 'ESR2', 'FOXO3'] 0.011896008856573319\n",
      "1230 / 1846 : SPATS2L 10 ['ESR1', 'HIF1A', 'SMAD3', 'JUN', 'MECP2', 'CEBPB', 'RXRA', 'KLF4', 'ESR2', 'FOS'] 0.007014395282842437\n",
      "1231 / 1846 : KCNQ1OT1 9 ['MYC', 'ESR1', 'HIF1A', 'SMAD3', 'JUN', 'MECP2', 'CEBPB', 'ESR2', 'RXRA'] 0.0034743178745507194\n",
      "1232 / 1846 : BIRC3 10 ['MYC', 'ESR1', 'HIF1A', 'JUN', 'SMAD3', 'MECP2', 'NR4A1', 'RXRA', 'ESR2', 'FOS'] 0.011483635221445902\n",
      "1233 / 1846 : TBC1D9 9 ['MECP2', 'RXRA', 'NR2C2', 'KLF4', 'KLF12', 'SPI1', 'TFCP2', 'PPARD', 'NFYC'] 0.0016057249537221865\n",
      "1234 / 1846 : ATP6V0A1 9 ['MYC', 'ESR1', 'HIF1A', 'SMAD3', 'JUN', 'MECP2', 'CEBPB', 'ESR2', 'RXRA'] 0.002131180046276879\n",
      "1235 / 1846 : ALOX5 10 ['ESR1', 'SMAD3', 'MECP2', 'ESR2', 'RXRA', 'FOXO3', 'NR2C2', 'FOXO1', 'KLF4', 'ATF3'] 0.0017987741656070155\n",
      "1236 / 1846 : NAE1 9 ['ESR1', 'MYC', 'HIF1A', 'SMAD3', 'JUN', 'KLF4', 'MECP2', 'RXRA', 'CEBPB'] 0.009829427330289802\n",
      "1237 / 1846 : CASS4 4 ['CREB5', 'MAFB', 'LEF1', 'ATF3'] 0.009277474098481979\n",
      "1238 / 1846 : GLCCI1 6 ['KLF4', 'CEBPB', 'HIF1A', 'NR4A1', 'MYC', 'NR2C2'] 0.013247781475269244\n",
      "1239 / 1846 : FBXO34 4 ['CREB5', 'MAFB', 'RFX2', 'FOXO3'] 0.007367263662375823\n",
      "1240 / 1846 : LYST 9 ['MYC', 'ESR1', 'HIF1A', 'SMAD3', 'JUN', 'MECP2', 'CEBPB', 'RXRA', 'ESR2'] 0.007530770296583409\n",
      "1241 / 1846 : RHOH 5 ['MEF2C', 'MECP2', 'FOS', 'CEBPD', 'NR4A1'] 0.012157453580930688\n",
      "1242 / 1846 : AP4E1 10 ['MYC', 'ESR1', 'SMAD3', 'HIF1A', 'JUN', 'MECP2', 'CEBPB', 'RXRA', 'FOS', 'ESR2'] 0.011506341230533117\n",
      "1244 / 1846 : CSNK1G3 9 ['CEBPB', 'ESR1', 'MYC', 'CREB5', 'SPI1', 'RXRA', 'JDP2', 'BACH1', 'NFYC'] 0.010223038622034872\n",
      "1245 / 1846 : NUAK2 9 ['ESR1', 'SMAD3', 'JUN', 'MECP2', 'CEBPB', 'ESR2', 'RXRA', 'FOS', 'SPI1'] 0.006907073026010369\n",
      "1246 / 1846 : FCHSD2 10 ['MYC', 'ESR1', 'HIF1A', 'SMAD3', 'JUN', 'MECP2', 'CEBPB', 'RXRA', 'ESR2', 'BCL6'] 0.010071647596070852\n",
      "1247 / 1846 : PDE8A 8 ['CEBPB', 'ESR1', 'MYC', 'HIF1A', 'JUN', 'SMAD3', 'NR4A1', 'SPI1'] 0.008963856745962919\n",
      "1248 / 1846 : ACTR1B 4 ['ETV6', 'CEBPD', 'FOXO3', 'KLF4'] 0.010421482293710458\n",
      "1249 / 1846 : AOPEP 10 ['ESR1', 'MYC', 'HIF1A', 'SMAD3', 'CREB5', 'MECP2', 'CEBPB', 'KLF4', 'FOS', 'ESR2'] 0.011652368494279523\n",
      "1250 / 1846 : MCCC1 6 ['CREB5', 'SPI1', 'MYC', 'SMAD3', 'FOXO3', 'ESR1'] 0.007511670184317698\n",
      "1251 / 1846 : GRAP2 5 ['RXRA', 'MAFB', 'BACH1', 'MYC', 'AHR'] 0.01912338899433053\n",
      "1252 / 1846 : CCDC167 9 ['RXRA', 'ESR1', 'MECP2', 'SMAD3', 'MYC', 'CEBPB', 'TAF1', 'JUN', 'FOXO3'] 0.01604313267158791\n",
      "1253 / 1846 : NME7 10 ['ESR1', 'JUN', 'SMAD3', 'MECP2', 'CEBPB', 'KLF4', 'BCL6', 'ESR2', 'RXRA', 'FOS'] 0.010871518833281383\n"
     ]
    },
    {
     "name": "stderr",
     "output_type": "stream",
     "text": [
      "/Users/yijwang-admin/Documents/Research/GRN_PPI/L0GL_PPI_GRN/minFunc/polyinterp.py:40: RuntimeWarning: divide by zero encountered in scalar divide\n",
      "  t = points[notMinPos, 0] - (points[notMinPos, 0] - points[minPos, 0]) * ((points[notMinPos, 2] + d2 - d1) / (points[notMinPos, 2] - points[minPos, 2] + 2 * d2))\n"
     ]
    },
    {
     "name": "stdout",
     "output_type": "stream",
     "text": [
      "1254 / 1846 : TMED8 10 ['ESR1', 'MYC', 'HIF1A', 'SMAD3', 'NR4A1', 'MECP2', 'KLF4', 'RXRA', 'ESR2', 'BCL6'] 0.006684135104871355\n",
      "1255 / 1846 : S100A9 6 ['ESR1', 'MYC', 'JUN', 'SMAD3', 'MECP2', 'KLF4'] 0.005506963060265862\n",
      "1256 / 1846 : PAK1 10 ['SMAD3', 'ESR1', 'ESR2', 'RXRA', 'NR4A1', 'BCL6', 'CREB5', 'FOXO1', 'NR2C2', 'TAF1'] 0.001735468604227586\n",
      "1257 / 1846 : TRPS1 8 ['ESR1', 'HIF1A', 'SMAD3', 'JUN', 'MECP2', 'ESR2', 'FOS', 'RXRA'] 0.008915172167574722\n",
      "1258 / 1846 : DRG1 5 ['BACH1', 'MYC', 'SMAD3', 'ESR1', 'NR2C2'] 0.011662400516497138\n",
      "1259 / 1846 : SYNE1 7 ['KLF4', 'MYC', 'FOXO3', 'NR4A1', 'MECP2', 'FOXO1', 'RUNX2'] 0.011254536326912474\n",
      "1260 / 1846 : RTN3 10 ['ESR1', 'MYC', 'HIF1A', 'JUN', 'SMAD3', 'CEBPB', 'MECP2', 'RXRA', 'KLF4', 'ESR2'] 0.006123842561812401\n",
      "1261 / 1846 : HSH2D 6 ['SPI1', 'HIF1A', 'MAFB', 'JDP2', 'CEBPB', 'RUNX2'] 0.01633237385068285\n",
      "1262 / 1846 : RNF6 6 ['PAX5', 'CREB5', 'CEBPB', 'AHR', 'RUNX2', 'IRF7'] 0.005570548177786044\n",
      "1263 / 1846 : SLC15A4 10 ['KLF4', 'SPI1', 'ESR1', 'MYC', 'CEBPB', 'RXRA', 'HIF1A', 'SMAD3', 'JUN', 'NR4A1'] 0.01688607483059155\n",
      "1264 / 1846 : RPL10 10 ['MYC', 'ESR1', 'HIF1A', 'JUN', 'SMAD3', 'MECP2', 'CEBPB', 'KLF4', 'RXRA', 'FOS'] 0.013494879744731911\n",
      "1265 / 1846 : AP3S2 8 ['ESR1', 'MYC', 'HIF1A', 'JUN', 'SMAD3', 'MECP2', 'CEBPB', 'SPI1'] 0.008971922676235967\n",
      "1266 / 1846 : NOL4L 6 ['KLF4', 'MYC', 'MEF2C', 'ESR1', 'NR2C2', 'HIF1A'] 0.011761116640415174\n",
      "1267 / 1846 : TACC1 9 ['ESR1', 'MYC', 'HIF1A', 'SMAD3', 'MECP2', 'RXRA', 'CEBPB', 'ESR2', 'FOS'] 0.008200683839676958\n",
      "1268 / 1846 : HRH2 10 ['SMAD3', 'ESR1', 'HIF1A', 'JUN', 'MECP2', 'ESR2', 'RXRA', 'BCL6', 'KLF4', 'FOXO3'] 0.005273302893189577\n",
      "1270 / 1846 : CISH 6 ['KLF4', 'SPI1', 'PAX5', 'ATF3', 'MAFB', 'MYC'] 0.008674143539422101\n",
      "1271 / 1846 : AHNAK 10 ['MYC', 'ESR1', 'HIF1A', 'SMAD3', 'JUN', 'MECP2', 'CEBPB', 'FOS', 'ESR2', 'RXRA'] 0.00889997528705047\n",
      "1272 / 1846 : ZMAT3 9 ['ESR1', 'SMAD3', 'MECP2', 'ESR2', 'NR4A1', 'RXRA', 'KLF4', 'SPI1', 'FOXO3'] 0.01006676199671594\n",
      "1273 / 1846 : PDZD8 5 ['BACH1', 'MYC', 'JDP2', 'CREB5', 'ATF3'] 0.009616226003011\n",
      "1274 / 1846 : PLBD1 9 ['MYC', 'ESR1', 'HIF1A', 'SMAD3', 'JUN', 'MECP2', 'CEBPB', 'ESR2', 'RXRA'] 0.002707898583553095\n",
      "1275 / 1846 : CD244 9 ['JUN', 'ESR1', 'MYC', 'CREB5', 'HIF1A', 'SMAD3', 'BACH1', 'CEBPB', 'TAF1'] 0.02548472082745897\n",
      "1276 / 1846 : ACSL4 9 ['MYC', 'HIF1A', 'SMAD3', 'MECP2', 'KLF4', 'RXRA', 'ESR2', 'SPI1', 'BCL6'] 0.00860649472114347\n",
      "1277 / 1846 : PDE5A 3 ['KLF4', 'JDP2', 'MAFB'] 0.01162901093003149\n",
      "1278 / 1846 : ZBTB38 10 ['ESR1', 'MYC', 'SMAD3', 'JUN', 'MECP2', 'CEBPB', 'RXRA', 'CREB5', 'BCL6', 'TFCP2'] 0.016035170413962345\n",
      "1279 / 1846 : ATF1 3 ['ATF1', 'ESR1', 'MYC'] 2.087413306579998e-06\n",
      "1280 / 1846 : SCARB2 6 ['MYC', 'ESR1', 'SMAD3', 'KLF4', 'HIF1A', 'JUN'] 0.0070141489915556635\n",
      "1281 / 1846 : FCGR1A 10 ['SMAD3', 'ESR1', 'MYC', 'MECP2', 'ESR2', 'RXRA', 'NR4A1', 'BCL6', 'FOXO3', 'NR2C2'] 0.0024357186547746923\n",
      "1282 / 1846 : CD96 9 ['MYC', 'CREB5', 'CEBPB', 'JUN', 'SMAD3', 'MECP2', 'AHR', 'KLF4', 'ESR2'] 0.010346978241482388\n",
      "1283 / 1846 : NAA35 8 ['NR4A1', 'ESR1', 'MYC', 'SMAD3', 'HIF1A', 'JUN', 'MECP2', 'ESR2'] 0.006045643222632468\n",
      "1284 / 1846 : NR4A1 3 ['NR4A1', 'ESR1', 'MYC'] 1.311950685389062e-06\n",
      "1285 / 1846 : ABL1 10 ['MYC', 'ESR1', 'MECP2', 'RXRA', 'ESR2', 'FOS', 'NR4A1', 'BCL6', 'FOXO3', 'NR2C2'] 0.01202364764488597\n",
      "1286 / 1846 : GBE1 10 ['HIF1A', 'JUN', 'CEBPB', 'MECP2', 'ESR2', 'RXRA', 'FOS', 'NR4A1', 'BCL6', 'TAF1'] 0.007772031854287093\n",
      "1287 / 1846 : ZNF276 8 ['SPI1', 'CREB5', 'HIF1A', 'JDP2', 'ESR1', 'MECP2', 'MYC', 'RXRA'] 0.012730257082640264\n",
      "1288 / 1846 : EEF1A1 10 ['MYC', 'ESR1', 'JUN', 'HIF1A', 'SMAD3', 'MECP2', 'CEBPB', 'FOXO3', 'RXRA', 'ESR2'] 0.013653111147772132\n",
      "1289 / 1846 : CTSW 10 ['CREB5', 'SPI1', 'KLF4', 'NR4A1', 'ESR1', 'MYC', 'JDP2', 'SMAD3', 'HIF1A', 'JUN'] 0.04141444200558947\n",
      "1290 / 1846 : RSAD2 10 ['ESR1', 'MYC', 'MECP2', 'ESR2', 'RXRA', 'BACH1', 'KLF4', 'NR2C2', 'SPI1', 'TAF1'] 0.0067532686183723175\n",
      "1291 / 1846 : KLF12 5 ['ESR1', 'SMAD3', 'JUN', 'KLF12', 'MECP2'] 8.233648048772227e-07\n",
      "1292 / 1846 : IPO11 7 ['SPI1', 'KLF4', 'BACH1', 'ESR1', 'MYC', 'SMAD3', 'MECP2'] 0.007936399530388263\n",
      "1293 / 1846 : CCAR1 10 ['MYC', 'ESR1', 'HIF1A', 'SMAD3', 'MECP2', 'ATF3', 'ESR2', 'RXRA', 'CREB5', 'NR4A1'] 0.010143765644870408\n",
      "1294 / 1846 : NDFIP1 10 ['MYC', 'ESR1', 'JUN', 'SMAD3', 'MECP2', 'CEBPB', 'ESR2', 'RXRA', 'FOS', 'NR4A1'] 0.010753289742189117\n",
      "1296 / 1846 : IL21R 10 ['MYC', 'ESR1', 'HIF1A', 'SMAD3', 'JUN', 'MECP2', 'CEBPB', 'KLF4', 'NR4A1', 'BCL6'] 0.011431614519173613\n",
      "1297 / 1846 : SLAMF7 9 ['KLF4', 'ATF3', 'MYC', 'ESR1', 'FOS', 'JUN', 'SMAD3', 'MECP2', 'RXRA'] 0.020190764733591663\n",
      "1298 / 1846 : GATA3 3 ['GATA3', 'MYC', 'ESR1'] 6.948460489908319e-07\n",
      "1299 / 1846 : PYGL 10 ['MYC', 'ESR1', 'SMAD3', 'JUN', 'MECP2', 'CEBPB', 'ESR2', 'RXRA', 'NR4A1', 'CREB5'] 0.004413864553555368\n",
      "1300 / 1846 : ATG7 10 ['ESR1', 'HIF1A', 'MECP2', 'RXRA', 'CEBPB', 'NR4A1', 'BCL6', 'FOXO3', 'NR2C2', 'TAF1'] 0.005255021263008139\n",
      "1301 / 1846 : FUT8 6 ['FOXO1', 'NR4A1', 'SMAD3', 'ESR1', 'CEBPB', 'BCL6'] 0.005301973931383434\n",
      "1302 / 1846 : NOD2 8 ['ESR1', 'MYC', 'SMAD3', 'JUN', 'MECP2', 'ESR2', 'RXRA', 'FOS'] 0.0048939247457764345\n",
      "1303 / 1846 : HLA-DRA 5 ['ESR1', 'KLF4', 'MYC', 'SMAD3', 'JUN'] 0.0033908778752156305\n",
      "1304 / 1846 : PLEKHA3 6 ['ESR1', 'HIF1A', 'MYC', 'CREB5', 'IRF7', 'MECP2'] 0.010421483317147233\n",
      "1305 / 1846 : UBAP1 10 ['SMAD3', 'ESR1', 'MYC', 'JUN', 'MECP2', 'KLF4', 'RXRA', 'ESR2', 'FOS', 'NR4A1'] 0.01176588956535251\n",
      "1306 / 1846 : PKD2 10 ['MECP2', 'RXRA', 'ESR2', 'NR4A1', 'CREB5', 'TAF1', 'AHR', 'ATF3', 'KLF12', 'KLF4'] 0.012141834911615027\n"
     ]
    },
    {
     "name": "stderr",
     "output_type": "stream",
     "text": [
      "/Users/yijwang-admin/Documents/Research/GRN_PPI/L0GL_PPI_GRN/minFunc/polyinterp.py:40: RuntimeWarning: divide by zero encountered in scalar divide\n",
      "  t = points[notMinPos, 0] - (points[notMinPos, 0] - points[minPos, 0]) * ((points[notMinPos, 2] + d2 - d1) / (points[notMinPos, 2] - points[minPos, 2] + 2 * d2))\n"
     ]
    },
    {
     "name": "stdout",
     "output_type": "stream",
     "text": [
      "1308 / 1846 : BCL11B 9 ['MYC', 'ESR1', 'SMAD3', 'HIF1A', 'JUN', 'CREB5', 'MECP2', 'CEBPB', 'SPI1'] 0.018336545448025418\n",
      "1309 / 1846 : SIMC1 10 ['ESR1', 'MYC', 'SMAD3', 'HIF1A', 'JUN', 'MECP2', 'RXRA', 'NR4A1', 'CEBPB', 'ESR2'] 0.00471925738642307\n",
      "1310 / 1846 : RNF24 4 ['ESR1', 'HIF1A', 'MYC', 'PAX5'] 0.004925179652997775\n",
      "1311 / 1846 : CFP 10 ['MYC', 'ESR1', 'HIF1A', 'SMAD3', 'JUN', 'MECP2', 'ESR2', 'RXRA', 'FOS', 'NR4A1'] 0.003064962749519066\n",
      "1312 / 1846 : COG6 8 ['RXRA', 'NR2C2', 'TAF1', 'HLTF', 'KLF12', 'TFCP2', 'PPARA', 'PBX3'] 0.007112396855625255\n",
      "1313 / 1846 : ABTB1 6 ['ESR1', 'JUN', 'SMAD3', 'MYC', 'FOXO1', 'FOS'] 0.006090551582453575\n",
      "1314 / 1846 : AP3M2 10 ['MYC', 'ESR1', 'HIF1A', 'SMAD3', 'RXRA', 'MECP2', 'FOS', 'NR4A1', 'ESR2', 'SPI1'] 0.00700235288574755\n",
      "1315 / 1846 : ARHGEF40 10 ['MYC', 'ESR1', 'SMAD3', 'JUN', 'MECP2', 'CEBPB', 'ESR2', 'RXRA', 'FOS', 'NR4A1'] 0.0021296191405170755\n",
      "1316 / 1846 : TCF7 3 ['TCF7', 'MYC', 'ESR1'] 1.0971128883085942e-06\n",
      "1317 / 1846 : SLC31A2 6 ['MYC', 'ESR1', 'SMAD3', 'JUN', 'MECP2', 'CREB5'] 0.003329769039596727\n",
      "1318 / 1846 : AGPAT4 9 ['MYC', 'ESR1', 'SMAD3', 'JUN', 'CEBPB', 'MECP2', 'ESR2', 'RXRA', 'FOS'] 0.00871053033874812\n",
      "1319 / 1846 : PADI4 3 ['RXRA', 'PAX5', 'ESR1'] 0.002040791861481452\n",
      "1320 / 1846 : LCK 10 ['CREB5', 'ESR1', 'MYC', 'HIF1A', 'SMAD3', 'JUN', 'ATF3', 'CEBPB', 'MECP2', 'FOS'] 0.009130229129063782\n",
      "1321 / 1846 : MAP2K1 9 ['ESR1', 'CREB5', 'HIF1A', 'SMAD3', 'MECP2', 'RXRA', 'ESR2', 'FOS', 'NR4A1'] 0.0066492752861075435\n",
      "1322 / 1846 : HIVEP2 9 ['RXRA', 'ESR1', 'MYC', 'SMAD3', 'JUN', 'MECP2', 'FOS', 'NR4A1', 'ESR2'] 0.01589361266895391\n",
      "1323 / 1846 : PPM1D 7 ['ESR1', 'MYC', 'SMAD3', 'MECP2', 'CREB5', 'KLF4', 'SPI1'] 0.0050482834429456\n",
      "1324 / 1846 : HEG1 9 ['ESR1', 'MYC', 'SMAD3', 'JUN', 'MECP2', 'CEBPB', 'RXRA', 'IRF8', 'ESR2'] 0.01683871938488556\n",
      "1325 / 1846 : ESR1 3 ['ESR1', 'MYC', 'SMAD3'] 1.7676690043832803e-06\n",
      "1327 / 1846 : RALGAPA2 3 ['KLF4', 'ESR1', 'TGIF1'] 0.008598603147147247\n",
      "1328 / 1846 : RPS2 5 ['IRF7', 'LEF1', 'MYC', 'MAFB', 'RELB'] 0.01528188795829405\n",
      "1329 / 1846 : TMCO4 5 ['SPI1', 'KLF4', 'RXRA', 'MYC', 'ESR1'] 0.012870675734839888\n",
      "1330 / 1846 : POC1B 10 ['KLF4', 'ESR1', 'HIF1A', 'SMAD3', 'JUN', 'MECP2', 'CEBPB', 'ESR2', 'SPI1', 'ATF3'] 0.01017119563881503\n",
      "1331 / 1846 : INPP4B 5 ['MEF2C', 'SPI1', 'CEBPD', 'MYC', 'BACH1'] 0.024684197108851565\n",
      "1332 / 1846 : PRKCA 9 ['ESR1', 'MYC', 'HIF1A', 'SMAD3', 'MECP2', 'CEBPB', 'RXRA', 'ESR2', 'NR4A1'] 0.014562675878639351\n",
      "1333 / 1846 : PLPP1 6 ['HIF1A', 'ESR1', 'MYC', 'SMAD3', 'MECP2', 'NR4A1'] 0.006587818736932179\n",
      "1334 / 1846 : OSBPL10 10 ['ESR1', 'HIF1A', 'SMAD3', 'MECP2', 'ESR2', 'RXRA', 'NR4A1', 'BCL6', 'NR2C2', 'FOXO1'] 0.0019879672274884823\n",
      "1335 / 1846 : XYLT1 10 ['MYC', 'ESR1', 'CREB5', 'SMAD3', 'JUN', 'MECP2', 'SPI1', 'KLF4', 'RXRA', 'FOS'] 0.009834956608584555\n",
      "1336 / 1846 : SLF1 10 ['CREB5', 'JDP2', 'ESR1', 'JUN', 'SMAD3', 'RXRA', 'MEF2C', 'SPI1', 'NR4A1', 'FOS'] 0.019256376190021518\n",
      "1337 / 1846 : ST6GALNAC3 7 ['ESR1', 'HIF1A', 'SMAD3', 'JUN', 'MECP2', 'ESR2', 'RXRA'] 0.004946579435534523\n",
      "1338 / 1846 : GRN 10 ['ESR1', 'MYC', 'HIF1A', 'SMAD3', 'MECP2', 'CEBPB', 'RXRA', 'ESR2', 'FOS', 'NR4A1'] 0.0050434416888476\n",
      "1339 / 1846 : LRMDA 3 ['KLF4', 'SPI1', 'ESR1'] 0.0016277052840842415\n",
      "1340 / 1846 : FAR2 9 ['MYC', 'ESR1', 'HIF1A', 'SMAD3', 'MECP2', 'RXRA', 'ESR2', 'FOS', 'BCL6'] 0.005235460588471321\n",
      "1341 / 1846 : RASGEF1B 10 ['MYC', 'ESR1', 'HIF1A', 'MECP2', 'ESR2', 'RXRA', 'FOS', 'NR4A1', 'BCL6', 'FOXO3'] 0.003034077639736182\n",
      "1343 / 1846 : WDR49 6 ['ESR1', 'ESR2', 'RXRA', 'BCL6', 'ATF3', 'BACH1'] 0.002701754114567148\n",
      "1344 / 1846 : ITPKB 10 ['MYC', 'ESR1', 'JUN', 'HIF1A', 'SMAD3', 'MECP2', 'CREB5', 'BCL6', 'SPI1', 'RXRA'] 0.011423591607056159\n",
      "1345 / 1846 : SGMS2 3 ['KLF4', 'MYC', 'ESR1'] 0.00040221967831373124\n",
      "1346 / 1846 : MRPS18B 9 ['ESR1', 'MYC', 'SMAD3', 'HIF1A', 'JUN', 'MECP2', 'CEBPB', 'RXRA', 'ESR2'] 0.009549201021948573\n"
     ]
    },
    {
     "name": "stderr",
     "output_type": "stream",
     "text": [
      "/Users/yijwang-admin/Documents/Research/GRN_PPI/L0GL_PPI_GRN/minFunc/polyinterp.py:40: RuntimeWarning: divide by zero encountered in scalar divide\n",
      "  t = points[notMinPos, 0] - (points[notMinPos, 0] - points[minPos, 0]) * ((points[notMinPos, 2] + d2 - d1) / (points[notMinPos, 2] - points[minPos, 2] + 2 * d2))\n"
     ]
    },
    {
     "name": "stdout",
     "output_type": "stream",
     "text": [
      "1347 / 1846 : IFIT2 8 ['ESR1', 'MYC', 'SMAD3', 'HIF1A', 'JUN', 'MECP2', 'CEBPB', 'CREB5'] 0.00306966378609337\n"
     ]
    },
    {
     "name": "stderr",
     "output_type": "stream",
     "text": [
      "/Users/yijwang-admin/Documents/Research/GRN_PPI/L0GL_PPI_GRN/minFunc/polyinterp.py:40: RuntimeWarning: divide by zero encountered in scalar divide\n",
      "  t = points[notMinPos, 0] - (points[notMinPos, 0] - points[minPos, 0]) * ((points[notMinPos, 2] + d2 - d1) / (points[notMinPos, 2] - points[minPos, 2] + 2 * d2))\n"
     ]
    },
    {
     "name": "stdout",
     "output_type": "stream",
     "text": [
      "1348 / 1846 : ZBTB16 8 ['SPI1', 'MYC', 'ESR1', 'CEBPD', 'RFX2', 'KLF4', 'SMAD3', 'ATF3'] 0.015906783851931304\n",
      "1349 / 1846 : CTBP2 7 ['KLF4', 'CREB5', 'SPI1', 'SMAD3', 'ESR1', 'HIF1A', 'MECP2'] 0.028393327491550588\n",
      "1350 / 1846 : TFCP2 3 ['TFCP2', 'MYC', 'ESR1'] 1.2324695014682244e-06\n",
      "1351 / 1846 : LIMD1 5 ['ATF3', 'SPI1', 'SMAD3', 'CEBPB', 'ESR1'] 0.008408321947742258\n",
      "1352 / 1846 : MCM9 10 ['MYC', 'ESR1', 'SMAD3', 'JUN', 'MECP2', 'KLF4', 'FOS', 'ESR2', 'RXRA', 'BCL6'] 0.007691665686727845\n",
      "1353 / 1846 : SHISAL2A 10 ['MYC', 'ESR1', 'HIF1A', 'SMAD3', 'JUN', 'MECP2', 'CREB5', 'CEBPB', 'ESR2', 'BCL6'] 0.013488889124756069\n",
      "1355 / 1846 : PFKFB4 3 ['KLF4', 'MYC', 'SPI1'] 0.0008903114624209297\n",
      "1356 / 1846 : FLVCR2 9 ['ESR1', 'SMAD3', 'JUN', 'MECP2', 'ESR2', 'RXRA', 'NR4A1', 'BCL6', 'FOXO3'] 0.002483648150478595\n",
      "1357 / 1846 : GXYLT1 10 ['ESR1', 'MYC', 'JUN', 'SMAD3', 'MECP2', 'KLF4', 'ESR2', 'RXRA', 'FOS', 'NR4A1'] 0.006997615505943605\n",
      "1358 / 1846 : ZRANB3 10 ['ESR1', 'HIF1A', 'SMAD3', 'JUN', 'MECP2', 'ESR2', 'RXRA', 'FOS', 'BCL6', 'TAF1'] 0.007734698463958495\n",
      "1359 / 1846 : BCR 6 ['JDP2', 'CREB5', 'PAX5', 'ATF3', 'SPI1', 'KLF4'] 0.011883456853497624\n",
      "1360 / 1846 : DOCK4 8 ['MYC', 'ESR1', 'MECP2', 'ESR2', 'RXRA', 'FOS', 'NR2C2', 'CREB5'] 0.003477154781434893\n",
      "1361 / 1846 : RRAS2 7 ['RXRA', 'CEBPB', 'ESR1', 'MYC', 'SMAD3', 'BCL6', 'JUN'] 0.011752486355254785\n",
      "1362 / 1846 : RPS6KC1 10 ['ESR1', 'SMAD3', 'MECP2', 'RXRA', 'ESR2', 'NR4A1', 'BCL6', 'NR2C2', 'FOXO1', 'TAF1'] 0.007570501651523065\n",
      "1363 / 1846 : NELL2 4 ['KLF4', 'SPI1', 'HIF1A', 'BACH2'] 0.014264306323344146\n",
      "1364 / 1846 : CD79B 8 ['CREB5', 'MYC', 'ESR1', 'SMAD3', 'HIF1A', 'JUN', 'MECP2', 'CEBPB'] 0.005103542740052369\n",
      "1365 / 1846 : CPED1 10 ['HIF1A', 'MECP2', 'ESR2', 'RXRA', 'CREB5', 'NR4A1', 'TAF1', 'BACH1', 'ATF3', 'KLF12'] 0.0011568663439675193\n",
      "1366 / 1846 : ARHGEF10L 3 ['KLF4', 'ESR1', 'MYC'] 0.00039826469442879806\n",
      "1367 / 1846 : TNRC6C 9 ['ESR1', 'MECP2', 'CREB5', 'MYC', 'RXRA', 'KLF4', 'SMAD3', 'BACH1', 'CEBPB'] 0.011299258878755266\n",
      "1368 / 1846 : MTSS1 5 ['RXRA', 'NR4A1', 'SPI1', 'MYC', 'ESR1'] 0.009749758177994578\n",
      "1369 / 1846 : WDFY2 3 ['KLF4', 'CREB5', 'MAFB'] 0.008777336876209447\n",
      "1371 / 1846 : RASGRF2 10 ['ESR1', 'SMAD3', 'HIF1A', 'NR4A1', 'MECP2', 'RXRA', 'CEBPB', 'ESR2', 'BCL6', 'FOXO3'] 0.01878545321335002\n",
      "1372 / 1846 : SLC43A2 5 ['MYC', 'ESR1', 'SMAD3', 'CREB5', 'HIF1A'] 0.002699964608100188\n",
      "1373 / 1846 : ALCAM 10 ['MYC', 'ESR1', 'SMAD3', 'JUN', 'MECP2', 'CEBPB', 'RXRA', 'ESR2', 'FOS', 'NR4A1'] 0.003639170858915481\n",
      "1374 / 1846 : PIBF1 8 ['ESR1', 'SMAD3', 'MECP2', 'RXRA', 'ESR2', 'NR4A1', 'NR2C2', 'TAF1'] 0.00958664847562069\n",
      "1375 / 1846 : NLRP12 3 ['SPI1', 'ESR1', 'KLF4'] 0.0016952532910800924\n",
      "1376 / 1846 : TRPC4AP 10 ['MYC', 'ESR1', 'SMAD3', 'HIF1A', 'JUN', 'MECP2', 'CEBPB', 'CREB5', 'FOS', 'RXRA'] 0.008340819690826465\n"
     ]
    },
    {
     "name": "stderr",
     "output_type": "stream",
     "text": [
      "/Users/yijwang-admin/Documents/Research/GRN_PPI/L0GL_PPI_GRN/minFunc/polyinterp.py:40: RuntimeWarning: divide by zero encountered in scalar divide\n",
      "  t = points[notMinPos, 0] - (points[notMinPos, 0] - points[minPos, 0]) * ((points[notMinPos, 2] + d2 - d1) / (points[notMinPos, 2] - points[minPos, 2] + 2 * d2))\n"
     ]
    },
    {
     "name": "stdout",
     "output_type": "stream",
     "text": [
      "1377 / 1846 : TTYH2 9 ['MYC', 'ESR1', 'SMAD3', 'HIF1A', 'JUN', 'MECP2', 'CEBPB', 'NR4A1', 'ESR2'] 0.006635771947602132\n",
      "1378 / 1846 : OFD1 10 ['ESR1', 'MYC', 'CEBPB', 'JUN', 'SMAD3', 'MECP2', 'CREB5', 'FOS', 'ESR2', 'RXRA'] 0.0124376283487043\n",
      "1379 / 1846 : FBXO28 10 ['MECP2', 'ESR1', 'MYC', 'HIF1A', 'SMAD3', 'CEBPB', 'ESR2', 'RXRA', 'NR4A1', 'BCL6'] 0.00640236131822341\n",
      "1380 / 1846 : TIAM1 3 ['LEF1', 'NR4A1', 'BACH1'] 0.014065941936670563\n",
      "1381 / 1846 : SLC4A7 8 ['ESR1', 'HIF1A', 'JUN', 'SMAD3', 'NR4A1', 'MECP2', 'CEBPB', 'KLF4'] 0.013685274062156761\n",
      "1382 / 1846 : DHX34 8 ['ESR1', 'MYC', 'HIF1A', 'SMAD3', 'JUN', 'MECP2', 'CEBPB', 'NR4A1'] 0.003007790397355791\n"
     ]
    },
    {
     "name": "stderr",
     "output_type": "stream",
     "text": [
      "/Users/yijwang-admin/Documents/Research/GRN_PPI/L0GL_PPI_GRN/minFunc/polyinterp.py:40: RuntimeWarning: divide by zero encountered in scalar divide\n",
      "  t = points[notMinPos, 0] - (points[notMinPos, 0] - points[minPos, 0]) * ((points[notMinPos, 2] + d2 - d1) / (points[notMinPos, 2] - points[minPos, 2] + 2 * d2))\n"
     ]
    },
    {
     "name": "stdout",
     "output_type": "stream",
     "text": [
      "1383 / 1846 : LINC02245 7 ['ESR1', 'MYC', 'HIF1A', 'SMAD3', 'JUN', 'MECP2', 'CEBPB'] 0.003178647229364494\n",
      "1384 / 1846 : PDE7A 10 ['ESR1', 'MYC', 'SMAD3', 'JUN', 'MECP2', 'CEBPB', 'ESR2', 'RXRA', 'FOS', 'NR4A1'] 0.012693254353690423\n",
      "1385 / 1846 : IMP3 6 ['ESR1', 'NR4A1', 'MAFB', 'KLF4', 'LEF1', 'ZEB1'] 0.008438538167463951\n",
      "1386 / 1846 : MEAF6 9 ['HIF1A', 'NR4A1', 'ESR1', 'MYC', 'SMAD3', 'RXRA', 'JUN', 'AHR', 'MECP2'] 0.013055305949422722\n",
      "1387 / 1846 : DIP2A 8 ['CREB5', 'KLF4', 'ESR1', 'MYC', 'CEBPB', 'SMAD3', 'HIF1A', 'JUN'] 0.01774805127177254\n",
      "1388 / 1846 : FOCAD 8 ['ESR1', 'MYC', 'SMAD3', 'MECP2', 'RXRA', 'ESR2', 'NR4A1', 'FOXO1'] 0.008528080587931043\n",
      "1389 / 1846 : FLNB 10 ['MYC', 'ESR1', 'JUN', 'SMAD3', 'MECP2', 'CEBPB', 'RXRA', 'ESR2', 'FOS', 'ATF3'] 0.010728314038314193\n",
      "1390 / 1846 : NDUFV2-AS1 10 ['MYC', 'ESR1', 'HIF1A', 'SMAD3', 'JUN', 'KLF4', 'MECP2', 'CEBPB', 'FOS', 'NR4A1'] 0.006637670583532124\n",
      "1391 / 1846 : TYW1B 9 ['ESR1', 'SMAD3', 'CEBPB', 'MECP2', 'SPI1', 'RXRA', 'CREB5', 'ESR2', 'BCL6'] 0.008765183828130442\n",
      "1392 / 1846 : CCAR2 8 ['CREB5', 'ESR1', 'MYC', 'BCL6', 'HIF1A', 'SMAD3', 'JUN', 'RXRA'] 0.0077582671867547845\n",
      "1393 / 1846 : CFD 8 ['MYC', 'ESR1', 'HIF1A', 'SMAD3', 'JUN', 'MECP2', 'CEBPB', 'CREB5'] 0.002898882667049187\n",
      "1394 / 1846 : APBA2 7 ['MYC', 'ESR1', 'SMAD3', 'MECP2', 'NR4A1', 'JUN', 'HIF1A'] 0.0100003567067485\n",
      "1395 / 1846 : TRERF1 4 ['NR4A1', 'PAX5', 'MEF2C', 'AHR'] 0.016255553986522623\n",
      "1396 / 1846 : PYHIN1 7 ['ESR1', 'MYC', 'RXRA', 'RFX2', 'NR4A1', 'BACH1', 'SMAD3'] 0.019667137717110265\n"
     ]
    },
    {
     "name": "stderr",
     "output_type": "stream",
     "text": [
      "/Users/yijwang-admin/Documents/Research/GRN_PPI/L0GL_PPI_GRN/minFunc/polyinterp.py:40: RuntimeWarning: divide by zero encountered in scalar divide\n",
      "  t = points[notMinPos, 0] - (points[notMinPos, 0] - points[minPos, 0]) * ((points[notMinPos, 2] + d2 - d1) / (points[notMinPos, 2] - points[minPos, 2] + 2 * d2))\n"
     ]
    },
    {
     "name": "stdout",
     "output_type": "stream",
     "text": [
      "1397 / 1846 : CDA 9 ['MYC', 'ESR1', 'SMAD3', 'JUN', 'MECP2', 'ESR2', 'RXRA', 'FOS', 'NR4A1'] 0.0034231288835557872\n",
      "1399 / 1846 : CDK8 10 ['MYC', 'HIF1A', 'SMAD3', 'MECP2', 'CEBPB', 'NR4A1', 'BCL6', 'ESR2', 'FOXO1', 'RXRA'] 0.007749627821672192\n",
      "1400 / 1846 : TC2N 8 ['ESR1', 'MYC', 'HIF1A', 'SMAD3', 'JUN', 'MECP2', 'ESR2', 'NR2C2'] 0.01586365855898218\n",
      "1401 / 1846 : ZNF654 10 ['ESR1', 'SMAD3', 'JUN', 'MECP2', 'RXRA', 'KLF4', 'ESR2', 'SPI1', 'FOXO1', 'BACH1'] 0.011398766358824204\n",
      "1402 / 1846 : LIMS1 10 ['KLF4', 'HIF1A', 'MYC', 'ESR1', 'SMAD3', 'JUN', 'NR4A1', 'MECP2', 'RXRA', 'BCL6'] 0.010491717151983927\n",
      "1403 / 1846 : TRIM52 7 ['KLF4', 'MAFB', 'RXRA', 'MEF2C', 'PAX5', 'MYC', 'ESR1'] 0.011084252541124405\n",
      "1404 / 1846 : EMILIN2 8 ['MYC', 'ESR1', 'HIF1A', 'SMAD3', 'JUN', 'MECP2', 'CEBPB', 'RXRA'] 0.0036647327200253566\n",
      "1405 / 1846 : CALCOCO1 10 ['MYC', 'ESR1', 'CEBPB', 'SMAD3', 'HIF1A', 'BCL6', 'MECP2', 'RXRA', 'ESR2', 'FOXO3'] 0.007257785854141555\n",
      "1406 / 1846 : PRKAG2 5 ['CREB5', 'KLF4', 'SPI1', 'FOXO1', 'ESR1'] 0.00987541440083756\n"
     ]
    },
    {
     "name": "stderr",
     "output_type": "stream",
     "text": [
      "/Users/yijwang-admin/Documents/Research/GRN_PPI/L0GL_PPI_GRN/minFunc/polyinterp.py:40: RuntimeWarning: divide by zero encountered in scalar divide\n",
      "  t = points[notMinPos, 0] - (points[notMinPos, 0] - points[minPos, 0]) * ((points[notMinPos, 2] + d2 - d1) / (points[notMinPos, 2] - points[minPos, 2] + 2 * d2))\n"
     ]
    },
    {
     "name": "stdout",
     "output_type": "stream",
     "text": [
      "1407 / 1846 : SSR4 10 ['KLF4', 'RXRA', 'MYC', 'ESR1', 'HIF1A', 'MECP2', 'SMAD3', 'JUN', 'MEF2C', 'CEBPB'] 0.016190733529669227\n",
      "1408 / 1846 : TMEM223 7 ['RXRA', 'CEBPB', 'ESR1', 'AHR', 'MYC', 'ATF3', 'FOXO3'] 0.01510123811392663\n",
      "1409 / 1846 : DPYD 4 ['PPARD', 'PAX5', 'ESR2', 'RXRA'] 0.009219852946139308\n",
      "1410 / 1846 : NEK1 7 ['ESR1', 'MYC', 'SMAD3', 'JUN', 'SPI1', 'CREB5', 'BACH2'] 0.008952585776743701\n",
      "1411 / 1846 : RPS18 10 ['MYC', 'ESR1', 'HIF1A', 'SMAD3', 'JUN', 'MECP2', 'CEBPB', 'RXRA', 'ESR2', 'SPI1'] 0.014182025876987699\n",
      "1412 / 1846 : ZSWIM8 8 ['MYC', 'CEBPB', 'ESR1', 'JUN', 'SMAD3', 'HIF1A', 'RXRA', 'SPI1'] 0.011896034226100458\n",
      "1413 / 1846 : TMEM192 10 ['ESR1', 'MYC', 'HIF1A', 'SMAD3', 'MECP2', 'RXRA', 'ESR2', 'NR4A1', 'BACH1', 'NR2C2'] 0.004923002826126147\n",
      "1414 / 1846 : INTS1 6 ['ESR1', 'HIF1A', 'MYC', 'SMAD3', 'JUN', 'MECP2'] 0.008188676115219234\n",
      "1415 / 1846 : CLASRP 10 ['MYC', 'ESR1', 'HIF1A', 'JUN', 'SMAD3', 'MECP2', 'ESR2', 'RXRA', 'FOS', 'NR4A1'] 0.00774480587687908\n",
      "1416 / 1846 : ALPK1 3 ['KLF4', 'CEBPB', 'RXRA'] 0.004657521223380968\n",
      "1418 / 1846 : PKP4 10 ['ESR1', 'KLF4', 'SMAD3', 'MECP2', 'RXRA', 'ESR2', 'NR4A1', 'FOXO1', 'NR2C2', 'BACH1'] 0.010944006227506083\n"
     ]
    },
    {
     "name": "stderr",
     "output_type": "stream",
     "text": [
      "/Users/yijwang-admin/Documents/Research/GRN_PPI/L0GL_PPI_GRN/minFunc/polyinterp.py:40: RuntimeWarning: divide by zero encountered in scalar divide\n",
      "  t = points[notMinPos, 0] - (points[notMinPos, 0] - points[minPos, 0]) * ((points[notMinPos, 2] + d2 - d1) / (points[notMinPos, 2] - points[minPos, 2] + 2 * d2))\n"
     ]
    },
    {
     "name": "stdout",
     "output_type": "stream",
     "text": [
      "1419 / 1846 : ANKRD36C 10 ['ESR1', 'MYC', 'KLF4', 'CREB5', 'HIF1A', 'SMAD3', 'JUN', 'SPI1', 'MECP2', 'JDP2'] 0.01513696575286061\n",
      "1420 / 1846 : C19orf53 8 ['ESR1', 'MYC', 'SMAD3', 'HIF1A', 'JUN', 'RXRA', 'MECP2', 'BACH1'] 0.010406169825784265\n",
      "1421 / 1846 : LILRB2 3 ['CREB5', 'NR4A1', 'NR2C2'] 0.0011337943285246236\n",
      "1422 / 1846 : MYC 4 ['MYC', 'ESR1', 'SMAD3', 'JUN'] 8.735510736380926e-07\n",
      "1423 / 1846 : FAM20B 8 ['ESR1', 'MYC', 'SMAD3', 'JUN', 'MECP2', 'ESR2', 'RXRA', 'BCL6'] 0.004257656550046085\n",
      "1424 / 1846 : ITM2A 9 ['MYC', 'ESR1', 'SMAD3', 'CEBPB', 'RXRA', 'ESR2', 'FOXO1', 'BCL6', 'IRF7'] 0.011635267930850476\n",
      "1425 / 1846 : SLC25A33 9 ['ESR1', 'MYC', 'HIF1A', 'SMAD3', 'JUN', 'CEBPB', 'MECP2', 'RXRA', 'KLF4'] 0.008586076204836346\n",
      "1426 / 1846 : TTF1 9 ['ESR1', 'HIF1A', 'SMAD3', 'JUN', 'MECP2', 'ATF3', 'RXRA', 'ESR2', 'KLF4'] 0.007725691941404814\n",
      "1427 / 1846 : ARMC1 5 ['JDP2', 'RXRA', 'ATF3', 'MYC', 'TFCP2'] 0.006417506380355896\n"
     ]
    },
    {
     "name": "stderr",
     "output_type": "stream",
     "text": [
      "/Users/yijwang-admin/Documents/Research/GRN_PPI/L0GL_PPI_GRN/minFunc/polyinterp.py:40: RuntimeWarning: divide by zero encountered in scalar divide\n",
      "  t = points[notMinPos, 0] - (points[notMinPos, 0] - points[minPos, 0]) * ((points[notMinPos, 2] + d2 - d1) / (points[notMinPos, 2] - points[minPos, 2] + 2 * d2))\n"
     ]
    },
    {
     "name": "stdout",
     "output_type": "stream",
     "text": [
      "1428 / 1846 : CRTC1 7 ['ESR1', 'MYC', 'HIF1A', 'JUN', 'SMAD3', 'CEBPB', 'MECP2'] 0.008158648157773889\n",
      "1430 / 1846 : SH2D3C 10 ['ESR1', 'MYC', 'HIF1A', 'SMAD3', 'JUN', 'MECP2', 'CEBPB', 'NR4A1', 'ESR2', 'FOS'] 0.006779341619796249\n",
      "1431 / 1846 : SCLT1 4 ['CREB5', 'RXRA', 'IRF8', 'CEBPB'] 0.011959767540502307\n",
      "1432 / 1846 : CENPP 3 ['SPI1', 'TFCP2', 'ETS1'] 0.011238869995648902\n",
      "1433 / 1846 : PDK1 10 ['MYC', 'ESR1', 'NR4A1', 'SMAD3', 'HIF1A', 'JUN', 'CEBPB', 'MECP2', 'RXRA', 'ESR2'] 0.0052177598547587\n",
      "1434 / 1846 : SFMBT1 10 ['ESR1', 'MYC', 'SMAD3', 'CREB5', 'MECP2', 'RXRA', 'ESR2', 'FOS', 'SPI1', 'NR4A1'] 0.009553687037686866\n",
      "1435 / 1846 : NFIL3 3 ['NFIL3', 'ESR1', 'MYC'] 9.347701685574666e-07\n",
      "1436 / 1846 : ZNF611 10 ['ESR1', 'JUN', 'HIF1A', 'SMAD3', 'MECP2', 'CREB5', 'RXRA', 'ESR2', 'BCL6', 'FOS'] 0.008504084841920424\n",
      "1438 / 1846 : EEPD1 3 ['RXRA', 'AHR', 'ESR1'] 0.0050486842629102096\n",
      "1439 / 1846 : KAT6B 10 ['ESR1', 'MYC', 'MECP2', 'RXRA', 'ESR2', 'NR4A1', 'BCL6', 'NR2C2', 'AHR', 'BACH1'] 0.010366079024640684\n",
      "1440 / 1846 : ING5 10 ['MYC', 'ESR1', 'SMAD3', 'HIF1A', 'JUN', 'CEBPB', 'MECP2', 'KLF4', 'RXRA', 'ESR2'] 0.006903048453058145\n",
      "1441 / 1846 : MTMR3 9 ['ESR1', 'SMAD3', 'HIF1A', 'RXRA', 'MECP2', 'ESR2', 'FOS', 'NR2C2', 'BACH1'] 0.006870938375125477\n",
      "1442 / 1846 : DDX60L 9 ['ESR1', 'HIF1A', 'JUN', 'RXRA', 'ESR2', 'CREB5', 'FOS', 'SPI1', 'BACH1'] 0.007716073371333481\n",
      "1443 / 1846 : LRRC28 6 ['CREB5', 'NR4A1', 'ESR1', 'BACH1', 'SMAD3', 'RXRA'] 0.007174093407284039\n",
      "1444 / 1846 : PELI1 5 ['ESR1', 'BACH1', 'SPI1', 'MYC', 'RXRA'] 0.004833563321360729\n",
      "1445 / 1846 : ORC5 8 ['CEBPB', 'MECP2', 'SMAD3', 'RXRA', 'NR2C2', 'TAF1', 'RUNX2', 'TFCP2'] 0.00869917374014876\n",
      "1447 / 1846 : C1orf52 4 ['FOXO3', 'ESR1', 'ATF3', 'MEF2C'] 0.008523504074313465\n",
      "1448 / 1846 : RUBCNL 4 ['ESR1', 'SMAD3', 'MECP2', 'CREB5'] 0.00030681596945235026\n",
      "1449 / 1846 : MICAL3 9 ['MYC', 'ESR1', 'HIF1A', 'SMAD3', 'MECP2', 'CEBPB', 'RXRA', 'ESR2', 'KLF12'] 0.011413821651811054\n",
      "1450 / 1846 : RAB27A 4 ['KLF4', 'MAFB', 'CEBPD', 'HSF2'] 0.01444281069595376\n",
      "1452 / 1846 : MAPKAPK5-AS1 10 ['HIF1A', 'ESR1', 'MYC', 'SMAD3', 'MECP2', 'CEBPB', 'ESR2', 'RXRA', 'ATF3', 'NR4A1'] 0.005932296983898095\n",
      "1453 / 1846 : CD38 9 ['MYC', 'ESR1', 'SPI1', 'HIF1A', 'SMAD3', 'JUN', 'NR4A1', 'NR2C2', 'ATF3'] 0.01513241471425331\n",
      "1454 / 1846 : PATL2 7 ['FOS', 'JUN', 'CREB5', 'CEBPB', 'FOXO1', 'ESR1', 'NR4A1'] 0.012887030945671363\n",
      "1455 / 1846 : UBE2E1 6 ['CREB5', 'ESR1', 'MYC', 'SPI1', 'SMAD3', 'BCL6'] 0.005860096657683565\n",
      "1456 / 1846 : SLC9A9 10 ['ESR1', 'HIF1A', 'SMAD3', 'MECP2', 'RXRA', 'ESR2', 'NR4A1', 'SPI1', 'KLF4', 'AHR'] 0.007690412120340931\n",
      "1457 / 1846 : PRMT9 10 ['MYC', 'ESR1', 'JUN', 'HIF1A', 'SMAD3', 'MECP2', 'BCL6', 'AHR', 'RXRA', 'ESR2'] 0.008292318400457098\n",
      "1458 / 1846 : SLC16A1-AS1 10 ['ESR1', 'MYC', 'SMAD3', 'MECP2', 'ESR2', 'RXRA', 'NR4A1', 'BCL6', 'AHR', 'NR2C2'] 0.009981661688633839\n",
      "1460 / 1846 : OAS3 7 ['ESR1', 'MYC', 'SMAD3', 'MECP2', 'RXRA', 'BACH1', 'ESR2'] 0.004003149554773948\n",
      "1461 / 1846 : PWWP3A 10 ['ESR1', 'MYC', 'JUN', 'HIF1A', 'SMAD3', 'MECP2', 'CEBPB', 'RXRA', 'ESR2', 'FOS'] 0.005730177406557558\n",
      "1462 / 1846 : CALU 5 ['CEBPB', 'ESR1', 'ATF3', 'RXRA', 'HSF2'] 0.007677502027976575\n",
      "1463 / 1846 : TLR2 5 ['MYC', 'ESR1', 'SMAD3', 'KLF4', 'JUN'] 0.001868210449257075\n",
      "1464 / 1846 : LINC01550 9 ['ESR1', 'SMAD3', 'JUN', 'MECP2', 'ESR2', 'RXRA', 'FOS', 'BACH1', 'BCL6'] 0.011371907066891044\n",
      "1465 / 1846 : ITGB1 6 ['KLF4', 'SPI1', 'BACH1', 'LEF1', 'MAFB', 'CEBPB'] 0.026062795541387452\n",
      "1466 / 1846 : RNF19B 4 ['KLF4', 'MEF2C', 'LEF1', 'SOX4'] 0.00781718153490419\n",
      "1467 / 1846 : DENND3 10 ['MYC', 'ESR1', 'HIF1A', 'SMAD3', 'JUN', 'MECP2', 'CEBPB', 'RXRA', 'ESR2', 'FOS'] 0.005728581539463674\n",
      "1468 / 1846 : SUSD1 9 ['ESR1', 'MYC', 'SMAD3', 'MECP2', 'NR4A1', 'CEBPB', 'RXRA', 'ESR2', 'SPI1'] 0.009500302009970162\n",
      "1469 / 1846 : BMP2K 10 ['ESR1', 'MYC', 'RXRA', 'MECP2', 'ESR2', 'NR2C2', 'TAF1', 'BACH1', 'AHR', 'CREB5'] 0.006121674192444238\n",
      "1470 / 1846 : DZIP3 10 ['ESR1', 'SMAD3', 'JUN', 'MECP2', 'RXRA', 'ESR2', 'FOS', 'BCL6', 'NR4A1', 'MAFB'] 0.012766827853041394\n",
      "1471 / 1846 : TTBK2 10 ['ESR1', 'HIF1A', 'SMAD3', 'MECP2', 'CEBPB', 'SPI1', 'NR4A1', 'ESR2', 'RXRA', 'FOS'] 0.009524728303653675\n",
      "1472 / 1846 : MAPK8 9 ['MYC', 'ESR1', 'HIF1A', 'MECP2', 'ESR2', 'NR4A1', 'NR2C2', 'TAF1', 'ATF3'] 0.005052699272425434\n",
      "1474 / 1846 : MECP2 4 ['MECP2', 'MYC', 'ESR1', 'HIF1A'] 1.3445232766802436e-06\n",
      "1475 / 1846 : APOLD1 10 ['SMAD3', 'MYC', 'ESR1', 'HIF1A', 'JUN', 'CEBPB', 'MECP2', 'RXRA', 'ESR2', 'CREB5'] 0.00863883274265042\n",
      "1476 / 1846 : HACD3 8 ['CREB5', 'MYC', 'ESR1', 'JUN', 'RXRA', 'HIF1A', 'SMAD3', 'BACH1'] 0.011892221272692098\n",
      "1478 / 1846 : MTX2 10 ['ESR1', 'MECP2', 'RXRA', 'ESR2', 'NR2C2', 'TAF1', 'BACH1', 'KLF12', 'RELB', 'KLF4'] 0.007968192561516124\n",
      "1479 / 1846 : METTL15 8 ['ESR1', 'SMAD3', 'RXRA', 'CREB5', 'JDP2', 'KLF4', 'NR4A1', 'PAX5'] 0.010701912166635385\n",
      "1480 / 1846 : IL1RAP 10 ['ESR1', 'MECP2', 'CEBPB', 'RXRA', 'ESR2', 'NR4A1', 'BCL6', 'KLF12', 'ZEB1', 'PPARD'] 0.0053576242762729855\n",
      "1481 / 1846 : NBEAL1 7 ['KLF4', 'CREB5', 'ESR1', 'SMAD3', 'JUN', 'MECP2', 'ATF3'] 0.007666234957317237\n",
      "1482 / 1846 : LRRK2 9 ['ESR1', 'SMAD3', 'MECP2', 'CEBPB', 'ESR2', 'KLF4', 'NR2C2', 'FOXO1', 'TAF1'] 0.0015915230778411988\n",
      "1483 / 1846 : LRRK1 10 ['ESR1', 'MYC', 'SMAD3', 'MECP2', 'CEBPB', 'RXRA', 'ESR2', 'BCL6', 'NR2C2', 'FOXO1'] 0.003027309930055998\n",
      "1484 / 1846 : AHR 10 ['JUN', 'CREB5', 'NR4A1', 'RXRA', 'ESR2', 'FOS', 'BCL6', 'NR2C2', 'FOXO1', 'BACH1'] 0.006073319210783809\n",
      "1485 / 1846 : FANCC 10 ['ESR1', 'MYC', 'HIF1A', 'SMAD3', 'MECP2', 'CEBPB', 'RXRA', 'ESR2', 'CREB5', 'JDP2'] 0.010696339433400329\n",
      "1486 / 1846 : NAMPT 4 ['ESR1', 'MYC', 'HIF1A', 'KLF4'] 0.0032713811381751773\n",
      "1487 / 1846 : NBEAL2 3 ['MAFB', 'MEF2A', 'KLF4'] 0.00859053969759012\n",
      "1488 / 1846 : CMSS1 10 ['CREB5', 'MYC', 'RXRA', 'CEBPB', 'SMAD3', 'MECP2', 'ESR2', 'NR4A1', 'BCL6', 'ATF3'] 0.006983373928493377\n",
      "1490 / 1846 : ZNF827 10 ['ESR1', 'MYC', 'SMAD3', 'JUN', 'MECP2', 'RXRA', 'ESR2', 'FOS', 'BCL6', 'NR4A1'] 0.012269099854169786\n",
      "1491 / 1846 : S100Z 3 ['SPI1', 'KLF4', 'MAFB'] 0.002666420255278365\n",
      "1492 / 1846 : RPL23A 7 ['MYC', 'SPI1', 'CREB5', 'ESR1', 'MECP2', 'FOXO1', 'HIF1A'] 0.01224984219482253\n",
      "1493 / 1846 : WDPCP 10 ['ESR1', 'SMAD3', 'MECP2', 'CEBPB', 'ESR2', 'RXRA', 'NR4A1', 'BCL6', 'NR2C2', 'TAF1'] 0.009147412472890946\n",
      "1494 / 1846 : CDR2 8 ['ESR1', 'MYC', 'SMAD3', 'MECP2', 'RXRA', 'ESR2', 'IRF7', 'FOXO1'] 0.00602287302410834\n",
      "1495 / 1846 : MATK 10 ['CREB5', 'KLF4', 'HIF1A', 'SPI1', 'BCL6', 'ESR1', 'MYC', 'SMAD3', 'FOXO3', 'ATF3'] 0.028779500904105384\n",
      "1496 / 1846 : SYNE2 8 ['ESR1', 'MYC', 'HIF1A', 'SMAD3', 'JUN', 'KLF4', 'RXRA', 'MECP2'] 0.009801552525964208\n",
      "1497 / 1846 : TRAF1 8 ['CEBPB', 'RXRA', 'MYC', 'ESR1', 'KLF4', 'CREB5', 'BCL6', 'JUN'] 0.011567289447610235\n",
      "1498 / 1846 : KLRG1 10 ['ESR1', 'SPI1', 'MECP2', 'CEBPB', 'MYC', 'KLF4', 'NR4A1', 'SMAD3', 'LEF1', 'JUN'] 0.020685237677886117\n",
      "1499 / 1846 : STAM 10 ['CREB5', 'MYC', 'ESR1', 'JUN', 'SMAD3', 'MECP2', 'CEBPB', 'AHR', 'BCL6', 'FOS'] 0.010229886272116372\n",
      "1500 / 1846 : DDX60 8 ['CREB5', 'ESR1', 'HIF1A', 'SPI1', 'JUN', 'ESR2', 'FOS', 'RXRA'] 0.005145446934953108\n",
      "1501 / 1846 : TDRD3 10 ['ESR1', 'HIF1A', 'SMAD3', 'JUN', 'MECP2', 'ESR2', 'RXRA', 'FOS', 'BACH1', 'KLF4'] 0.007851571408649572\n",
      "1502 / 1846 : PIK3IP1 8 ['ESR1', 'MYC', 'SMAD3', 'MECP2', 'NR4A1', 'SPI1', 'RXRA', 'FOXO1'] 0.009696924958449413\n",
      "1503 / 1846 : SLC2A13 10 ['ESR1', 'SMAD3', 'MECP2', 'CEBPB', 'ESR2', 'FOXO1', 'NR2C2', 'TAF1', 'ATF3', 'KLF4'] 0.010719116478927593\n",
      "1504 / 1846 : IFITM1 4 ['NR4A1', 'MEF2C', 'AHR', 'MAFB'] 0.015327054556055706\n",
      "1505 / 1846 : SGK1 10 ['ESR1', 'SMAD3', 'JUN', 'MECP2', 'ESR2', 'RXRA', 'FOS', 'FOXO3', 'TAF1', 'AHR'] 0.004538334842005094\n"
     ]
    },
    {
     "name": "stderr",
     "output_type": "stream",
     "text": [
      "/Users/yijwang-admin/Documents/Research/GRN_PPI/L0GL_PPI_GRN/minFunc/polyinterp.py:40: RuntimeWarning: divide by zero encountered in scalar divide\n",
      "  t = points[notMinPos, 0] - (points[notMinPos, 0] - points[minPos, 0]) * ((points[notMinPos, 2] + d2 - d1) / (points[notMinPos, 2] - points[minPos, 2] + 2 * d2))\n"
     ]
    },
    {
     "name": "stdout",
     "output_type": "stream",
     "text": [
      "1506 / 1846 : MICAL2 10 ['MYC', 'ESR1', 'SMAD3', 'CEBPB', 'MECP2', 'FOS', 'ESR2', 'RXRA', 'NR4A1', 'KLF4'] 0.00790753299775364\n",
      "1507 / 1846 : OSCAR 9 ['MYC', 'ESR1', 'HIF1A', 'SMAD3', 'JUN', 'MECP2', 'CEBPB', 'ESR2', 'RXRA'] 0.0029791841331801346\n",
      "1508 / 1846 : DPH5 5 ['RXRA', 'SPI1', 'RFX2', 'MYC', 'IRF1'] 0.007835703552168432\n",
      "1509 / 1846 : SLFN12L 10 ['ESR1', 'MYC', 'HIF1A', 'SMAD3', 'MECP2', 'JUN', 'CEBPB', 'RXRA', 'ESR2', 'FOS'] 0.01266067068435358\n",
      "1510 / 1846 : TRAK1 3 ['JDP2', 'RXRA', 'TFCP2'] 0.006003614438838428\n",
      "1511 / 1846 : NOL11 7 ['ESR1', 'JUN', 'MECP2', 'RXRA', 'ESR2', 'ATF3', 'SPI1'] 0.007859611796916464\n",
      "1513 / 1846 : P2RX1 3 ['CREB5', 'ESR1', 'MYC'] 0.001938592376989177\n",
      "1514 / 1846 : KMO 9 ['ESR1', 'MYC', 'MECP2', 'ESR2', 'RXRA', 'FOS', 'NR4A1', 'BCL6', 'NR2C2'] 0.001819196528433176\n",
      "1515 / 1846 : SLFN11 10 ['ESR1', 'MYC', 'HIF1A', 'SMAD3', 'JUN', 'MECP2', 'CEBPB', 'RXRA', 'ESR2', 'NR4A1'] 0.008467996129216672\n",
      "1516 / 1846 : CCDC200 4 ['CREB5', 'ESR1', 'KLF4', 'MYC'] 0.0017657148794285177\n",
      "1517 / 1846 : CXXC5 10 ['ESR1', 'MYC', 'JUN', 'SMAD3', 'HIF1A', 'MECP2', 'ESR2', 'TAF1', 'ZFHX3', 'NR4A1'] 0.017486110103875026\n",
      "1518 / 1846 : CRADD 9 ['RXRA', 'MEF2C', 'ESR1', 'MYC', 'SPI1', 'SMAD3', 'HIF1A', 'MECP2', 'JUN'] 0.01322224502093814\n",
      "1519 / 1846 : POLD3 9 ['ESR1', 'HIF1A', 'SMAD3', 'MECP2', 'CEBPB', 'RXRA', 'ESR2', 'BCL6', 'NR2C2'] 0.00757572264289751\n",
      "1520 / 1846 : EGLN3 4 ['ESR1', 'MYC', 'LEF1', 'BCL6'] 0.009670107549065108\n",
      "1521 / 1846 : TPGS2 10 ['ESR1', 'HIF1A', 'SMAD3', 'MECP2', 'RXRA', 'NR2C2', 'TAF1', 'BACH1', 'AHR', 'ZEB1'] 0.010338947950684824\n",
      "1522 / 1846 : RTTN 6 ['CEBPB', 'ESR1', 'ATF3', 'BCL6', 'NR4A1', 'SPI1'] 0.007587943909790053\n",
      "1523 / 1846 : JARID2 4 ['CREB5', 'RXRA', 'IRF8', 'MAFB'] 0.009771381250054022\n",
      "1524 / 1846 : PCNX2 9 ['ESR1', 'MYC', 'HIF1A', 'MECP2', 'KLF4', 'RXRA', 'ESR2', 'BCL6', 'JDP2'] 0.013409079449891765\n",
      "1525 / 1846 : NFKBIZ 8 ['MYC', 'ESR1', 'HIF1A', 'JUN', 'SMAD3', 'MECP2', 'CEBPB', 'FOS'] 0.007733246347951795\n",
      "1526 / 1846 : CAMK4 10 ['ESR1', 'MYC', 'HIF1A', 'SMAD3', 'JUN', 'MECP2', 'CEBPB', 'RXRA', 'ESR2', 'IRF8'] 0.0263857318134392\n",
      "1527 / 1846 : LDLR 9 ['HIF1A', 'ESR1', 'MYC', 'SPI1', 'CEBPB', 'SMAD3', 'JUN', 'NR4A1', 'MECP2'] 0.009104995739158364\n",
      "1528 / 1846 : OSBPL2 9 ['MYC', 'ESR1', 'SMAD3', 'HIF1A', 'JUN', 'KLF4', 'MECP2', 'NR4A1', 'CEBPB'] 0.008709488871247138\n",
      "1529 / 1846 : KIAA0825 6 ['JDP2', 'CREB5', 'MEF2C', 'NR4A1', 'SPI1', 'BACH2'] 0.010575649973401699\n",
      "1530 / 1846 : SIL1 8 ['KLF4', 'MYC', 'SPI1', 'ESR1', 'HIF1A', 'JUN', 'SMAD3', 'NR4A1'] 0.008334637940015497\n",
      "1531 / 1846 : SNED1 5 ['RXRA', 'NR4A1', 'PPARD', 'LEF1', 'MAFB'] 0.007546707836723572\n",
      "1532 / 1846 : AGAP3 10 ['MYC', 'ESR1', 'HIF1A', 'SMAD3', 'JUN', 'MECP2', 'CEBPB', 'ESR2', 'RXRA', 'FOS'] 0.007235264026173447\n",
      "1533 / 1846 : ABAT 10 ['MYC', 'ESR1', 'HIF1A', 'SMAD3', 'JUN', 'MECP2', 'RXRA', 'ESR2', 'BCL6', 'NR4A1'] 0.008700114466583142\n",
      "1534 / 1846 : INPP5F 5 ['TAF1', 'ESR1', 'NR4A1', 'MYC', 'HIF1A'] 0.006341420307614922\n"
     ]
    },
    {
     "name": "stderr",
     "output_type": "stream",
     "text": [
      "/Users/yijwang-admin/Documents/Research/GRN_PPI/L0GL_PPI_GRN/minFunc/polyinterp.py:40: RuntimeWarning: divide by zero encountered in scalar divide\n",
      "  t = points[notMinPos, 0] - (points[notMinPos, 0] - points[minPos, 0]) * ((points[notMinPos, 2] + d2 - d1) / (points[notMinPos, 2] - points[minPos, 2] + 2 * d2))\n"
     ]
    },
    {
     "name": "stdout",
     "output_type": "stream",
     "text": [
      "1535 / 1846 : TMEM170B 8 ['ESR1', 'MYC', 'JUN', 'MECP2', 'ESR2', 'RXRA', 'FOS', 'CREB5'] 0.0016519006360052606\n",
      "1536 / 1846 : MT2A 10 ['MYC', 'ESR1', 'SMAD3', 'HIF1A', 'JUN', 'MECP2', 'FOS', 'CEBPB', 'SPI1', 'NR4A1'] 0.020666903105835962\n",
      "1537 / 1846 : TRAPPC13 10 ['ESR1', 'MYC', 'SMAD3', 'JUN', 'MECP2', 'RXRA', 'ESR2', 'FOS', 'NR4A1', 'KLF4'] 0.008835922554057947\n",
      "1538 / 1846 : POP5 3 ['MAFB', 'SPI1', 'ATF3'] 0.01233187074473769\n",
      "1539 / 1846 : HMGXB4 10 ['ESR1', 'MYC', 'HIF1A', 'SMAD3', 'MECP2', 'CEBPB', 'ESR2', 'RXRA', 'FOS', 'NR4A1'] 0.006689688516875514\n",
      "1540 / 1846 : HDAC8 10 ['ESR1', 'HIF1A', 'RXRA', 'TAF1', 'KLF12', 'SPI1', 'TFCP2', 'PPARA', 'ETV6', 'E2F3'] 0.007082977674690131\n",
      "1541 / 1846 : CLIP4 5 ['BACH1', 'MECP2', 'PPARA', 'ETV6', 'TAF1'] 0.006604048947144434\n",
      "1542 / 1846 : ABCD2 6 ['SPI1', 'TAF1', 'SMAD3', 'BACH1', 'FOXO3', 'MAFB'] 0.013478778420310028\n"
     ]
    },
    {
     "name": "stderr",
     "output_type": "stream",
     "text": [
      "/Users/yijwang-admin/Documents/Research/GRN_PPI/L0GL_PPI_GRN/minFunc/polyinterp.py:40: RuntimeWarning: divide by zero encountered in scalar divide\n",
      "  t = points[notMinPos, 0] - (points[notMinPos, 0] - points[minPos, 0]) * ((points[notMinPos, 2] + d2 - d1) / (points[notMinPos, 2] - points[minPos, 2] + 2 * d2))\n"
     ]
    },
    {
     "name": "stdout",
     "output_type": "stream",
     "text": [
      "1543 / 1846 : PRKD2 7 ['CREB5', 'HIF1A', 'KLF4', 'ESR1', 'RXRA', 'CEBPB', 'MYC'] 0.009269758530749692\n",
      "1544 / 1846 : NIPSNAP2 7 ['ESR1', 'MYC', 'KLF4', 'HIF1A', 'NR4A1', 'SMAD3', 'JUN'] 0.005965541931034616\n",
      "1545 / 1846 : TPD52 6 ['ESR1', 'FOXO1', 'MYC', 'HIF1A', 'RXRA', 'BCL6'] 0.010551934364466942\n",
      "1546 / 1846 : PFN1 9 ['HIF1A', 'ESR1', 'MYC', 'CREB5', 'JUN', 'SMAD3', 'MECP2', 'CEBPB', 'FOXO1'] 0.014918283725159569\n",
      "1547 / 1846 : VRK1 3 ['PBX3', 'BCL6', 'MECP2'] 0.007891651583119757\n",
      "1548 / 1846 : ZNF75D 9 ['MYC', 'ESR1', 'HIF1A', 'SMAD3', 'KLF4', 'SPI1', 'MECP2', 'ESR2', 'RXRA'] 0.00810655632006795\n",
      "1549 / 1846 : THEMIS 10 ['HIF1A', 'SMAD3', 'NR4A1', 'RXRA', 'ESR2', 'SPI1', 'TAF1', 'ZEB1', 'IRF7', 'RUNX2'] 0.020205026957743403\n",
      "1550 / 1846 : BCL2A1 8 ['MYC', 'ESR1', 'HIF1A', 'SMAD3', 'MECP2', 'CEBPB', 'KLF4', 'ESR2'] 0.005581001732595302\n",
      "1551 / 1846 : GABPB1-AS1 10 ['CEBPB', 'MYC', 'ESR1', 'MECP2', 'RXRA', 'ESR2', 'FOS', 'NR4A1', 'FOXO3', 'FOXO1'] 0.004231854229568375\n",
      "1552 / 1846 : HERC5 7 ['ESR1', 'MYC', 'JUN', 'SMAD3', 'CREB5', 'MECP2', 'RXRA'] 0.007523128406237283\n",
      "1553 / 1846 : CD2 8 ['ESR1', 'CEBPB', 'ESR2', 'MYC', 'AHR', 'BCL6', 'MEF2C', 'JUN'] 0.016613906702859126\n",
      "1554 / 1846 : LY9 5 ['CREB5', 'MEF2C', 'PPARD', 'ESR1', 'MYC'] 0.007918583361361285\n",
      "1555 / 1846 : DNAJC24 9 ['SMAD3', 'ESR1', 'RXRA', 'ESR2', 'BCL6', 'TAF1', 'NR2C2', 'AHR', 'KLF12'] 0.011437545675162128\n",
      "1556 / 1846 : AFG1L 9 ['MYC', 'ESR1', 'SMAD3', 'HIF1A', 'MECP2', 'RXRA', 'CEBPB', 'SPI1', 'ESR2'] 0.005907954564897329\n",
      "1558 / 1846 : SIK2 10 ['HIF1A', 'MECP2', 'RXRA', 'ESR2', 'NR4A1', 'FOXO1', 'AHR', 'BACH1', 'TAF1', 'KLF12'] 0.00882061484403848\n",
      "1559 / 1846 : ATXN3 10 ['MYC', 'ESR1', 'HIF1A', 'SMAD3', 'JUN', 'MECP2', 'CREB5', 'NR4A1', 'FOS', 'PAX5'] 0.007184582346058486\n",
      "1560 / 1846 : ITGB3BP 10 ['ESR1', 'HIF1A', 'SMAD3', 'MECP2', 'ESR2', 'NR4A1', 'RXRA', 'BCL6', 'FOXO1', 'KLF4'] 0.00933825243393182\n",
      "1561 / 1846 : MIB1 5 ['RXRA', 'BACH1', 'LEF1', 'SMAD3', 'TFCP2'] 0.011700304041272284\n",
      "1562 / 1846 : RBL2 10 ['ESR1', 'MYC', 'HIF1A', 'SMAD3', 'MECP2', 'RXRA', 'ESR2', 'NR4A1', 'BCL6', 'BACH1'] 0.007510011648383649\n",
      "1563 / 1846 : CIITA 6 ['ESR1', 'MYC', 'SMAD3', 'JUN', 'MECP2', 'KLF4'] 0.0021406904501354014\n",
      "1564 / 1846 : PCSK5 9 ['SMAD3', 'MECP2', 'RXRA', 'ESR2', 'KLF4', 'TAF1', 'KLF12', 'TFCP2', 'E2F3'] 0.010760588306564522\n",
      "1565 / 1846 : LYN 6 ['ESR1', 'MYC', 'RXRA', 'JUN', 'SMAD3', 'CEBPB'] 0.01442380061280143\n",
      "1567 / 1846 : RASSF1 8 ['CREB5', 'MYC', 'MECP2', 'ESR1', 'JUN', 'PPARD', 'SPI1', 'SMAD3'] 0.01627871867489019\n",
      "1568 / 1846 : CLMN 3 ['KLF4', 'MYC', 'ESR1'] 0.0006549458642961443\n",
      "1569 / 1846 : S100A4 10 ['ESR1', 'MYC', 'JUN', 'HIF1A', 'SMAD3', 'MECP2', 'NR4A1', 'CEBPB', 'RXRA', 'ESR2'] 0.024204266246337057\n",
      "1570 / 1846 : HLA-DQB1 10 ['ESR1', 'MYC', 'SMAD3', 'JUN', 'RXRA', 'MECP2', 'CEBPB', 'SPI1', 'CREB5', 'ESR2'] 0.007464730894195904\n",
      "1571 / 1846 : EFHD2 8 ['CEBPB', 'ESR1', 'BCL6', 'HIF1A', 'MYC', 'PPARD', 'ATF3', 'BACH1'] 0.018195656995441536\n",
      "1572 / 1846 : SRGAP2B 10 ['JUN', 'CEBPB', 'ESR2', 'RXRA', 'BCL6', 'CREB5', 'TAF1', 'BACH1', 'KLF12', 'RUNX2'] 0.00932576087707363\n"
     ]
    },
    {
     "name": "stderr",
     "output_type": "stream",
     "text": [
      "/Users/yijwang-admin/Documents/Research/GRN_PPI/L0GL_PPI_GRN/minFunc/polyinterp.py:40: RuntimeWarning: divide by zero encountered in scalar divide\n",
      "  t = points[notMinPos, 0] - (points[notMinPos, 0] - points[minPos, 0]) * ((points[notMinPos, 2] + d2 - d1) / (points[notMinPos, 2] - points[minPos, 2] + 2 * d2))\n"
     ]
    },
    {
     "name": "stdout",
     "output_type": "stream",
     "text": [
      "1573 / 1846 : CMIP 8 ['CREB5', 'KLF4', 'ESR1', 'MYC', 'HIF1A', 'SMAD3', 'ATF3', 'JUN'] 0.014018950093621458\n",
      "1574 / 1846 : CYFIP1 3 ['KLF4', 'ESR1', 'AHR'] 0.0020298162344600692\n",
      "1575 / 1846 : KLRK1 9 ['CREB5', 'NR4A1', 'ESR1', 'MYC', 'JUN', 'ATF3', 'HIF1A', 'SMAD3', 'RUNX2'] 0.02135515385047403\n",
      "1576 / 1846 : STX8 10 ['ESR1', 'CEBPB', 'ESR2', 'RXRA', 'NR4A1', 'BCL6', 'NR2C2', 'FOXO1', 'TAF1', 'KLF12'] 0.010953063155414547\n",
      "1577 / 1846 : UVRAG 10 ['MYC', 'HIF1A', 'SMAD3', 'JUN', 'MECP2', 'RXRA', 'ESR2', 'NR2C2', 'FOXO1', 'BACH1'] 0.007312426582529713\n",
      "1578 / 1846 : SLC35D1 10 ['MYC', 'ESR1', 'JUN', 'SMAD3', 'MECP2', 'CEBPB', 'ESR2', 'RXRA', 'FOS', 'NR4A1'] 0.014277514135448907\n"
     ]
    },
    {
     "name": "stderr",
     "output_type": "stream",
     "text": [
      "/Users/yijwang-admin/Documents/Research/GRN_PPI/L0GL_PPI_GRN/minFunc/polyinterp.py:40: RuntimeWarning: divide by zero encountered in scalar divide\n",
      "  t = points[notMinPos, 0] - (points[notMinPos, 0] - points[minPos, 0]) * ((points[notMinPos, 2] + d2 - d1) / (points[notMinPos, 2] - points[minPos, 2] + 2 * d2))\n"
     ]
    },
    {
     "name": "stdout",
     "output_type": "stream",
     "text": [
      "1579 / 1846 : SESN3 7 ['MYC', 'ESR1', 'JUN', 'SMAD3', 'MECP2', 'FOXO1', 'ESR2'] 0.004348621407567882\n",
      "1580 / 1846 : RGS2 7 ['HIF1A', 'SMAD3', 'JUN', 'MECP2', 'CEBPB', 'RXRA', 'ESR2'] 0.0035107831884579224\n",
      "1581 / 1846 : KLHDC10 10 ['ESR1', 'MYC', 'SMAD3', 'HIF1A', 'JUN', 'MECP2', 'BCL6', 'ESR2', 'RXRA', 'NR2C2'] 0.006937709887981949\n",
      "1582 / 1846 : DTWD1 9 ['MYC', 'SMAD3', 'RXRA', 'ESR2', 'KLF12', 'PPARD', 'PPARA', 'MEF2A', 'MXI1'] 0.006932562967513975\n",
      "1583 / 1846 : ASAP1 10 ['MYC', 'ESR1', 'HIF1A', 'SMAD3', 'JUN', 'CEBPB', 'MECP2', 'FOS', 'ESR2', 'RXRA'] 0.009684662645307759\n",
      "1584 / 1846 : VEGFB 9 ['MYC', 'ESR1', 'HIF1A', 'SMAD3', 'JUN', 'MECP2', 'NR4A1', 'CEBPB', 'FOS'] 0.008550014859276105\n",
      "1585 / 1846 : PNPT1 5 ['BCL6', 'ESR1', 'BACH1', 'MEF2A', 'MYC'] 0.008733105544671929\n",
      "1586 / 1846 : ATXN7L1 10 ['ESR1', 'MYC', 'SMAD3', 'JUN', 'MECP2', 'CEBPB', 'RXRA', 'ESR2', 'FOS', 'NR4A1'] 0.009314603924383302\n",
      "1587 / 1846 : KIF13A 9 ['MYC', 'ESR1', 'HIF1A', 'SMAD3', 'JUN', 'MECP2', 'ESR2', 'RXRA', 'FOS'] 0.004604968164177231\n",
      "1588 / 1846 : IFI44L 10 ['ESR1', 'SMAD3', 'IRF7', 'IRF1', 'NFIA', 'RUNX3', 'LEF1', 'PRDM1', 'TGIF1', 'IRF8'] 0.005019178051966351\n",
      "1589 / 1846 : DYNLL1 3 ['CREB5', 'PAX5', 'MAFB'] 0.01529012879581663\n",
      "1590 / 1846 : TPMT 10 ['MYC', 'ESR1', 'HIF1A', 'SMAD3', 'JUN', 'MECP2', 'CEBPB', 'CREB5', 'FOS', 'ESR2'] 0.010702658529808581\n",
      "1591 / 1846 : RAD17 10 ['MYC', 'ESR1', 'HIF1A', 'SMAD3', 'MECP2', 'ESR2', 'RXRA', 'BCL6', 'NR4A1', 'NR2C2'] 0.010085275890652402\n",
      "1592 / 1846 : ATP8B2 7 ['KLF4', 'SPI1', 'MYC', 'CEBPB', 'ESR1', 'ATF3', 'KLF12'] 0.01324897692733087\n",
      "1593 / 1846 : LGALS1 10 ['CEBPB', 'ESR1', 'MYC', 'SMAD3', 'HIF1A', 'JUN', 'RXRA', 'MECP2', 'BACH1', 'FOS'] 0.01840113146973141\n",
      "1594 / 1846 : GPRIN3 6 ['BACH1', 'KLF4', 'RXRA', 'MECP2', 'MXI1', 'MYC'] 0.016860518306935912\n",
      "1595 / 1846 : FBXW8 9 ['CREB5', 'ESR1', 'MYC', 'SMAD3', 'HIF1A', 'JUN', 'MECP2', 'FOS', 'AHR'] 0.013545706389059085\n",
      "1596 / 1846 : LEF1 3 ['LEF1', 'MYC', 'ESR1'] 1.9678560460354956e-06\n",
      "1597 / 1846 : FAM117A 10 ['MYC', 'ESR1', 'SMAD3', 'HIF1A', 'JUN', 'RXRA', 'MECP2', 'CEBPB', 'SPI1', 'ATF3'] 0.00906109531254934\n",
      "1598 / 1846 : PTCD3 7 ['CREB5', 'RXRA', 'BCL6', 'MYC', 'BACH1', 'JUN', 'ESR1'] 0.011432948235792162\n",
      "1599 / 1846 : CTSZ 10 ['MYC', 'ESR1', 'HIF1A', 'SMAD3', 'MECP2', 'CEBPB', 'RXRA', 'ESR2', 'FOS', 'NR4A1'] 0.006080007108443077\n",
      "1600 / 1846 : MEF2A 3 ['MEF2A', 'ESR1', 'MYC'] 7.338263467128775e-07\n",
      "1601 / 1846 : MAPKAPK2 7 ['HIF1A', 'ATF3', 'CEBPB', 'CREB5', 'ESR1', 'FOS', 'MYC'] 0.017124268083916833\n",
      "1602 / 1846 : PTAFR 3 ['CREB5', 'NR4A1', 'ESR1'] 0.0015003468824231845\n",
      "1604 / 1846 : RAB35 10 ['ESR1', 'MYC', 'SMAD3', 'RXRA', 'HIF1A', 'JUN', 'MECP2', 'CEBPB', 'ESR2', 'FOS'] 0.008508629220425615\n",
      "1605 / 1846 : RGCC 5 ['SPI1', 'LEF1', 'CEBPD', 'AHR', 'RXRA'] 0.006572967564868703\n",
      "1606 / 1846 : GLUL 3 ['RFX2', 'KLF4', 'MYC'] 0.005926565625968969\n",
      "1607 / 1846 : PACS1 10 ['MYC', 'ESR1', 'HIF1A', 'SMAD3', 'JUN', 'MECP2', 'CEBPB', 'RXRA', 'FOS', 'ESR2'] 0.012554051105601524\n",
      "1608 / 1846 : MED31 8 ['ESR1', 'HIF1A', 'SMAD3', 'MECP2', 'RXRA', 'ESR2', 'NR4A1', 'ATF3'] 0.00827864630245139\n",
      "1609 / 1846 : IMMP1L 10 ['ESR1', 'SMAD3', 'ESR2', 'RXRA', 'BCL6', 'NR2C2', 'TAF1', 'AHR', 'ZEB1', 'KLF12'] 0.014479107835885392\n",
      "1610 / 1846 : CPLANE1 9 ['SMAD3', 'ESR1', 'MECP2', 'CEBPB', 'SPI1', 'ESR2', 'RXRA', 'NR4A1', 'PPARD'] 0.006047490088799232\n",
      "1611 / 1846 : TASOR 8 ['MYC', 'ESR1', 'SMAD3', 'HIF1A', 'JUN', 'MECP2', 'CEBPB', 'FOS'] 0.006073972053553103\n",
      "1612 / 1846 : PHLDB3 8 ['CREB5', 'ESR1', 'KLF4', 'MYC', 'JUN', 'RXRA', 'CEBPB', 'SMAD3'] 0.008722588554192874\n",
      "1613 / 1846 : SIRPB2 3 ['PAX5', 'MYC', 'SMAD3'] 0.0013514998782092353\n",
      "1614 / 1846 : RPL19 7 ['MYC', 'HIF1A', 'SPI1', 'AHR', 'MECP2', 'FOXO1', 'CREB5'] 0.014596994411401552\n",
      "1615 / 1846 : ACTB 9 ['MYC', 'ESR1', 'HIF1A', 'JUN', 'SMAD3', 'MECP2', 'CEBPB', 'PAX5', 'CREB5'] 0.025184154059940414\n",
      "1616 / 1846 : VIM-AS1 9 ['KLF4', 'ESR1', 'MYC', 'SMAD3', 'JUN', 'SPI1', 'MECP2', 'CREB5', 'CEBPB'] 0.006320152108483183\n",
      "1617 / 1846 : LRRC8B 4 ['BCL6', 'CREB5', 'MAFB', 'ESR1'] 0.005154117655308271\n",
      "1618 / 1846 : HVCN1 8 ['MYC', 'ESR1', 'HIF1A', 'SMAD3', 'JUN', 'MECP2', 'ESR2', 'RXRA'] 0.003823898795171879\n",
      "1619 / 1846 : INTS12 9 ['SMAD3', 'MECP2', 'FOXO1', 'TAF1', 'BACH1', 'AHR', 'RUNX2', 'KLF12', 'SPI1'] 0.006541546458781897\n",
      "1620 / 1846 : KLHL5 10 ['ESR1', 'SMAD3', 'JUN', 'MECP2', 'CEBPB', 'ESR2', 'RXRA', 'FOS', 'BCL6', 'FOXO3'] 0.00500500764902782\n",
      "1621 / 1846 : FASTKD1 9 ['MYC', 'ESR1', 'SMAD3', 'MECP2', 'JUN', 'HIF1A', 'CEBPB', 'CREB5', 'ESR2'] 0.006200547036676729\n",
      "1622 / 1846 : SEC24A 7 ['HIF1A', 'MEF2C', 'MYC', 'ESR1', 'MAFB', 'SPI1', 'KLF4'] 0.013035538905880259\n",
      "1623 / 1846 : SMS 8 ['MYC', 'ESR1', 'SMAD3', 'NR4A1', 'MECP2', 'RXRA', 'ESR2', 'SPI1'] 0.007026324821283978\n",
      "1624 / 1846 : FGGY 10 ['ESR1', 'MYC', 'HIF1A', 'SMAD3', 'JUN', 'MECP2', 'ESR2', 'RXRA', 'KLF4', 'FOXO3'] 0.009914818325140283\n",
      "1625 / 1846 : MAP3K20 10 ['ESR1', 'HIF1A', 'CEBPB', 'ESR2', 'RXRA', 'KLF4', 'FOXO3', 'NR2C2', 'FOXO1', 'TAF1'] 0.005082902970811424\n",
      "1626 / 1846 : PDE7B 10 ['ESR1', 'MYC', 'SMAD3', 'ESR2', 'RXRA', 'NR4A1', 'FOXO3', 'FOXO1', 'RUNX2', 'RELB'] 0.002320587878328428\n",
      "1627 / 1846 : ANKS1A 8 ['MYC', 'ESR1', 'JUN', 'HIF1A', 'SMAD3', 'MECP2', 'SPI1', 'BCL6'] 0.009775452485869127\n",
      "1628 / 1846 : TSPAN5 10 ['MYC', 'ESR1', 'SMAD3', 'JUN', 'CEBPB', 'MECP2', 'ESR2', 'FOS', 'RXRA', 'KLF4'] 0.015838010425764888\n",
      "1629 / 1846 : NIPAL2 4 ['PPARD', 'RXRA', 'NR4A1', 'IRF8'] 0.011539430605764296\n",
      "1630 / 1846 : NR4A2 3 ['NR4A2', 'MYC', 'ESR1'] 1.5264244366637626e-06\n",
      "1631 / 1846 : C12orf75 10 ['MYC', 'ESR1', 'MECP2', 'SMAD3', 'RXRA', 'ATF3', 'ESR2', 'KLF4', 'ZEB1', 'IRF8'] 0.02293927090000457\n",
      "1632 / 1846 : MYO9B 10 ['ESR1', 'MYC', 'HIF1A', 'SMAD3', 'JUN', 'MECP2', 'CEBPB', 'RXRA', 'NR4A1', 'ESR2'] 0.009261592557048651\n",
      "1633 / 1846 : FCAR 3 ['CREB5', 'MYC', 'ESR1'] 0.00020808056063129098\n",
      "1634 / 1846 : ECHDC2 8 ['ESR1', 'RXRA', 'CEBPB', 'MYC', 'SMAD3', 'KLF4', 'HIF1A', 'JUN'] 0.00848253256929571\n",
      "1635 / 1846 : RELL1 10 ['MYC', 'ESR1', 'HIF1A', 'JUN', 'SMAD3', 'MECP2', 'ESR2', 'RXRA', 'NR4A1', 'BCL6'] 0.003948417410093002\n",
      "1636 / 1846 : STXBP5 10 ['ESR1', 'JUN', 'MECP2', 'CEBPB', 'ESR2', 'FOS', 'KLF4', 'BACH1', 'NR2C2', 'FOXO1'] 0.008749222705033132\n",
      "1637 / 1846 : DGKE 10 ['ESR1', 'MYC', 'HIF1A', 'SMAD3', 'RXRA', 'MECP2', 'ESR2', 'BCL6', 'SPI1', 'FOXO1'] 0.008751225833621394\n",
      "1638 / 1846 : TMEM156 9 ['ESR1', 'JUN', 'SMAD3', 'MECP2', 'CEBPB', 'SPI1', 'FOS', 'BCL6', 'RXRA'] 0.017764281548329125\n",
      "1639 / 1846 : IFT80 7 ['SPI1', 'KLF4', 'MYC', 'ESR1', 'SMAD3', 'JUN', 'RXRA'] 0.006965348149823924\n",
      "1640 / 1846 : SGK3 8 ['MYC', 'ESR1', 'SMAD3', 'HIF1A', 'JUN', 'MECP2', 'SPI1', 'NR4A1'] 0.006893299409035686\n",
      "1641 / 1846 : BCL6 3 ['BCL6', 'MYC', 'ESR1'] 1.0779533261488633e-06\n",
      "1642 / 1846 : UBASH3A 10 ['MYC', 'ESR1', 'HIF1A', 'SMAD3', 'JUN', 'MECP2', 'CEBPB', 'RXRA', 'ESR2', 'FOS'] 0.010293677399167422\n",
      "1643 / 1846 : ARRDC2 9 ['CREB5', 'MYC', 'ESR1', 'HIF1A', 'SMAD3', 'JUN', 'MECP2', 'CEBPB', 'AHR'] 0.011449926185591146\n",
      "1644 / 1846 : BCAS3 9 ['MYC', 'SMAD3', 'MECP2', 'ESR2', 'RXRA', 'CREB5', 'FOXO1', 'NR2C2', 'BACH1'] 0.009655710729955766\n",
      "1645 / 1846 : DLEU2 8 ['MYC', 'ESR1', 'CREB5', 'JUN', 'SMAD3', 'HIF1A', 'MECP2', 'CEBPB'] 0.008280709041314777\n",
      "1646 / 1846 : DOP1B 10 ['ESR1', 'MYC', 'JUN', 'HIF1A', 'SMAD3', 'MECP2', 'CEBPB', 'NR4A1', 'ESR2', 'RXRA'] 0.0068640394690035016\n",
      "1647 / 1846 : ERN1 8 ['ESR1', 'MYC', 'HIF1A', 'SMAD3', 'KLF4', 'JUN', 'BACH1', 'CEBPB'] 0.013881649196601606\n",
      "1648 / 1846 : RPL31 6 ['MYC', 'CREB5', 'RXRA', 'FOXO3', 'MECP2', 'TFCP2'] 0.011315398711179517\n",
      "1649 / 1846 : NRIP1 10 ['ESR1', 'MECP2', 'ESR2', 'RXRA', 'CREB5', 'NR2C2', 'TAF1', 'BACH1', 'NFYC', 'TFCP2'] 0.012810805656126415\n",
      "1650 / 1846 : TSC22D1 10 ['MYC', 'ESR1', 'SMAD3', 'CEBPB', 'JUN', 'BCL6', 'MECP2', 'BACH1', 'ATF3', 'FOS'] 0.013892217489396173\n",
      "1651 / 1846 : IRAK3 5 ['ESR1', 'MYC', 'SMAD3', 'KLF4', 'MECP2'] 0.0015079181850007376\n",
      "1652 / 1846 : TYROBP 10 ['MYC', 'ESR1', 'NR4A1', 'JUN', 'HIF1A', 'SMAD3', 'MECP2', 'CEBPB', 'RXRA', 'FOS'] 0.026597162939712024\n",
      "1653 / 1846 : ABCA5 10 ['HIF1A', 'ESR1', 'SMAD3', 'CEBPB', 'KLF4', 'RXRA', 'BCL6', 'ESR2', 'TAF1', 'FOXO1'] 0.0136347063606453\n",
      "1654 / 1846 : CST3 9 ['MYC', 'ESR1', 'SMAD3', 'HIF1A', 'MECP2', 'RXRA', 'ESR2', 'KLF4', 'NR4A1'] 0.005003768276959194\n",
      "1655 / 1846 : MICU1 10 ['MYC', 'ESR1', 'HIF1A', 'SMAD3', 'JUN', 'MECP2', 'CEBPB', 'RXRA', 'ESR2', 'FOS'] 0.00702669833972806\n",
      "1656 / 1846 : ATG10 6 ['MYC', 'ESR1', 'KLF4', 'SMAD3', 'JUN', 'ZFHX3'] 0.007495408735441174\n",
      "1657 / 1846 : RNF130 6 ['ESR1', 'MYC', 'SMAD3', 'JUN', 'KLF4', 'HIF1A'] 0.0032520945995177806\n",
      "1658 / 1846 : ZCCHC10 10 ['SMAD3', 'MYC', 'ESR1', 'HIF1A', 'MECP2', 'CEBPB', 'ESR2', 'RXRA', 'BCL6', 'NR4A1'] 0.009696735401412094\n",
      "1660 / 1846 : TENT5A 8 ['ESR1', 'MYC', 'HIF1A', 'MECP2', 'RXRA', 'ESR2', 'BCL6', 'NR2C2'] 0.008447063502703116\n",
      "1661 / 1846 : CD81 6 ['PAX5', 'BACH1', 'IRF8', 'ATF3', 'FOXO1', 'PPARD'] 0.01911634496400917\n",
      "1662 / 1846 : HLA-DQA1 10 ['ESR1', 'MYC', 'SMAD3', 'JUN', 'MECP2', 'CEBPB', 'ESR2', 'RXRA', 'FOS', 'NR4A1'] 0.004578241281614857\n",
      "1663 / 1846 : MOB3B 9 ['ESR1', 'SMAD3', 'MECP2', 'ESR2', 'FOXO3', 'NR2C2', 'FOXO1', 'TAF1', 'KLF4'] 0.0007676056712393596\n",
      "1664 / 1846 : CHURC1 10 ['ESR1', 'MYC', 'HIF1A', 'SMAD3', 'JUN', 'MECP2', 'CEBPB', 'BACH1', 'KLF4', 'ESR2'] 0.01006708895857665\n",
      "1665 / 1846 : CD69 8 ['NR4A1', 'MYC', 'KLF4', 'ESR1', 'CREB5', 'JUN', 'BCL6', 'MECP2'] 0.01210901678944438\n",
      "1666 / 1846 : SLC4A8 10 ['ESR1', 'CREB5', 'KLF4', 'MYC', 'SMAD3', 'JUN', 'MECP2', 'NR4A1', 'CEBPB', 'RXRA'] 0.00794347235583563\n",
      "1668 / 1846 : CDIPT 9 ['MYC', 'ESR1', 'HIF1A', 'SMAD3', 'JUN', 'CREB5', 'MECP2', 'CEBPB', 'NR4A1'] 0.008604827284169867\n",
      "1669 / 1846 : TRG-AS1 10 ['ESR1', 'CEBPB', 'SPI1', 'SMAD3', 'JUN', 'BCL6', 'MECP2', 'BACH1', 'ESR2', 'NR4A1'] 0.023796902817141002\n",
      "1670 / 1846 : SLC17A5 10 ['ESR1', 'MYC', 'HIF1A', 'SMAD3', 'JUN', 'MECP2', 'CEBPB', 'KLF4', 'ESR2', 'FOS'] 0.009058250918364217\n",
      "1671 / 1846 : CMTM8 10 ['MYC', 'ESR1', 'HIF1A', 'SMAD3', 'MECP2', 'CEBPB', 'ESR2', 'RXRA', 'FOS', 'NR4A1'] 0.008181518704281332\n",
      "1672 / 1846 : KMT2B 6 ['CEBPB', 'CREB5', 'SMAD3', 'MEF2C', 'TFCP2', 'ATF3'] 0.009022244614989136\n",
      "1673 / 1846 : PPP1R15B 6 ['HIF1A', 'SMAD3', 'ESR1', 'JUN', 'CEBPB', 'NR4A1'] 0.006768041075562482\n",
      "1674 / 1846 : GAB2 10 ['ESR1', 'MYC', 'SMAD3', 'JUN', 'MECP2', 'CEBPB', 'ESR2', 'RXRA', 'FOS', 'CREB5'] 0.0025636979086080054\n",
      "1675 / 1846 : HPS5 8 ['ESR1', 'MYC', 'HIF1A', 'CREB5', 'SMAD3', 'JUN', 'MECP2', 'FOXO1'] 0.005593520924000384\n",
      "1676 / 1846 : HOPX 10 ['CREB5', 'HIF1A', 'NR4A1', 'BACH1', 'KLF4', 'AHR', 'MYC', 'ESR1', 'RXRA', 'BCL6'] 0.03657133143477633\n",
      "1677 / 1846 : IL15RA 5 ['ATF3', 'KLF4', 'BCL6', 'FOXO3', 'PAX5'] 0.008360929105325779\n",
      "1678 / 1846 : RPS6 10 ['MYC', 'ESR1', 'JUN', 'HIF1A', 'SMAD3', 'MECP2', 'CEBPB', 'SPI1', 'RXRA', 'ESR2'] 0.013379533264847974\n",
      "1679 / 1846 : ENOX2 10 ['RXRA', 'FOXO3', 'NR2C2', 'KLF12', 'NFYC', 'HSF2', 'PPARA', 'NFIA', 'E2F3', 'PATZ1'] 0.010311055092540591\n",
      "1680 / 1846 : LRRC25 3 ['KLF4', 'ESR1', 'MYC'] 0.0008733388116492337\n",
      "1681 / 1846 : TMCC1 10 ['ESR1', 'MYC', 'HIF1A', 'SMAD3', 'MECP2', 'CEBPB', 'RXRA', 'ESR2', 'SPI1', 'NR4A1'] 0.00793750274522177\n",
      "1682 / 1846 : BICDL1 10 ['MYC', 'ESR1', 'HIF1A', 'SMAD3', 'JUN', 'MECP2', 'ESR2', 'RXRA', 'FOS', 'KLF12'] 0.014705220796579023\n",
      "1683 / 1846 : SPECC1 10 ['MYC', 'ESR1', 'HIF1A', 'SMAD3', 'MECP2', 'ESR2', 'NR2C2', 'FOXO1', 'TAF1', 'BACH1'] 0.006936198419345054\n",
      "1684 / 1846 : ALMS1 4 ['ATF3', 'PPARD', 'CUX1', 'IRF7'] 0.009325202189507139\n",
      "1686 / 1846 : PASK 10 ['ESR1', 'HIF1A', 'SMAD3', 'MECP2', 'CEBPB', 'ESR2', 'RXRA', 'FOXO1', 'BACH1', 'NR4A1'] 0.011772110685200458\n",
      "1687 / 1846 : ABCC4 3 ['PAX5', 'KLF4', 'BACH1'] 0.007230039255701042\n",
      "1688 / 1846 : MX2 10 ['ESR1', 'HIF1A', 'SMAD3', 'JUN', 'MECP2', 'ESR2', 'RXRA', 'FOS', 'BCL6', 'CREB5'] 0.004528065594972575\n",
      "1689 / 1846 : SNTB1 9 ['ESR1', 'MYC', 'SMAD3', 'JUN', 'MECP2', 'CEBPB', 'RXRA', 'ESR2', 'FOS'] 0.007742273105216172\n",
      "1690 / 1846 : RPS3 5 ['SPI1', 'BACH1', 'MECP2', 'MYC', 'FOXO3'] 0.007234379044332645\n",
      "1691 / 1846 : PLAGL1 10 ['MYC', 'ESR1', 'HIF1A', 'SMAD3', 'JUN', 'MECP2', 'RXRA', 'ESR2', 'FOS', 'CREB5'] 0.0052485378603336465\n",
      "1692 / 1846 : CLIC4 3 ['CREB5', 'MYC', 'ESR1'] 0.004014859129240201\n",
      "1693 / 1846 : POLA1 10 ['MYC', 'HIF1A', 'SMAD3', 'JUN', 'MECP2', 'KLF4', 'NR4A1', 'ESR2', 'RXRA', 'FOS'] 0.0076540093204037945\n",
      "1694 / 1846 : IFITM2 6 ['KLF4', 'MYC', 'AHR', 'JUN', 'PAX5', 'PPARD'] 0.023104621150458905\n",
      "1695 / 1846 : ZNF33B 10 ['MYC', 'ESR1', 'SMAD3', 'MECP2', 'ESR2', 'RXRA', 'KLF4', 'FOXO3', 'FOXO1', 'TAF1'] 0.01001875756951937\n",
      "1696 / 1846 : SLAMF1 8 ['KLF4', 'ESR1', 'MYC', 'NR4A1', 'RXRA', 'JUN', 'SMAD3', 'RUNX2'] 0.012599209885160549\n",
      "1697 / 1846 : CARNMT1 10 ['JUN', 'ESR1', 'MYC', 'HIF1A', 'SMAD3', 'MECP2', 'ESR2', 'CREB5', 'RXRA', 'NR4A1'] 0.00922584192283594\n",
      "1698 / 1846 : STX7 4 ['SPI1', 'KLF4', 'MECP2', 'IRF7'] 0.004915083147137841\n",
      "1699 / 1846 : EZH2 10 ['KLF4', 'SPI1', 'NR4A1', 'ESR1', 'MYC', 'SMAD3', 'JUN', 'MECP2', 'FOS', 'RXRA'] 0.00976061015843302\n",
      "1700 / 1846 : RAB11FIP1 10 ['MYC', 'ESR1', 'HIF1A', 'SMAD3', 'JUN', 'MECP2', 'CEBPB', 'ESR2', 'FOS', 'RXRA'] 0.008786657299611745\n",
      "1701 / 1846 : TTLL5 10 ['ESR1', 'SMAD3', 'JUN', 'MECP2', 'RXRA', 'ESR2', 'BCL6', 'NR4A1', 'NR2C2', 'FOXO3'] 0.00847022205692663\n",
      "1702 / 1846 : ANKRD22 9 ['MYC', 'ESR1', 'HIF1A', 'SMAD3', 'JUN', 'MECP2', 'CEBPB', 'ESR2', 'RXRA'] 0.0029042759607451583\n",
      "1703 / 1846 : CAMK2D 7 ['MYC', 'CREB5', 'ESR1', 'KLF4', 'SMAD3', 'JUN', 'CEBPB'] 0.007096717270211735\n",
      "1704 / 1846 : ENTPD1-AS1 10 ['ESR1', 'HIF1A', 'MECP2', 'KLF4', 'ESR2', 'RXRA', 'NR4A1', 'BCL6', 'BACH1', 'NR2C2'] 0.007638922333433671\n",
      "1706 / 1846 : ARHGAP21 9 ['ESR1', 'MYC', 'JUN', 'SMAD3', 'MECP2', 'RXRA', 'ESR2', 'BCL6', 'FOS'] 0.00674441058369112\n",
      "1707 / 1846 : HMGB2 10 ['ESR1', 'HIF1A', 'SMAD3', 'JUN', 'CEBPB', 'MECP2', 'NR4A1', 'RXRA', 'ESR2', 'IRF8'] 0.011210683979553139\n",
      "1708 / 1846 : SLX4IP 10 ['ESR1', 'MYC', 'SMAD3', 'JUN', 'MECP2', 'CEBPB', 'RXRA', 'ESR2', 'FOS', 'KLF4'] 0.0037756979084625115\n",
      "1709 / 1846 : TAF4B 10 ['ESR1', 'MYC', 'SMAD3', 'JUN', 'MECP2', 'ESR2', 'RXRA', 'CREB5', 'FOS', 'NR4A1'] 0.004859777653120692\n",
      "1710 / 1846 : TYW5 10 ['ESR1', 'MYC', 'HIF1A', 'MECP2', 'ESR2', 'RXRA', 'FOXO1', 'NR2C2', 'BACH1', 'TAF1'] 0.008378038549284102\n",
      "1711 / 1846 : SIRPG 10 ['SMAD3', 'BCL6', 'NR4A1', 'NR2C2', 'TAF1', 'KLF4', 'BACH1', 'AHR', 'KLF12', 'RUNX2'] 0.023274665795703878\n",
      "1712 / 1846 : RPAP2 10 ['MYC', 'ESR1', 'JUN', 'CEBPB', 'MECP2', 'NR4A1', 'KLF4', 'RXRA', 'ESR2', 'FOXO1'] 0.012370160067118526\n",
      "1713 / 1846 : RAPGEF2 10 ['ESR2', 'ESR1', 'SMAD3', 'MECP2', 'RXRA', 'NR4A1', 'CREB5', 'TAF1', 'KLF4', 'KLF12'] 0.0054654572180926056\n",
      "1714 / 1846 : CTDP1 10 ['MYC', 'ESR1', 'HIF1A', 'SMAD3', 'ESR2', 'RXRA', 'NR2C2', 'BCL6', 'FOXO3', 'FOXO1'] 0.009161716115668735\n",
      "1715 / 1846 : SNRNP27 8 ['ESR1', 'RXRA', 'MYC', 'HIF1A', 'SMAD3', 'NR4A1', 'JUN', 'PAX5'] 0.012399071377153216\n",
      "1716 / 1846 : HIBCH 7 ['CREB5', 'BCL6', 'MYC', 'NR4A1', 'BACH1', 'KLF4', 'ESR1'] 0.01006277472661242\n",
      "1717 / 1846 : NCEH1 8 ['ESR1', 'MYC', 'SMAD3', 'JUN', 'MECP2', 'CEBPB', 'RXRA', 'FOS'] 0.003645665576873667\n",
      "1718 / 1846 : RIPK2 10 ['MYC', 'ESR1', 'HIF1A', 'SMAD3', 'MECP2', 'CEBPB', 'ESR2', 'RXRA', 'NR4A1', 'BCL6'] 0.008474509609365454\n",
      "1719 / 1846 : SEL1L3 10 ['ESR1', 'MYC', 'SMAD3', 'JUN', 'MECP2', 'CEBPB', 'RXRA', 'CREB5', 'ESR2', 'SPI1'] 0.010368066552267317\n",
      "1720 / 1846 : B4GALT1 10 ['ESR1', 'MYC', 'CREB5', 'SMAD3', 'HIF1A', 'JUN', 'MECP2', 'SPI1', 'ESR2', 'RXRA'] 0.008263277597661987\n",
      "1721 / 1846 : ARHGAP26 7 ['MYC', 'ESR1', 'NR4A1', 'JUN', 'RXRA', 'HIF1A', 'MECP2'] 0.008905429390134499\n",
      "1722 / 1846 : RABGEF1 10 ['ESR1', 'MYC', 'HIF1A', 'SMAD3', 'MECP2', 'ESR2', 'RXRA', 'NR4A1', 'BCL6', 'FOXO3'] 0.006855245038157156\n",
      "1723 / 1846 : ARHGEF11 9 ['ESR1', 'MYC', 'SMAD3', 'MECP2', 'ESR2', 'RXRA', 'CREB5', 'NR4A1', 'BCL6'] 0.0008266700531630533\n",
      "1724 / 1846 : LRSAM1 10 ['MYC', 'ESR1', 'SMAD3', 'HIF1A', 'JUN', 'KLF4', 'CEBPB', 'MECP2', 'SPI1', 'ESR2'] 0.010839044484979335\n",
      "1725 / 1846 : PRAG1 6 ['KLF4', 'CEBPB', 'MYC', 'MAFB', 'NR4A1', 'ESR1'] 0.007958157261137824\n",
      "1726 / 1846 : ARHGEF18 10 ['MYC', 'ESR1', 'HIF1A', 'SMAD3', 'JUN', 'MECP2', 'NR4A1', 'CEBPB', 'FOS', 'ESR2'] 0.01476351110762175\n",
      "1727 / 1846 : LRRFIP2 9 ['ESR1', 'MYC', 'HIF1A', 'SMAD3', 'JUN', 'MECP2', 'NR4A1', 'ESR2', 'FOS'] 0.006069797128814629\n",
      "1728 / 1846 : TMUB1 10 ['MYC', 'ESR1', 'HIF1A', 'SMAD3', 'MECP2', 'CEBPB', 'RXRA', 'CREB5', 'ESR2', 'SPI1'] 0.013916705765581997\n",
      "1729 / 1846 : ABR 10 ['ESR1', 'MYC', 'JUN', 'HIF1A', 'SMAD3', 'CREB5', 'MECP2', 'RXRA', 'CEBPB', 'FOS'] 0.010176676724899173\n",
      "1730 / 1846 : SPAST 10 ['ESR1', 'SMAD3', 'HIF1A', 'MECP2', 'RXRA', 'ESR2', 'BCL6', 'FOXO3', 'FOXO1', 'NR2C2'] 0.004651269355984473\n",
      "1731 / 1846 : PRKCQ 10 ['MYC', 'ESR1', 'HIF1A', 'CREB5', 'SMAD3', 'JUN', 'MECP2', 'CEBPB', 'RXRA', 'ESR2'] 0.009844206264825949\n",
      "1732 / 1846 : OXR1 6 ['ESR1', 'NR2C2', 'MECP2', 'ESR2', 'TAF1', 'KLF12'] 0.007534523597223998\n",
      "1733 / 1846 : HMGCS1 10 ['CREB5', 'ESR1', 'KLF4', 'HIF1A', 'SMAD3', 'JUN', 'MECP2', 'SPI1', 'CEBPB', 'TFCP2'] 0.013624275562234282\n",
      "1734 / 1846 : LUZP1 10 ['MYC', 'ESR1', 'HIF1A', 'SMAD3', 'JUN', 'MECP2', 'RXRA', 'FOS', 'ESR2', 'NR4A1'] 0.008762374500968305\n",
      "1735 / 1846 : RRP12 10 ['ESR1', 'MYC', 'HIF1A', 'SMAD3', 'JUN', 'MECP2', 'CEBPB', 'ESR2', 'RXRA', 'FOS'] 0.002174315363777057\n",
      "1736 / 1846 : PTPRJ 8 ['ESR1', 'MYC', 'HIF1A', 'JUN', 'SMAD3', 'MECP2', 'CEBPB', 'ESR2'] 0.007892693730977474\n"
     ]
    },
    {
     "name": "stderr",
     "output_type": "stream",
     "text": [
      "/Users/yijwang-admin/Documents/Research/GRN_PPI/L0GL_PPI_GRN/minFunc/polyinterp.py:40: RuntimeWarning: divide by zero encountered in scalar divide\n",
      "  t = points[notMinPos, 0] - (points[notMinPos, 0] - points[minPos, 0]) * ((points[notMinPos, 2] + d2 - d1) / (points[notMinPos, 2] - points[minPos, 2] + 2 * d2))\n"
     ]
    },
    {
     "name": "stdout",
     "output_type": "stream",
     "text": [
      "1737 / 1846 : CD3G 10 ['BCL6', 'ESR1', 'HIF1A', 'SPI1', 'MYC', 'SMAD3', 'JUN', 'NR4A1', 'MECP2', 'RXRA'] 0.023971639927216713\n",
      "1738 / 1846 : VAV2 10 ['ESR1', 'MYC', 'HIF1A', 'SMAD3', 'MECP2', 'ESR2', 'RXRA', 'NR4A1', 'BCL6', 'FOXO3'] 0.0023341820758404504\n",
      "1739 / 1846 : TUBA1A 9 ['ESR1', 'MYC', 'SMAD3', 'HIF1A', 'JUN', 'CEBPB', 'MECP2', 'KLF4', 'NR4A1'] 0.006799304696227095\n",
      "1740 / 1846 : TPT1 8 ['MYC', 'ESR1', 'HIF1A', 'SMAD3', 'JUN', 'MECP2', 'IRF7', 'MEF2C'] 0.011691531326503558\n",
      "1741 / 1846 : TPK1 3 ['ETV6', 'RELB', 'ZNF76'] 0.0060573345662791045\n",
      "1742 / 1846 : DHPS 10 ['MYC', 'ESR1', 'SMAD3', 'HIF1A', 'JUN', 'CEBPB', 'MECP2', 'ESR2', 'RXRA', 'FOS'] 0.012020447646129744\n",
      "1743 / 1846 : C19orf12 8 ['ESR1', 'MYC', 'HIF1A', 'JUN', 'SMAD3', 'RXRA', 'MECP2', 'MXI1'] 0.00836894230230603\n",
      "1744 / 1846 : TNIK 7 ['SPI1', 'CEBPB', 'ESR1', 'NR4A1', 'MECP2', 'SMAD3', 'TAF1'] 0.011427518319139534\n",
      "1745 / 1846 : TECPR2 5 ['CREB5', 'KLF4', 'HIF1A', 'JUN', 'BACH1'] 0.007424153101494475\n",
      "1746 / 1846 : MEGF9 10 ['MYC', 'ESR1', 'SMAD3', 'HIF1A', 'JUN', 'MECP2', 'CEBPB', 'CREB5', 'RXRA', 'ESR2'] 0.005463071686452923\n",
      "1747 / 1846 : CEP162 10 ['MYC', 'MECP2', 'ESR2', 'BCL6', 'NR2C2', 'ATF3', 'TFCP2', 'IRF7', 'PPARA', 'LEF1'] 0.008939322301959767\n",
      "1748 / 1846 : CDH23 3 ['KLF4', 'MEF2C', 'MYC'] 0.006763670554457431\n",
      "1749 / 1846 : NFAT5 3 ['NFAT5', 'ESR1', 'SMAD3'] 1.5025804044287241e-06\n",
      "1750 / 1846 : IFT74 10 ['ESR1', 'MECP2', 'CEBPB', 'RXRA', 'ESR2', 'SPI1', 'AHR', 'FOXO3', 'NR2C2', 'FOXO1'] 0.008975404251238394\n",
      "1751 / 1846 : GPR171 10 ['JUN', 'SMAD3', 'RXRA', 'ESR2', 'SPI1', 'RUNX2', 'FOXO1', 'NR2C2', 'ZEB1', 'TAF1'] 0.011430314431058648\n",
      "1752 / 1846 : KANSL1L 8 ['ESR1', 'MYC', 'MECP2', 'KLF4', 'ESR2', 'RXRA', 'AHR', 'TAF1'] 0.00441372090230627\n",
      "1753 / 1846 : LINC00662 10 ['ESR1', 'SMAD3', 'ESR2', 'FOS', 'BCL6', 'NR2C2', 'TAF1', 'KLF12', 'HLTF', 'TFCP2'] 0.0073759118068629816\n",
      "1754 / 1846 : ZNF433-AS1 10 ['MYC', 'ESR1', 'HIF1A', 'SMAD3', 'MECP2', 'JUN', 'CEBPB', 'ESR2', 'RXRA', 'FOS'] 0.0075637864314124295\n",
      "1755 / 1846 : LTBP3 9 ['MYC', 'ESR1', 'HIF1A', 'SMAD3', 'JUN', 'MECP2', 'CEBPB', 'NR4A1', 'ESR2'] 0.00934188329458322\n",
      "1756 / 1846 : ZDHHC17 5 ['KLF4', 'ESR1', 'MYC', 'HIF1A', 'SPI1'] 0.008810917305248786\n",
      "1757 / 1846 : RHOC 7 ['CEBPB', 'MYC', 'ESR1', 'NR4A1', 'CEBPD', 'KLF4', 'MAFB'] 0.01363021175426099\n",
      "1758 / 1846 : SELL 10 ['ESR1', 'SMAD3', 'JUN', 'MECP2', 'CEBPB', 'RXRA', 'ESR2', 'KLF4', 'CREB5', 'NR4A1'] 0.013520295374235925\n",
      "1759 / 1846 : NCAPD2 9 ['MYC', 'ESR1', 'HIF1A', 'SMAD3', 'SPI1', 'JUN', 'RXRA', 'MECP2', 'CREB5'] 0.011909637938297392\n",
      "1760 / 1846 : IRS2 6 ['ESR1', 'SMAD3', 'MECP2', 'ESR2', 'RXRA', 'KLF4'] 0.00751308996568927\n",
      "1761 / 1846 : CPVL 3 ['KLF4', 'NR2C2', 'NR4A1'] 0.0014053514627838408\n",
      "1762 / 1846 : EPB41 10 ['ESR1', 'MYC', 'HIF1A', 'SMAD3', 'JUN', 'MECP2', 'CEBPB', 'KLF4', 'RXRA', 'AHR'] 0.014194686498804218\n",
      "1763 / 1846 : STK3 10 ['ESR1', 'MYC', 'JUN', 'MECP2', 'ESR2', 'RXRA', 'FOS', 'NR4A1', 'BCL6', 'SPI1'] 0.0034416981455185195\n",
      "1764 / 1846 : ORC3 9 ['MYC', 'ESR1', 'JUN', 'SMAD3', 'RXRA', 'MECP2', 'ESR2', 'BACH1', 'FOXO1'] 0.005681606364066371\n",
      "1765 / 1846 : LMTK2 7 ['ESR1', 'MYC', 'HIF1A', 'SMAD3', 'MECP2', 'CEBPB', 'RXRA'] 0.007105772973494007\n",
      "1766 / 1846 : PIGN 10 ['JUN', 'MECP2', 'CEBPB', 'ESR2', 'RXRA', 'FOS', 'NR4A1', 'BCL6', 'FOXO1', 'NR2C2'] 0.006963149647121792\n",
      "1767 / 1846 : TBC1D32 5 ['CREB5', 'KLF4', 'BACH1', 'JUN', 'RXRA'] 0.008623805368160946\n",
      "1768 / 1846 : TMX4 5 ['KLF4', 'MEF2C', 'JUN', 'SPI1', 'ETS1'] 0.007207375019072947\n",
      "1769 / 1846 : RSU1 10 ['ESR1', 'MYC', 'HIF1A', 'SMAD3', 'JUN', 'CEBPB', 'ESR2', 'FOS', 'ATF3', 'FOXO1'] 0.008251966729200103\n",
      "1771 / 1846 : SMIM8 10 ['MYC', 'ESR1', 'HIF1A', 'SMAD3', 'MECP2', 'RXRA', 'ESR2', 'NR4A1', 'FOXO1', 'NR2C2'] 0.009588829974179836\n",
      "1772 / 1846 : SAMSN1 10 ['SMAD3', 'JUN', 'MECP2', 'ESR2', 'RXRA', 'FOS', 'BCL6', 'FOXO3', 'SPI1', 'AHR'] 0.01252526942241668\n",
      "1773 / 1846 : ZNF331 9 ['SPI1', 'ESR1', 'MYC', 'HIF1A', 'SMAD3', 'KLF4', 'MECP2', 'CEBPB', 'BCL6'] 0.011075039152325827\n",
      "1774 / 1846 : SIK3 9 ['ESR1', 'MYC', 'HIF1A', 'SMAD3', 'JUN', 'MECP2', 'CEBPB', 'ATF3', 'FOS'] 0.006924621857474173\n",
      "1775 / 1846 : CUTC 9 ['HIF1A', 'SMAD3', 'MECP2', 'RXRA', 'ESR2', 'KLF4', 'NR4A1', 'BCL6', 'FOXO1'] 0.012217798375083572\n",
      "1776 / 1846 : PRF1 6 ['PAX5', 'MAFB', 'PPARD', 'AHR', 'CEBPB', 'IRF8'] 0.03128536367458829\n",
      "1777 / 1846 : PLEKHA2 10 ['RXRA', 'MYC', 'ESR1', 'KLF4', 'HIF1A', 'SMAD3', 'MECP2', 'CEBPB', 'ESR2', 'FOS'] 0.006214221763235929\n",
      "1778 / 1846 : SMARCD1 9 ['ESR1', 'MYC', 'HIF1A', 'SMAD3', 'JUN', 'MECP2', 'RXRA', 'ATF3', 'FOXO3'] 0.0077202387103526855\n",
      "1780 / 1846 : SUFU 8 ['ESR1', 'MYC', 'RXRA', 'SMAD3', 'HIF1A', 'JUN', 'SPI1', 'CEBPB'] 0.003860773963451427\n",
      "1781 / 1846 : PHLPP1 5 ['KLF4', 'HIF1A', 'JDP2', 'SMAD3', 'RXRA'] 0.004536576138245966\n",
      "1782 / 1846 : ICAM1 8 ['ESR1', 'MYC', 'HIF1A', 'SMAD3', 'JUN', 'MECP2', 'CEBPB', 'ESR2'] 0.003665907436077887\n",
      "1783 / 1846 : MYOF 4 ['KLF4', 'MYC', 'ESR1', 'SMAD3'] 0.0011347427603709277\n",
      "1784 / 1846 : PHF21A 10 ['CREB5', 'ESR1', 'MYC', 'SMAD3', 'HIF1A', 'JUN', 'KLF4', 'CEBPB', 'MECP2', 'FOS'] 0.0067099085435084\n",
      "1785 / 1846 : MRPS9 10 ['ESR1', 'MYC', 'HIF1A', 'RXRA', 'ESR2', 'NR4A1', 'FOXO1', 'TAF1', 'BCL6', 'CREB5'] 0.007464969731069356\n",
      "1786 / 1846 : RORA-AS1 9 ['CREB5', 'MYC', 'ESR1', 'SMAD3', 'JUN', 'HIF1A', 'MECP2', 'CEBPB', 'FOS'] 0.012823735716330623\n",
      "1787 / 1846 : RAB20 10 ['MYC', 'ESR1', 'HIF1A', 'JUN', 'MECP2', 'CEBPB', 'ESR2', 'RXRA', 'FOS', 'NR4A1'] 0.002382686491879032\n",
      "1789 / 1846 : HLA-DRB5 10 ['ESR1', 'MYC', 'SMAD3', 'JUN', 'CEBPB', 'MECP2', 'FOS', 'ATF3', 'ESR2', 'RXRA'] 0.006404051854998288\n",
      "1790 / 1846 : REEP3 8 ['ESR1', 'SMAD3', 'KLF4', 'HIF1A', 'MECP2', 'ESR2', 'RXRA', 'SPI1'] 0.015262848915888411\n",
      "1791 / 1846 : DAAM1 10 ['HIF1A', 'ESR1', 'MYC', 'SMAD3', 'MECP2', 'KLF4', 'RXRA', 'ESR2', 'CREB5', 'BCL6'] 0.005810982548287964\n",
      "1792 / 1846 : DCAF10 3 ['KLF4', 'MEF2C', 'BACH2'] 0.007528819068366357\n",
      "1793 / 1846 : NLN 10 ['MYC', 'ESR1', 'SMAD3', 'JUN', 'MECP2', 'CEBPB', 'RXRA', 'ESR2', 'FOS', 'NR4A1'] 0.0027696467771683654\n",
      "1794 / 1846 : PACS2 10 ['ESR1', 'MYC', 'HIF1A', 'SMAD3', 'MECP2', 'CEBPB', 'ESR2', 'RXRA', 'NR4A1', 'BACH1'] 0.012077538981050566\n",
      "1795 / 1846 : GCNT2 10 ['MYC', 'ESR1', 'HIF1A', 'SMAD3', 'MECP2', 'CEBPB', 'ESR2', 'RXRA', 'BCL6', 'FOXO3'] 0.002543316320725174\n"
     ]
    },
    {
     "name": "stderr",
     "output_type": "stream",
     "text": [
      "/Users/yijwang-admin/Documents/Research/GRN_PPI/L0GL_PPI_GRN/minFunc/polyinterp.py:40: RuntimeWarning: divide by zero encountered in scalar divide\n",
      "  t = points[notMinPos, 0] - (points[notMinPos, 0] - points[minPos, 0]) * ((points[notMinPos, 2] + d2 - d1) / (points[notMinPos, 2] - points[minPos, 2] + 2 * d2))\n"
     ]
    },
    {
     "name": "stdout",
     "output_type": "stream",
     "text": [
      "1796 / 1846 : LILRB3 3 ['NR4A1', 'KLF4', 'CEBPB'] 0.0021075717628766225\n",
      "1797 / 1846 : NIPAL3 10 ['ESR1', 'NR4A1', 'HIF1A', 'SMAD3', 'JUN', 'CEBPB', 'MECP2', 'RXRA', 'ESR2', 'KLF4'] 0.012603421992213688\n",
      "1798 / 1846 : SLC10A7 10 ['ESR1', 'SMAD3', 'MECP2', 'ESR2', 'RXRA', 'NR4A1', 'BCL6', 'TAF1', 'SPI1', 'KLF12'] 0.01065742881650023\n",
      "1799 / 1846 : NCF2 9 ['ESR1', 'MYC', 'MECP2', 'CEBPB', 'ESR2', 'RXRA', 'FOS', 'CREB5', 'NR4A1'] 0.0035794995288458325\n",
      "1800 / 1846 : KDM5B 6 ['NR4A1', 'PPARD', 'ATF3', 'PAX5', 'JUN', 'KLF4'] 0.008334892838058506\n",
      "1801 / 1846 : NKG7 7 ['SPI1', 'RXRA', 'PAX5', 'FOS', 'JDP2', 'FOXO1', 'ATF3'] 0.028273955229647558\n",
      "1802 / 1846 : ABHD12 5 ['CREB5', 'SMAD3', 'RXRA', 'ETV6', 'MECP2'] 0.008279900512688567\n",
      "1803 / 1846 : ARL4C 6 ['JDP2', 'KLF4', 'CREB5', 'SPI1', 'CEBPD', 'ESR2'] 0.01841013412584812\n",
      "1804 / 1846 : ENOSF1 9 ['ESR1', 'HIF1A', 'SMAD3', 'JUN', 'MECP2', 'CEBPB', 'SPI1', 'NR4A1', 'KLF4'] 0.007175770952262105\n",
      "1805 / 1846 : POLR3C 6 ['ESR1', 'CREB5', 'RXRA', 'FOXO3', 'PAX5', 'LEF1'] 0.010409624527151424\n",
      "1806 / 1846 : PLAUR 4 ['CREB5', 'MYC', 'ESR1', 'HIF1A'] 0.0017670050155269624\n",
      "1807 / 1846 : RNF144A 7 ['KLF4', 'MYC', 'ESR1', 'RXRA', 'MECP2', 'ESR2', 'MEF2C'] 0.01376825186881167\n",
      "1808 / 1846 : MCTP1 10 ['SMAD3', 'JUN', 'RXRA', 'FOS', 'NR4A1', 'CREB5', 'FOXO3', 'IRF7', 'NFYC', 'MEF2A'] 0.001935836750487468\n"
     ]
    },
    {
     "name": "stderr",
     "output_type": "stream",
     "text": [
      "/Users/yijwang-admin/Documents/Research/GRN_PPI/L0GL_PPI_GRN/minFunc/polyinterp.py:40: RuntimeWarning: divide by zero encountered in scalar divide\n",
      "  t = points[notMinPos, 0] - (points[notMinPos, 0] - points[minPos, 0]) * ((points[notMinPos, 2] + d2 - d1) / (points[notMinPos, 2] - points[minPos, 2] + 2 * d2))\n"
     ]
    },
    {
     "name": "stdout",
     "output_type": "stream",
     "text": [
      "1809 / 1846 : GALNT10 10 ['MYC', 'ESR1', 'SMAD3', 'JUN', 'NR4A1', 'MECP2', 'CEBPB', 'RXRA', 'ESR2', 'FOS'] 0.011071115604346711\n",
      "1810 / 1846 : TRAT1 10 ['ESR1', 'KLF4', 'SMAD3', 'JUN', 'MECP2', 'RXRA', 'SPI1', 'ESR2', 'FOS', 'BCL6'] 0.015705807815398355\n",
      "1811 / 1846 : TEX10 6 ['PAX5', 'CREB5', 'ATF3', 'ESR1', 'MAFB', 'KLF12'] 0.009329204430432114\n",
      "1812 / 1846 : EMD 8 ['CREB5', 'KLF4', 'ESR1', 'MEF2C', 'MYC', 'CEBPB', 'ESR2', 'MAFB'] 0.012207625899432143\n",
      "1813 / 1846 : APLP2 10 ['MYC', 'ESR1', 'HIF1A', 'SMAD3', 'MECP2', 'CEBPB', 'RXRA', 'ESR2', 'KLF4', 'NR2C2'] 0.005349381364462513\n",
      "1814 / 1846 : PUDP 6 ['MYC', 'ESR1', 'JUN', 'MECP2', 'SPI1', 'ESR2'] 0.0053906923535360215\n",
      "1815 / 1846 : RNASE6 3 ['SPI1', 'PAX5', 'RXRA'] 0.0018903191089032385\n",
      "1816 / 1846 : ATP8B1 9 ['HIF1A', 'ESR1', 'SMAD3', 'JUN', 'MECP2', 'SPI1', 'KLF4', 'ESR2', 'RXRA'] 0.006491583420826708\n",
      "1817 / 1846 : CD6 6 ['NR4A1', 'MECP2', 'BCL6', 'MYC', 'HIF1A', 'SPI1'] 0.01781972313310541\n",
      "1818 / 1846 : PRKCH 6 ['NR4A1', 'KLF12', 'BCL6', 'SMAD3', 'ESR1', 'MECP2'] 0.00715264239550978\n",
      "1819 / 1846 : TRMT11 4 ['CREB5', 'RXRA', 'KLF4', 'MAFB'] 0.011043230015367509\n",
      "1820 / 1846 : TET3 8 ['CREB5', 'ESR1', 'MYC', 'SMAD3', 'HIF1A', 'JUN', 'MECP2', 'CEBPB'] 0.006744277749366225\n",
      "1821 / 1846 : NCBP2AS2 10 ['ESR1', 'MYC', 'HIF1A', 'SMAD3', 'JUN', 'MECP2', 'RXRA', 'ESR2', 'KLF4', 'NR4A1'] 0.010867104612416486\n",
      "1822 / 1846 : XPNPEP3 5 ['CREB5', 'MYC', 'CEBPB', 'NR4A1', 'MEF2C'] 0.00471988499920603\n",
      "1823 / 1846 : LRRC37A3 9 ['MYC', 'ESR1', 'HIF1A', 'JUN', 'SMAD3', 'RXRA', 'CEBPB', 'MECP2', 'BCL6'] 0.009313426267957557\n",
      "1824 / 1846 : SFI1 9 ['HIF1A', 'MYC', 'ESR1', 'SMAD3', 'JUN', 'MECP2', 'SPI1', 'BCL6', 'RELB'] 0.012582584689898306\n",
      "1825 / 1846 : NLRP3 10 ['ESR1', 'HIF1A', 'SMAD3', 'JUN', 'ESR2', 'RXRA', 'FOS', 'NR4A1', 'BCL6', 'FOXO3'] 0.002674029121610336\n",
      "1826 / 1846 : RTN1 9 ['ESR1', 'MYC', 'HIF1A', 'MECP2', 'ESR2', 'RXRA', 'NR2C2', 'FOXO1', 'KLF4'] 0.0029345259037152527\n",
      "1827 / 1846 : LDHB 10 ['MYC', 'ESR1', 'JUN', 'HIF1A', 'SMAD3', 'MECP2', 'CEBPB', 'RXRA', 'FOS', 'ESR2'] 0.017822292835788445\n",
      "1828 / 1846 : MYO1F 9 ['CREB5', 'ESR1', 'MYC', 'KLF4', 'JUN', 'SMAD3', 'HIF1A', 'MECP2', 'CEBPB'] 0.014001082237078489\n",
      "1829 / 1846 : AKT3 10 ['ESR1', 'MYC', 'SMAD3', 'MECP2', 'CEBPB', 'CREB5', 'RXRA', 'ESR2', 'JDP2', 'FOXO3'] 0.014211461999186166\n",
      "1830 / 1846 : ACVR2A 6 ['SMAD3', 'MECP2', 'CEBPB', 'SPI1', 'ESR2', 'RXRA'] 0.011486341471196438\n",
      "1831 / 1846 : KSR1 10 ['ESR1', 'MYC', 'HIF1A', 'SMAD3', 'JUN', 'MECP2', 'CEBPB', 'ESR2', 'RXRA', 'FOS'] 0.005882542524445617\n",
      "1832 / 1846 : CLUAP1 9 ['MYC', 'ESR1', 'HIF1A', 'SMAD3', 'JUN', 'MECP2', 'CEBPB', 'KLF4', 'ESR2'] 0.009852194960601595\n",
      "1833 / 1846 : MCU 5 ['ESR1', 'MEF2C', 'MYC', 'KLF4', 'SMAD3'] 0.00698372719166656\n",
      "1834 / 1846 : LYRM7 10 ['MYC', 'ESR1', 'SMAD3', 'HIF1A', 'JUN', 'MECP2', 'ESR2', 'RXRA', 'FOS', 'BACH1'] 0.0070978123932659495\n",
      "1835 / 1846 : LY86 9 ['ESR1', 'MYC', 'SMAD3', 'HIF1A', 'JUN', 'ESR2', 'RXRA', 'NR4A1', 'FOXO3'] 0.004038585769931841\n",
      "1836 / 1846 : B3GNTL1 6 ['CREB5', 'RXRA', 'FOS', 'KLF12', 'PPARD', 'ATF3'] 0.011877823829771305\n",
      "1837 / 1846 : METTL8 9 ['NR2C2', 'TAF1', 'BACH1', 'KLF12', 'RELB', 'TFCP2', 'NFIA', 'MXI1', 'PRDM1'] 0.005919955577139344\n",
      "1838 / 1846 : PTPRM 9 ['MAFB', 'ATF3', 'ESR1', 'NR2C2', 'RXRA', 'MECP2', 'PAX5', 'MEF2A', 'RUNX2'] 0.021857723355834538\n",
      "1839 / 1846 : SCMH1 9 ['MYC', 'ESR1', 'HIF1A', 'SMAD3', 'JUN', 'MECP2', 'CEBPB', 'RXRA', 'ESR2'] 0.009534094338924309\n",
      "1840 / 1846 : UMAD1 10 ['ESR1', 'HIF1A', 'SMAD3', 'JUN', 'MECP2', 'RXRA', 'ESR2', 'FOS', 'NR4A1', 'BCL6'] 0.010928386815615605\n",
      "1841 / 1846 : CD74 9 ['MYC', 'ESR1', 'HIF1A', 'SMAD3', 'JUN', 'MECP2', 'CEBPB', 'RXRA', 'ESR2'] 0.0064369661272909735\n",
      "1842 / 1846 : IL7R 9 ['CREB5', 'ESR1', 'KLF4', 'MYC', 'BCL6', 'ATF3', 'SMAD3', 'CEBPB', 'RXRA'] 0.023529857687212635\n",
      "1843 / 1846 : ABHD3 10 ['ESR1', 'HIF1A', 'SMAD3', 'MECP2', 'CEBPB', 'RXRA', 'ESR2', 'BCL6', 'NR4A1', 'SPI1'] 0.005616651721193427\n",
      "1844 / 1846 : ODC1 10 ['MYC', 'ESR1', 'HIF1A', 'SMAD3', 'JUN', 'MECP2', 'CEBPB', 'ESR2', 'RXRA', 'FOS'] 0.008130185122271138\n",
      "1845 / 1846 : CPPED1 9 ['MECP2', 'ESR2', 'FOXO1', 'TAF1', 'SPI1', 'KLF12', 'TFCP2', 'IRF1', 'E2F3'] 0.003917577381066015\n",
      "1846 / 1846 : LPCAT1 6 ['RXRA', 'NR4A1', 'ATF3', 'MYC', 'HIF1A', 'BACH1'] 0.0212165019344396\n"
     ]
    }
   ],
   "source": [
    "TGList = ['HIVEP1', 'CYBB', 'ANKRD26', 'IL32', 'ZC4H2', 'PLXNC1', 'AAMDC', 'HLA-DRB1', 'SFXN1', 'EIF2B3', 'CCNC', 'ENTPD1', 'ITGAX', 'LENG1', 'RPL11', 'HIBADH', 'NHSL1', 'ETV6', 'ELP4', 'LIMK2', 'KDM1B', 'AMZ1', 'ADAM9', 'GPR137B', 'MPZL3', 'TUBGCP5', 'MYO9A', 'FCGR2A', 'LDLRAP1', 'ARSG', 'ZNF544', 'PELI2', 'GFPT1', 'SLC35E2B', 'ANXA1', 'NEPRO', 'DUSP6', 'ATP8B4', 'ATP10A', 'MARK4', 'WARS2-AS1', 'GRAMD1B', 'RABEP2', 'NUP54', 'MAML2', 'SNX9', 'HLA-DPB1', 'TNFSF10', 'RHOT1', 'DIPK1A', 'MBNL3', 'RPS29', 'STAT4', 'ATF7IP2', 'RFX7', 'CHSY1', 'LEPROTL1', 'LTB', 'RPS5', 'ZSWIM6', 'BATF', 'JMJD1C', 'CC2D2A', 'ZNF487', 'PSIP1', 'SMAD3', 'PLD1', 'ZDHHC20', 'SOCS3', 'DENND2D', 'ZNF236', 'ATG13', 'LCLAT1', 'RPSA', 'FAM198B-AS1', 'CMC1', 'POU2F2', 'P4HA1', 'LIME1', 'LRRC8D', 'GZMH', 'AIF1', 'BTD', 'FAM153CP', 'PACSIN2', 'RPL18A', 'NR3C2', 'RAE1', 'PLCG1', 'ATP1B3', 'CALR', 'ZC2HC1A', 'FNTB', 'TMOD2', 'FOS', 'SNX30', 'DOCK9', 'RAB11FIP4', 'ATXN1', 'UXS1', 'LINC01237', 'TYMP', 'UGCG', 'STK25', 'HIST1H1C', 'MINDY2', 'FILIP1L', 'SYNJ2', 'ACACA', 'LANCL1', 'P2RX7', 'CST7', 'OPTN', 'SLC7A6', 'TNFRSF25', 'SLC44A1', 'SPPL2A', 'TFEC', 'ATF3', 'HCST', 'UBASH3B', 'CCND3', 'RPL3', 'SCML4', 'GPR183', 'RGS10', 'IL1B', 'COMMD10', 'PYM1', 'DDB2', 'RIC8B', 'FGL2', 'SHQ1', 'PTK2', 'TUT4', 'MS4A7', 'OXNAD1', 'ATP6AP2', 'CHKA', 'ARHGAP32', 'TMTC2', 'HDAC3', 'HLA-DMB', 'MGST2', 'CD82', 'MAML3', 'ZNF782', 'CD2AP', 'GNG7', 'CTNNBIP1', 'PDE4B', 'PCGF5', 'BCAS2', 'SMYD3', 'CHMP7', 'MXD1', 'NR4A3', 'MPRIP', 'ZNF804A', 'DGLUCY', 'MAP3K8', 'ING3', 'SKAP2', 'SLC31A1', 'FGR', 'OAS1', 'CCPG1', 'PRKCE', 'CBR4', 'SLMAP', 'LINC00513', 'RPL27A', 'ZNF81', 'CEP250', 'NPC1', 'SMIM14', 'LINC00926', 'RBM47', 'SMURF1', 'ALDH2', 'SLC25A16', 'LINC00894', 'UTRN', 'MAFB', 'CYB561A3', 'ZNF710', 'TRIO', 'RMND5B', 'TAPT1', 'CYB5D2', 'ARHGAP18', 'ERCC8', 'FHIT', 'KLHL8', 'IQCB1', 'CYSLTR1', 'SLC24A4', 'PIGB', 'CD79A', 'KANTR', 'WDR60', 'HS2ST1', 'TREM1', 'FAM168A', 'CD8A', 'KLF4', 'FCN1', 'ANK3', 'ARHGAP10', 'CTSC', 'RPL14', 'TVP23C', 'LEF1-AS1', 'CCL5', 'BANK1', 'SYNJ1', 'RPS3A', 'TEX14', 'SOD2', 'BSDC1', 'KIF16B', 'GPD2', 'GNB4', 'PHACTR4', 'SPATA1', 'PHACTR1', 'RPS27', 'MANBA', 'EXT2', 'PIGX', 'IL3RA', 'PLAAT4', 'LAIR2', 'ZNF438', 'IFT88', 'ZFAT', 'TTC27', 'ANO10', 'ACAD11', 'FAM222B', 'SLC49A4', 'LIPE-AS1', 'AOAH', 'HSPB1', 'CCDC146', 'WDR27', 'ZDHHC14', 'HIF1A', 'FGFBP2', 'RNF144B', 'EXOC6B', 'TAMM41', 'FGD4', 'C2CD3', 'BCL11A', 'GCNT1', 'SLC8A1', 'TBC1D4', 'VPS54', 'FCRL1', 'SHLD2', 'HLCS', 'ARHGAP31', 'STX11', 'INPP5A', 'CSGALNACT1', 'TASP1', 'ITPRIP', 'TMEM135', 'DHTKD1', 'S100A8', 'ZNF169', 'NF1', 'CDK19', 'ARFGAP3', 'VRK2', 'GPATCH11', 'RXRA', 'PTGER2', 'UBE2W', 'FRMD4B', 'MAN1C1', 'FAM241A', 'IFIH1', 'IFI44', 'NFATC2', 'EAF2', 'GALM', 'ARSB', 'HERC3', 'PHTF2', 'CASK', 'DST', 'JDP2', 'DEPDC5', 'LCORL', 'SETBP1', 'XRCC4', 'GNB5', 'RPS20', 'UBE2D1', 'PICALM', 'CHD7', 'UBTF', 'ARHGEF3', 'ABCB10', 'SUPT3H', 'KIAA1958', 'S100A6', 'WDR6', 'RALGPS2', 'LANCL2', 'TCP11L1', 'JUN', 'USP28', 'GCFC2', 'HAVCR2', 'MCTP2', 'DGKG', 'BMPR2', 'FMN1', 'COLGALT1', 'DNAJC1', 'CPQ', 'CCND2', 'HLA-DPA1', 'PIM2', 'BLK', 'XBP1', 'IRF8', 'CD28', 'OCIAD2', 'TAFA1', 'ARRB1', 'FRY', 'ACTG1', 'S100A10', 'TMC8', 'SRRT', 'PLCL1', 'LLGL2', 'ITFG1', 'MAL', 'CHST11', 'SHLD1', 'OSBPL1A', 'LINC01934', 'CXCR4', 'TCAIM', 'ETS1', 'SPIN1', 'STAT5B', 'TNFAIP2', 'ZDHHC13', 'RPLP1', 'RPL13A', 'BICD1', 'EXT1', 'KRCC1', 'RNF125', 'LINC00861', 'CD8B', 'LPCAT2', 'SEMA4B', 'CSF3R', 'C12orf42', 'WARS2', 'RNF149', 'UBE2J1', 'PLA2G4A', 'PLSCR1', 'TSHZ3', 'ZFHX3', 'SATB1', 'CROCC', 'STMN1', 'CIAPIN1', 'ZFP90', 'ARAF', 'TDP2', 'PCCA', 'ITPR1', 'PRAM1', 'CASC3', 'EPHA4', 'SWAP70', 'NDUFAF2', 'SAMD3', 'FRMD3', 'PPP1R12B', 'RPS12', 'IDE', 'PATJ', 'ZNF512', 'LAP3', 'ZNF10', 'ORAI2', 'PIP5K1B', 'TRMO', 'NT5C2', 'IL2RB', 'TIGAR', 'SULF2', 'ANKRD28', 'ZNF821', 'THAP11', 'ATG4C', 'EBF1', 'RRBP1', 'MS4A1', 'CYTOR', 'DENND1A', 'FAM135A', 'GRK5', 'IFI30', 'MSI2', 'DUSP5', 'E2F3', 'PMAIP1', 'FTL', 'PTPRE', 'NOTCH2', 'BMT2', 'CDK6', 'CUX1', 'LINC02328', 'FAM102B', 'SNX2', 'OXSR1', 'SLC35E3', 'CD226', 'USP36', 'CD83', 'LATS2', 'EEF1B2', 'KHDRBS2', 'SLC16A10', 'RNF135', 'RPS6KA2', 'FOXO1', 'GPHN', 'ZEB2', 'MPP7', 'SPTBN1', 'LINC02432', 'SCO2', 'CLEC7A', 'CCDC66', 'CPD', 'TET2', 'MYBL1', 'DLG2', 'ATP11A', 'JAK2', 'FOSB', 'DIAPH2', 'TTYH3', 'USP32', 'DYSF', 'SPI1', 'WWOX', 'GFM2', 'SLC9A7', 'GANC', 'LIN52', 'BCAS4', 'TMEM176B', 'KCNQ1', 'NOLC1', 'ANKZF1', 'LINC01278', 'SNAPC5', 'FOXO3', 'GBF1', 'SVIL', 'TBC1D14', 'SLC2A4RG', 'TXK', 'ATRN', 'CD14', 'VTA1', 'LST1', 'USP53', 'VNN2', 'DIPK2A', 'UBE2D2', 'GNL2', 'SCML1', 'IL13RA1', 'LINC01572', 'TTN', 'SLC2A3', 'SCAI', 'ANKIB1', 'NLRC3', 'ODF2L', 'KIF20B', 'HCK', 'ADGRE2', 'PRDM1', 'NIBAN3', 'DGKA', 'TGFBR3', 'CLYBL', 'YBX3', 'CEP290', 'PDE4D', 'PTPN4', 'WDFY1', 'CTC1', 'ARHGAP5', 'DTNB', 'AKAP10', 'DENND11', 'ANPEP', 'FBXO32', 'RCAN3', 'MIR181A1HG', 'RAB6A', 'LIX1L', 'DSTYK', 'CARD11', 'PTPN12', 'HNRNPLL', 'STAMBPL1', 'EXOC6', 'C12orf57', 'ABHD5', 'TBC1D8', 'SNX29', 'PITPNC1', 'EPHX2', 'ZEB1', 'MANF', 'ZNF516', 'RETREG1', 'MAP3K5', 'SATB1-AS1', 'CD22', 'BBS9', 'NFKBIA', 'OASL', 'VCL', 'FAM122C', 'PLEKHM3', 'SERINC5', 'SBF2', 'ARRDC3', 'PLEK', 'RPGR', 'LAT', 'OSBPL3', 'ARID5B', 'GPAT3', 'SLC39A11', 'CHST15', 'TRAF3IP2-AS1', 'KIF1B', 'KDM7A', 'CABIN1', 'MSRA', 'AFF3', 'MS4A6A', 'CDC42EP3', 'PRR5', 'KIFAP3', 'SNX25', 'GCH1', 'RPL13', 'TBXAS1', 'MTG1', 'RPS14', 'OLA1', 'FAM13A', 'DUSP1', 'MCPH1', 'ANKUB1', 'BCL2', 'ANTXR2', 'FKBP11', 'ACADM', 'TPCN1', 'JAZF1', 'ITGA6', 'PRMT3', 'ZNF814', 'ADAP2', 'BACH1', 'CENPK', 'RPL38', 'QSOX1', 'ERGIC1', 'DUSP16', 'PCNX4', 'CLEC4E', 'IGF1R', 'NEAT1', 'QKI', 'GALK2', 'NAA10', 'SUSD3', 'MYADM', 'OXCT1', 'GRK3', 'LARS2', 'RPL34', 'RAB28', 'NEDD9', 'SERPINA1', 'GZMA', 'MIS18BP1', 'ERLEC1', 'TMEM263', 'CARS2', 'GPATCH2', 'USF3', 'TRPM2', 'AUTS2', 'CCR2', 'FAM49A', 'PTPN22', 'CHPT1', 'ADCY9', 'RNF168', 'SLC16A7', 'BTRC', 'GAS7', 'ABCG1', 'CHRM3-AS2', 'TRAF3', 'PDE6D', 'ZNF490', 'SGPP1', 'INTS4', 'ITSN1', 'YJU2', 'MAGED1', 'PDK3', 'CYSTM1', 'LRIG1', 'HIST1H1D', 'SLCO3A1', 'HCFC2', 'GIMAP5', 'NOSIP', 'NCALD', 'EVA1C', 'DHX57', 'KLRD1', 'TIPARP', 'FARP2', 'SIPA1L1', 'CDC25B', 'HERC6', 'ANKAR', 'IRF1', 'ZBTB8OS', 'PSMA1', 'GTDC1', 'SPOCK2', 'SCFD2', 'RPL30', 'RELB', 'PSAP', 'MOSMO', 'LINC01184', 'CDKN1C', 'ACSL1', 'RAB3IP', 'EFCAB2', 'WDFY4', 'CTSD', 'ABCA7', 'NLK', 'SYK', 'CBLB', 'NARS2', 'RECK', 'CSF1R', 'ST3GAL3', 'AGTPBP1', 'RPS4X', 'IFI6', 'HLA-DMA', 'ANKH', 'ARHGAP15', 'EMSY', 'LYPLAL1', 'MGAT4A', 'TERF2IP', 'GBP1', 'PAX5', 'CCDC7', 'PVT1', 'CAAP1', 'PPARGC1B', 'RAP1A', 'PPFIBP2', 'THEM4', 'HK2', 'EPS8', 'TMEM117', 'TCF7L2', 'GALT', 'TMEM267', 'PIK3AP1', 'TRABD2A', 'TANGO6', 'S100A12', 'TESK2', 'PDLIM5', 'RPS23', 'SNTB2', 'UBN1', 'GK5', 'MSH3', 'RYBP', 'SOX4', 'MAP4', 'AKR1B1', 'MARCH3', 'TMEM154', 'RAPGEF6', 'IL17RA', 'TLR4', 'NGRN', 'CNNM2', 'DGKH', 'SPATA5', 'WDR25', 'HIST1H1E', 'SIDT1', 'TNFRSF10B', 'NCK2', 'STYXL1', 'NFAM1', 'CTSS', 'SNAP29', 'BAZ2B', 'GK', 'DOCK5', 'BACH2', 'ABL2', 'TXNDC16', 'SH3RF1', 'IFT57', 'COL19A1', 'DLEU1', 'PIGU', 'MMS22L', 'SMC6', 'OPA3', 'ZAP70', 'GTPBP6', 'EPB41L2', 'SLC22A15', 'CR1', 'USP6NL', 'GAB1', 'TBC1D2', 'C5AR1', 'IL15', 'RRM1', 'POLR1C', 'PEAK1', 'FRS2', 'SRGAP2', 'BABAM2', 'SYAP1', 'PCED1B', 'BASP1', 'MX1', 'CCR7', 'SEC22A', 'GMDS-DT', 'EP400', 'PECAM1', 'DENND1C', 'MRPS26', 'CEBPB', 'ACYP2', 'ECHS1', 'PLCB1', 'PLXDC2', 'DUSP2', 'STRBP', 'CBX5', 'NABP1', 'CLEC12A', 'NIBAN1', 'SLC38A1', 'TIMM8B', 'ZC3H6', 'RPL9', 'ESR2', 'DENND5A', 'NBEA', 'SLC25A37', 'ZNF565', 'PDE3B', 'IFITM3', 'UVSSA', 'TECR', 'HSDL2', 'ADAM19', 'PRR5L', 'ULK4', 'KYNU', 'CD5', 'INKA2', 'HSPA1A', 'RAB31', 'GIT2', 'ACSS2', 'CLOCK', 'PLEKHG2', 'DHX35', 'RBM41', 'PCNA', 'PPP1R3E', 'GMEB1', 'SLC11A1', 'TFDP2', 'DISC1', 'LBH', 'NSMAF', 'LILRB1', 'ACER3', 'CARMIL1', 'CKMT2-AS1', 'PPP2R2B', 'DPP4', 'SETD7', 'STK17A', 'PRIM2', 'GZMB', 'AHI1', 'TBC1D19', 'TSTD1', 'PDSS2', 'TRAPPC8', 'SLC38A9', 'PPP1R16B', 'RGS18', 'DOCK8', 'IFIT3', 'CREB3L2', 'SFMBT2', 'CD55', 'CCSER2', 'AGPAT5', 'MRPL28', 'ABLIM1', 'TNFRSF1B', 'LINC02446', 'RAP1GDS1', 'FBXL20', 'AQP3', 'TTC7A', 'WRN', 'ZBP1', 'PARP15', 'APC', 'MAST2', 'TATDN3', 'ITPK1', 'TAFA2', 'TCF4', 'GPANK1', 'PAM', 'UBE2E3', 'SESTD1', 'TUBD1', 'FMNL2', 'MFHAS1', 'TSEN2', 'HIST1H2AC', 'CSF2RA', 'MTAP', 'LACTB', 'MVB12B', 'ARHGAP24', 'INSR', 'ISG15', 'IDH3A', 'AHCYL2', 'NSD2', 'ZFYVE28', 'NMT2', 'SLC44A2', 'LARP1B', 'NEK6', 'INVS', 'KIAA0556', 'FBXO22', 'FER', 'CRYZL1', 'DCPS', 'GBP5', 'ERI1', 'MARCKSL1', 'ME2', 'ZNF718', 'LDAH', 'CCDC50', 'TFRC', 'MAP2K6', 'DHRS3', 'RUNX2', 'CASC4', 'KIAA2013', 'RFFL', 'MAP4K3', 'MNDA', 'FGD2', 'QSER1', 'B2M', 'RASA3', 'ST8SIA4', 'SIPA1L3', 'ELP2', 'ATG16L1', 'TOX', 'ZNF831', 'SLC39A9', 'CYFIP2', 'KRI1', 'ATP2B4', 'SARNP', 'NDUFAF6', 'RBL1', 'EPSTI1', 'MPP6', 'LINC00243', 'KATNBL1', 'TOM1', 'SNX10', 'LINC00937', 'SPAG9', 'RPS26', 'TNS3', 'SERPINB9', 'CD7', 'WHAMM', 'ICOS', 'HSPA4', 'AIG1', 'XAF1', 'RMND1', 'DNAJB1', 'ACVR1', 'TEC', 'MAP3K14', 'MEF2C', 'PITPNA', 'EHMT2', 'ADARB1', 'KCNE1', 'LGALS2', 'COMMD1', 'ALOX5AP', 'SNX4', 'GLMN', 'SAMD12', 'USP40', 'DROSHA', 'FAAH2', 'PLD4', 'HIPK2', 'CLIC3', 'PILRA', 'HS3ST3B1', 'ABI2', 'GLT1D1', 'PITPNM2', 'EIF2AK3', 'HABP4', 'UST', 'GPATCH2L', 'MFAP1', 'DMXL2', 'ALKBH7', 'ZNF37A', 'STX6', 'UBE3D', 'KCNQ5', 'CPB2-AS1', 'BCKDHB', 'ADGRE5', 'MRTFB', 'AK9', 'ARMH1', 'UBL3', 'CPEB4', 'IDH1', 'RHBDD1', 'FKTN', 'UBA7', 'ZDHHC6', 'LMNA', 'LRP1', 'PRH1', 'MARCKS', 'SYTL2', 'HIPK3', 'ITGAM', 'ELL2', 'RILPL2', 'SPTLC2', 'IPMK', 'MLLT3', 'HIVEP3', 'MTERF4', 'C1orf56', 'SRGN', 'CPNE8', 'SLC25A25', 'SPIDR', 'CSTA', 'VOPP1', 'RPS27A', 'PLAC8', 'NUP50-DT', 'MFSD11', 'ARL13B', 'SFXN5', 'COG2', 'FBXO33', 'SOS2', 'VCAN', 'LRBA', 'RPL35A', 'MAST4', 'RNF115', 'TOGARAM1', 'C9orf85', 'ITGB7', 'MEF2C-AS1', 'TTC39C', 'CCDC141', 'RNF157', 'NFIA', 'RCN2', 'CCDC124', 'GALNT3', 'SLC25A13', 'XKR6', 'PALM2-AKAP2', 'OSBPL5', 'SRBD1', 'TMEM120B', 'VPS35L', 'TRIM25', 'PPARA', 'PRKACB', 'HDAC9', 'SRD5A1', 'C6orf89', 'TBC1D20', 'VKORC1L1', 'TMEM161B-AS1', 'DAPK1', 'FXN', 'IKZF3', 'ATG2A', 'FAM117B', 'MYO1E', 'SAT1', 'RFX2', 'TECPR1', 'SMARCAL1', 'EVI5', 'TMEM260', 'DUSP10', 'HIP1', 'NUMB', 'SLC25A12', 'MRPL1', 'SEPTIN11', 'TMEM164', 'EPB41L3', 'RPS6KA4', 'LINC00649', 'PIGL', 'AMN1', 'SAMD4A', 'CEACAM21', 'GABPB1', 'BLOC1S4', 'SDCCAG8', 'RORA', 'STMN3', 'APOBEC3A', 'TOR1B', 'CEP295', 'PRKN', 'PSTPIP2', 'ZNF43', 'MAN1A1', 'DDX58', 'USP37', 'DHRS7B', 'NCF1', 'BHLHE40', 'HEATR5A', 'IL4R', 'CBFA2T2', 'CYHR1', 'C9orf72', 'UFC1', 'CRISPLD2', 'VMP1', 'ZNF830', 'PTPN7', 'SASH1', 'ERCC3', 'CRTC3', 'TNFAIP3', 'YPEL2', 'TESPA1', 'AK5', 'YARS', 'CD68', 'NPL', 'ATP8A1', 'PPM1L', 'CSTB', 'MCM5', 'ENSA', 'EIF4G3', 'MAGED2', 'EIF4ENIF1', 'RPS25', 'TRIP4', 'CD86', 'EHBP1', 'MXI1', 'CCDC18', 'ID2', 'CEP78', 'SCIMP', 'GNAQ', 'ATP2B1', 'IGF2BP2', 'FBXL5', 'ANKRD36B', 'MPEG1', 'DNAJA1', 'IRF7', 'TAPT1-AS1', 'CDK14', 'GYPC', 'APOBEC3G', 'PTPRK', 'BRWD3', 'ZNF251', 'TSC22D2', 'LYZ', 'FCMR', 'SKAP1', 'GZMM', 'CD3E', 'GPCPD1', 'SCLY', 'CPEB3', 'VCPKMT', 'DNAJC17', 'PBX3', 'GBP4', 'C11orf80', 'NUBPL', 'CD247', 'GNS', 'NSUN6', 'ATAD2', 'PARP14', 'EXOSC8', 'CEBPD', 'PHTF1', 'MIR646HG', 'WWP2', 'ISCA1', 'MAF', 'PRR14L', 'TENT5C', 'RIN3', 'ZNF277', 'RHOQ', 'CREB5', 'GOLGA8A', 'SH3RF3', 'CCDC88A', 'DOCK7', 'NAA60', 'ADAM8', 'SLAMF6', 'ST3GAL6', 'PPM1K', 'ZMYND11', 'WARS', 'UBXN2A', 'PPP3CA', 'COTL1', 'RASGRP1', 'APP', 'PPCDC', 'B4GALT5', 'SEPTIN1', 'RPL32', 'FNDC3B', 'NUCB2', 'FCER2', 'CTNND1', 'RPS15A', 'EFL1', 'FCER1G', 'CD3D', 'DPH6', 'CDC14A', 'RIN2', 'MOB1B', 'NEGR1', 'ITK', 'IFRD1', 'CD27', 'AGO4', 'EXOSC3', 'ACTN1', 'S100A11', 'SPATS2L', 'KCNQ1OT1', 'BIRC3', 'TBC1D9', 'ATP6V0A1', 'ALOX5', 'NAE1', 'CASS4', 'GLCCI1', 'FBXO34', 'LYST', 'RHOH', 'AP4E1', 'UGGT2', 'CSNK1G3', 'NUAK2', 'FCHSD2', 'PDE8A', 'ACTR1B', 'AOPEP', 'MCCC1', 'GRAP2', 'CCDC167', 'NME7', 'TMED8', 'S100A9', 'PAK1', 'TRPS1', 'DRG1', 'SYNE1', 'RTN3', 'HSH2D', 'RNF6', 'SLC15A4', 'RPL10', 'AP3S2', 'NOL4L', 'TACC1', 'HRH2', 'LPAR1', 'CISH', 'AHNAK', 'ZMAT3', 'PDZD8', 'PLBD1', 'CD244', 'ACSL4', 'PDE5A', 'ZBTB38', 'ATF1', 'SCARB2', 'FCGR1A', 'CD96', 'NAA35', 'NR4A1', 'ABL1', 'GBE1', 'ZNF276', 'EEF1A1', 'CTSW', 'RSAD2', 'KLF12', 'IPO11', 'CCAR1', 'NDFIP1', 'C11orf49', 'IL21R', 'SLAMF7', 'GATA3', 'PYGL', 'ATG7', 'FUT8', 'NOD2', 'HLA-DRA', 'PLEKHA3', 'UBAP1', 'PKD2', 'PID1', 'BCL11B', 'SIMC1', 'RNF24', 'CFP', 'COG6', 'ABTB1', 'AP3M2', 'ARHGEF40', 'TCF7', 'SLC31A2', 'AGPAT4', 'PADI4', 'LCK', 'MAP2K1', 'HIVEP2', 'PPM1D', 'HEG1', 'ESR1', 'MIR4435-2HG', 'RALGAPA2', 'RPS2', 'TMCO4', 'POC1B', 'INPP4B', 'PRKCA', 'PLPP1', 'OSBPL10', 'XYLT1', 'SLF1', 'ST6GALNAC3', 'GRN', 'LRMDA', 'FAR2', 'RASGEF1B', 'ADAM28', 'WDR49', 'ITPKB', 'SGMS2', 'MRPS18B', 'IFIT2', 'ZBTB16', 'CTBP2', 'TFCP2', 'LIMD1', 'MCM9', 'SHISAL2A', 'WDFY3', 'PFKFB4', 'FLVCR2', 'GXYLT1', 'ZRANB3', 'BCR', 'DOCK4', 'RRAS2', 'RPS6KC1', 'NELL2', 'CD79B', 'CPED1', 'ARHGEF10L', 'TNRC6C', 'MTSS1', 'WDFY2', 'SMIM4', 'RASGRF2', 'SLC43A2', 'ALCAM', 'PIBF1', 'NLRP12', 'TRPC4AP', 'TTYH2', 'OFD1', 'FBXO28', 'TIAM1', 'SLC4A7', 'DHX34', 'LINC02245', 'PDE7A', 'IMP3', 'MEAF6', 'DIP2A', 'FOCAD', 'FLNB', 'NDUFV2-AS1', 'TYW1B', 'CCAR2', 'CFD', 'APBA2', 'TRERF1', 'PYHIN1', 'CDA', 'CNKSR2', 'CDK8', 'TC2N', 'ZNF654', 'LIMS1', 'TRIM52', 'EMILIN2', 'CALCOCO1', 'PRKAG2', 'SSR4', 'TMEM223', 'DPYD', 'NEK1', 'RPS18', 'ZSWIM8', 'TMEM192', 'INTS1', 'CLASRP', 'ALPK1', 'COX10-AS1', 'PKP4', 'ANKRD36C', 'C19orf53', 'LILRB2', 'MYC', 'FAM20B', 'ITM2A', 'SLC25A33', 'TTF1', 'ARMC1', 'CRTC1', 'HNMT', 'SH2D3C', 'SCLT1', 'CENPP', 'PDK1', 'SFMBT1', 'NFIL3', 'ZNF611', 'CASTOR3', 'EEPD1', 'KAT6B', 'ING5', 'MTMR3', 'DDX60L', 'LRRC28', 'PELI1', 'ORC5', 'MPP5', 'C1orf52', 'RUBCNL', 'MICAL3', 'RAB27A', 'CD36', 'MAPKAPK5-AS1', 'CD38', 'PATL2', 'UBE2E1', 'SLC9A9', 'PRMT9', 'SLC16A1-AS1', 'L3MBTL4', 'OAS3', 'PWWP3A', 'CALU', 'TLR2', 'LINC01550', 'ITGB1', 'RNF19B', 'DENND3', 'SUSD1', 'BMP2K', 'DZIP3', 'TTBK2', 'MAPK8', 'KIAA0355', 'MECP2', 'APOLD1', 'HACD3', 'TMEM144', 'MTX2', 'METTL15', 'IL1RAP', 'NBEAL1', 'LRRK2', 'LRRK1', 'AHR', 'FANCC', 'NAMPT', 'NBEAL2', 'CMSS1', 'GRIK1', 'ZNF827', 'S100Z', 'RPL23A', 'WDPCP', 'CDR2', 'MATK', 'SYNE2', 'TRAF1', 'KLRG1', 'STAM', 'DDX60', 'TDRD3', 'PIK3IP1', 'SLC2A13', 'IFITM1', 'SGK1', 'MICAL2', 'OSCAR', 'DPH5', 'SLFN12L', 'TRAK1', 'NOL11', 'FBN2', 'P2RX1', 'KMO', 'SLFN11', 'CCDC200', 'CXXC5', 'CRADD', 'POLD3', 'EGLN3', 'TPGS2', 'RTTN', 'JARID2', 'PCNX2', 'NFKBIZ', 'CAMK4', 'LDLR', 'OSBPL2', 'KIAA0825', 'SIL1', 'SNED1', 'AGAP3', 'ABAT', 'INPP5F', 'TMEM170B', 'MT2A', 'TRAPPC13', 'POP5', 'HMGXB4', 'HDAC8', 'CLIP4', 'ABCD2', 'PRKD2', 'NIPSNAP2', 'TPD52', 'PFN1', 'VRK1', 'ZNF75D', 'THEMIS', 'BCL2A1', 'GABPB1-AS1', 'HERC5', 'CD2', 'LY9', 'DNAJC24', 'AFG1L', 'C20orf194', 'SIK2', 'ATXN3', 'ITGB3BP', 'MIB1', 'RBL2', 'CIITA', 'PCSK5', 'LYN', 'CCSER1', 'RASSF1', 'CLMN', 'S100A4', 'HLA-DQB1', 'EFHD2', 'SRGAP2B', 'CMIP', 'CYFIP1', 'KLRK1', 'STX8', 'UVRAG', 'SLC35D1', 'SESN3', 'RGS2', 'KLHDC10', 'DTWD1', 'ASAP1', 'VEGFB', 'PNPT1', 'ATXN7L1', 'KIF13A', 'IFI44L', 'DYNLL1', 'TPMT', 'RAD17', 'ATP8B2', 'LGALS1', 'GPRIN3', 'FBXW8', 'LEF1', 'FAM117A', 'PTCD3', 'CTSZ', 'MEF2A', 'MAPKAPK2', 'PTAFR', 'LRRN3', 'RAB35', 'RGCC', 'GLUL', 'PACS1', 'MED31', 'IMMP1L', 'CPLANE1', 'TASOR', 'PHLDB3', 'SIRPB2', 'RPL19', 'ACTB', 'VIM-AS1', 'LRRC8B', 'HVCN1', 'INTS12', 'KLHL5', 'FASTKD1', 'SEC24A', 'SMS', 'FGGY', 'MAP3K20', 'PDE7B', 'ANKS1A', 'TSPAN5', 'NIPAL2', 'NR4A2', 'C12orf75', 'MYO9B', 'FCAR', 'ECHDC2', 'RELL1', 'STXBP5', 'DGKE', 'TMEM156', 'IFT80', 'SGK3', 'BCL6', 'UBASH3A', 'ARRDC2', 'BCAS3', 'DLEU2', 'DOP1B', 'ERN1', 'RPL31', 'NRIP1', 'TSC22D1', 'IRAK3', 'TYROBP', 'ABCA5', 'CST3', 'MICU1', 'ATG10', 'RNF130', 'ZCCHC10', 'HIST1H4C', 'TENT5A', 'CD81', 'HLA-DQA1', 'MOB3B', 'CHURC1', 'CD69', 'SLC4A8', 'UBE2E2', 'CDIPT', 'TRG-AS1', 'SLC17A5', 'CMTM8', 'KMT2B', 'PPP1R15B', 'GAB2', 'HPS5', 'HOPX', 'IL15RA', 'RPS6', 'ENOX2', 'LRRC25', 'TMCC1', 'BICDL1', 'SPECC1', 'ALMS1', 'GASK1B', 'PASK', 'ABCC4', 'MX2', 'SNTB1', 'RPS3', 'PLAGL1', 'CLIC4', 'POLA1', 'IFITM2', 'ZNF33B', 'SLAMF1', 'CARNMT1', 'STX7', 'EZH2', 'RAB11FIP1', 'TTLL5', 'ANKRD22', 'CAMK2D', 'ENTPD1-AS1', 'MS4A4E', 'ARHGAP21', 'HMGB2', 'SLX4IP', 'TAF4B', 'TYW5', 'SIRPG', 'RPAP2', 'RAPGEF2', 'CTDP1', 'SNRNP27', 'HIBCH', 'NCEH1', 'RIPK2', 'SEL1L3', 'B4GALT1', 'ARHGAP26', 'RABGEF1', 'ARHGEF11', 'LRSAM1', 'PRAG1', 'ARHGEF18', 'LRRFIP2', 'TMUB1', 'ABR', 'SPAST', 'PRKCQ', 'OXR1', 'HMGCS1', 'LUZP1', 'RRP12', 'PTPRJ', 'CD3G', 'VAV2', 'TUBA1A', 'TPT1', 'TPK1', 'DHPS', 'C19orf12', 'TNIK', 'TECPR2', 'MEGF9', 'CEP162', 'CDH23', 'NFAT5', 'IFT74', 'GPR171', 'KANSL1L', 'LINC00662', 'ZNF433-AS1', 'LTBP3', 'ZDHHC17', 'RHOC', 'SELL', 'NCAPD2', 'IRS2', 'CPVL', 'EPB41', 'STK3', 'ORC3', 'LMTK2', 'PIGN', 'TBC1D32', 'TMX4', 'RSU1', 'BTBD11', 'SMIM8', 'SAMSN1', 'ZNF331', 'SIK3', 'CUTC', 'PRF1', 'PLEKHA2', 'SMARCD1', 'TSHZ2', 'SUFU', 'PHLPP1', 'ICAM1', 'MYOF', 'PHF21A', 'MRPS9', 'RORA-AS1', 'RAB20', 'LINC00877', 'HLA-DRB5', 'REEP3', 'DAAM1', 'DCAF10', 'NLN', 'PACS2', 'GCNT2', 'LILRB3', 'NIPAL3', 'SLC10A7', 'NCF2', 'KDM5B', 'NKG7', 'ABHD12', 'ARL4C', 'ENOSF1', 'POLR3C', 'PLAUR', 'RNF144A', 'MCTP1', 'GALNT10', 'TRAT1', 'TEX10', 'EMD', 'APLP2', 'PUDP', 'RNASE6', 'ATP8B1', 'CD6', 'PRKCH', 'TRMT11', 'TET3', 'NCBP2AS2', 'XPNPEP3', 'LRRC37A3', 'SFI1', 'NLRP3', 'RTN1', 'LDHB', 'MYO1F', 'AKT3', 'ACVR2A', 'KSR1', 'CLUAP1', 'MCU', 'LYRM7', 'LY86', 'B3GNTL1', 'METTL8', 'PTPRM', 'SCMH1', 'UMAD1', 'CD74', 'IL7R', 'ABHD3', 'ODC1', 'CPPED1', 'LPCAT1']\n",
    "\n",
    "GRIPNet_Res = Run_GRIPNet(CD8_scRNA_DN_magic_ad, SID_train, SID_outsample, pbmc_3k_scATAC_Gene_Enhancer_CD8_psum, G_PPI_BioGrid, TF_Motif_Metric[2], TargetGenes = TGList, Lambda = 0.001)\n"
   ]
  },
  {
   "cell_type": "code",
   "execution_count": 22,
   "id": "80c2a459-6f81-4d8e-9123-eef0a5cc88ff",
   "metadata": {
    "tags": []
   },
   "outputs": [
    {
     "data": {
      "text/html": [
       "<div>\n",
       "<style scoped>\n",
       "    .dataframe tbody tr th:only-of-type {\n",
       "        vertical-align: middle;\n",
       "    }\n",
       "\n",
       "    .dataframe tbody tr th {\n",
       "        vertical-align: top;\n",
       "    }\n",
       "\n",
       "    .dataframe thead th {\n",
       "        text-align: right;\n",
       "    }\n",
       "</style>\n",
       "<table border=\"1\" class=\"dataframe\">\n",
       "  <thead>\n",
       "    <tr style=\"text-align: right;\">\n",
       "      <th></th>\n",
       "      <th>TG</th>\n",
       "      <th>TFs</th>\n",
       "      <th>Out_of_Sample MSE</th>\n",
       "    </tr>\n",
       "  </thead>\n",
       "  <tbody>\n",
       "    <tr>\n",
       "      <th>0</th>\n",
       "      <td>HIVEP1</td>\n",
       "      <td>[CREB5, ESR1, MYC, HIF1A, SMAD3, SPI1, MECP2, ...</td>\n",
       "      <td>0.005570</td>\n",
       "    </tr>\n",
       "    <tr>\n",
       "      <th>1</th>\n",
       "      <td>CYBB</td>\n",
       "      <td>[CREB5, ESR1, MECP2, RXRA, ESR2]</td>\n",
       "      <td>0.001383</td>\n",
       "    </tr>\n",
       "    <tr>\n",
       "      <th>2</th>\n",
       "      <td>ANKRD26</td>\n",
       "      <td>[CREB5, BCL6, ESR1, RELB, MECP2]</td>\n",
       "      <td>0.003954</td>\n",
       "    </tr>\n",
       "    <tr>\n",
       "      <th>3</th>\n",
       "      <td>IL32</td>\n",
       "      <td>[ESR1, FOXO1, MYC, FOXO3, CEBPD, SMAD3]</td>\n",
       "      <td>0.019185</td>\n",
       "    </tr>\n",
       "    <tr>\n",
       "      <th>4</th>\n",
       "      <td>ZC4H2</td>\n",
       "      <td>[ZEB1, TAF1, KLF4, KLF12, RUNX2, HLTF, PPARD, ...</td>\n",
       "      <td>0.011283</td>\n",
       "    </tr>\n",
       "    <tr>\n",
       "      <th>...</th>\n",
       "      <td>...</td>\n",
       "      <td>...</td>\n",
       "      <td>...</td>\n",
       "    </tr>\n",
       "    <tr>\n",
       "      <th>1760</th>\n",
       "      <td>IL7R</td>\n",
       "      <td>[CREB5, ESR1, KLF4, MYC, BCL6, ATF3, SMAD3, CE...</td>\n",
       "      <td>0.023530</td>\n",
       "    </tr>\n",
       "    <tr>\n",
       "      <th>1761</th>\n",
       "      <td>ABHD3</td>\n",
       "      <td>[ESR1, HIF1A, SMAD3, MECP2, CEBPB, RXRA, ESR2,...</td>\n",
       "      <td>0.005617</td>\n",
       "    </tr>\n",
       "    <tr>\n",
       "      <th>1762</th>\n",
       "      <td>ODC1</td>\n",
       "      <td>[MYC, ESR1, HIF1A, SMAD3, JUN, MECP2, CEBPB, E...</td>\n",
       "      <td>0.008130</td>\n",
       "    </tr>\n",
       "    <tr>\n",
       "      <th>1763</th>\n",
       "      <td>CPPED1</td>\n",
       "      <td>[MECP2, ESR2, FOXO1, TAF1, SPI1, KLF12, TFCP2,...</td>\n",
       "      <td>0.003918</td>\n",
       "    </tr>\n",
       "    <tr>\n",
       "      <th>1764</th>\n",
       "      <td>LPCAT1</td>\n",
       "      <td>[RXRA, NR4A1, ATF3, MYC, HIF1A, BACH1]</td>\n",
       "      <td>0.021217</td>\n",
       "    </tr>\n",
       "  </tbody>\n",
       "</table>\n",
       "<p>1765 rows × 3 columns</p>\n",
       "</div>"
      ],
      "text/plain": [
       "           TG                                                TFs  \\\n",
       "0      HIVEP1  [CREB5, ESR1, MYC, HIF1A, SMAD3, SPI1, MECP2, ...   \n",
       "1        CYBB                   [CREB5, ESR1, MECP2, RXRA, ESR2]   \n",
       "2     ANKRD26                   [CREB5, BCL6, ESR1, RELB, MECP2]   \n",
       "3        IL32            [ESR1, FOXO1, MYC, FOXO3, CEBPD, SMAD3]   \n",
       "4       ZC4H2  [ZEB1, TAF1, KLF4, KLF12, RUNX2, HLTF, PPARD, ...   \n",
       "...       ...                                                ...   \n",
       "1760     IL7R  [CREB5, ESR1, KLF4, MYC, BCL6, ATF3, SMAD3, CE...   \n",
       "1761    ABHD3  [ESR1, HIF1A, SMAD3, MECP2, CEBPB, RXRA, ESR2,...   \n",
       "1762     ODC1  [MYC, ESR1, HIF1A, SMAD3, JUN, MECP2, CEBPB, E...   \n",
       "1763   CPPED1  [MECP2, ESR2, FOXO1, TAF1, SPI1, KLF12, TFCP2,...   \n",
       "1764   LPCAT1             [RXRA, NR4A1, ATF3, MYC, HIF1A, BACH1]   \n",
       "\n",
       "      Out_of_Sample MSE  \n",
       "0              0.005570  \n",
       "1              0.001383  \n",
       "2              0.003954  \n",
       "3              0.019185  \n",
       "4              0.011283  \n",
       "...                 ...  \n",
       "1760           0.023530  \n",
       "1761           0.005617  \n",
       "1762           0.008130  \n",
       "1763           0.003918  \n",
       "1764           0.021217  \n",
       "\n",
       "[1765 rows x 3 columns]"
      ]
     },
     "execution_count": 22,
     "metadata": {},
     "output_type": "execute_result"
    }
   ],
   "source": [
    "GRIPNet_Res"
   ]
  },
  {
   "cell_type": "code",
   "execution_count": 23,
   "id": "6bf057cc-899d-4824-9430-45a0dc3bd41b",
   "metadata": {
    "tags": []
   },
   "outputs": [],
   "source": [
    "GRIPNet_Res.to_pickle('PBMC3K_CD8_GRIP_Gene1765_Result_Motifp1e-4_lambda1e-3_pho1e-4.pkl')"
   ]
  },
  {
   "cell_type": "code",
   "execution_count": null,
   "id": "ff28179a-6d47-4497-bfc5-10775d1c425b",
   "metadata": {},
   "outputs": [],
   "source": []
  },
  {
   "cell_type": "code",
   "execution_count": null,
   "id": "f77cda28-51cd-4488-a557-4b6b6f6cb454",
   "metadata": {},
   "outputs": [],
   "source": []
  },
  {
   "cell_type": "code",
   "execution_count": null,
   "id": "5eda56a9-b676-4c24-8f00-048a852efd18",
   "metadata": {},
   "outputs": [],
   "source": []
  },
  {
   "cell_type": "code",
   "execution_count": null,
   "id": "7cd21cfa-0a9f-4e62-b547-00e5816dc558",
   "metadata": {},
   "outputs": [],
   "source": []
  },
  {
   "cell_type": "code",
   "execution_count": null,
   "id": "4455f79b-8b92-475d-9bfc-15bd608464f7",
   "metadata": {},
   "outputs": [],
   "source": []
  },
  {
   "cell_type": "code",
   "execution_count": null,
   "id": "2cbb3f9d-a9bc-404a-866c-30ff53aa85b1",
   "metadata": {},
   "outputs": [],
   "source": []
  },
  {
   "cell_type": "code",
   "execution_count": null,
   "id": "fd3fd939-050e-4f5e-88c9-78bd038d8afc",
   "metadata": {},
   "outputs": [],
   "source": []
  },
  {
   "cell_type": "code",
   "execution_count": null,
   "id": "a955a8ea-eb54-453b-98e6-3ae9d600a951",
   "metadata": {},
   "outputs": [],
   "source": []
  },
  {
   "cell_type": "code",
   "execution_count": null,
   "id": "391595de-0a3a-42c6-9053-791a0f9645a0",
   "metadata": {},
   "outputs": [],
   "source": []
  },
  {
   "cell_type": "code",
   "execution_count": null,
   "id": "5bb0c4f3-e28e-4d48-95a3-e952db9b221c",
   "metadata": {},
   "outputs": [],
   "source": []
  },
  {
   "cell_type": "code",
   "execution_count": null,
   "id": "a33b123c-723d-4130-b32e-99f7eb6411d7",
   "metadata": {
    "tags": []
   },
   "outputs": [],
   "source": [
    "TGList = ['GNPTAB', 'MINK1', 'CAAP1', 'FGGY', 'CISH', 'PRIM2', 'DLG2', 'TTLL3', 'KLHL15', 'DNAJA1', 'SLC38A1', 'PPARD', 'LATS1', 'BLK', 'DDHD2', 'VPS45', 'N4BP2', 'KATNBL1', 'NEDD9', 'DUSP16', 'JARID2', 'DPP4', 'TGIF1', 'THEM4', 'CMIP', 'CREB5', 'MED19', 'PIK3CA', 'HEG1', 'IFT74', 'HSPA1A', 'SNX10', 'APLP2', 'TDP2', 'CD68', 'GSR', 'SELL', 'ZNF487', 'APC', 'SCNM1', 'IFITM1', 'MAP4K5', 'GCH1', 'PRDM1', 'POU2F1', 'ARAP2', 'IFI6', 'RCAN3', 'ZBTB16', 'BLOC1S4', 'KPNA5', 'PSMA1', 'GNB5', 'FLNB', 'CTDSPL2', 'VPS16', 'ITGA6', 'ASH2L', 'PIM1', 'NFRKB', 'HEATR3', 'CDIPT', 'KDM1B', 'NUP160', 'R3HDM1', 'MRPL28', 'SPECC1', 'CD5', 'RSPRY1', 'PHACTR4', 'LPCAT1', 'CCDC66', 'HOOK2', 'NFAM1', 'ANGPT2', 'NUDCD3', 'SIK3', 'PELI1', 'CTC1', 'TFEC', 'SSRP1', 'RPS6', 'SLAMF1', 'NFX1', 'NNT', 'FNDC3B', 'PTCD3', 'SPATA2L', 'CCND3', 'RIC8B', 'RPS15A', 'MTAP', 'MFHAS1', 'TMEM14B', 'AHNAK', 'RBM41', 'SNAPC5', 'INTS3', 'LRIG1', 'RMDN3', 'COQ7', 'UBA3', 'JAK2', 'CHD4', 'IL2RB', 'DGKA', 'SERTAD2', 'TSTD1', 'PTPRJ', 'ATP2B4', 'CSGALNACT1', 'C12orf57', 'ZRANB3', 'MRPL42', 'POLM', 'SNRK', 'PACS1', 'C11orf65', 'KCNQ1', 'ST6GAL1', 'HPS3', 'RPL31', 'SNAPC1', 'NUP107', 'SSBP3', 'CCDC167', 'MCM9', 'ABR', 'SLCO3A1', 'CEP68', 'ITGAE', 'PATL1', 'CHMP7', 'LRRC8C', 'AQP3', 'PDK1', 'LRP1', 'PRR5L', 'COA1', 'ING4', 'TTC39B', 'DCPS', 'ZDHHC5', 'SLC44A2', 'METTL21A', 'TET3', 'UBASH3B', 'CCAR2', 'IGF1R', 'ATXN1', 'CSPP1', 'FCER2', 'TESK2', 'LEPROTL1', 'IFT88', 'RIN3', 'DOCK8', 'ICAM1', 'TNFRSF1B', 'PIK3IP1', 'PRKCQ-AS1', 'SENP1', 'SCML4', 'CEACAM21', 'TNFAIP3', 'MCM3', 'LRRC23', 'TIPARP', 'HIVEP1', 'PSIP1', 'IMP3', 'IL21R', 'ITGAX', 'COTL1', 'SIK2', 'ZNF263', 'RBM10', 'SEH1L', 'TNIK', 'RPS14', 'INPP5K', 'RPS27', 'IL7R', 'CDC42EP3', 'ACTB', 'NUP43', 'PLIN2', 'ATP8A1', 'METTL16', 'TRERF1', 'SREK1IP1', 'TRABD2A', 'RHOH', 'ZMAT3', 'TBC1D14', 'HLA-DMB', 'BTBD2', 'APH1B', 'PIGL', 'AHR', 'COX10', 'FCGR2A', 'LCMT1', 'TTC4', 'TNFRSF10A', 'RELL1', 'LPCAT3', 'UXS1', 'COMMD9', 'ZBTB38', 'SYNE2', 'RPL3', 'CAMK1D', 'DHRS3', 'ODC1', 'NFATC2IP', 'NVL', 'IL4R', 'SLC30A7', 'LITAF', 'RPS26', 'TMEM238', 'AP4E1', 'PSMD6-AS2', 'VOPP1', 'ARHGEF11', 'SOS2', 'CD55', 'TDRD3', 'RAI1', 'UBE2E3', 'NUBPL', 'CD3E', 'KIF16B', 'CD247', 'AOAH', 'MT1X', 'DHRS4-AS1', 'ZNF789', 'SLC25A42', 'GATAD2B', 'E2F3', 'MAPKAPK2', 'ITGB1', 'MLLT3', 'GSE1', 'GBP5', 'ANKH', 'COG4', 'DHRS7B', 'NUAK2', 'RNF144A', 'HIVEP2', 'EZH2', 'SREBF1', 'CCND2', 'LAP3', 'BIRC3', 'OARD1', 'FGD2', 'CHIC2', 'CHPT1', 'FARS2', 'EMG1', 'RRM1', 'APBB1', 'CD27', 'LCORL', 'TMEM106B', 'ZFYVE28', 'TBL1X', 'RPS3', 'S100A4', 'IL6ST', 'LUZP1', 'ATR', 'UFC1', 'LY9', 'MPHOSPH9', 'SECISBP2L', 'HMGCS1', 'CX3CR1', 'ARHGEF18', 'FOXO1', 'DUSP6', 'SPTBN1', 'SFMBT2', 'LDLRAD4', 'DDX55', 'B4GALT1', 'RAB35', 'ATP13A1', 'UVSSA', 'TRNAU1AP', 'C9orf72', 'NUMB', 'RNF31', 'ITFG2', 'LIMK2', 'SLAMF7', 'SNX2', 'RCL1', 'RAB28', 'ETS1', 'RALGPS2', 'CBFB', 'VPS26B', 'NUP153', 'APOLD1', 'MPV17', 'GPATCH4', 'CLEC7A', 'GINM1', 'SYTL2', 'ENSA', 'CTNND1', 'ZFX', 'FTL', 'NFKBIZ', 'TFRC', 'SLC35E3', 'WBP1', 'GNL1', 'SIAH1', 'APBA2', 'FHIT', 'SESN3', 'WDR59', 'HLA-DRA', 'NXPE3', 'P2RX1', 'MCPH1', 'CD69', 'CD6', 'APIP', 'SLC12A6', 'KRI1', 'CDR2', 'LMNA', 'GPCPD1', 'FOS', 'GLCCI1', 'HK2', 'ARHGAP5', 'VCPKMT', 'TXK', 'ITPKB', 'MCCC1', 'BHLHE40', 'TRDMT1', 'NCAPD2', 'SUPT3H', 'TMEM204', 'PRMT3', 'CREBL2', 'MLH1', 'SERPINB9', 'MYLIP', 'DUS2', 'NPAT', 'AP3M2', 'DHX16', 'RBL2', 'NEAT1', 'SPTY2D1', 'SLMAP', 'RRBP1', 'STK17A', 'PEX1', 'SLAMF6', 'PAM16', 'TRANK1']\n",
    "\n",
    "\n",
    "GRIPNet_Res = Run_GRIPNet(CD4_scRNA_DN_magic_ad, SID_train, SID_outsample, pbmc_3k_scATAC_Gene_Enhancer_CD4_psum, G_PPI_BioGrid, TF_Motif_Metric[2], TargetGenes = TGList)"
   ]
  },
  {
   "cell_type": "code",
   "execution_count": null,
   "id": "4f3b4159-08a5-4258-b6d0-a22e159a3cad",
   "metadata": {
    "tags": []
   },
   "outputs": [],
   "source": [
    "GRIPNet_Res, = Run_GRIPNet(CD4_scRNA_DN_magic_ad, SID_train, SID_outsample, pbmc_3k_scATAC_Gene_Enhancer_CD4_psum, G_PPI_BioGrid, TF_Motif_Metric[1], TargetGenes = TGList)"
   ]
  },
  {
   "cell_type": "code",
   "execution_count": null,
   "id": "b126b770-93fc-42b1-a04c-765dc1304b11",
   "metadata": {},
   "outputs": [],
   "source": [
    "Gene_in_CD4_scRNA.index('TMLHE-AS1')"
   ]
  },
  {
   "cell_type": "code",
   "execution_count": null,
   "id": "cb9a72aa-acaf-4f6c-997a-8a2034b92431",
   "metadata": {
    "tags": []
   },
   "outputs": [],
   "source": [
    "Fname = \"./CD4_GRIP_Result_Tmp.txt\"\n",
    "\n",
    "GRIPNet_DF = pd.DataFrame(columns=['TG', 'TFs', 'Out_of_Sample MSE'])\n",
    "fh = open(Fname, 'r')\n",
    "for line in fh:\n",
    "    linet = line.strip().split(' ')\n",
    "    if linet[0] == 'Fail':\n",
    "        continue\n",
    "    else:\n",
    "        TT = line.split(' ')\n",
    "        Str = ''\n",
    "        for i in range(2, len(TT)-1):\n",
    "            #print(TT[i])\n",
    "            Str = Str + TT[i]\n",
    "        TFList = eval(Str)\n",
    "        #print(linet[-1])\n",
    "        GRIPNet_DF = GRIPNet_DF._append({'TG': linet[0], 'TFs': TFList, 'Out_of_Sample MSE': float(linet[-1])}, ignore_index=True)\n",
    "\n",
    "        \n"
   ]
  },
  {
   "cell_type": "code",
   "execution_count": null,
   "id": "ef94eb90-2b11-4e05-86b2-b250bb0f3b4b",
   "metadata": {
    "tags": []
   },
   "outputs": [],
   "source": [
    "GRIPNet_DF"
   ]
  },
  {
   "cell_type": "code",
   "execution_count": null,
   "id": "66f0e28d-4ace-4d2b-a8b0-00b157f423dd",
   "metadata": {
    "tags": []
   },
   "outputs": [],
   "source": [
    "Fname = \"./CD4_GRIP_Result_Motifp1e-4_lambda1e-4_pho1e-4.txt\"\n",
    "\n",
    "GRIPNet_DF = pd.DataFrame(columns=['TG', 'TFs', 'Out_of_Sample MSE'])\n",
    "fh = open(Fname, 'r')\n",
    "for line in fh:\n",
    "    linet = line.strip().split(' ')\n",
    "    if linet[0] == 'Fail':\n",
    "        continue\n",
    "    else:\n",
    "        TT = line.split(' ')\n",
    "        Str = ''\n",
    "        for i in range(2, len(TT)-1):\n",
    "            #print(TT[i])\n",
    "            Str = Str + TT[i]\n",
    "        TFList = eval(Str)\n",
    "        #print(linet[-1])\n",
    "        GRIPNet_DF = GRIPNet_DF._append({'TG': linet[0], 'TFs': TFList, 'Out_of_Sample MSE': float(linet[-1])}, ignore_index=True)\n",
    "\n",
    "        "
   ]
  },
  {
   "cell_type": "code",
   "execution_count": null,
   "id": "969a9d54-26a3-455f-97c1-8a308e29486f",
   "metadata": {
    "tags": []
   },
   "outputs": [],
   "source": [
    "GRIPNet_DF"
   ]
  },
  {
   "cell_type": "code",
   "execution_count": null,
   "id": "f0a064df-673f-4994-8f21-54c129b99dad",
   "metadata": {
    "tags": []
   },
   "outputs": [],
   "source": [
    "GRIPNet_DF.to_pickle('PBMC3K_CD4_GRIP_Result_Motifp1e-4_lambda1e-4_pho1e-4.pkl')"
   ]
  },
  {
   "cell_type": "code",
   "execution_count": null,
   "id": "5ad587a2-0851-4239-9b69-9e1bd2bd93e2",
   "metadata": {
    "tags": []
   },
   "outputs": [],
   "source": [
    "TF_Inferred = list(set(itertools.chain.from_iterable(GRIPNet_DF['TFs'].tolist())))\n",
    "print(len(TF_Inferred))"
   ]
  },
  {
   "cell_type": "code",
   "execution_count": null,
   "id": "46a02314-f67e-4779-85b8-6ae66881b30d",
   "metadata": {
    "tags": []
   },
   "outputs": [],
   "source": [
    "GRIPNet_DF.to_pickle('PBMC3K_CD4_GRIP_Result.pkl')"
   ]
  },
  {
   "cell_type": "code",
   "execution_count": null,
   "id": "804a0f2f-77cd-454a-a504-00eaee0bc854",
   "metadata": {},
   "outputs": [],
   "source": []
  },
  {
   "cell_type": "code",
   "execution_count": null,
   "id": "79a4a8f1-ce62-40ba-aa5d-3bd27f9b1f3c",
   "metadata": {},
   "outputs": [],
   "source": []
  },
  {
   "cell_type": "code",
   "execution_count": null,
   "id": "eac2274d-bf06-45bf-90e3-e20e1a13ca31",
   "metadata": {},
   "outputs": [],
   "source": []
  },
  {
   "cell_type": "code",
   "execution_count": null,
   "id": "29d07609-eb1e-4be1-8708-3055f441674e",
   "metadata": {},
   "outputs": [],
   "source": []
  },
  {
   "cell_type": "code",
   "execution_count": null,
   "id": "c9c2deb0-13d5-4c94-a224-f58e2af232d2",
   "metadata": {},
   "outputs": [],
   "source": []
  },
  {
   "cell_type": "code",
   "execution_count": null,
   "id": "0340d72b-ff7d-4a0f-8a56-6996e1499c20",
   "metadata": {},
   "outputs": [],
   "source": []
  },
  {
   "cell_type": "code",
   "execution_count": null,
   "id": "0b948770-3a85-445b-93fe-d60f9cfc9e03",
   "metadata": {},
   "outputs": [],
   "source": []
  },
  {
   "cell_type": "code",
   "execution_count": null,
   "id": "55bb020f-9c40-4f60-85bf-3e4c1fcb25b8",
   "metadata": {},
   "outputs": [],
   "source": []
  },
  {
   "cell_type": "code",
   "execution_count": null,
   "id": "8c373736-b56c-4ff2-8343-f1c558cb7db6",
   "metadata": {},
   "outputs": [],
   "source": []
  },
  {
   "cell_type": "code",
   "execution_count": null,
   "id": "2f97354c-8cca-4484-95e0-dc09d94f26ee",
   "metadata": {
    "tags": []
   },
   "outputs": [],
   "source": [
    "Tmp_Input = pbmc_3k_scATAC_Gene_Enhancer_CD4_psum[pbmc_3k_scATAC_Gene_Enhancer_CD4_psum['Genes_within_250k'].apply(lambda x: any(gene in x for gene in ['RPS27']))].reset_index()\n",
    "\n"
   ]
  },
  {
   "cell_type": "code",
   "execution_count": null,
   "id": "be1ddf1b-4102-4c15-94b7-eb26c42e3d52",
   "metadata": {
    "tags": []
   },
   "outputs": [],
   "source": [
    "Tmp_Input"
   ]
  },
  {
   "cell_type": "code",
   "execution_count": null,
   "id": "5d71efe4-ff97-4c4b-bd4c-841cedcbbee2",
   "metadata": {},
   "outputs": [],
   "source": []
  },
  {
   "cell_type": "code",
   "execution_count": null,
   "id": "340fec62-8cf6-45ab-a811-d27114ac24c2",
   "metadata": {},
   "outputs": [],
   "source": []
  },
  {
   "cell_type": "code",
   "execution_count": null,
   "id": "b9fb473c-7510-456e-a807-045e40aa519e",
   "metadata": {},
   "outputs": [],
   "source": []
  },
  {
   "cell_type": "code",
   "execution_count": null,
   "id": "5c3526e4-3658-4ca7-b2bc-5dc2590d737c",
   "metadata": {},
   "outputs": [],
   "source": []
  },
  {
   "cell_type": "code",
   "execution_count": null,
   "id": "63a4c44c-253a-4ada-a6c9-3eabb101b022",
   "metadata": {},
   "outputs": [],
   "source": []
  },
  {
   "cell_type": "code",
   "execution_count": null,
   "id": "4c4e0fd4-4550-4134-835d-f574ee60109d",
   "metadata": {},
   "outputs": [],
   "source": []
  },
  {
   "cell_type": "code",
   "execution_count": null,
   "id": "fcb002b5-c3bb-4ba5-bf4d-2a73b3f763cd",
   "metadata": {},
   "outputs": [],
   "source": []
  },
  {
   "cell_type": "markdown",
   "id": "3598e48a-e5ec-41c0-bc93-ba8198edbce3",
   "metadata": {},
   "source": [
    "## 1.3 Load PCHiC ground truth and trim to CD4"
   ]
  },
  {
   "cell_type": "code",
   "execution_count": null,
   "id": "45e76fd6-f679-4c59-8e78-a5b840c263fc",
   "metadata": {
    "tags": []
   },
   "outputs": [],
   "source": [
    "#load the data\n",
    "PCHiC_Overlap_Pbmc_3k_AllOP = pd.read_pickle('../../Data/GroundTruth/pbmc_3k_PCHiC/PCHiC_Overlap_Pbmc_3k_ATAC_All_OpenRegion.pkl')\n"
   ]
  },
  {
   "cell_type": "code",
   "execution_count": null,
   "id": "b06f82e9-a1d0-469e-b8a8-fe6fc3fed60a",
   "metadata": {
    "tags": []
   },
   "outputs": [],
   "source": [
    "PCHiC_Overlap_Pbmc_3k_AllOP"
   ]
  },
  {
   "cell_type": "code",
   "execution_count": null,
   "id": "76ca9ec2-dd28-4280-a87d-271e4e0d4acd",
   "metadata": {
    "tags": []
   },
   "outputs": [],
   "source": [
    "print(list(PCHiC_Overlap_Pbmc_3k_AllOP.columns)[-15:])"
   ]
  },
  {
   "cell_type": "code",
   "execution_count": null,
   "id": "50cdb4b7-0529-485e-abf4-aa909805841d",
   "metadata": {
    "tags": []
   },
   "outputs": [],
   "source": [
    "Df_tmp = PCHiC_Overlap_Pbmc_3k_AllOP[['chr_position', 'nCD4', 'baitNameList', 'oeChr', 'oeStart', 'oeEnd', 'Hit']]\n",
    "Df_tmp = Df_tmp[Df_tmp['nCD4']>=5]\n",
    "CD4_PCHiC = Df_tmp[Df_tmp['Hit']>=1]"
   ]
  },
  {
   "cell_type": "code",
   "execution_count": null,
   "id": "8e929817-6acb-430e-981e-1711128772b3",
   "metadata": {
    "tags": []
   },
   "outputs": [],
   "source": [
    "CD4_PCHiC"
   ]
  },
  {
   "cell_type": "code",
   "execution_count": null,
   "id": "1167cde6-8578-4480-9660-3f02c62f7942",
   "metadata": {
    "tags": []
   },
   "outputs": [],
   "source": [
    "Gene_in_PCHiC = DF_Column_to_List(CD4_PCHiC, 'baitNameList')\n",
    "print(len(Gene_in_PCHiC))"
   ]
  },
  {
   "cell_type": "code",
   "execution_count": null,
   "id": "67cbf59a-55a4-41e8-a270-2f08442d5cc1",
   "metadata": {
    "tags": []
   },
   "outputs": [],
   "source": [
    "OP_Overlap_PCHiC = DF_Column_to_List(CD4_PCHiC, 'chr_position')\n",
    "print(len(OP_Overlap_PCHiC))\n",
    "\n",
    "Gene_with_GT = list()\n",
    "for op in OP_Overlap_PCHiC:\n",
    "    Gene_with_GT.append(op.split('_')[0])"
   ]
  },
  {
   "cell_type": "code",
   "execution_count": null,
   "id": "04baa779-1472-403e-9b6b-8f85dc7e70b3",
   "metadata": {
    "tags": []
   },
   "outputs": [],
   "source": [
    "Gene_in_CD4_scATAC_scRNA_PCHiC = list(set(Gene_with_GT) & set(Gene_in_CD4_scATAC_scRNA))\n",
    "print('Gene appears in both scRNA, scATAC, and PCHiC is', len(Gene_in_CD4_scATAC_scRNA_PCHiC))"
   ]
  },
  {
   "cell_type": "code",
   "execution_count": null,
   "id": "3662f520-30b5-440a-b4d7-714e8f80f049",
   "metadata": {},
   "outputs": [],
   "source": []
  },
  {
   "cell_type": "markdown",
   "id": "bbd4001b-e7d6-421c-aaad-ac308b952ace",
   "metadata": {
    "tags": []
   },
   "source": [
    "## 1.4 Load PPI"
   ]
  },
  {
   "cell_type": "code",
   "execution_count": null,
   "id": "2fdd8893-8577-4b4c-b112-0f01a880b095",
   "metadata": {},
   "outputs": [],
   "source": [
    "G_PPI_BioGrid = pickle.load(open('../../Data/PPI/PPI_BioGrid_Evd2_DSD.pickle', 'rb'))\n",
    "print(\"The PPI netowrk has\", len(G_PPI_BioGrid.nodes), \"nodes and\", len(G_PPI_BioGrid.edges), \"edges\")"
   ]
  },
  {
   "cell_type": "code",
   "execution_count": null,
   "id": "cfcfec4b-2d84-44ef-a6b7-737c1ce38182",
   "metadata": {},
   "outputs": [],
   "source": []
  },
  {
   "cell_type": "markdown",
   "id": "563b77d9-8a0e-4503-a108-4577d347b56f",
   "metadata": {},
   "source": [
    "# 2. Prepare data for Alg."
   ]
  },
  {
   "cell_type": "code",
   "execution_count": null,
   "id": "d4d55d44-5c76-48da-a9e4-3a8867b84333",
   "metadata": {
    "tags": []
   },
   "outputs": [],
   "source": [
    "Gene_scRNA = CD4_scRNA_DN_magic_ad.var.index.tolist()\n",
    "print(len(Gene_scRNA))\n",
    "\n",
    "# intersection between genes in scRNA and PCHiC ground truth\n",
    "Gene_Validate = Gene_in_CD4_scATAC_scRNA_PCHiC\n",
    "\n",
    "print(\"We focus on\", len(Gene_Validate), \"genes\")"
   ]
  },
  {
   "cell_type": "code",
   "execution_count": null,
   "id": "ed4bf0ab-1912-49e6-9968-eb09fd3d5503",
   "metadata": {
    "tags": []
   },
   "outputs": [],
   "source": [
    "TargetG = Gene_Validate[1]\n",
    "print(TargetG)"
   ]
  },
  {
   "cell_type": "code",
   "execution_count": null,
   "id": "8f174e55-2090-436b-9950-1c7cae38a308",
   "metadata": {
    "tags": []
   },
   "outputs": [],
   "source": [
    "Gene_with_GT = list()\n",
    "Map_Gene_GTOpenR = {}\n",
    "for i in range(len(Gene_Validate)):\n",
    "    GL = [Gene_Validate[i]]\n",
    "    #print(GL)\n",
    "    Tmp_Input = pbmc_3k_scATAC_Gene_Enhancer_CD4_psum[pbmc_3k_scATAC_Gene_Enhancer_CD4_psum['Genes_within_250k'].apply(lambda x: any(gene in x for gene in GL))].reset_index()\n",
    "\n",
    "    Tmp_GT = CD4_PCHiC[CD4_PCHiC['baitNameList'].apply(lambda x: any(gene in x for gene in GL))].reset_index()\n",
    "    \n",
    "    GTtmp =  Tmp_GT['chr_position'].tolist()\n",
    "    Input_tmp = Tmp_Input['chr_position'].tolist()\n",
    "\n",
    "    NumGT = 0\n",
    "    OPList = list()\n",
    "    for tt in GTtmp:\n",
    "        tsp = tt[0].split('_', 1)\n",
    "        chrp = tsp[1]#+'_'+tsp[2]+'_'+tsp[3]\n",
    "        #print(tsp, chrp)\n",
    "        if tsp[0] == GL[0] and chrp in Input_tmp:\n",
    "            NumGT = NumGT + 1\n",
    "            OPList.append(chrp)\n",
    "    \n",
    "    if NumGT > 0:\n",
    "        Gene_with_GT.append(GL[0])\n",
    "        Map_Gene_GTOpenR[GL[0]] = list(set(OPList))\n",
    "        print(GL[0], \"Num OP is\", Tmp_Input.shape[0], \"Num GT in those OP is\", len(set(OPList)))\n",
    "\n"
   ]
  },
  {
   "cell_type": "code",
   "execution_count": null,
   "id": "c14bf207-2dda-4290-8e14-e77e917ebc23",
   "metadata": {
    "tags": []
   },
   "outputs": [],
   "source": [
    "print(list(Map_Gene_GTOpenR.keys()))\n"
   ]
  },
  {
   "cell_type": "code",
   "execution_count": null,
   "id": "a90a17fa-baec-4154-aa22-2faba3bfafe3",
   "metadata": {},
   "outputs": [],
   "source": [
    "# Set up Objective Function\n",
    "funObj = lambda w: L0GLObj(w, X, y, pho)\n",
    "\n",
    "funObj_PPI = lambda w: L0GL_PPI_Obj(w, X, y, S, pho, lamb)\n",
    "\n",
    "# Set up Simplex Projection Function\n",
    "funProj = lambda w: ProjCSimplex(w, k)\n",
    "\n",
    "funProj_GL = lambda w: ProjCSimplexGL_Gurobi(w, k, Group, h)\n",
    "\n",
    "funProj_GL_LB = lambda w: ProjCSimplexGL_Gurobi_LB(w, k, Group, h)"
   ]
  },
  {
   "cell_type": "code",
   "execution_count": null,
   "id": "e3d0c21b-5c76-4384-b9b4-62e9df26acac",
   "metadata": {
    "tags": []
   },
   "outputs": [],
   "source": [
    "ColSelect = 'TF_Matching_p-value_1e-05'\n",
    "lamb = 0.01\n",
    "pho = 0.01#np.sqrt(NumSample)\n",
    "h = 1\n",
    "#Group = [range(NumFeature)]#GroupInd#\n",
    "options = {'maxIter': 400, 'verbose': 0}\n",
    "\n",
    "Num_Our_better = 0\n",
    "for gt in Gene_with_GT:\n",
    "    GL = [gt]\n",
    "    TF_Group, TmpInput = Get_TFs_in_Data_noPrint(gt, pbmc_3k_scATAC_Gene_Enhancer_CD4_psum, ColSelect, Map_Gene_GTOpenR, Gene_scRNA)\n",
    "    \n",
    "    TFList_ = list(set(list(itertools.chain.from_iterable(TF_Group))))#DF_Column_to_List(Tmp_Input, ColSelect)\n",
    "    TFList_in_Data = list(set(TFList_) & set(Gene_scRNA))\n",
    "    \n",
    "    NumFeature = len(TFList_in_Data)\n",
    "    NumSample = CD4_scRNA_DN_magic_ad[:,TFList_in_Data].X.shape[0]\n",
    "    Group = [range(NumFeature)]\n",
    "    #print(NumFeature)\n",
    "\n",
    "    # Input data\n",
    "    Xt = CD4_scRNA_DN_magic_ad[:,TFList_in_Data].X\n",
    "    yt = CD4_scRNA_DN_magic_ad[:,GL].X\n",
    "    SampleIDs = CD4_scRNA_DN_magic_ad[:,TFList_in_Data].obs.index.tolist()\n",
    "\n",
    "    uSimplex = np.ones((NumFeature, 1)) * (1 / NumFeature)\n",
    "    #print(uSimplex.shape)\n",
    "\n",
    "    S =  Short_Path_DSD_Matrix(G_PPI_BioGrid, TFList_in_Data)#Short_Path_Matrix(G_PPI_BioGrid, TFList_in_Data)\n",
    "\n",
    "    LSE_Tmp_TFGraph = np.zeros(5)\n",
    "    LSE_Tmp_No_TFGraph = np.zeros(5)\n",
    "    k = 4#int(0.1*NumFeature)\n",
    "    for t in range(5):\n",
    "        X, y, X_outsample, y_outsample, _, _ = Split_Sample(Xt, yt, SampleIDs, 0.9)\n",
    "    \n",
    "        # parameters that can be changed\n",
    "        lamb = 0.01\n",
    "        \n",
    "        uout, obj, _ = minConF_PQN(funObj_PPI, uSimplex, funProj_GL_LB, options)\n",
    "    \n",
    "        uout_ppi, zout_ppi = ProjCSimplexGL_Gurobi_LB_v2(uout, k, Group, h)\n",
    "        #print(zout_ppi.flatten())\n",
    "        SelectID = Extract_Solution(uout_ppi, zout_ppi, Group, k, h)\n",
    "        \n",
    "        ut = np.zeros((NumFeature,1))\n",
    "        ut[SelectID,0] = 1.0\n",
    "\n",
    "        ObjF, _  = L0GL_PPI_Obj(ut, X, y, S, pho, lamb)\n",
    "        #print(\"Obj:\", ObjF)\n",
    "        #print(\"Short Dis;\", ut.T@S@ut)\n",
    "\n",
    "\n",
    "        XSelect = X[:,SelectID]\n",
    "        w_est = np.linalg.pinv(XSelect.T @ XSelect + pho*np.eye(len(SelectID))) @ XSelect.T @ y\n",
    "        #print(TF_Select)\n",
    "        #print(np.abs(w_est.flatten()))\n",
    "\n",
    "        X_outsample_select = X_outsample[:, SelectID]\n",
    "        LSE_Tmp_TFGraph[t] = np.linalg.norm(y_outsample - X_outsample_select @ w_est)\n",
    "    \n",
    "        # parameters that can be changed\n",
    "        lamb = 0.0\n",
    "    \n",
    "        uout, obj, _ = minConF_PQN(funObj_PPI, uSimplex, funProj_GL_LB, options)\n",
    "    \n",
    "        uout_ppi, zout_ppi = ProjCSimplexGL_Gurobi_LB_v2(uout, k, Group, h)\n",
    "        #print(zout_ppi.flatten())\n",
    "        SelectID = Extract_Solution(uout_ppi, zout_ppi, Group, k, h)\n",
    "        \n",
    "        ut = np.zeros((NumFeature,1))\n",
    "        ut[SelectID,0] = 1.0\n",
    "\n",
    "        ObjF, _  = L0GL_PPI_Obj(ut, X, y, S, pho, lamb)\n",
    "        #print(\"Obj:\", ObjF)\n",
    "        #print(\"Short Dis;\", ut.T@S@ut)\n",
    "\n",
    "\n",
    "        XSelect = X[:,SelectID]\n",
    "        w_est = np.linalg.pinv(XSelect.T @ XSelect + pho*np.eye(len(SelectID))) @ XSelect.T @ y\n",
    "        #print(TF_Select)\n",
    "        #print(np.abs(w_est.flatten()))\n",
    "\n",
    "        X_outsample_select = X_outsample[:, SelectID]\n",
    "        LSE_Tmp_No_TFGraph[t] = np.linalg.norm(y_outsample - X_outsample_select @ w_est)\n",
    "    \n",
    "\n",
    "    if np.mean(LSE_Tmp_TFGraph) >= np.mean(LSE_Tmp_No_TFGraph):\n",
    "        print('-', gt, np.mean(LSE_Tmp_TFGraph), np.std(LSE_Tmp_TFGraph),  np.mean(LSE_Tmp_No_TFGraph), np.std(LSE_Tmp_No_TFGraph))\n",
    "    else:\n",
    "        print('+', gt, np.mean(LSE_Tmp_TFGraph), np.std(LSE_Tmp_TFGraph),  np.mean(LSE_Tmp_No_TFGraph), np.std(LSE_Tmp_No_TFGraph))\n",
    "    \n",
    "    \n",
    "    if np.mean(LSE_Tmp_TFGraph) < np.mean(LSE_Tmp_No_TFGraph):\n",
    "        Num_Our_better = Num_Our_better + 1\n",
    "\n",
    "print(Num_Our_better,\" out of \", len(Gene_with_GT), \"our new model is better!\")"
   ]
  },
  {
   "cell_type": "code",
   "execution_count": null,
   "id": "d66c1a79-e6e0-4392-8f6b-f4c49e502dd3",
   "metadata": {
    "tags": []
   },
   "outputs": [],
   "source": [
    "TG = 'TIPARP'\n",
    "ColSelect = 'TF_Matching_p-value_1e-05'\n",
    "\n",
    "GL = [TG]\n",
    "\n",
    "TF_Group, TmpInput = Get_TFs_in_Data(TG, pbmc_3k_scATAC_Gene_Enhancer_CD4_psum, ColSelect, Map_Gene_GTOpenR, Gene_scRNA)\n",
    "#print(TF_Group)\n",
    "\n",
    "TFList_ = list(set(list(itertools.chain.from_iterable(TF_Group))))#DF_Column_to_List(Tmp_Input, ColSelect)\n",
    "TFList_in_Data = list(set(TFList_) & set(Gene_scRNA))\n",
    "print(TFList_)\n",
    "print(TFList_in_Data)\n",
    "\n",
    "GroupInd = Group_Ind(TFList_in_Data, TF_Group)\n",
    "#print(GroupInd)\n",
    "\n",
    "{'CEBPD', 'FOS', 'KLF4'}"
   ]
  },
  {
   "cell_type": "code",
   "execution_count": null,
   "id": "581dad4f-b477-46ce-a3d6-2b5b57189562",
   "metadata": {
    "tags": []
   },
   "outputs": [],
   "source": [
    "NumFeature = len(TFList_in_Data)\n",
    "NumSample = CD4_scRNA_DN_magic_ad[:,TFList_in_Data].X.shape[0]\n",
    "print(NumFeature)\n",
    "\n",
    "# Input data\n",
    "Xt = CD4_scRNA_DN_magic_ad[:,TFList_in_Data].X\n",
    "yt = CD4_scRNA_DN_magic_ad[:,GL].X\n",
    "SampleIDs = CD4_scRNA_DN_magic_ad[:,TFList_in_Data].obs.index.tolist()\n",
    "\n",
    "X, y, X_outsample, y_outsample, SampleID_train, SampleID_outofsample = Split_Sample(Xt, yt, SampleIDs, 0.9)\n",
    "\n",
    "uSimplex = np.ones((NumFeature, 1)) * (1 / NumFeature)\n",
    "print(uSimplex.shape)\n",
    "\n",
    "S =  Short_Path_DSD_Matrix(G_PPI_BioGrid, TFList_in_Data)#Short_Path_Matrix(G_PPI_BioGrid, TFList_in_Data)\n",
    "#ShortPath = ShorestPath_GivenTFs(G_PPI_BioGrid, TFList_in_Data, \"TestShortPath.txt\")\n",
    "print(S.shape)"
   ]
  },
  {
   "cell_type": "code",
   "execution_count": null,
   "id": "43e3c57f-7ba6-4a67-97e3-f544237b0e9f",
   "metadata": {
    "tags": []
   },
   "outputs": [],
   "source": [
    "fig, ax = plt.subplots(figsize=(15, 15))\n",
    "plt.imshow(S, cmap='hot')\n",
    "plt.xticks(range(len(TFList_in_Data)), TFList_in_Data)\n",
    "plt.colorbar()\n",
    "plt.show()\n"
   ]
  },
  {
   "cell_type": "code",
   "execution_count": null,
   "id": "82df166c-45d5-4e4b-ad66-9d43b4f5491f",
   "metadata": {
    "tags": []
   },
   "outputs": [],
   "source": [
    "lamb = 0.001\n",
    "pho = 0.000001#np.sqrt(NumSample)\n",
    "h = 1\n",
    "Group = [range(NumFeature)]#GroupInd#\n",
    "\n",
    "k = 6\n",
    "h = 1\n",
    "      \n",
    "# parameters that can be changed\n",
    "options = {'maxIter': 400, 'verbose': 1}\n",
    "\n",
    "K_Range = range(3,10)\n",
    "MSE_Our = np.zeros(len(K_Range))\n",
    "for i in range(len(K_Range)):\n",
    "    k = K_Range[i]\n",
    "    \n",
    "    uout, obj, _ = minConF_PQN(funObj_PPI, uSimplex, funProj_GL_LB, options)\n",
    "    \n",
    "    uout_ppi, zout_ppi = ProjCSimplexGL_Gurobi_LB_v2(uout, k, Group, h)\n",
    "    #print(zout_ppi.flatten())\n",
    "    SelectID = Extract_Solution(uout_ppi, zout_ppi, Group, k, h)\n",
    "\n",
    "    TF_Select = list()\n",
    "    for idt in SelectID:\n",
    "        TF_Select.append(TFList_in_Data[idt])\n",
    "    print(TF_Select)\n",
    "\n",
    "\n",
    "    MSE_Our[i] = Out_of_Sample_MSE(CD4_scRNA_DN_magic_ad, TG, TF_Select, SampleID_train, SampleID_outofsample)\n",
    "    print(k, MSE_Our[i])\n"
   ]
  },
  {
   "cell_type": "code",
   "execution_count": null,
   "id": "96baa6d3-09cc-40d8-b0f5-f477aab78d89",
   "metadata": {
    "tags": []
   },
   "outputs": [],
   "source": [
    "TF_Select_scenic = ['CREB5', 'BCL11B', 'KLF4', 'SPI1', 'FOS']\n",
    "print(TF_Select_scenic)\n",
    "MSE_scenic = Out_of_Sample_MSE(CD4_scRNA_DN_magic_ad, TG, TF_Select_scenic, SampleID_train, SampleID_outofsample)\n",
    "print(MSE_scenic)"
   ]
  },
  {
   "cell_type": "code",
   "execution_count": null,
   "id": "e88484d3-505d-47a0-a263-43f2e70ff1e1",
   "metadata": {
    "tags": []
   },
   "outputs": [],
   "source": [
    "import pwlf\n",
    "\n",
    "my_pwlf = pwlf.PiecewiseLinFit(K_Range, MSE_Our)\n",
    "breaks = my_pwlf.fit(2)\n",
    "print(breaks)\n",
    "\n",
    "x_hat = np.linspace(K_Range[0], K_Range[-1], 100)\n",
    "y_hat = my_pwlf.predict(x_hat)\n",
    "\n",
    "plt.figure()\n",
    "plt.plot(K_Range, MSE_Our, 'o')\n",
    "plt.plot(x_hat, y_hat, '-')\n",
    "plt.show()"
   ]
  },
  {
   "cell_type": "code",
   "execution_count": null,
   "id": "e780662d-c90e-4bae-9ba3-6793d6e5cbf8",
   "metadata": {
    "tags": []
   },
   "outputs": [],
   "source": [
    "from scipy import optimize\n",
    "def piecewise_linear(x, x0, y0, k1, k2):\n",
    "    return np.piecewise(x, [x <= x0], [lambda x:k1*x + y0+k1*x0, lambda x:k1*x0 + y0-k1*x0])\n",
    "\n",
    "p , e = optimize.curve_fit(piecewise_linear, K_Range, MSE_Our)\n",
    "print(p)"
   ]
  },
  {
   "cell_type": "code",
   "execution_count": null,
   "id": "e2e12454-6756-47cc-939d-74ead92b8eaa",
   "metadata": {
    "tags": []
   },
   "outputs": [],
   "source": [
    "xd = np.linspace(3, 9, 100)\n",
    "plt.plot(K_Range, MSE_Our, \"o\")\n",
    "plt.plot(xd, piecewise_linear(xd, *p))"
   ]
  },
  {
   "cell_type": "code",
   "execution_count": null,
   "id": "9b4d6f22-a464-4dba-bc71-7de047988632",
   "metadata": {
    "tags": []
   },
   "outputs": [],
   "source": [
    "TF_Select = list()\n",
    "for idt in SelectID:\n",
    "    TF_Select.append(TFList_in_Data[idt])\n",
    "print(TF_Select)\n",
    "#print(SelectID_Best)\n",
    "TF_Group = Show_TFs_in_Data(TG, pbmc_3k_scATAC_Gene_Enhancer_CD4_psum, ColSelect, Map_Gene_GTOpenR, TF_Select)\n",
    "\n",
    "TF_Select = TF_Select_scenic\n",
    "print(TF_Select)\n",
    "TF_Group = Show_TFs_in_Data(TG, pbmc_3k_scATAC_Gene_Enhancer_CD4_psum, ColSelect, Map_Gene_GTOpenR, TF_Select)"
   ]
  },
  {
   "cell_type": "code",
   "execution_count": null,
   "id": "3da6d5b8-475b-4c7b-bd26-85e644b07706",
   "metadata": {
    "tags": []
   },
   "outputs": [],
   "source": [
    "GS = GL  + (TF_Select)\n",
    "yt = CD4_scRNA_DN_magic_ad[:,GS].X\n",
    "\n",
    "fig, ax = plt.subplots(nrows=len(GS), ncols=1, sharex=True, figsize=(12, 10))\n",
    "for i in range(len(GS)):\n",
    "    ax[i].plot(yt[:,i])\n",
    "    ax[i].set_title(GS[i])\n"
   ]
  },
  {
   "cell_type": "code",
   "execution_count": null,
   "id": "6be093df-1dd0-47c4-bd2e-4654dccd94ae",
   "metadata": {
    "tags": []
   },
   "outputs": [],
   "source": [
    "St =  Short_Path_DSD_Matrix(G_PPI_BioGrid, ['IRF8', 'MEF2C', 'HES1'])#Short_Path_Matrix(G_PPI_BioGrid, TFList_in_Data)\n",
    "\n",
    "\n",
    "fig, ax = plt.subplots(figsize=(10, 10))\n",
    "plt.imshow(St, cmap='hot')\n",
    "plt.xticks(range(len(TF_Select)), TF_Select)\n",
    "plt.colorbar()\n",
    "plt.show()"
   ]
  },
  {
   "cell_type": "code",
   "execution_count": null,
   "id": "15cfd6e0-9451-4f9a-9439-cc0a9307c0fb",
   "metadata": {},
   "outputs": [],
   "source": []
  },
  {
   "cell_type": "code",
   "execution_count": null,
   "id": "84a19e4d-a363-4f67-8248-02ac31c97993",
   "metadata": {},
   "outputs": [],
   "source": []
  },
  {
   "cell_type": "code",
   "execution_count": null,
   "id": "96bd2329-547c-4df3-b59a-d3e5e503520e",
   "metadata": {},
   "outputs": [],
   "source": []
  },
  {
   "cell_type": "code",
   "execution_count": null,
   "id": "6d885bf8-7875-4c48-835b-272f878ee9de",
   "metadata": {},
   "outputs": [],
   "source": []
  },
  {
   "cell_type": "code",
   "execution_count": null,
   "id": "49ec3046-fada-472b-b33e-076e65f079ac",
   "metadata": {},
   "outputs": [],
   "source": []
  },
  {
   "cell_type": "code",
   "execution_count": null,
   "id": "ecf29957-a1ea-47ce-b83d-c92eb3bf2087",
   "metadata": {},
   "outputs": [],
   "source": []
  },
  {
   "cell_type": "code",
   "execution_count": null,
   "id": "023bd86a-0fa7-449d-b418-fa035070bc8f",
   "metadata": {},
   "outputs": [],
   "source": []
  },
  {
   "cell_type": "code",
   "execution_count": null,
   "id": "36bb4b27-af71-43f0-a059-d02773964f8d",
   "metadata": {
    "tags": []
   },
   "outputs": [],
   "source": [
    "lamb = 0.0\n",
    "pho = 0.1#np.sqrt(NumSample)\n",
    "h = 1\n",
    "Group = [range(NumFeature)]#GroupInd#\n",
    "\n",
    "uSimplex = np.ones((NumFeature, 1)) * (1 / NumFeature)\n",
    "print(uSimplex.shape)\n",
    "\n",
    "S = Short_Path_Matrix(G_PPI_BioGrid, TFList_in_Data)\n",
    "ShortPath = ShorestPath_GivenTFs(G_PPI_BioGrid, TFList_in_Data, \"TestShortPath.txt\")\n",
    "print(S.shape)\n",
    "\n",
    "NumItr = 10\n",
    "k_range = range(3,10)\n",
    "#k = 6\n",
    "h_range = range(1,2)\n",
    "SelectID_Best = ()\n",
    "LSE_best = 10000\n",
    "for k in k_range:\n",
    "    for h in h_range:\n",
    "        LSE_Tmp = np.zeros(NumItr)\n",
    "        for i in range(NumItr):\n",
    "            X, y, X_outsample, y_outsample = Split_Sample(Xt, yt, 0.9)\n",
    "            \n",
    "            # parameters that can be changed\n",
    "            options = {'maxIter': 400, 'verbose': 1}\n",
    "    \n",
    "            uout, obj, _ = minConF_PQN(funObj_PPI, uSimplex, funProj_GL_LB, options)\n",
    "    \n",
    "            uout_ppi, zout_ppi = ProjCSimplexGL_Gurobi_LB_v2(uout, k, Group, h)\n",
    "            #print(zout_ppi.flatten())\n",
    "            SelectID = Extract_Solution(uout_ppi, zout_ppi, Group, k, h)\n",
    "        \n",
    "            ut = np.zeros((NumFeature,1))\n",
    "            ut[SelectID,0] = 1.0\n",
    "\n",
    "            ObjF, _  = L0GL_PPI_Obj(ut, X, y, S, pho, lamb)\n",
    "            #print(\"Obj:\", ObjF)\n",
    "            #print(\"Short Dis;\", ut.T@S@ut)\n",
    "\n",
    "\n",
    "            XSelect = X[:,SelectID]\n",
    "            w_est = np.linalg.pinv(XSelect.T @ XSelect + pho*np.eye(len(SelectID))) @ XSelect.T @ y\n",
    "            #print(TF_Select)\n",
    "            #print(np.abs(w_est.flatten()))\n",
    "\n",
    "            X_outsample_select = X_outsample[:, SelectID]\n",
    "            LSE_Tmp[i] = np.linalg.norm(y_outsample - X_outsample_select @ w_est)\n",
    "        LSE = np.mean(LSE_Tmp)    \n",
    "        print('k=',k, 'h=', h,\"Out-of-sample LSE:\", LSE)\n",
    "    \n",
    "        if LSE < LSE_best:\n",
    "            LSE_best = LSE\n",
    "            SelectID_Best = SelectID\n",
    "    \n",
    "    "
   ]
  },
  {
   "cell_type": "code",
   "execution_count": null,
   "id": "9fc2b656-86e6-4b40-84b3-a66dc3d1fc55",
   "metadata": {
    "tags": []
   },
   "outputs": [],
   "source": [
    "TF_Select = list()\n",
    "for idt in SelectID_Best:\n",
    "    TF_Select.append(TFList_in_Data[idt])\n",
    "print(TF_Select)\n",
    "print(SelectID_Best)\n",
    "\n",
    "TF_Group = Show_TFs_in_Data(TG, pbmc_3k_scATAC_Gene_Enhancer_CD4_psum, ColSelect, Map_Gene_GTOpenR, TF_Select)"
   ]
  },
  {
   "cell_type": "code",
   "execution_count": null,
   "id": "41d506c8-2727-4510-8595-da8c746bf994",
   "metadata": {
    "tags": []
   },
   "outputs": [],
   "source": [
    "TF_Select = list()\n",
    "for idt in SelectID_Best:\n",
    "    TF_Select.append(TFList_in_Data[idt])\n",
    "print(TF_Select)\n",
    "print(SelectID_Best)\n",
    "\n",
    "TF_Group = Show_TFs_in_Data(TG, pbmc_3k_scATAC_Gene_Enhancer_CD4_psum, ColSelect, Map_Gene_GTOpenR, TF_Select)"
   ]
  },
  {
   "cell_type": "code",
   "execution_count": null,
   "id": "8cc11952-187b-4860-a146-7a74e8b8b540",
   "metadata": {},
   "outputs": [],
   "source": []
  },
  {
   "cell_type": "code",
   "execution_count": null,
   "id": "36ab854a-eccb-498c-abd6-bb68845df9be",
   "metadata": {
    "tags": []
   },
   "outputs": [],
   "source": [
    "uout, obj, _ = minConF_PQN(funObj_PPI, uSimplex, funProj_GL_LB, options)"
   ]
  },
  {
   "cell_type": "code",
   "execution_count": null,
   "id": "96cbd250-1f06-4bf0-9da0-95724f98f662",
   "metadata": {
    "tags": []
   },
   "outputs": [],
   "source": [
    "uout_ppi, zout_ppi = ProjCSimplexGL_Gurobi_LB_v2(uout, k, Group, h)\n",
    "print(zout_ppi.flatten())\n",
    "SelectID = Extract_Solution(uout_ppi, zout_ppi, Group, k, h)\n",
    "\n",
    "\n",
    "TF_Select = list()\n",
    "for idt in SelectID:\n",
    "    TF_Select.append(TFList_in_Data[idt])\n",
    "print(TF_Select)\n",
    "print(SelectID)"
   ]
  },
  {
   "cell_type": "code",
   "execution_count": null,
   "id": "e4d3c8be-1db3-4740-aa01-7f81212c0163",
   "metadata": {
    "tags": []
   },
   "outputs": [],
   "source": [
    "TF_Group = Show_TFs_in_Data(TG, pbmc_3k_scATAC_Gene_Enhancer_CD4_psum, ColSelect, Map_Gene_GTOpenR, TF_Select)"
   ]
  },
  {
   "cell_type": "code",
   "execution_count": null,
   "id": "c8886f71-884c-44c1-928b-aaaefb4fe45e",
   "metadata": {
    "tags": []
   },
   "outputs": [],
   "source": [
    "ut = np.zeros((NumFeature,1))\n",
    "ut[SelectID,0] = 1.0\n",
    "\n",
    "ObjF, _  = L0GL_PPI_Obj(ut, X, y, S, pho, lamb)\n",
    "print(\"Obj:\", ObjF)\n",
    "print(\"Short Dis;\", ut.T@S@ut)\n",
    "\n",
    "\n",
    "XSelect = X[:,SelectID]\n",
    "w_est = np.linalg.pinv(XSelect.T @ XSelect) @ XSelect.T @ y\n",
    "print(TF_Select)\n",
    "print(np.abs(w_est.flatten()))\n",
    "\n",
    "X_outsample_select = X_outsample[:, SelectID]\n",
    "LSE = np.linalg.norm(y_outsample - X_outsample_select @ w_est)\n",
    "print(\"Out-of-sample LSE:\", LSE)"
   ]
  },
  {
   "cell_type": "code",
   "execution_count": null,
   "id": "a5213436-14e1-42d4-bcee-275cd77a74a0",
   "metadata": {
    "tags": []
   },
   "outputs": [],
   "source": [
    "plt.plot(y_outsample)\n",
    "plt.plot(X_outsample_select @ w_est)"
   ]
  },
  {
   "cell_type": "code",
   "execution_count": null,
   "id": "f133d6ba-2413-4396-a030-0c1151c13067",
   "metadata": {},
   "outputs": [],
   "source": []
  },
  {
   "cell_type": "code",
   "execution_count": null,
   "id": "efec36aa-c3ff-4b20-8e7b-abce5db1384b",
   "metadata": {},
   "outputs": [],
   "source": []
  },
  {
   "cell_type": "code",
   "execution_count": null,
   "id": "1657d215-621c-4e61-85c2-df0ad28c5001",
   "metadata": {},
   "outputs": [],
   "source": []
  },
  {
   "cell_type": "code",
   "execution_count": null,
   "id": "1320fb91-e46c-4a3d-b2f5-6c08c81a3ace",
   "metadata": {},
   "outputs": [],
   "source": []
  },
  {
   "cell_type": "code",
   "execution_count": null,
   "id": "487c8861-ac28-414f-bb9f-5f3ec0a59603",
   "metadata": {},
   "outputs": [],
   "source": []
  },
  {
   "cell_type": "code",
   "execution_count": null,
   "id": "c2788a13-0f83-4d7a-b42e-31da4c14f4ae",
   "metadata": {},
   "outputs": [],
   "source": []
  },
  {
   "cell_type": "code",
   "execution_count": null,
   "id": "1e682b58-46f8-4b8a-b1b0-ddea82bc6ac6",
   "metadata": {},
   "outputs": [],
   "source": []
  },
  {
   "cell_type": "code",
   "execution_count": null,
   "id": "55727602-c64c-4623-97e7-9763df94ca6e",
   "metadata": {},
   "outputs": [],
   "source": []
  },
  {
   "cell_type": "code",
   "execution_count": null,
   "id": "24b0bfdb-4e7b-4711-bde0-e7e31281cdb1",
   "metadata": {
    "tags": []
   },
   "outputs": [],
   "source": [
    "uout_ppi = ProjCSimplexGL_Gurobi_LB(uout, k, Group, h)"
   ]
  },
  {
   "cell_type": "code",
   "execution_count": null,
   "id": "06cb547c-6724-4c3a-8100-a8abf75e6cbe",
   "metadata": {
    "tags": []
   },
   "outputs": [],
   "source": [
    "np.argsort(-zout_ppi.flatten())"
   ]
  },
  {
   "cell_type": "code",
   "execution_count": null,
   "id": "01d0f0a0-f85d-46f8-975a-1db1b1ae070b",
   "metadata": {
    "tags": []
   },
   "outputs": [],
   "source": [
    "zout_ppi.flatten()"
   ]
  },
  {
   "cell_type": "code",
   "execution_count": null,
   "id": "0b1bbdf7-4e91-4796-a796-7a338de5138e",
   "metadata": {
    "tags": []
   },
   "outputs": [],
   "source": [
    "Ind = np.argsort(-uout_ppi.flatten())[0:30]\n",
    "print(Ind)\n",
    "TFRes = list()\n",
    "for idt in Ind:\n",
    "    #print(TFList_in_Data[idt])\n",
    "    TFRes.append(TFList_in_Data[idt])\n",
    "print(TFRes)"
   ]
  },
  {
   "cell_type": "code",
   "execution_count": null,
   "id": "375e90ea-a80f-436a-b6fb-d9b5c4aa395c",
   "metadata": {
    "tags": []
   },
   "outputs": [],
   "source": [
    "TFList_Raw = Tmp_Input['TF_Matching_p-value_1e-05'].tolist()\n",
    "Chr_Position_Raw = Tmp_Input['chr_position'].tolist()\n",
    "count = 0\n",
    "for tfl, chp in zip(TFList_Raw, Chr_Position_Raw):\n",
    "    if chp in Map_Gene_GTOpenR[GL[0]]:\n",
    "        hit = 1\n",
    "    else:\n",
    "        hit = 0\n",
    "    olp = list(set(tfl) & set(TFRes))\n",
    "    print(count, olp, hit)\n",
    "    count = count + 1"
   ]
  },
  {
   "cell_type": "code",
   "execution_count": null,
   "id": "9b5cd3ab-1992-4eaf-9463-a472d4fb29bd",
   "metadata": {
    "tags": []
   },
   "outputs": [],
   "source": [
    "uout.T @ S @ uout"
   ]
  },
  {
   "cell_type": "code",
   "execution_count": null,
   "id": "684b1f0d-2004-4d34-a2c3-cace03b0c4a4",
   "metadata": {
    "tags": []
   },
   "outputs": [],
   "source": [
    "ShortPath = ShorestPath_GivenTFs(G_PPI_BioGrid, TFRes, \"TestShortPath_Result.txt\")\n",
    "print(ShortPath)"
   ]
  },
  {
   "cell_type": "code",
   "execution_count": null,
   "id": "5050f28a-0e4b-4d8f-9114-3584429781ad",
   "metadata": {},
   "outputs": [],
   "source": []
  },
  {
   "cell_type": "markdown",
   "id": "ea5dc5a8-7c06-47b5-a42a-a35f4d078731",
   "metadata": {},
   "source": [
    "# Tmp"
   ]
  },
  {
   "cell_type": "code",
   "execution_count": null,
   "id": "84529516-29b4-4ed1-b324-f151092a713a",
   "metadata": {
    "tags": []
   },
   "outputs": [],
   "source": [
    "Tmp_Input"
   ]
  },
  {
   "cell_type": "code",
   "execution_count": null,
   "id": "8c9e6c8f-2b96-42ac-aa8a-74f51a4e303f",
   "metadata": {
    "tags": []
   },
   "outputs": [],
   "source": [
    "Tmp_GT"
   ]
  },
  {
   "cell_type": "code",
   "execution_count": null,
   "id": "623e6b6f-155a-4eb4-8bb7-3af0d78f642e",
   "metadata": {},
   "outputs": [],
   "source": []
  },
  {
   "cell_type": "code",
   "execution_count": null,
   "id": "a123f725-d9d2-4bca-aa58-edd762a6f32c",
   "metadata": {},
   "outputs": [],
   "source": []
  },
  {
   "cell_type": "code",
   "execution_count": null,
   "id": "82b27eb2-f4a7-4bc4-bd2c-904f04a22122",
   "metadata": {},
   "outputs": [],
   "source": []
  },
  {
   "cell_type": "code",
   "execution_count": null,
   "id": "b1f6b4e1-b072-4d1c-a0db-359362bd90ac",
   "metadata": {},
   "outputs": [],
   "source": []
  },
  {
   "cell_type": "code",
   "execution_count": null,
   "id": "d6bb0232-fd1c-45f3-af9f-4a390b3abfc3",
   "metadata": {},
   "outputs": [],
   "source": []
  },
  {
   "cell_type": "code",
   "execution_count": null,
   "id": "c88d3dd2-7600-4f64-80b0-d3a7706b23e8",
   "metadata": {
    "tags": []
   },
   "outputs": [],
   "source": [
    "Tmp_Input"
   ]
  },
  {
   "cell_type": "code",
   "execution_count": null,
   "id": "a7035718-2039-4ec0-a917-e8b21f9cf81b",
   "metadata": {
    "tags": []
   },
   "outputs": [],
   "source": []
  },
  {
   "cell_type": "code",
   "execution_count": null,
   "id": "efe79545-d698-4957-9655-68bef96be431",
   "metadata": {
    "tags": []
   },
   "outputs": [],
   "source": [
    "tsp"
   ]
  },
  {
   "cell_type": "code",
   "execution_count": null,
   "id": "844fa974-05ec-463c-9ff4-c5bb742b114b",
   "metadata": {},
   "outputs": [],
   "source": []
  },
  {
   "cell_type": "code",
   "execution_count": null,
   "id": "8806ae24-5675-4bff-90dc-38da01746ffa",
   "metadata": {
    "tags": []
   },
   "outputs": [],
   "source": [
    "TFList_Raw = Tmp['TFs_binding'].tolist()\n",
    "Hit_Raw = Tmp['Hit'].tolist()\n",
    "for tfl,hit in zip(TFList_Raw, Hit_Raw):\n",
    "    olp = list(set(tfl) & set(Gene_scRNA))\n",
    "    print(olp, hit)"
   ]
  },
  {
   "cell_type": "code",
   "execution_count": null,
   "id": "92b89723-d0c5-49b4-8aff-04b63eb7070c",
   "metadata": {
    "tags": []
   },
   "outputs": [],
   "source": [
    "Tmp['baitNameList'][0]"
   ]
  },
  {
   "cell_type": "code",
   "execution_count": null,
   "id": "0537c0b3-d0cb-493e-a91a-86291bbb1ee1",
   "metadata": {},
   "outputs": [],
   "source": []
  },
  {
   "cell_type": "code",
   "execution_count": null,
   "id": "efbe3cd5-bc74-4f6d-9230-ed48787bbd2f",
   "metadata": {
    "tags": []
   },
   "outputs": [],
   "source": [
    "for gt in Gene_Validate:\n",
    "    GL = [gt]\n",
    "    #print(GL)\n",
    "    Tmp = CD4_scATAC_Gene_TF_Enhancer_PCHiC_Trim[CD4_scATAC_Gene_TF_Enhancer_PCHiC_Trim['Genes_within_250k'].apply(lambda x: any(gene in x for gene in GL))].reset_index()\n",
    "\n",
    "    TF_Candiates =  list(set(list(itertools.chain.from_iterable(Tmp['TFs_binding'].tolist()))))\n",
    "    #print(TF_Candiates)\n",
    "\n",
    "    TF_In_Data = list(set(Gene_scRNA) & set(TF_Candiates))\n",
    "    #print(TF_In_Data)\n",
    "    \n",
    "    Num_GT = Tmp[~Tmp['baitNameList'].isnull()]['baitNameList'].apply(lambda x: any(gene in x for gene in GL)).sum()\n",
    "    \n",
    "    print(gt, \"Total_TF / TF_in_Data = \", len(TF_Candiates), \"/\", len(TF_In_Data), \"GT number:\", Num_GT)\n",
    "    "
   ]
  },
  {
   "cell_type": "code",
   "execution_count": null,
   "id": "aac8c695-1b39-4d26-8913-660d462b7eb8",
   "metadata": {
    "tags": []
   },
   "outputs": [],
   "source": []
  },
  {
   "cell_type": "code",
   "execution_count": null,
   "id": "ee45f2b5-8c56-4b05-b440-83f8e3587e0f",
   "metadata": {},
   "outputs": [],
   "source": []
  },
  {
   "cell_type": "code",
   "execution_count": null,
   "id": "0f17663d-9a07-49be-8dd0-25ae7ca75880",
   "metadata": {},
   "outputs": [],
   "source": []
  },
  {
   "cell_type": "code",
   "execution_count": null,
   "id": "3aaede21-49ea-449c-9c6a-bfb29304135e",
   "metadata": {},
   "outputs": [],
   "source": []
  },
  {
   "cell_type": "code",
   "execution_count": null,
   "id": "9c18352c-1708-4a79-b2ad-81e09381aa78",
   "metadata": {},
   "outputs": [],
   "source": []
  },
  {
   "cell_type": "code",
   "execution_count": null,
   "id": "2f62fc31-1741-4c66-96b9-cfe09090a632",
   "metadata": {},
   "outputs": [],
   "source": []
  },
  {
   "cell_type": "code",
   "execution_count": null,
   "id": "14d6a0c8-aeb3-4934-952a-b9b15789d25d",
   "metadata": {
    "tags": []
   },
   "outputs": [],
   "source": [
    "CD4_scATAC_Gene_TF_Enhancer[['chr', 'start', 'end']] = CD4_scATAC_Gene_TF_Enhancer['chr_position'].str.split('_', expand=True)"
   ]
  },
  {
   "cell_type": "code",
   "execution_count": null,
   "id": "2b8d1c82-e2a5-43fc-bf8c-2077e1cb1e42",
   "metadata": {
    "tags": []
   },
   "outputs": [],
   "source": [
    "CD4_scATAC_Gene_TF_Enhancer"
   ]
  },
  {
   "cell_type": "code",
   "execution_count": null,
   "id": "6acb8ca8-b887-48c5-a891-5250a4092312",
   "metadata": {
    "tags": []
   },
   "outputs": [],
   "source": [
    "\n",
    "GL = [Gene_Validate[0]]\n",
    "    #print(tg)\n",
    "Tmp = CD4_scATAC_Gene_TF_Enhancer[CD4_scATAC_Gene_TF_Enhancer['output_grch38_col4'].apply(lambda x: any(gene in x for gene in GL))].reset_index()\n",
    "TG_TFList = list(set(list(itertools.chain.from_iterable(Tmp['output_fimo_col4'].tolist()))))\n",
    "    #print(\"TFs for the target is\", len(TG_TFList))\n",
    "\n",
    "TG_TGList_InData = list(set(TG_TFList) & set(Gene_scRNA))\n",
    "    #print(\"TFs for the target in the data is\", len(TG_TGList_InData))\n"
   ]
  },
  {
   "cell_type": "code",
   "execution_count": null,
   "id": "1c912f1e-98e5-41f2-b921-8928166103a2",
   "metadata": {
    "tags": []
   },
   "outputs": [],
   "source": [
    "Tmp"
   ]
  },
  {
   "cell_type": "code",
   "execution_count": null,
   "id": "2af20615-b736-49df-8c1d-5e7ad1cfa6bd",
   "metadata": {
    "tags": []
   },
   "outputs": [],
   "source": [
    "GeneCount = 0\n",
    "TruthRegion = 0\n",
    "Gene_with_GroundTruth = list()\n",
    "True_OpenRegin_List = list()\n",
    "for tg in Gene_Validate:\n",
    "    GL = [tg]\n",
    "    Tmp = CD4_scATAC_Gene_TF_Enhancer[CD4_scATAC_Gene_TF_Enhancer['output_grch38_col4'].apply(lambda x: any(gene in x for gene in GL))].reset_index()\n",
    "    TG_TFList = list(set(list(itertools.chain.from_iterable(Tmp['output_fimo_col4'].tolist()))))\n",
    "    #print(\"TFs for the target is\", len(TG_TFList))\n",
    "\n",
    "    TG_TGList_InData = list(set(TG_TFList) & set(Gene_scRNA))\n",
    "    #print(\"TFs for the target in the data is\", len(TG_TGList_InData))\n",
    "\n",
    "    Tmp = Tmp[Tmp['sum']>=1]\n",
    "    #print(Tmp)\n",
    "\n",
    "    CD4_Target = CD4_PCHiC[CD4_PCHiC['baitNameList'].apply(lambda lst: tg in lst) ]\n",
    "\n",
    "    Start_val = Tmp['start'].values.astype(int)\n",
    "    End_val = Tmp['end'].values.astype(int)\n",
    "\n",
    "    oeStart_val = CD4_Target['oeStart'].values\n",
    "    oeEnd_val = CD4_Target['oeEnd'].values\n",
    "\n",
    "    start_mask = np.logical_and(\n",
    "        Start_val[:, np.newaxis] >= oeStart_val-500,\n",
    "        Start_val[:, np.newaxis] <= oeEnd_val+500\n",
    "    )\n",
    "\n",
    "    end_mask = np.logical_and(\n",
    "        End_val[:, np.newaxis] >= oeStart_val-500,\n",
    "        End_val[:, np.newaxis] <= oeEnd_val+500\n",
    "    )\n",
    "\n",
    "\n",
    "    HitList=np.array(np.logical_or(start_mask, end_mask).sum(axis=1))\n",
    "    #print(HitList)\n",
    "    Ind = np.where(HitList)[0]\n",
    "    #print(Ind)\n",
    "    #print(Tmp['chr_position'])\n",
    "    #print(Tmp['chr_position'][Ind].values)\n",
    "    OP_Hit_List = Tmp['chr_position'][Ind].values\n",
    "    #print(OP_Hit_List)\n",
    "    \n",
    "    Overlap_regions = np.logical_or(start_mask, end_mask).any(axis=1).sum()\n",
    "    if Overlap_regions > 0:\n",
    "        GeneCount = GeneCount + 1\n",
    "        TruthRegion = TruthRegion + Overlap_regions\n",
    "        Gene_with_GroundTruth.append(tg)\n",
    "        #print(tg)\n",
    "        #print(\"TFs for the target is\", len(TG_TFList))\n",
    "        #print(\"TFs for the target in the data is\", len(TG_TGList_InData))\n",
    "        print(tg, \"open reigions(\", Tmp.shape[0], \")overlaps with\", Overlap_regions, \"within the PCHiC\", CD4_Target.shape[0], \"TF_Raw/TF_Exp=\", len(TG_TFList), \"/\", len(TG_TGList_InData))\n",
    "        True_OpenRegin_List.extend(OP_Hit_List)\n",
    "        #print(OP_Hit_List[0])\n",
    "        "
   ]
  },
  {
   "cell_type": "code",
   "execution_count": null,
   "id": "225df177-1fc0-4432-897d-5c921dce03d1",
   "metadata": {
    "tags": []
   },
   "outputs": [],
   "source": [
    "print(\"Gene:\", len(Gene_with_GroundTruth), \"Links\", TruthRegion)"
   ]
  },
  {
   "cell_type": "code",
   "execution_count": null,
   "id": "afecbba2-f36b-4f85-a989-cdc5f54f7499",
   "metadata": {
    "tags": []
   },
   "outputs": [],
   "source": [
    "len(set(True_OpenRegin_List))"
   ]
  },
  {
   "cell_type": "code",
   "execution_count": null,
   "id": "ec5c7788-becf-42f9-92d4-34757af226b7",
   "metadata": {
    "tags": []
   },
   "outputs": [],
   "source": [
    "CD4_scATAC_Gene_TF_Enhancer['Hit_PCHiC'] = 0"
   ]
  },
  {
   "cell_type": "code",
   "execution_count": null,
   "id": "eddd1fbb-1f79-4414-88f8-ca859c221ba8",
   "metadata": {
    "tags": []
   },
   "outputs": [],
   "source": [
    "CD4_scATAC_Gene_TF_Enhancer['Hit_PCHiC'] = CD4_scATAC_Gene_TF_Enhancer['chr_position'].apply(lambda x: 1 if x in True_OpenRegin_List else 0)"
   ]
  },
  {
   "cell_type": "code",
   "execution_count": null,
   "id": "511f35fe-f267-4b58-83f7-85a1c139a0b9",
   "metadata": {
    "tags": []
   },
   "outputs": [],
   "source": [
    "CD4_scATAC_Gene_TF_Enhancer['chr_position'].apply(lambda chrp: chrp in True_OpenRegin_List)['Hit_PCHiC'] = 1"
   ]
  },
  {
   "cell_type": "code",
   "execution_count": null,
   "id": "e888cad0-b98a-4f83-9cb3-dfe1e47bf086",
   "metadata": {
    "tags": []
   },
   "outputs": [],
   "source": [
    "CD4_scATAC_Gene_TF_Enhancer"
   ]
  },
  {
   "cell_type": "code",
   "execution_count": null,
   "id": "deef855c-2ef4-4124-92ea-fb76000e26b9",
   "metadata": {
    "tags": []
   },
   "outputs": [],
   "source": [
    "CD4_scATAC_Gene_TF_Enhancer[CD4_scATAC_Gene_TF_Enhancer['chr_position'] == True_OpenRegin_List[0]]"
   ]
  },
  {
   "cell_type": "code",
   "execution_count": null,
   "id": "847cd87b-f4e4-429d-a489-4cafb669c82e",
   "metadata": {
    "tags": []
   },
   "outputs": [],
   "source": [
    "Tmp = CD4_scATAC_Gene_TF_Enhancer[CD4_scATAC_Gene_TF_Enhancer['output_grch38_col4'].apply(lambda x: any(gene in x for gene in ['MAPKAPK2']))].reset_index()\n"
   ]
  },
  {
   "cell_type": "code",
   "execution_count": null,
   "id": "050e56cc-31fe-40ae-b25e-dea098d97fc5",
   "metadata": {
    "tags": []
   },
   "outputs": [],
   "source": [
    "Tmp"
   ]
  },
  {
   "cell_type": "code",
   "execution_count": null,
   "id": "3df98b0f-f117-41e9-aa86-03a37f2f809d",
   "metadata": {
    "tags": []
   },
   "outputs": [],
   "source": [
    "Tmp_TFs = Tmp['output_fimo_col4'].tolist()\n",
    "for tfl in Tmp_TFs:\n",
    "    Int = list(set(TG_TGList_InData) & set(tfl))\n",
    "    print(sorted(Int))"
   ]
  },
  {
   "cell_type": "code",
   "execution_count": null,
   "id": "de9677a6-ef07-4c13-a1dc-aac185d6d8dd",
   "metadata": {
    "tags": []
   },
   "outputs": [],
   "source": [
    "sp = nx.shortest_path_length(G_PPI_BioGrid, 'PAX5', 'SP2')\n",
    "print(sp)\n",
    "Path = nx.shortest_path(G_PPI_BioGrid, source='PAX5', target='SP2')\n",
    "print(Path)"
   ]
  },
  {
   "cell_type": "code",
   "execution_count": null,
   "id": "6df34be1-59c1-4d1f-b798-42577e60d9f7",
   "metadata": {},
   "outputs": [],
   "source": []
  },
  {
   "cell_type": "code",
   "execution_count": null,
   "id": "ee7b8e82-f5a8-4950-9065-1e1fab50d727",
   "metadata": {
    "tags": []
   },
   "outputs": [],
   "source": [
    "Tmp"
   ]
  },
  {
   "cell_type": "code",
   "execution_count": null,
   "id": "aeb076a9-2690-4d7f-b0e5-57548b56815e",
   "metadata": {
    "tags": []
   },
   "outputs": [],
   "source": [
    "Tmp[['chr', 'start', 'end']] = Tmp['chr_position'].str.split('_', expand=True)"
   ]
  },
  {
   "cell_type": "code",
   "execution_count": null,
   "id": "96d4f56e-fee2-4cb1-9820-7da54c993b42",
   "metadata": {
    "tags": []
   },
   "outputs": [],
   "source": [
    "Tmp"
   ]
  },
  {
   "cell_type": "code",
   "execution_count": null,
   "id": "2642ea5f-ccc8-4af8-af74-8e614e0b8d24",
   "metadata": {
    "tags": []
   },
   "outputs": [],
   "source": [
    "CD4_Target = CD4_PCHiC[CD4_PCHiC['baitNameList'].apply(lambda lst: TargetG in lst) ]"
   ]
  },
  {
   "cell_type": "code",
   "execution_count": null,
   "id": "2ac2dce0-bfd8-4576-96ec-b3c167a187d2",
   "metadata": {
    "tags": []
   },
   "outputs": [],
   "source": [
    "Start_val = Tmp['start'].values.astype(int)\n",
    "End_val = Tmp['end'].values.astype(int)\n",
    "\n",
    "oeStart_val = CD4_Target['oeStart'].values\n",
    "oeEnd_val = CD4_Target['oeEnd'].values"
   ]
  },
  {
   "cell_type": "code",
   "execution_count": null,
   "id": "b227b6c1-fc38-4483-b7ce-0c15a3090897",
   "metadata": {
    "tags": []
   },
   "outputs": [],
   "source": [
    "start_mask = np.logical_and(\n",
    "        Start_val[:, np.newaxis] >= oeStart_val,\n",
    "        Start_val[:, np.newaxis] <= oeEnd_val\n",
    "    )\n",
    "\n",
    "end_mask = np.logical_and(\n",
    "        End_val[:, np.newaxis] >= oeStart_val,\n",
    "        End_val[:, np.newaxis] <= oeEnd_val\n",
    "    )\n",
    "\n",
    "Overlap_regions = np.logical_or(start_mask, end_mask).any(axis=1).sum()"
   ]
  },
  {
   "cell_type": "code",
   "execution_count": null,
   "id": "1301e55f-8f4a-4fe4-8c44-e87c74f7eb81",
   "metadata": {
    "tags": []
   },
   "outputs": [],
   "source": [
    "Overlap_regions"
   ]
  },
  {
   "cell_type": "code",
   "execution_count": null,
   "id": "6b0be72d-cd84-4c3f-a689-d686acc21d65",
   "metadata": {
    "tags": []
   },
   "outputs": [],
   "source": [
    "CD4_Target"
   ]
  },
  {
   "cell_type": "code",
   "execution_count": null,
   "id": "f18b7f3b-f83f-4872-8e43-d2a38ce9c784",
   "metadata": {
    "tags": []
   },
   "outputs": [],
   "source": [
    "int(gene_tss[gene_tss['genes'] == TargetG]['tss_corrected'].values[0])+250000, int(gene_tss[gene_tss['genes'] == TargetG]['tss_corrected'].values[0])-250000"
   ]
  },
  {
   "cell_type": "code",
   "execution_count": null,
   "id": "b3f62696-7740-467a-b664-0a88829e4552",
   "metadata": {
    "tags": []
   },
   "outputs": [],
   "source": [
    "print(Tmp['output_fimo_col4'].tolist())"
   ]
  },
  {
   "cell_type": "code",
   "execution_count": null,
   "id": "78f5bb79-e335-4ed9-a5d3-469d85dc7fc4",
   "metadata": {
    "tags": []
   },
   "outputs": [],
   "source": [
    "GL"
   ]
  },
  {
   "cell_type": "code",
   "execution_count": null,
   "id": "628f42fd-f0f2-46fc-a67c-5a1abaaaa35a",
   "metadata": {},
   "outputs": [],
   "source": []
  }
 ],
 "metadata": {
  "kernelspec": {
   "display_name": "Python 3 (ipykernel)",
   "language": "python",
   "name": "python3"
  },
  "language_info": {
   "codemirror_mode": {
    "name": "ipython",
    "version": 3
   },
   "file_extension": ".py",
   "mimetype": "text/x-python",
   "name": "python",
   "nbconvert_exporter": "python",
   "pygments_lexer": "ipython3",
   "version": "3.10.8"
  }
 },
 "nbformat": 4,
 "nbformat_minor": 5
}
